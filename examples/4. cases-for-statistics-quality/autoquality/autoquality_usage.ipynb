{
 "cells": [
  {
   "cell_type": "markdown",
   "id": "d9b60407",
   "metadata": {},
   "source": [
    "# AutoQuality\n",
    "\n",
    "This example illustrates how to use `toloka.autoquality` module. AutoQuality is a tool to help set up quality control for Toloka project. AutoQuality uses random search to find the optimal set of quality control parameters. Every parameter has its own distribution. AutoQuality creates several pools with different parameter values and compares them. Distributions and optimum critera can be modified by user."
   ]
  },
  {
   "cell_type": "code",
   "execution_count": null,
   "id": "94672aa7",
   "metadata": {},
   "outputs": [],
   "source": [
    "!pip install pandas\n",
    "!pip install toloka-kit[autoquality]==0.1.26"
   ]
  },
  {
   "cell_type": "code",
   "execution_count": 1,
   "id": "15ff8bec",
   "metadata": {},
   "outputs": [],
   "source": [
    "import logging\n",
    "import sys\n",
    "\n",
    "logging.basicConfig(\n",
    "    format='[%(levelname)s] %(name)s: %(message)s',\n",
    "    level=logging.INFO,\n",
    "    stream=sys.stdout,\n",
    ")"
   ]
  },
  {
   "cell_type": "code",
   "execution_count": null,
   "id": "61f470aa",
   "metadata": {},
   "outputs": [],
   "source": [
    "import toloka.client as toloka\n",
    "import toloka.client.project.template_builder as tb\n",
    "from toloka.autoquality import AutoQuality\n",
    "\n",
    "import datetime\n",
    "import numpy as np\n",
    "import os\n",
    "import requests\n",
    "import pandas as pd\n",
    "from tqdm import tqdm"
   ]
  },
  {
   "cell_type": "markdown",
   "id": "81cfe2c5",
   "metadata": {},
   "source": [
    "In this example our task will be Movie Reviews Sentiment Analysis. We will use a [Large Movie Review Dataset](https://www.kaggle.com/datasets/lakshmi25npathi/imdb-dataset-of-50k-movie-reviews):"
   ]
  },
  {
   "cell_type": "code",
   "execution_count": 3,
   "id": "759b152d",
   "metadata": {},
   "outputs": [
    {
     "data": {
      "text/html": [
       "<div>\n",
       "<style scoped>\n",
       "    .dataframe tbody tr th:only-of-type {\n",
       "        vertical-align: middle;\n",
       "    }\n",
       "\n",
       "    .dataframe tbody tr th {\n",
       "        vertical-align: top;\n",
       "    }\n",
       "\n",
       "    .dataframe thead th {\n",
       "        text-align: right;\n",
       "    }\n",
       "</style>\n",
       "<table border=\"1\" class=\"dataframe\">\n",
       "  <thead>\n",
       "    <tr style=\"text-align: right;\">\n",
       "      <th></th>\n",
       "      <th>path</th>\n",
       "      <th>text</th>\n",
       "      <th>label</th>\n",
       "    </tr>\n",
       "  </thead>\n",
       "  <tbody>\n",
       "    <tr>\n",
       "      <th>0</th>\n",
       "      <td>test/neg/8744_2.txt</td>\n",
       "      <td>This joins the endless line of corny, predicta...</td>\n",
       "      <td>neg</td>\n",
       "    </tr>\n",
       "    <tr>\n",
       "      <th>1</th>\n",
       "      <td>test/pos/6011_10.txt</td>\n",
       "      <td>Swift's writing really has more in common with...</td>\n",
       "      <td>pos</td>\n",
       "    </tr>\n",
       "    <tr>\n",
       "      <th>2</th>\n",
       "      <td>test/pos/9149_8.txt</td>\n",
       "      <td>This film is a good start for novices that hav...</td>\n",
       "      <td>pos</td>\n",
       "    </tr>\n",
       "    <tr>\n",
       "      <th>3</th>\n",
       "      <td>test/pos/6504_9.txt</td>\n",
       "      <td>Wonderfully funny, awe-inspiring feature on th...</td>\n",
       "      <td>pos</td>\n",
       "    </tr>\n",
       "    <tr>\n",
       "      <th>4</th>\n",
       "      <td>test/neg/970_4.txt</td>\n",
       "      <td>Eddy Murphy and Robert De Niro should be a com...</td>\n",
       "      <td>neg</td>\n",
       "    </tr>\n",
       "  </tbody>\n",
       "</table>\n",
       "</div>"
      ],
      "text/plain": [
       "                   path                                               text  \\\n",
       "0   test/neg/8744_2.txt  This joins the endless line of corny, predicta...   \n",
       "1  test/pos/6011_10.txt  Swift's writing really has more in common with...   \n",
       "2   test/pos/9149_8.txt  This film is a good start for novices that hav...   \n",
       "3   test/pos/6504_9.txt  Wonderfully funny, awe-inspiring feature on th...   \n",
       "4    test/neg/970_4.txt  Eddy Murphy and Robert De Niro should be a com...   \n",
       "\n",
       "  label  \n",
       "0   neg  \n",
       "1   pos  \n",
       "2   pos  \n",
       "3   pos  \n",
       "4   neg  "
      ]
     },
     "execution_count": 3,
     "metadata": {},
     "output_type": "execute_result"
    }
   ],
   "source": [
    "N_ROWS = 1000\n",
    "\n",
    "def sample_stratified(df, label_column, n_rows):\n",
    "    \"\"\"Function to sample n_rows from a dataframe while presenving class distribution\"\"\"\n",
    "    return df.groupby(label_column, group_keys=False) \\\n",
    "            .apply(lambda x: x.sample(int(np.rint(n_rows*len(x)/len(df))))) \\\n",
    "            .sample(frac=1)\n",
    "\n",
    "base_url = 'https://tlk.s3.yandex.net/ext_dataset/aclImdb'\n",
    "df = pd.read_csv(os.path.join(base_url, 'test.csv'))\n",
    "df_control = sample_stratified(df, 'label', n_rows=1000)\n",
    "df = df.drop(df_control.index)\n",
    "df = sample_stratified(df, 'label', n_rows=N_ROWS)\n",
    "\n",
    "df_control = df_control.reset_index(drop=True)\n",
    "df = df.reset_index(drop=True)\n",
    "df.head()"
   ]
  },
  {
   "cell_type": "code",
   "execution_count": 4,
   "id": "9d39df9c",
   "metadata": {},
   "outputs": [
    {
     "data": {
      "text/plain": [
       "neg    500\n",
       "pos    500\n",
       "Name: label, dtype: int64"
      ]
     },
     "execution_count": 4,
     "metadata": {},
     "output_type": "execute_result"
    }
   ],
   "source": [
    "df.label.value_counts()"
   ]
  },
  {
   "cell_type": "code",
   "execution_count": null,
   "id": "13f66ff5",
   "metadata": {},
   "outputs": [],
   "source": [
    "def load_texts(urls):\n",
    "    texts = []\n",
    "    for url in tqdm(urls):\n",
    "        resp = requests.get(url)\n",
    "        texts.append(resp.text)\n",
    "    return texts\n",
    "\n",
    "df['text'] = load_texts(base_url + '/' + df.path)\n",
    "df_control['text'] =  load_texts(base_url + '/' + df_control.path)"
   ]
  },
  {
   "cell_type": "markdown",
   "id": "84ed2020",
   "metadata": {},
   "source": [
    "## Project setup\n",
    "\n",
    "Let's create an appropriate Toloka project. AutoQuality requires to set up a training pool and a base pool. The base bool should be set up like the regular pools you will be running. AutoQuality will clone this pool and change quality control settings to explore different configurations.\n"
   ]
  },
  {
   "cell_type": "code",
   "execution_count": null,
   "id": "ad0893b0",
   "metadata": {},
   "outputs": [],
   "source": [
    "token = input(\"Enter your token:\")\n",
    "toloka_client = toloka.TolokaClient(token, 'PRODUCTION')"
   ]
  },
  {
   "cell_type": "code",
   "execution_count": 7,
   "id": "f802f9a5",
   "metadata": {},
   "outputs": [],
   "source": [
    "project = toloka.Project(\n",
    "    public_name='Movie review classification',\n",
    "    public_description='Classify sentiment of movie reviews',\n",
    "    private_comment='Auto quality control optimization experiments',\n",
    ")\n",
    "input_specification = {'text': toloka.project.StringSpec()}\n",
    "output_specification = {'result': toloka.project.StringSpec()}"
   ]
  },
  {
   "cell_type": "code",
   "execution_count": 8,
   "id": "965eb4b6",
   "metadata": {},
   "outputs": [],
   "source": [
    "text_viewer = tb.TextViewV1(tb.InputData('text'))\n",
    "\n",
    "radio_group_field = tb.ButtonRadioGroupFieldV1(\n",
    "    tb.OutputData('result'),\n",
    "    [\n",
    "        tb.GroupFieldOption('pos', '😃 Positive'),\n",
    "        tb.GroupFieldOption('neg', '😡 Negative'),\n",
    "    ],\n",
    "    label='What is the review sentiment?',\n",
    "    validation=tb.RequiredConditionV1(hint='You need to select one answer'),\n",
    ")\n",
    "\n",
    "task_width_plugin = tb.TolokaPluginV1(\n",
    "    layout=tb.TolokaPluginV1.TolokaPluginLayout(\n",
    "        kind='pager', \n",
    "        task_width=500,\n",
    "    )\n",
    ")\n",
    "\n",
    "hot_keys_plugin = tb.HotkeysPluginV1(\n",
    "    key_1=tb.SetActionV1(tb.OutputData('result'), 'pos'),\n",
    "    key_2=tb.SetActionV1(tb.OutputData('result'), 'neg'),\n",
    ")\n",
    "\n",
    "project_interface = toloka.project.TemplateBuilderViewSpec(\n",
    "    view=tb.ListViewV1([radio_group_field, text_viewer]),\n",
    "    plugins=[task_width_plugin, hot_keys_plugin],\n",
    ")\n",
    "\n",
    "project.task_spec = toloka.project.task_spec.TaskSpec(\n",
    "    input_spec=input_specification,\n",
    "    output_spec=output_specification,\n",
    "    view_spec=project_interface,\n",
    ")"
   ]
  },
  {
   "cell_type": "code",
   "execution_count": 9,
   "id": "4aadf91c",
   "metadata": {},
   "outputs": [],
   "source": [
    "project.public_instructions = \"\"\"\n",
    "<h2>How to complete the task</h2>\n",
    "<ul>\n",
    "<li>1. Look at the movie review text.</li>\n",
    "<li>2. If it seems 😃 positive, assign the positive label. Otherwise assign the 😡 negative label.</li>\n",
    "<li>3. If you are unsure choose the label that seems most appropriate.</li>\n",
    "</ul>\n",
    "\n",
    "In case of problems send us a message. Good luck!\n",
    "\"\"\".strip()"
   ]
  },
  {
   "cell_type": "code",
   "execution_count": 10,
   "id": "a36cd7f6",
   "metadata": {},
   "outputs": [
    {
     "name": "stdout",
     "output_type": "stream",
     "text": [
      "[INFO] toloka.client: A new project with ID \"100100\" has been created. Link to open in web interface: https://toloka.dev/requester/project/100100\n"
     ]
    }
   ],
   "source": [
    "project = toloka_client.create_project(project)"
   ]
  },
  {
   "cell_type": "markdown",
   "id": "74a8db95",
   "metadata": {},
   "source": [
    "## Training and base pool setup"
   ]
  },
  {
   "cell_type": "code",
   "execution_count": 11,
   "id": "a984acc8",
   "metadata": {},
   "outputs": [],
   "source": [
    "training_pool = toloka.training.Training(project_id=project.id,\n",
    "    private_name='Training pool',  \n",
    "    training_tasks_in_task_suite_count=5, \n",
    "    task_suites_required_to_pass=1,\n",
    "    may_contain_adult_content=False,\n",
    "    inherited_instructions=True,\n",
    "    assignment_max_duration_seconds=60*5,\n",
    "    retry_training_after_days=5,\n",
    "    mix_tasks_in_creation_order=True,\n",
    "    shuffle_tasks_in_task_suite=True,\n",
    ")"
   ]
  },
  {
   "cell_type": "code",
   "execution_count": 12,
   "id": "90777897",
   "metadata": {},
   "outputs": [
    {
     "name": "stdout",
     "output_type": "stream",
     "text": [
      "[INFO] toloka.client: A new training with ID \"34223462\" has been created. Link to open in web interface: https://toloka.dev/requester/project/100100/training/34223462\n"
     ]
    }
   ],
   "source": [
    "training_pool = toloka_client.create_training(training_pool)"
   ]
  },
  {
   "cell_type": "code",
   "execution_count": 13,
   "id": "54c6a329",
   "metadata": {},
   "outputs": [],
   "source": [
    "label_to_hint_map = {\n",
    "    'pos': 'Positive', \n",
    "    'neg': 'Negative',\n",
    "}\n",
    "\n",
    "\n",
    "tasks = []\n",
    "for l in ['pos', 'neg']: \n",
    "    examples = df[df.label == l].head(3)\n",
    "    \n",
    "    for ex_tuple in examples.itertuples():\n",
    "        tasks.append(\n",
    "            toloka.Task(\n",
    "                input_values={'text': ex_tuple.text},\n",
    "                known_solutions=[toloka.task.BaseTask.KnownSolution(output_values={'result': ex_tuple.label})],\n",
    "                message_on_unknown_solution=f'Incorrect label! The actual label is: {label_to_hint_map[ex_tuple.label]}',\n",
    "                infinite_overlap=True,\n",
    "                pool_id=training_pool.id\n",
    "            )\n",
    "        )\n",
    "\n",
    "result = toloka_client.create_tasks(tasks, allow_defaults=True)"
   ]
  },
  {
   "cell_type": "code",
   "execution_count": 14,
   "id": "bdc7b7d2",
   "metadata": {},
   "outputs": [],
   "source": [
    "base_pool = toloka.Pool(\n",
    "        project_id=project.id,\n",
    "        private_name='AutoQuality Base Pool',\n",
    "        may_contain_adult_content=False,\n",
    "        reward_per_assignment=0.01, \n",
    "        assignment_max_duration_seconds=60*7, \n",
    "        will_expire=datetime.datetime.utcnow() + datetime.timedelta(days=365), \n",
    "        filter=(\n",
    "            (toloka.filter.Languages.in_('EN')) &\n",
    "            (\n",
    "                (toloka.filter.ClientType == 'TOLOKA_APP') | \n",
    "                (toloka.filter.ClientType == 'BROWSER')\n",
    "            )\n",
    "        ),\n",
    "    )"
   ]
  },
  {
   "cell_type": "code",
   "execution_count": 15,
   "id": "46c6f9b2",
   "metadata": {},
   "outputs": [],
   "source": [
    "base_pool.set_mixer_config(\n",
    "    real_tasks_count=4,\n",
    "    golden_tasks_count=1\n",
    ")"
   ]
  },
  {
   "cell_type": "code",
   "execution_count": 16,
   "id": "11480cbf",
   "metadata": {},
   "outputs": [
    {
     "name": "stdout",
     "output_type": "stream",
     "text": [
      "[INFO] toloka.client: A new pool with ID \"34223545\" has been created. Link to open in web interface: https://toloka.dev/requester/project/100100/pool/34223545\n"
     ]
    }
   ],
   "source": [
    "base_pool = toloka_client.create_pool(base_pool)"
   ]
  },
  {
   "cell_type": "markdown",
   "id": "39b19ee1",
   "metadata": {},
   "source": [
    "## AutoQuality basic usage\n",
    "\n",
    "To use AutoQuality class you need to set project_id, base_pool_id, training_pool_id. If your target label field is different from `label` when you also need to specify it. "
   ]
  },
  {
   "cell_type": "code",
   "execution_count": 17,
   "id": "e7fc50ef",
   "metadata": {},
   "outputs": [],
   "source": [
    "aq = AutoQuality(\n",
    "  toloka_client=toloka_client,\n",
    "  project_id=project.id,\n",
    "  base_pool_id=base_pool.id,\n",
    "  training_pool_id=training_pool.id,\n",
    "  label_field='result'\n",
    "  # you can also use exam pool\n",
    "  # exam_pool_id = ...,\n",
    "  # exam_skill_id = ...,\n",
    ")"
   ]
  },
  {
   "cell_type": "markdown",
   "id": "4681a079",
   "metadata": {},
   "source": [
    "First, call `setup_pools` to create multiple pools with a different quality control settings (autoquality pools)"
   ]
  },
  {
   "cell_type": "code",
   "execution_count": 18,
   "id": "acd38696",
   "metadata": {},
   "outputs": [
    {
     "name": "stdout",
     "output_type": "stream",
     "text": [
      "[INFO] toloka.autoquality.optimizer: Creating pools\n",
      "[INFO] toloka.client: A new pool with ID \"34223548\" has been cloned. Link to open in web interface: https://toloka.dev/requester/project/100100/pool/34223548\n",
      "[INFO] toloka.client: A new skill with ID \"46804\" has been created. Link to open in web interface: https://toloka.dev/requester/quality/skill/46804\n",
      "[INFO] toloka.autoquality.optimizer: {'AssignmentSubmitTime': {'avg_page_seconds': 90, 'history_size': 5, 'too_fast_fraction': 0.1477143300195338}, 'ExamRequirement': {'exam_passing_skill_value': 53.285216686727665}, 'GoldenSet': {'history_size': 5, 'incorrect_answers_rate': 84.85131966116259}, 'MajorityVote': {'history_size': 5, 'incorrect_answers_rate': 78.20005144646932}, 'TrainingRequirement': {'training_passing_skill_value': 54.66533962883042}, 'overlap': 2}\n",
      "[INFO] toloka.client: A new pool with ID \"34223549\" has been cloned. Link to open in web interface: https://toloka.dev/requester/project/100100/pool/34223549\n",
      "[INFO] toloka.client: A new skill with ID \"46805\" has been created. Link to open in web interface: https://toloka.dev/requester/quality/skill/46805\n",
      "[INFO] toloka.autoquality.optimizer: {'AssignmentSubmitTime': {'avg_page_seconds': 90, 'history_size': 5, 'too_fast_fraction': 0.23201628347219955}, 'ExamRequirement': {'exam_passing_skill_value': 69.62253027714169}, 'GoldenSet': {'history_size': 5, 'incorrect_answers_rate': 56.978409332827354}, 'MajorityVote': {'history_size': 5, 'incorrect_answers_rate': 49.64673390232204}, 'TrainingRequirement': {'training_passing_skill_value': 88.51934128668412}, 'overlap': 4}\n",
      "[INFO] toloka.client: A new pool with ID \"34223550\" has been cloned. Link to open in web interface: https://toloka.dev/requester/project/100100/pool/34223550\n",
      "[INFO] toloka.client: A new skill with ID \"46806\" has been created. Link to open in web interface: https://toloka.dev/requester/quality/skill/46806\n",
      "[INFO] toloka.autoquality.optimizer: {'AssignmentSubmitTime': {'avg_page_seconds': 90, 'history_size': 5, 'too_fast_fraction': 0.3343549452822557}, 'ExamRequirement': {'exam_passing_skill_value': 82.11583064708395}, 'GoldenSet': {'history_size': 5, 'incorrect_answers_rate': 56.963714455271074}, 'MajorityVote': {'history_size': 5, 'incorrect_answers_rate': 59.77426079537283}, 'TrainingRequirement': {'training_passing_skill_value': 47.590059740117084}, 'overlap': 2}\n",
      "[INFO] toloka.client: A new pool with ID \"34223551\" has been cloned. Link to open in web interface: https://toloka.dev/requester/project/100100/pool/34223551\n",
      "[INFO] toloka.client: A new skill with ID \"46807\" has been created. Link to open in web interface: https://toloka.dev/requester/quality/skill/46807\n",
      "[INFO] toloka.autoquality.optimizer: {'AssignmentSubmitTime': {'avg_page_seconds': 90, 'history_size': 5, 'too_fast_fraction': 0.45514044809801646}, 'ExamRequirement': {'exam_passing_skill_value': 73.50951079166411}, 'GoldenSet': {'history_size': 5, 'incorrect_answers_rate': 76.79440658958411}, 'MajorityVote': {'history_size': 5, 'incorrect_answers_rate': 54.728594803367706}, 'TrainingRequirement': {'training_passing_skill_value': 55.763206387618524}, 'overlap': 2}\n",
      "[INFO] toloka.client: A new pool with ID \"34223553\" has been cloned. Link to open in web interface: https://toloka.dev/requester/project/100100/pool/34223553\n",
      "[INFO] toloka.client: A new skill with ID \"46808\" has been created. Link to open in web interface: https://toloka.dev/requester/quality/skill/46808\n",
      "[INFO] toloka.autoquality.optimizer: {'AssignmentSubmitTime': {'avg_page_seconds': 90, 'history_size': 5, 'too_fast_fraction': 0.29346427012576315}, 'ExamRequirement': {'exam_passing_skill_value': 72.06472728354181}, 'GoldenSet': {'history_size': 5, 'incorrect_answers_rate': 37.89247344156907}, 'MajorityVote': {'history_size': 5, 'incorrect_answers_rate': 53.62586551022977}, 'TrainingRequirement': {'training_passing_skill_value': 19.888309636790538}, 'overlap': 2}\n",
      "[INFO] toloka.client: A new pool with ID \"34223554\" has been cloned. Link to open in web interface: https://toloka.dev/requester/project/100100/pool/34223554\n",
      "[INFO] toloka.client: A new skill with ID \"46809\" has been created. Link to open in web interface: https://toloka.dev/requester/quality/skill/46809\n",
      "[INFO] toloka.autoquality.optimizer: {'AssignmentSubmitTime': {'avg_page_seconds': 90, 'history_size': 5, 'too_fast_fraction': 0.17296793978241715}, 'ExamRequirement': {'exam_passing_skill_value': 31.831342002205403}, 'GoldenSet': {'history_size': 5, 'incorrect_answers_rate': 53.28453154405012}, 'MajorityVote': {'history_size': 5, 'incorrect_answers_rate': 66.86767780051952}, 'TrainingRequirement': {'training_passing_skill_value': 29.63761557346693}, 'overlap': 4}\n",
      "[INFO] toloka.client: A new pool with ID \"34223555\" has been cloned. Link to open in web interface: https://toloka.dev/requester/project/100100/pool/34223555\n",
      "[INFO] toloka.client: A new skill with ID \"46810\" has been created. Link to open in web interface: https://toloka.dev/requester/quality/skill/46810\n",
      "[INFO] toloka.autoquality.optimizer: {'AssignmentSubmitTime': {'avg_page_seconds': 90, 'history_size': 5, 'too_fast_fraction': 0.40328158825067395}, 'ExamRequirement': {'exam_passing_skill_value': 40.80936929832271}, 'GoldenSet': {'history_size': 5, 'incorrect_answers_rate': 74.03553397977555}, 'MajorityVote': {'history_size': 5, 'incorrect_answers_rate': 51.19501664153089}, 'TrainingRequirement': {'training_passing_skill_value': 60.870975371389}, 'overlap': 3}\n",
      "[INFO] toloka.client: A new pool with ID \"34223556\" has been cloned. Link to open in web interface: https://toloka.dev/requester/project/100100/pool/34223556\n",
      "[INFO] toloka.client: A new skill with ID \"46811\" has been created. Link to open in web interface: https://toloka.dev/requester/quality/skill/46811\n",
      "[INFO] toloka.autoquality.optimizer: {'AssignmentSubmitTime': {'avg_page_seconds': 90, 'history_size': 5, 'too_fast_fraction': 0.29328743451998623}, 'ExamRequirement': {'exam_passing_skill_value': 45.54181665616344}, 'GoldenSet': {'history_size': 5, 'incorrect_answers_rate': 48.43325160973314}, 'MajorityVote': {'history_size': 5, 'incorrect_answers_rate': 30.988505985671708}, 'TrainingRequirement': {'training_passing_skill_value': 63.74196964105757}, 'overlap': 2}\n",
      "[INFO] toloka.client: A new pool with ID \"34223557\" has been cloned. Link to open in web interface: https://toloka.dev/requester/project/100100/pool/34223557\n",
      "[INFO] toloka.client: A new skill with ID \"46812\" has been created. Link to open in web interface: https://toloka.dev/requester/quality/skill/46812\n",
      "[INFO] toloka.autoquality.optimizer: {'AssignmentSubmitTime': {'avg_page_seconds': 90, 'history_size': 5, 'too_fast_fraction': 0.5112505771972173}, 'ExamRequirement': {'exam_passing_skill_value': 19.45845961235321}, 'GoldenSet': {'history_size': 5, 'incorrect_answers_rate': 65.48091762987362}, 'MajorityVote': {'history_size': 5, 'incorrect_answers_rate': 75.51178871391954}, 'TrainingRequirement': {'training_passing_skill_value': 58.32543986930165}, 'overlap': 2}\n",
      "[INFO] toloka.client: A new pool with ID \"34223558\" has been cloned. Link to open in web interface: https://toloka.dev/requester/project/100100/pool/34223558\n",
      "[INFO] toloka.client: A new skill with ID \"46813\" has been created. Link to open in web interface: https://toloka.dev/requester/quality/skill/46813\n",
      "[INFO] toloka.autoquality.optimizer: {'AssignmentSubmitTime': {'avg_page_seconds': 90, 'history_size': 5, 'too_fast_fraction': 0.28818617778607497}, 'ExamRequirement': {'exam_passing_skill_value': 84.79545467497228}, 'GoldenSet': {'history_size': 5, 'incorrect_answers_rate': 67.80647202040045}, 'MajorityVote': {'history_size': 5, 'incorrect_answers_rate': 56.974801198749965}, 'TrainingRequirement': {'training_passing_skill_value': 33.18491499105997}, 'overlap': 4}\n"
     ]
    }
   ],
   "source": [
    "aq.setup_pools()"
   ]
  },
  {
   "cell_type": "markdown",
   "id": "1fe48890",
   "metadata": {},
   "source": [
    "Then use `create_tasks` to add tasks for every autoquality pool. AutoQuality usually requires 300-500 tasks to work properly(you also need enough control tasks if Golden Set quality control is used)."
   ]
  },
  {
   "cell_type": "code",
   "execution_count": 19,
   "id": "8f863735",
   "metadata": {},
   "outputs": [
    {
     "data": {
      "text/plain": [
       "((200, 3), (800, 3))"
      ]
     },
     "execution_count": 19,
     "metadata": {},
     "output_type": "execute_result"
    }
   ],
   "source": [
    "n_optim = 200\n",
    "df_optim = df_control.iloc[:n_optim].copy()\n",
    "df_optim_golden = df_control.iloc[n_optim:].copy()\n",
    "df_optim.shape, df_optim_golden.shape"
   ]
  },
  {
   "cell_type": "code",
   "execution_count": 20,
   "id": "ce4595a5",
   "metadata": {},
   "outputs": [],
   "source": [
    "aq_tasks = []"
   ]
  },
  {
   "cell_type": "code",
   "execution_count": 21,
   "id": "63e6c15e",
   "metadata": {},
   "outputs": [],
   "source": [
    "for row in df_optim.itertuples():\n",
    "    aq_tasks.append(\n",
    "        toloka.Task(\n",
    "            input_values={'text': row.text}, \n",
    "        )\n",
    "    )\n",
    "for row in df_optim_golden.itertuples():\n",
    "    aq_tasks.append(\n",
    "        toloka.Task(\n",
    "            input_values={'text': row.text},\n",
    "            known_solutions=[toloka.task.BaseTask.KnownSolution(output_values={'result': row.label})]\n",
    "        )\n",
    "    )"
   ]
  },
  {
   "cell_type": "code",
   "execution_count": 22,
   "id": "480f05b8",
   "metadata": {},
   "outputs": [
    {
     "name": "stdout",
     "output_type": "stream",
     "text": [
      "[INFO] toloka.autoquality.optimizer: Creating tasks in pools\n",
      "[INFO] toloka.autoquality.optimizer: Populated pool 34223548 with 1000 tasks\n",
      "[INFO] toloka.autoquality.optimizer: Populated pool 34223549 with 1000 tasks\n",
      "[INFO] toloka.autoquality.optimizer: Populated pool 34223550 with 1000 tasks\n",
      "[INFO] toloka.autoquality.optimizer: Populated pool 34223551 with 1000 tasks\n",
      "[INFO] toloka.autoquality.optimizer: Populated pool 34223553 with 1000 tasks\n",
      "[INFO] toloka.autoquality.optimizer: Populated pool 34223554 with 1000 tasks\n",
      "[INFO] toloka.autoquality.optimizer: Populated pool 34223555 with 1000 tasks\n",
      "[INFO] toloka.autoquality.optimizer: Populated pool 34223556 with 1000 tasks\n",
      "[INFO] toloka.autoquality.optimizer: Populated pool 34223557 with 1000 tasks\n",
      "[INFO] toloka.autoquality.optimizer: Populated pool 34223558 with 1000 tasks\n",
      "[INFO] toloka.autoquality.optimizer: Setup complete, please verify\n"
     ]
    }
   ],
   "source": [
    "aq.create_tasks(aq_tasks)"
   ]
  },
  {
   "cell_type": "markdown",
   "id": "3f1bf67a",
   "metadata": {},
   "source": [
    "Finally, just `run` autoquality. "
   ]
  },
  {
   "cell_type": "code",
   "execution_count": null,
   "id": "ad3649ba",
   "metadata": {},
   "outputs": [],
   "source": [
    "aq.run()"
   ]
  },
  {
   "cell_type": "markdown",
   "id": "295c136e",
   "metadata": {},
   "source": [
    "After that your autoquality instance will have some useful attributes with the results of the work."
   ]
  },
  {
   "cell_type": "code",
   "execution_count": 27,
   "id": "2318d3da",
   "metadata": {},
   "outputs": [
    {
     "data": {
      "text/plain": [
       "'34223549'"
      ]
     },
     "execution_count": 27,
     "metadata": {},
     "output_type": "execute_result"
    }
   ],
   "source": [
    "aq.best_pool_id"
   ]
  },
  {
   "cell_type": "code",
   "execution_count": 28,
   "id": "4379732b",
   "metadata": {},
   "outputs": [
    {
     "data": {
      "text/plain": [
       "{'AssignmentSubmitTime': {'avg_page_seconds': 90,\n",
       "  'history_size': 5,\n",
       "  'too_fast_fraction': 0.23201628347219955},\n",
       " 'ExamRequirement': {'exam_passing_skill_value': 69.62253027714169},\n",
       " 'GoldenSet': {'history_size': 5,\n",
       "  'incorrect_answers_rate': 56.978409332827354},\n",
       " 'MajorityVote': {'history_size': 5,\n",
       "  'incorrect_answers_rate': 49.64673390232204},\n",
       " 'TrainingRequirement': {'training_passing_skill_value': 88.51934128668412},\n",
       " 'overlap': 4}"
      ]
     },
     "execution_count": 28,
     "metadata": {},
     "output_type": "execute_result"
    }
   ],
   "source": [
    "aq.best_pool_params"
   ]
  },
  {
   "cell_type": "markdown",
   "id": "40960ef4",
   "metadata": {},
   "source": [
    "You can also compare all autoqualoty pools by a variety of different metrics"
   ]
  },
  {
   "cell_type": "code",
   "execution_count": 29,
   "id": "7bbdb9ee",
   "metadata": {},
   "outputs": [
    {
     "data": {
      "text/html": [
       "<div>\n",
       "<style scoped>\n",
       "    .dataframe tbody tr th:only-of-type {\n",
       "        vertical-align: middle;\n",
       "    }\n",
       "\n",
       "    .dataframe tbody tr th {\n",
       "        vertical-align: top;\n",
       "    }\n",
       "\n",
       "    .dataframe thead th {\n",
       "        text-align: right;\n",
       "    }\n",
       "</style>\n",
       "<table border=\"1\" class=\"dataframe\">\n",
       "  <thead>\n",
       "    <tr style=\"text-align: right;\">\n",
       "      <th></th>\n",
       "      <th>pool_id</th>\n",
       "      <th>accuracy_golden</th>\n",
       "      <th>accuracy_mv</th>\n",
       "      <th>alpha_krippendorff</th>\n",
       "      <th>uncertanity</th>\n",
       "      <th>time_spent_seconds</th>\n",
       "      <th>unique_submitters_count</th>\n",
       "      <th>spent_budget</th>\n",
       "      <th>avg_submit_assignment_millis</th>\n",
       "      <th>num_bans</th>\n",
       "      <th>...</th>\n",
       "      <th>accuracy_golden_rank</th>\n",
       "      <th>accuracy_mv_rank</th>\n",
       "      <th>alpha_krippendorff_rank</th>\n",
       "      <th>spending_per_task_rank</th>\n",
       "      <th>tasks_per_second_rank</th>\n",
       "      <th>bans_ratio_rank</th>\n",
       "      <th>avg_quality_rank</th>\n",
       "      <th>avg_rank</th>\n",
       "      <th>optimal_quality_rank</th>\n",
       "      <th>main_rank</th>\n",
       "    </tr>\n",
       "  </thead>\n",
       "  <tbody>\n",
       "    <tr>\n",
       "      <th>0</th>\n",
       "      <td>34223548</td>\n",
       "      <td>0.295918</td>\n",
       "      <td>0.774235</td>\n",
       "      <td>0.257751</td>\n",
       "      <td>0.424374</td>\n",
       "      <td>1017</td>\n",
       "      <td>98.0</td>\n",
       "      <td>1.000</td>\n",
       "      <td>92376.0</td>\n",
       "      <td>58</td>\n",
       "      <td>...</td>\n",
       "      <td>3</td>\n",
       "      <td>3</td>\n",
       "      <td>2</td>\n",
       "      <td>2</td>\n",
       "      <td>9</td>\n",
       "      <td>6</td>\n",
       "      <td>2.67</td>\n",
       "      <td>4.9175</td>\n",
       "      <td>3.402000</td>\n",
       "      <td>3.402000</td>\n",
       "    </tr>\n",
       "    <tr>\n",
       "      <th>1</th>\n",
       "      <td>34223549</td>\n",
       "      <td>0.452862</td>\n",
       "      <td>0.850938</td>\n",
       "      <td>0.581601</td>\n",
       "      <td>0.374584</td>\n",
       "      <td>1158</td>\n",
       "      <td>165.0</td>\n",
       "      <td>2.003</td>\n",
       "      <td>134946.0</td>\n",
       "      <td>79</td>\n",
       "      <td>...</td>\n",
       "      <td>8</td>\n",
       "      <td>8</td>\n",
       "      <td>10</td>\n",
       "      <td>1</td>\n",
       "      <td>8</td>\n",
       "      <td>10</td>\n",
       "      <td>8.67</td>\n",
       "      <td>6.9175</td>\n",
       "      <td>7.268667</td>\n",
       "      <td>7.268667</td>\n",
       "    </tr>\n",
       "    <tr>\n",
       "      <th>2</th>\n",
       "      <td>34223550</td>\n",
       "      <td>0.319298</td>\n",
       "      <td>0.788596</td>\n",
       "      <td>0.331257</td>\n",
       "      <td>0.395112</td>\n",
       "      <td>547</td>\n",
       "      <td>95.0</td>\n",
       "      <td>1.000</td>\n",
       "      <td>98809.0</td>\n",
       "      <td>57</td>\n",
       "      <td>...</td>\n",
       "      <td>5</td>\n",
       "      <td>4</td>\n",
       "      <td>4</td>\n",
       "      <td>2</td>\n",
       "      <td>10</td>\n",
       "      <td>5</td>\n",
       "      <td>4.33</td>\n",
       "      <td>5.3325</td>\n",
       "      <td>4.331333</td>\n",
       "      <td>4.331333</td>\n",
       "    </tr>\n",
       "    <tr>\n",
       "      <th>3</th>\n",
       "      <td>34223551</td>\n",
       "      <td>0.396078</td>\n",
       "      <td>0.813725</td>\n",
       "      <td>0.372302</td>\n",
       "      <td>0.422319</td>\n",
       "      <td>1598</td>\n",
       "      <td>85.0</td>\n",
       "      <td>1.000</td>\n",
       "      <td>102025.0</td>\n",
       "      <td>43</td>\n",
       "      <td>...</td>\n",
       "      <td>7</td>\n",
       "      <td>6</td>\n",
       "      <td>6</td>\n",
       "      <td>2</td>\n",
       "      <td>7</td>\n",
       "      <td>9</td>\n",
       "      <td>6.33</td>\n",
       "      <td>6.0825</td>\n",
       "      <td>5.864667</td>\n",
       "      <td>5.864667</td>\n",
       "    </tr>\n",
       "    <tr>\n",
       "      <th>4</th>\n",
       "      <td>34223553</td>\n",
       "      <td>0.255435</td>\n",
       "      <td>0.763587</td>\n",
       "      <td>0.207660</td>\n",
       "      <td>0.460486</td>\n",
       "      <td>1816</td>\n",
       "      <td>92.0</td>\n",
       "      <td>1.000</td>\n",
       "      <td>83584.0</td>\n",
       "      <td>61</td>\n",
       "      <td>...</td>\n",
       "      <td>2</td>\n",
       "      <td>2</td>\n",
       "      <td>1</td>\n",
       "      <td>2</td>\n",
       "      <td>6</td>\n",
       "      <td>2</td>\n",
       "      <td>1.67</td>\n",
       "      <td>2.9175</td>\n",
       "      <td>2.068667</td>\n",
       "      <td>2.068667</td>\n",
       "    </tr>\n",
       "    <tr>\n",
       "      <th>5</th>\n",
       "      <td>34223554</td>\n",
       "      <td>0.314234</td>\n",
       "      <td>0.799111</td>\n",
       "      <td>0.427109</td>\n",
       "      <td>0.427260</td>\n",
       "      <td>2249</td>\n",
       "      <td>185.0</td>\n",
       "      <td>2.003</td>\n",
       "      <td>112834.0</td>\n",
       "      <td>113</td>\n",
       "      <td>...</td>\n",
       "      <td>4</td>\n",
       "      <td>5</td>\n",
       "      <td>8</td>\n",
       "      <td>1</td>\n",
       "      <td>5</td>\n",
       "      <td>4</td>\n",
       "      <td>5.67</td>\n",
       "      <td>3.9175</td>\n",
       "      <td>4.468667</td>\n",
       "      <td>4.468667</td>\n",
       "    </tr>\n",
       "    <tr>\n",
       "      <th>6</th>\n",
       "      <td>34223555</td>\n",
       "      <td>0.332100</td>\n",
       "      <td>0.822762</td>\n",
       "      <td>0.476627</td>\n",
       "      <td>0.397302</td>\n",
       "      <td>3068</td>\n",
       "      <td>113.0</td>\n",
       "      <td>1.503</td>\n",
       "      <td>103747.0</td>\n",
       "      <td>64</td>\n",
       "      <td>...</td>\n",
       "      <td>6</td>\n",
       "      <td>7</td>\n",
       "      <td>9</td>\n",
       "      <td>1</td>\n",
       "      <td>3</td>\n",
       "      <td>8</td>\n",
       "      <td>7.33</td>\n",
       "      <td>4.8325</td>\n",
       "      <td>5.864667</td>\n",
       "      <td>5.864667</td>\n",
       "    </tr>\n",
       "    <tr>\n",
       "      <th>7</th>\n",
       "      <td>34223556</td>\n",
       "      <td>0.248355</td>\n",
       "      <td>0.803180</td>\n",
       "      <td>0.392882</td>\n",
       "      <td>0.398519</td>\n",
       "      <td>2903</td>\n",
       "      <td>76.0</td>\n",
       "      <td>1.003</td>\n",
       "      <td>116097.0</td>\n",
       "      <td>55</td>\n",
       "      <td>...</td>\n",
       "      <td>1</td>\n",
       "      <td>5</td>\n",
       "      <td>7</td>\n",
       "      <td>1</td>\n",
       "      <td>4</td>\n",
       "      <td>1</td>\n",
       "      <td>4.33</td>\n",
       "      <td>2.5825</td>\n",
       "      <td>3.198000</td>\n",
       "      <td>3.198000</td>\n",
       "    </tr>\n",
       "    <tr>\n",
       "      <th>8</th>\n",
       "      <td>34223557</td>\n",
       "      <td>0.251695</td>\n",
       "      <td>0.747279</td>\n",
       "      <td>0.294782</td>\n",
       "      <td>0.460207</td>\n",
       "      <td>3263</td>\n",
       "      <td>56.0</td>\n",
       "      <td>1.003</td>\n",
       "      <td>131404.0</td>\n",
       "      <td>37</td>\n",
       "      <td>...</td>\n",
       "      <td>1</td>\n",
       "      <td>1</td>\n",
       "      <td>3</td>\n",
       "      <td>1</td>\n",
       "      <td>2</td>\n",
       "      <td>3</td>\n",
       "      <td>1.67</td>\n",
       "      <td>1.9175</td>\n",
       "      <td>1.735333</td>\n",
       "      <td>1.735333</td>\n",
       "    </tr>\n",
       "    <tr>\n",
       "      <th>9</th>\n",
       "      <td>34223558</td>\n",
       "      <td>0.296667</td>\n",
       "      <td>0.765042</td>\n",
       "      <td>0.343792</td>\n",
       "      <td>0.529400</td>\n",
       "      <td>3495</td>\n",
       "      <td>106.0</td>\n",
       "      <td>2.003</td>\n",
       "      <td>118670.0</td>\n",
       "      <td>62</td>\n",
       "      <td>...</td>\n",
       "      <td>3</td>\n",
       "      <td>3</td>\n",
       "      <td>5</td>\n",
       "      <td>1</td>\n",
       "      <td>1</td>\n",
       "      <td>7</td>\n",
       "      <td>3.67</td>\n",
       "      <td>3.1675</td>\n",
       "      <td>3.402000</td>\n",
       "      <td>3.402000</td>\n",
       "    </tr>\n",
       "  </tbody>\n",
       "</table>\n",
       "<p>10 rows × 30 columns</p>\n",
       "</div>"
      ],
      "text/plain": [
       "    pool_id  accuracy_golden  accuracy_mv  alpha_krippendorff  uncertanity  \\\n",
       "0  34223548         0.295918     0.774235            0.257751     0.424374   \n",
       "1  34223549         0.452862     0.850938            0.581601     0.374584   \n",
       "2  34223550         0.319298     0.788596            0.331257     0.395112   \n",
       "3  34223551         0.396078     0.813725            0.372302     0.422319   \n",
       "4  34223553         0.255435     0.763587            0.207660     0.460486   \n",
       "5  34223554         0.314234     0.799111            0.427109     0.427260   \n",
       "6  34223555         0.332100     0.822762            0.476627     0.397302   \n",
       "7  34223556         0.248355     0.803180            0.392882     0.398519   \n",
       "8  34223557         0.251695     0.747279            0.294782     0.460207   \n",
       "9  34223558         0.296667     0.765042            0.343792     0.529400   \n",
       "\n",
       "   time_spent_seconds  unique_submitters_count  spent_budget  \\\n",
       "0                1017                     98.0         1.000   \n",
       "1                1158                    165.0         2.003   \n",
       "2                 547                     95.0         1.000   \n",
       "3                1598                     85.0         1.000   \n",
       "4                1816                     92.0         1.000   \n",
       "5                2249                    185.0         2.003   \n",
       "6                3068                    113.0         1.503   \n",
       "7                2903                     76.0         1.003   \n",
       "8                3263                     56.0         1.003   \n",
       "9                3495                    106.0         2.003   \n",
       "\n",
       "   avg_submit_assignment_millis  num_bans  ...  accuracy_golden_rank  \\\n",
       "0                       92376.0        58  ...                     3   \n",
       "1                      134946.0        79  ...                     8   \n",
       "2                       98809.0        57  ...                     5   \n",
       "3                      102025.0        43  ...                     7   \n",
       "4                       83584.0        61  ...                     2   \n",
       "5                      112834.0       113  ...                     4   \n",
       "6                      103747.0        64  ...                     6   \n",
       "7                      116097.0        55  ...                     1   \n",
       "8                      131404.0        37  ...                     1   \n",
       "9                      118670.0        62  ...                     3   \n",
       "\n",
       "  accuracy_mv_rank  alpha_krippendorff_rank  spending_per_task_rank  \\\n",
       "0                3                        2                       2   \n",
       "1                8                       10                       1   \n",
       "2                4                        4                       2   \n",
       "3                6                        6                       2   \n",
       "4                2                        1                       2   \n",
       "5                5                        8                       1   \n",
       "6                7                        9                       1   \n",
       "7                5                        7                       1   \n",
       "8                1                        3                       1   \n",
       "9                3                        5                       1   \n",
       "\n",
       "  tasks_per_second_rank bans_ratio_rank avg_quality_rank avg_rank  \\\n",
       "0                     9               6             2.67   4.9175   \n",
       "1                     8              10             8.67   6.9175   \n",
       "2                    10               5             4.33   5.3325   \n",
       "3                     7               9             6.33   6.0825   \n",
       "4                     6               2             1.67   2.9175   \n",
       "5                     5               4             5.67   3.9175   \n",
       "6                     3               8             7.33   4.8325   \n",
       "7                     4               1             4.33   2.5825   \n",
       "8                     2               3             1.67   1.9175   \n",
       "9                     1               7             3.67   3.1675   \n",
       "\n",
       "  optimal_quality_rank  main_rank  \n",
       "0             3.402000   3.402000  \n",
       "1             7.268667   7.268667  \n",
       "2             4.331333   4.331333  \n",
       "3             5.864667   5.864667  \n",
       "4             2.068667   2.068667  \n",
       "5             4.468667   4.468667  \n",
       "6             5.864667   5.864667  \n",
       "7             3.198000   3.198000  \n",
       "8             1.735333   1.735333  \n",
       "9             3.402000   3.402000  \n",
       "\n",
       "[10 rows x 30 columns]"
      ]
     },
     "execution_count": 29,
     "metadata": {},
     "output_type": "execute_result"
    }
   ],
   "source": [
    "aq.ranks"
   ]
  },
  {
   "cell_type": "markdown",
   "id": "c7907bae",
   "metadata": {},
   "source": [
    "And archive all pools created by autoquality."
   ]
  },
  {
   "cell_type": "code",
   "execution_count": 30,
   "id": "9fe8bfe2",
   "metadata": {},
   "outputs": [],
   "source": [
    "aq.archive_autoquality_pools()"
   ]
  },
  {
   "cell_type": "markdown",
   "id": "4694fee4",
   "metadata": {},
   "source": [
    "## Autoquality advanced usage\n",
    "\n",
    "AutoQuality class provides many ways to customize your optimization algorithm. Let's create another instance with a different settings."
   ]
  },
  {
   "cell_type": "markdown",
   "id": "a695af55",
   "metadata": {},
   "source": [
    "First of all, you can set `n_iter` parameter which determines how many autoquality pools will be created."
   ]
  },
  {
   "cell_type": "code",
   "execution_count": 31,
   "id": "f831d030",
   "metadata": {},
   "outputs": [],
   "source": [
    "aq = AutoQuality(\n",
    "  toloka_client=toloka_client,\n",
    "  project_id=project.id,\n",
    "  base_pool_id=base_pool.id,\n",
    "  training_pool_id=training_pool.id,\n",
    "  label_field='result',\n",
    "  n_iter=5\n",
    ")"
   ]
  },
  {
   "cell_type": "markdown",
   "id": "00762747",
   "metadata": {},
   "source": [
    "Also you can change the distributions for quality control parameters optimized by autoquality. In this example we will change the distributions for the majority vote rule. AutoQuality will sample new values for every autoquality pool from this distributions."
   ]
  },
  {
   "cell_type": "code",
   "execution_count": 32,
   "id": "8a390b6a",
   "metadata": {},
   "outputs": [],
   "source": [
    "from scipy import stats\n",
    "aq.parameter_distributions['MajorityVote'] = dict(\n",
    "    history_size=[3, 5, 7], \n",
    "    incorrect_answers_rate=stats.norm(loc=70, scale=10)\n",
    ")"
   ]
  },
  {
   "cell_type": "markdown",
   "id": "6b4b9d8a",
   "metadata": {},
   "source": [
    "Finally, you can customize methods which calculate scores or ranks. Let's modify the ranking function to give preference to a cheaper pools. Do not forget to set your new rank to a `main_rank` column so that AutoQuality knows how to choose the best pool."
   ]
  },
  {
   "cell_type": "code",
   "execution_count": 33,
   "id": "151ced9a",
   "metadata": {},
   "outputs": [],
   "source": [
    "from toloka.autoquality.scoring import default_calc_ranks\n",
    "def my_new_calc_ranks(scores_df: pd.DataFrame) -> pd.DataFrame:\n",
    "    ranks = default_calc_ranks(scores_df)\n",
    "    ranks['my_new_rank'] = (\n",
    "        0.5 * scores_df['spending_per_task_rank']\n",
    "        + 0.4 * scores_df['avg_quality_rank']\n",
    "        + 0.05 * scores_df['bans_ratio_rank']\n",
    "        + 0.05 * scores_df['tasks_per_second_rank']\n",
    "    )\n",
    "    ranks['main_rank'] = ranks['my_new_rank']\n",
    "    return ranks\n",
    "aq.ranking_func = my_new_calc_ranks"
   ]
  },
  {
   "cell_type": "markdown",
   "id": "a94fe867",
   "metadata": {},
   "source": [
    "You can create completely new scoring and ranking functions to use AutoQuality the way you need. Just keep the same signature as in the [default methods](https://github.com/Toloka/toloka-kit/blob/main/src/autoquality/scoring.py)."
   ]
  },
  {
   "cell_type": "markdown",
   "id": "bfeda9d6",
   "metadata": {},
   "source": [
    "Now let's run our modified AutoQuality instance again"
   ]
  },
  {
   "cell_type": "code",
   "execution_count": 34,
   "id": "316ea453",
   "metadata": {},
   "outputs": [
    {
     "name": "stdout",
     "output_type": "stream",
     "text": [
      "[INFO] toloka.autoquality.optimizer: Creating pools\n",
      "[INFO] toloka.client: A new pool with ID \"34224967\" has been cloned. Link to open in web interface: https://toloka.dev/requester/project/100100/pool/34224967\n",
      "[INFO] toloka.autoquality.optimizer: {'AssignmentSubmitTime': {'avg_page_seconds': 90, 'history_size': 5, 'too_fast_fraction': 0.23797148002513394}, 'ExamRequirement': {'exam_passing_skill_value': 67.66191223513454}, 'GoldenSet': {'history_size': 5, 'incorrect_answers_rate': 77.59380523413068}, 'MajorityVote': {'history_size': 7, 'incorrect_answers_rate': 61.81437838740685}, 'TrainingRequirement': {'training_passing_skill_value': 42.91563427986361}, 'overlap': 3}\n",
      "[INFO] toloka.client: A new pool with ID \"34224968\" has been cloned. Link to open in web interface: https://toloka.dev/requester/project/100100/pool/34224968\n",
      "[INFO] toloka.autoquality.optimizer: {'AssignmentSubmitTime': {'avg_page_seconds': 90, 'history_size': 5, 'too_fast_fraction': 0.21702013951044616}, 'ExamRequirement': {'exam_passing_skill_value': 75.87638640144884}, 'GoldenSet': {'history_size': 5, 'incorrect_answers_rate': 65.29114837367328}, 'MajorityVote': {'history_size': 5, 'incorrect_answers_rate': 69.32452329459505}, 'TrainingRequirement': {'training_passing_skill_value': 49.40059101881683}, 'overlap': 3}\n",
      "[INFO] toloka.client: A new pool with ID \"34224971\" has been cloned. Link to open in web interface: https://toloka.dev/requester/project/100100/pool/34224971\n",
      "[INFO] toloka.autoquality.optimizer: {'AssignmentSubmitTime': {'avg_page_seconds': 90, 'history_size': 5, 'too_fast_fraction': 0.24919852639254328}, 'ExamRequirement': {'exam_passing_skill_value': 52.36319606278474}, 'GoldenSet': {'history_size': 5, 'incorrect_answers_rate': 63.662734228475955}, 'MajorityVote': {'history_size': 3, 'incorrect_answers_rate': 64.71433960028887}, 'TrainingRequirement': {'training_passing_skill_value': 33.499919567379365}, 'overlap': 2}\n",
      "[INFO] toloka.client: A new pool with ID \"34224972\" has been cloned. Link to open in web interface: https://toloka.dev/requester/project/100100/pool/34224972\n",
      "[INFO] toloka.autoquality.optimizer: {'AssignmentSubmitTime': {'avg_page_seconds': 90, 'history_size': 5, 'too_fast_fraction': 0.2431566430532228}, 'ExamRequirement': {'exam_passing_skill_value': 41.63475243222442}, 'GoldenSet': {'history_size': 5, 'incorrect_answers_rate': 38.278764737735415}, 'MajorityVote': {'history_size': 7, 'incorrect_answers_rate': 78.1961475817833}, 'TrainingRequirement': {'training_passing_skill_value': 72.95585692343867}, 'overlap': 2}\n",
      "[INFO] toloka.client: A new pool with ID \"34224973\" has been cloned. Link to open in web interface: https://toloka.dev/requester/project/100100/pool/34224973\n",
      "[INFO] toloka.autoquality.optimizer: {'AssignmentSubmitTime': {'avg_page_seconds': 90, 'history_size': 5, 'too_fast_fraction': 0.3063388211369379}, 'ExamRequirement': {'exam_passing_skill_value': 52.124449490318256}, 'GoldenSet': {'history_size': 5, 'incorrect_answers_rate': 36.4322085974661}, 'MajorityVote': {'history_size': 5, 'incorrect_answers_rate': 82.1998010085741}, 'TrainingRequirement': {'training_passing_skill_value': 39.056099665979254}, 'overlap': 2}\n"
     ]
    }
   ],
   "source": [
    "aq.setup_pools()"
   ]
  },
  {
   "cell_type": "code",
   "execution_count": 35,
   "id": "b72cca59",
   "metadata": {},
   "outputs": [
    {
     "name": "stdout",
     "output_type": "stream",
     "text": [
      "[INFO] toloka.autoquality.optimizer: Creating tasks in pools\n",
      "[INFO] toloka.autoquality.optimizer: Populated pool 34224967 with 1000 tasks\n",
      "[INFO] toloka.autoquality.optimizer: Populated pool 34224968 with 1000 tasks\n",
      "[INFO] toloka.autoquality.optimizer: Populated pool 34224971 with 1000 tasks\n",
      "[WARNING] urllib3.connectionpool: Retrying (TolokaRetry(total=2, connect=None, read=None, redirect=None, status=None)) after connection broken by 'ReadTimeoutError(\"HTTPSConnectionPool(host='toloka.yandex.com', port=443): Read timed out. (read timeout=10.0)\")': /api/v1/operations/d0dfc196-4a20-4a77-9a6d-ad4302e1d1a4\n",
      "[INFO] toloka.autoquality.optimizer: Populated pool 34224972 with 1000 tasks\n",
      "[INFO] toloka.autoquality.optimizer: Populated pool 34224973 with 1000 tasks\n",
      "[INFO] toloka.autoquality.optimizer: Setup complete, please verify\n"
     ]
    }
   ],
   "source": [
    "aq.create_tasks(aq_tasks)"
   ]
  },
  {
   "cell_type": "code",
   "execution_count": null,
   "id": "bd046c0c",
   "metadata": {},
   "outputs": [],
   "source": [
    "aq.run()"
   ]
  },
  {
   "cell_type": "code",
   "execution_count": 40,
   "id": "ffae683b",
   "metadata": {},
   "outputs": [
    {
     "data": {
      "text/plain": [
       "{'AssignmentSubmitTime': {'avg_page_seconds': 90,\n",
       "  'history_size': 5,\n",
       "  'too_fast_fraction': 0.2431566430532228},\n",
       " 'ExamRequirement': {'exam_passing_skill_value': 41.63475243222442},\n",
       " 'GoldenSet': {'history_size': 5,\n",
       "  'incorrect_answers_rate': 38.278764737735415},\n",
       " 'MajorityVote': {'history_size': 7,\n",
       "  'incorrect_answers_rate': 78.1961475817833},\n",
       " 'TrainingRequirement': {'training_passing_skill_value': 72.95585692343867},\n",
       " 'overlap': 2}"
      ]
     },
     "execution_count": 40,
     "metadata": {},
     "output_type": "execute_result"
    }
   ],
   "source": [
    "aq.best_pool_params"
   ]
  },
  {
   "cell_type": "code",
   "execution_count": 38,
   "id": "7c735d77",
   "metadata": {},
   "outputs": [
    {
     "data": {
      "text/html": [
       "<div>\n",
       "<style scoped>\n",
       "    .dataframe tbody tr th:only-of-type {\n",
       "        vertical-align: middle;\n",
       "    }\n",
       "\n",
       "    .dataframe tbody tr th {\n",
       "        vertical-align: top;\n",
       "    }\n",
       "\n",
       "    .dataframe thead th {\n",
       "        text-align: right;\n",
       "    }\n",
       "</style>\n",
       "<table border=\"1\" class=\"dataframe\">\n",
       "  <thead>\n",
       "    <tr style=\"text-align: right;\">\n",
       "      <th></th>\n",
       "      <th>pool_id</th>\n",
       "      <th>accuracy_golden</th>\n",
       "      <th>accuracy_mv</th>\n",
       "      <th>alpha_krippendorff</th>\n",
       "      <th>uncertanity</th>\n",
       "      <th>time_spent_seconds</th>\n",
       "      <th>unique_submitters_count</th>\n",
       "      <th>spent_budget</th>\n",
       "      <th>avg_submit_assignment_millis</th>\n",
       "      <th>num_bans</th>\n",
       "      <th>...</th>\n",
       "      <th>accuracy_mv_rank</th>\n",
       "      <th>alpha_krippendorff_rank</th>\n",
       "      <th>spending_per_task_rank</th>\n",
       "      <th>tasks_per_second_rank</th>\n",
       "      <th>bans_ratio_rank</th>\n",
       "      <th>avg_quality_rank</th>\n",
       "      <th>avg_rank</th>\n",
       "      <th>optimal_quality_rank</th>\n",
       "      <th>main_rank</th>\n",
       "      <th>my_new_rank</th>\n",
       "    </tr>\n",
       "  </thead>\n",
       "  <tbody>\n",
       "    <tr>\n",
       "      <th>0</th>\n",
       "      <td>34224967</td>\n",
       "      <td>0.280797</td>\n",
       "      <td>0.797883</td>\n",
       "      <td>0.352331</td>\n",
       "      <td>0.477875</td>\n",
       "      <td>949</td>\n",
       "      <td>92.0</td>\n",
       "      <td>1.502</td>\n",
       "      <td>99863.0</td>\n",
       "      <td>48</td>\n",
       "      <td>...</td>\n",
       "      <td>2</td>\n",
       "      <td>2</td>\n",
       "      <td>1</td>\n",
       "      <td>5</td>\n",
       "      <td>5</td>\n",
       "      <td>2.00</td>\n",
       "      <td>3.2500</td>\n",
       "      <td>2.400000</td>\n",
       "      <td>1.800</td>\n",
       "      <td>1.800</td>\n",
       "    </tr>\n",
       "    <tr>\n",
       "      <th>1</th>\n",
       "      <td>34224968</td>\n",
       "      <td>0.259922</td>\n",
       "      <td>0.835943</td>\n",
       "      <td>0.476938</td>\n",
       "      <td>0.391633</td>\n",
       "      <td>1051</td>\n",
       "      <td>103.0</td>\n",
       "      <td>1.506</td>\n",
       "      <td>107552.0</td>\n",
       "      <td>64</td>\n",
       "      <td>...</td>\n",
       "      <td>4</td>\n",
       "      <td>5</td>\n",
       "      <td>1</td>\n",
       "      <td>4</td>\n",
       "      <td>3</td>\n",
       "      <td>3.33</td>\n",
       "      <td>2.8325</td>\n",
       "      <td>2.864667</td>\n",
       "      <td>2.182</td>\n",
       "      <td>2.182</td>\n",
       "    </tr>\n",
       "    <tr>\n",
       "      <th>2</th>\n",
       "      <td>34224971</td>\n",
       "      <td>0.330405</td>\n",
       "      <td>0.753688</td>\n",
       "      <td>0.166050</td>\n",
       "      <td>0.490057</td>\n",
       "      <td>1395</td>\n",
       "      <td>74.0</td>\n",
       "      <td>1.000</td>\n",
       "      <td>82150.0</td>\n",
       "      <td>45</td>\n",
       "      <td>...</td>\n",
       "      <td>1</td>\n",
       "      <td>1</td>\n",
       "      <td>2</td>\n",
       "      <td>3</td>\n",
       "      <td>4</td>\n",
       "      <td>2.00</td>\n",
       "      <td>2.7500</td>\n",
       "      <td>2.333333</td>\n",
       "      <td>2.150</td>\n",
       "      <td>2.150</td>\n",
       "    </tr>\n",
       "    <tr>\n",
       "      <th>3</th>\n",
       "      <td>34224972</td>\n",
       "      <td>0.306494</td>\n",
       "      <td>0.815658</td>\n",
       "      <td>0.420929</td>\n",
       "      <td>0.403925</td>\n",
       "      <td>1550</td>\n",
       "      <td>77.0</td>\n",
       "      <td>1.000</td>\n",
       "      <td>117902.0</td>\n",
       "      <td>51</td>\n",
       "      <td>...</td>\n",
       "      <td>3</td>\n",
       "      <td>4</td>\n",
       "      <td>2</td>\n",
       "      <td>2</td>\n",
       "      <td>2</td>\n",
       "      <td>3.33</td>\n",
       "      <td>2.3325</td>\n",
       "      <td>2.798000</td>\n",
       "      <td>2.532</td>\n",
       "      <td>2.532</td>\n",
       "    </tr>\n",
       "    <tr>\n",
       "      <th>4</th>\n",
       "      <td>34224973</td>\n",
       "      <td>0.310127</td>\n",
       "      <td>0.804282</td>\n",
       "      <td>0.381867</td>\n",
       "      <td>0.414965</td>\n",
       "      <td>1720</td>\n",
       "      <td>79.0</td>\n",
       "      <td>1.003</td>\n",
       "      <td>118541.0</td>\n",
       "      <td>56</td>\n",
       "      <td>...</td>\n",
       "      <td>2</td>\n",
       "      <td>3</td>\n",
       "      <td>1</td>\n",
       "      <td>1</td>\n",
       "      <td>1</td>\n",
       "      <td>2.67</td>\n",
       "      <td>1.4175</td>\n",
       "      <td>2.002000</td>\n",
       "      <td>1.668</td>\n",
       "      <td>1.668</td>\n",
       "    </tr>\n",
       "  </tbody>\n",
       "</table>\n",
       "<p>5 rows × 31 columns</p>\n",
       "</div>"
      ],
      "text/plain": [
       "    pool_id  accuracy_golden  accuracy_mv  alpha_krippendorff  uncertanity  \\\n",
       "0  34224967         0.280797     0.797883            0.352331     0.477875   \n",
       "1  34224968         0.259922     0.835943            0.476938     0.391633   \n",
       "2  34224971         0.330405     0.753688            0.166050     0.490057   \n",
       "3  34224972         0.306494     0.815658            0.420929     0.403925   \n",
       "4  34224973         0.310127     0.804282            0.381867     0.414965   \n",
       "\n",
       "   time_spent_seconds  unique_submitters_count  spent_budget  \\\n",
       "0                 949                     92.0         1.502   \n",
       "1                1051                    103.0         1.506   \n",
       "2                1395                     74.0         1.000   \n",
       "3                1550                     77.0         1.000   \n",
       "4                1720                     79.0         1.003   \n",
       "\n",
       "   avg_submit_assignment_millis  num_bans  ...  accuracy_mv_rank  \\\n",
       "0                       99863.0        48  ...                 2   \n",
       "1                      107552.0        64  ...                 4   \n",
       "2                       82150.0        45  ...                 1   \n",
       "3                      117902.0        51  ...                 3   \n",
       "4                      118541.0        56  ...                 2   \n",
       "\n",
       "  alpha_krippendorff_rank  spending_per_task_rank  tasks_per_second_rank  \\\n",
       "0                       2                       1                      5   \n",
       "1                       5                       1                      4   \n",
       "2                       1                       2                      3   \n",
       "3                       4                       2                      2   \n",
       "4                       3                       1                      1   \n",
       "\n",
       "  bans_ratio_rank avg_quality_rank avg_rank optimal_quality_rank main_rank  \\\n",
       "0               5             2.00   3.2500             2.400000     1.800   \n",
       "1               3             3.33   2.8325             2.864667     2.182   \n",
       "2               4             2.00   2.7500             2.333333     2.150   \n",
       "3               2             3.33   2.3325             2.798000     2.532   \n",
       "4               1             2.67   1.4175             2.002000     1.668   \n",
       "\n",
       "   my_new_rank  \n",
       "0        1.800  \n",
       "1        2.182  \n",
       "2        2.150  \n",
       "3        2.532  \n",
       "4        1.668  \n",
       "\n",
       "[5 rows x 31 columns]"
      ]
     },
     "execution_count": 38,
     "metadata": {},
     "output_type": "execute_result"
    }
   ],
   "source": [
    "aq.ranks"
   ]
  },
  {
   "cell_type": "code",
   "execution_count": 39,
   "id": "9291cc1d",
   "metadata": {
    "pycharm": {
     "name": "#%%\n"
    }
   },
   "outputs": [],
   "source": [
    "aq.archive_autoquality_pools()"
   ]
  }
 ],
 "metadata": {
  "kernelspec": {
   "display_name": "Python 3 (ipykernel)",
   "language": "python",
   "name": "python3"
  },
  "language_info": {
   "codemirror_mode": {
    "name": "ipython",
    "version": 3
   },
   "file_extension": ".py",
   "mimetype": "text/x-python",
   "name": "python",
   "nbconvert_exporter": "python",
   "pygments_lexer": "ipython3",
   "version": "3.10.4"
  }
 },
 "nbformat": 4,
 "nbformat_minor": 5
}