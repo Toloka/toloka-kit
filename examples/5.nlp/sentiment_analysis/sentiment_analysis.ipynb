{
 "cells": [
  {
   "cell_type": "markdown",
   "metadata": {},
   "source": [
    "# Sentiment Analysis\n",
    "\n",
    "We have a set of customer reviews, and we need to classify them as “Positive” or “Negative”. We ask performers to read a review and decide which category it belongs to."
   ]
  },
  {
   "cell_type": "markdown",
   "metadata": {},
   "source": [
    "### Call to action\n",
    "If you found some bugs or have a new feature idea, don't hesitate to [open a new issue on Github](https://github.com/Toloka/toloka-kit/issues/new/choose).\n",
    "Like our library and examples? Star [our repo on Github](https://github.com/Toloka/toloka-kit)"
   ]
  },
  {
   "cell_type": "markdown",
   "metadata": {},
   "source": [
    "Prepare environment and import all we'll need."
   ]
  },
  {
   "cell_type": "code",
   "execution_count": null,
   "metadata": {},
   "outputs": [],
   "source": [
    "%%capture\n",
    "!pip install toloka-kit==0.1.26\n",
    "!pip install crowd-kit==1.0.0\n",
    "!pip install ipyplot\n",
    "\n",
    "import datetime\n",
    "import sys\n",
    "import time\n",
    "import logging\n",
    "import getpass\n",
    "\n",
    "import numpy as np\n",
    "import pandas as pd\n",
    "pd.set_option('display.max_colwidth', None)\n",
    "\n",
    "import toloka.client as toloka\n",
    "import toloka.client.project.template_builder as tb\n",
    "from crowdkit.aggregation import DawidSkene"
   ]
  },
  {
   "cell_type": "code",
   "execution_count": null,
   "metadata": {},
   "outputs": [],
   "source": [
    "logging.basicConfig(\n",
    "    format='[%(levelname)s] %(name)s: %(message)s',\n",
    "    level=logging.INFO,\n",
    "    stream=sys.stdout,\n",
    ")"
   ]
  },
  {
   "cell_type": "markdown",
   "metadata": {},
   "source": [
    "Сreate toloka-client instance. All api calls will go through it. More about OAuth token in our [Learn the basics example](https://github.com/Toloka/toloka-kit/tree/main/examples/0.getting_started/0.learn_the_basics) [![Open In Colab](https://colab.research.google.com/assets/colab-badge.svg)](https://colab.research.google.com/github/Toloka/toloka-kit/blob/main/examples/0.getting_started/0.learn_the_basics/learn_the_basics.ipynb)"
   ]
  },
  {
   "cell_type": "code",
   "execution_count": null,
   "metadata": {},
   "outputs": [],
   "source": [
    "toloka_client = toloka.TolokaClient(getpass.getpass('Enter your OAuth token: '), 'PRODUCTION') # Or switch to 'SANDBOX'\n",
    "print(toloka_client.get_requester())"
   ]
  },
  {
   "cell_type": "markdown",
   "metadata": {},
   "source": [
    "## Project creation"
   ]
  },
  {
   "cell_type": "markdown",
   "metadata": {},
   "source": [
    "<b>Note</b>: The project name and description will be visible to the performers."
   ]
  },
  {
   "cell_type": "code",
   "execution_count": null,
   "metadata": {},
   "outputs": [],
   "source": [
    "project = toloka.Project(\n",
    "    public_name='Classify customer reviews as positive or negative',\n",
    "    public_description='Decide whether a review is positive or negative',\n",
    ")"
   ]
  },
  {
   "cell_type": "markdown",
   "metadata": {},
   "source": [
    "Create task interface. Read more about the Template Builder in the [Requester’s Guide](https://yandex.ru/support/toloka-tb/index.html?utm_source=github&utm_medium=site&utm_campaign=tolokakit)."
   ]
  },
  {
   "cell_type": "code",
   "execution_count": null,
   "metadata": {},
   "outputs": [],
   "source": [
    "review_view = tb.GroupViewV1(tb.TextViewV1(tb.InputData('review')))\n",
    "\n",
    "radio_group_field = tb.ButtonRadioGroupFieldV1(\n",
    "    tb.OutputData('sentiment'),\n",
    "    [\n",
    "        tb.GroupFieldOption('pos', 'Positive'),\n",
    "        tb.GroupFieldOption('neg', 'Negative'),\n",
    "    ],\n",
    "    label='Is this review positive or negative?',\n",
    "    validation=tb.RequiredConditionV1(),\n",
    ")\n",
    "\n",
    "task_width_plugin = tb.TolokaPluginV1(\n",
    "    layout=tb.TolokaPluginV1.TolokaPluginLayout(\n",
    "        kind='scroll',\n",
    "        task_width=650,\n",
    "    )\n",
    ")\n",
    "\n",
    "hot_keys_plugin = tb.HotkeysPluginV1(\n",
    "    key_1=tb.SetActionV1(tb.OutputData('sentiment'), 'pos'),\n",
    "    key_2=tb.SetActionV1(tb.OutputData('sentiment'), 'neg'),\n",
    ")\n",
    "\n",
    "project_interface = toloka.project.view_spec.TemplateBuilderViewSpec(\n",
    "    view=tb.ListViewV1([review_view, radio_group_field]),\n",
    "    plugins=[task_width_plugin, hot_keys_plugin],\n",
    ")"
   ]
  },
  {
   "cell_type": "markdown",
   "metadata": {},
   "source": [
    "<b>Note</b>: Specifications are a description of input data that will be used in a project and the output data that will be collected from the performers.\n",
    "\n",
    "Read more about input and output data specifications in the [Requester’s Guide](https://yandex.ru/support/toloka-tb/operations/create-specs.html?utm_source=github&utm_medium=site&utm_campaign=tolokakit)."
   ]
  },
  {
   "cell_type": "code",
   "execution_count": null,
   "metadata": {},
   "outputs": [],
   "source": [
    "input_specification = {'review': toloka.project.field_spec.StringSpec()}\n",
    "output_specification = {'sentiment': toloka.project.field_spec.StringSpec()}"
   ]
  },
  {
   "cell_type": "markdown",
   "metadata": {},
   "source": [
    "Set task interface and data specifications to project."
   ]
  },
  {
   "cell_type": "code",
   "execution_count": null,
   "metadata": {},
   "outputs": [],
   "source": [
    "project.task_spec = toloka.project.task_spec.TaskSpec(\n",
    "    input_spec=input_specification,\n",
    "    output_spec=output_specification,\n",
    "    view_spec=project_interface,\n",
    ")"
   ]
  },
  {
   "cell_type": "markdown",
   "metadata": {},
   "source": [
    "Write comprehensive instructions. Be sure to add examples for unobvious cases."
   ]
  },
  {
   "cell_type": "code",
   "execution_count": null,
   "metadata": {},
   "outputs": [],
   "source": [
    "project.public_instructions = \"\"\"<p>In the task you will have to read customer reviews and define whether they are positive or negative</p>\n",
    "<ul><li><b>Positive.</b> Choose this option if the review reflects a customer's first-hand <b>good</b> experience with the product recommending to purchase it. For your convenience, you can also use the short-cut by pressing \"1\"</li>\n",
    "<li><b>Negative.</b> Choose this option if the review reflects a customer's first-hand <b>poor</b> experience with the product recommending <b>not</b> to purchase it. For your convenience, you can also use the short-cut by pressing \"2\"</li>\n",
    "</ul>\"\"\""
   ]
  },
  {
   "cell_type": "markdown",
   "metadata": {},
   "source": [
    "Create a project."
   ]
  },
  {
   "cell_type": "code",
   "execution_count": null,
   "metadata": {},
   "outputs": [],
   "source": [
    "project = toloka_client.create_project(project)"
   ]
  },
  {
   "cell_type": "markdown",
   "metadata": {},
   "source": [
    "## Create the main pool\n",
    "\n",
    "A pool is a set of paid tasks grouped into task pages. These tasks are sent out for completion at the same time.\n",
    "\n",
    "<b>Note</b>: All tasks within a pool have the same settings (price, quality control, etc.)\n",
    "\n",
    "Specify the [pool parameters.](https://toloka.ai/en/docs/guide/concepts/pool_poolparams?utm_source=github&utm_medium=site&utm_campaign=tolokakit)\n",
    "\n",
    "Binary classification tasks are normally paid as basic tasks because these tasks do not take much time. Read more about [pricing principles](https://toloka.ai/knowledgebase/pricing?utm_source=github&utm_medium=site&utm_campaign=tolokakit) in our Knowledge Base.\n",
    "\n",
    "Choose `Languages.in_('EN')` as your first filter. This way, performers who speak English will be invited to complete this task.\n",
    "Then choose `BROWSER` and `TOLOKA_APP` `ClientType` filters. These filters will make it possible for performers to complete your task on their computers or mobile devices."
   ]
  },
  {
   "cell_type": "code",
   "execution_count": null,
   "metadata": {},
   "outputs": [],
   "source": [
    "pool = toloka.Pool(\n",
    "    project_id=project.id,\n",
    "    # Give the pool any name you find suitable. You are the only one who will see it.\n",
    "    private_name='Classify customer reviews as positive or negative',\n",
    "    may_contain_adult_content=False,\n",
    "    # Set the price per task suite.\n",
    "    reward_per_assignment=0.01,\n",
    "    will_expire=datetime.datetime.utcnow() + datetime.timedelta(days=365),\n",
    "    # Overlap. This is the number of users who will complete the same task.\n",
    "    # Set an overlap of 3 to get a more confident final label.\n",
    "    defaults=toloka.Pool.Defaults(default_overlap_for_new_task_suites=3),\n",
    "    # Specify the time given to complete a task suite (for example, 1200 seconds). To understand how much time it should take to\n",
    "    # complete a task suite, try doing it yourself.\n",
    "    assignment_max_duration_seconds=1200,\n",
    "    # Filter performers who can access the task.\n",
    "    filter=(toloka.filter.Languages.in_('EN')) & \\\n",
    "           (\n",
    "                (toloka.filter.ClientType == 'TOLOKA_APP') |\n",
    "                (toloka.filter.ClientType == 'BROWSER')\n",
    "           )\n",
    ")\n"
   ]
  },
  {
   "cell_type": "markdown",
   "metadata": {},
   "source": [
    "Create a skill that will be used as a filter. A skill is a performer’s attribute which can be described by a number from 0 to 100 Skills usually reflect performer’s quality or can be set manually as a custom characteristic. Read more about skills [in the Requester’s Guide.](https://toloka.ai/en/docs/guide/concepts/nav?utm_source=github&utm_medium=site&utm_campaign=tolokakit)"
   ]
  },
  {
   "cell_type": "code",
   "execution_count": null,
   "metadata": {},
   "outputs": [],
   "source": [
    "sentiment_analysis_skill = next(toloka_client.get_skills(name='sentiment-analysis'), None)\n",
    "if sentiment_analysis_skill:\n",
    "    print('Sentiment analysis skill already exists')\n",
    "else:\n",
    "    sentiment_analysis_skill = toloka_client.create_skill(\n",
    "        name='sentiment-analysis',\n",
    "        # Choose whether the skill will be public. If your project will run for along time, public skills that reflect quality are\n",
    "        # a good idea because they allow performers to track their own progress.\n",
    "        hidden=True,\n",
    "    )"
   ]
  },
  {
   "cell_type": "markdown",
   "metadata": {},
   "source": [
    "Add a filter based on the skill you have just created. It will only allow access only to those performers who are either are new to the task (and have no quality attribute yet) or have decent quality calculated on the basis of golden-sets. See [Set up quality control](set-up-quality-control.) section. for details on how to set up quality calculation.\n",
    "\n",
    "You will be able to use the same skill as a filter in other pools, keeping a project-based quality history for your performers."
   ]
  },
  {
   "cell_type": "code",
   "execution_count": null,
   "metadata": {
    "pycharm": {
     "name": "#%%\n"
    }
   },
   "outputs": [],
   "source": [
    "skill_filter = (toloka.filter.Skill(sentiment_analysis_skill.id) == None) | \\\n",
    "               (toloka.filter.Skill(sentiment_analysis_skill.id) >= 90)"
   ]
  },
  {
   "cell_type": "markdown",
   "metadata": {},
   "source": [
    "Add filter to pool."
   ]
  },
  {
   "cell_type": "code",
   "execution_count": null,
   "metadata": {
    "pycharm": {
     "name": "#%%\n"
    }
   },
   "outputs": [],
   "source": [
    "pool.set_filter(pool.filter & skill_filter)"
   ]
  },
  {
   "cell_type": "markdown",
   "metadata": {},
   "source": [
    "## Set up Quality control."
   ]
  },
  {
   "cell_type": "markdown",
   "metadata": {},
   "source": [
    "Ban performers who give incorrect responses to control tasks.\n",
    "\n",
    "Since tasks such as these have an answer that can be used as a ground truth, we can use standard quality control rules such as golden sets.\n",
    "\n",
    "Read more about [quality control principles](https://toloka.ai/knowledgebase/quality-control?utm_source=github&utm_medium=site&utm_campaign=tolokakit) in our Knowledge Base or [check out control tasks settings](https://toloka.ai/en/docs/guide/concepts/goldenset?utm_source=github&utm_medium=site&utm_campaign=tolokakit) in the Requester’s Guide."
   ]
  },
  {
   "cell_type": "markdown",
   "metadata": {},
   "source": [
    "Set up a rule for Captcha. It will be shown at low frequency and those performers who are not accurate will be suspended in the pool for a day.\n",
    "\n",
    "Captcha is a good tool to check performers’ attention. Read more about different Quality Control rules in [Toloka Knowledge Base.](https://toloka.ai/knowledgebase/quality-control?utm_source=github&utm_medium=site&utm_campaign=tolokakit)\n"
   ]
  },
  {
   "cell_type": "code",
   "execution_count": null,
   "metadata": {},
   "outputs": [],
   "source": [
    "# Turns on captchas\n",
    "pool.set_captcha_frequency('MEDIUM')\n",
    "\n",
    "pool.quality_control.add_action(\n",
    "    collector=toloka.collectors.Captcha(history_size=10),\n",
    "    conditions=[\n",
    "        toloka.conditions.StoredResultsCount >= 4,\n",
    "        toloka.conditions.SuccessRate < 75,\n",
    "    ],\n",
    "    action=toloka.actions.RestrictionV2(\n",
    "        scope='PROJECT',\n",
    "        duration=1,\n",
    "        duration_unit='DAYS',\n",
    "        private_comment='captcha'\n",
    "    )\n",
    ")"
   ]
  },
  {
   "cell_type": "markdown",
   "metadata": {},
   "source": [
    "Set up the [Fast responses rule](https://toloka.ai/en/docs/guide/concepts/quick-answers?utm_source=github&utm_medium=site&utm_campaign=tolokakit). It allows to ban performers who submit tasks at a suspicious speed."
   ]
  },
  {
   "cell_type": "code",
   "execution_count": null,
   "metadata": {},
   "outputs": [],
   "source": [
    "pool.quality_control.add_action(\n",
    "    collector=toloka.collectors.AssignmentSubmitTime(fast_submit_threshold_seconds=20),\n",
    "    conditions=[\n",
    "        toloka.conditions.TotalSubmittedCount > 4,\n",
    "        toloka.conditions.FastSubmittedCount > 2,\n",
    "    ],\n",
    "    action=toloka.actions.RestrictionV2(\n",
    "        scope='PROJECT',\n",
    "        duration=1,\n",
    "        duration_unit='DAYS',\n",
    "        private_comment='fast responses'\n",
    "    )\n",
    ")"
   ]
  },
  {
   "cell_type": "markdown",
   "metadata": {},
   "source": [
    "Set up individual quality calculation based on control tasks. Each performer’s results will be recorded in the skill you have created earlier.\n",
    "\n",
    "Read more about configurating this rule in our [Requester’s Guide](https://toloka.ai/en/docs/guide/concepts/goldenset?utm_source=github&utm_medium=site&utm_campaign=tolokakit)."
   ]
  },
  {
   "cell_type": "code",
   "execution_count": null,
   "metadata": {},
   "outputs": [],
   "source": [
    "pool.quality_control.add_action(\n",
    "    collector=toloka.collectors.GoldenSet(history_size=10),\n",
    "    conditions=[\n",
    "        toloka.conditions.TotalAnswersCount > 4,\n",
    "    ],\n",
    "    action=toloka.actions.SetSkillFromOutputField(\n",
    "        skill_id=sentiment_analysis_skill.id,\n",
    "        from_field='correct_answers_rate'\n",
    "    )\n",
    ")"
   ]
  },
  {
   "cell_type": "markdown",
   "metadata": {},
   "source": [
    "Set up the [Submitted responses](https://toloka.ai/en/docs/guide/concepts/submitted-answers?utm_source=github&utm_medium=site&utm_campaign=tolokakit) rule. This is used to get more variety in answers so that the answers won’t be biased toward only a few productive performers."
   ]
  },
  {
   "cell_type": "code",
   "execution_count": null,
   "metadata": {},
   "outputs": [],
   "source": [
    "pool.quality_control.add_action(\n",
    "    collector=toloka.collectors.AnswerCount(),\n",
    "    conditions=[\n",
    "        toloka.conditions.AssignmentsAcceptedCount >= 30,\n",
    "    ],\n",
    "    action=toloka.actions.RestrictionV2(\n",
    "        scope='PROJECT',\n",
    "        duration=1,\n",
    "        duration_unit='DAYS',\n",
    "        private_comment='too many responses'\n",
    "    )\n",
    ")"
   ]
  },
  {
   "cell_type": "markdown",
   "metadata": {},
   "source": [
    "Set Smart mixing option in pool settings and specify the number of tasks of each type per page. We recommend to put as much tasks in one page as a performer can complete in 1 to 5 minutes. This volume does not let performers get tired and protects them from significant data losses in case of a technical issue. To learn more how to group tasks in suites, read the Requester’s Guide."
   ]
  },
  {
   "cell_type": "code",
   "execution_count": null,
   "metadata": {},
   "outputs": [],
   "source": [
    "pool.set_mixer_config(real_tasks_count=9, golden_tasks_count=1, training_tasks_count=0)"
   ]
  },
  {
   "cell_type": "markdown",
   "metadata": {},
   "source": [
    "Create pool."
   ]
  },
  {
   "cell_type": "code",
   "execution_count": null,
   "metadata": {},
   "outputs": [],
   "source": [
    "pool = toloka_client.create_pool(pool)"
   ]
  },
  {
   "cell_type": "markdown",
   "metadata": {},
   "source": [
    "## Prepare and upload tasks"
   ]
  },
  {
   "cell_type": "markdown",
   "metadata": {},
   "source": [
    "We will use [Grammar and Online Product Reviews](https://data.world/datafiniti/grammar-and-online-product-reviews) dataset under Creative Commons Attribution-NonCommercial-ShareAlike 4.0 International license\n",
    "\n",
    "\n",
    "[![CC BY-NC-SA 4.0](https://img.shields.io/badge/License-CC%20BY--NC--SA%204.0-lightgrey.svg)](https://creativecommons.org/licenses/by-nc-sa/4.0/)."
   ]
  },
  {
   "cell_type": "code",
   "execution_count": null,
   "metadata": {},
   "outputs": [],
   "source": [
    "!curl https://tlk.s3.yandex.net/ext_dataset/datafiniti_grammar_and_online_product_reviews.csv --output dataset.csv\n",
    "\n",
    "dataset = pd.read_csv('dataset.csv')\n",
    "dataset = dataset.sample(frac=1)[['reviews.text', 'reviews.doRecommend']].dropna().reset_index(drop=True)\n",
    "dataset = dataset.replace({'reviews.doRecommend': {True: 'pos', False: 'neg'}})\n",
    "\n",
    "print(f'\\nDataset contains {len(dataset)} rows')\n",
    "\n",
    "dataset.sample(5)"
   ]
  },
  {
   "cell_type": "markdown",
   "metadata": {},
   "source": [
    "Control tasks are tasks that already contain the correct response. They are used for checking the quality of responses from performers. The performer's response is compared to the response you provided. If they match, it means the performer answered correctly.\n",
    "\n",
    "<b>Tip.</b> Make sure to include different variations of correct responses in equal amounts."
   ]
  },
  {
   "cell_type": "code",
   "execution_count": null,
   "metadata": {
    "pycharm": {
     "name": "#%%\n"
    }
   },
   "outputs": [],
   "source": [
    "task_dataset_size = 200\n",
    "golden_dataset_size = int(task_dataset_size * 0.1)\n",
    "\n",
    "# We will balance classes both in golden and task datasets\n",
    "\n",
    "positive_tasks = dataset[dataset['reviews.doRecommend'] == 'pos']\n",
    "negative_tasks = dataset[dataset['reviews.doRecommend'] == 'neg']\n",
    "\n",
    "pos_task_dataset, pos_golden_dataset, _ = np.split(\n",
    "    positive_tasks,\n",
    "    [task_dataset_size // 2, task_dataset_size // 2 + golden_dataset_size // 2]\n",
    ")\n",
    "neg_task_dataset, neg_golden_dataset, _ = np.split(\n",
    "    negative_tasks,\n",
    "    [task_dataset_size // 2, task_dataset_size // 2 + golden_dataset_size // 2]\n",
    ")\n",
    "\n",
    "task_dataset = pd.concat([pos_task_dataset, neg_task_dataset]).sample(frac=1)\n",
    "golden_dataset = pd.concat([pos_golden_dataset, neg_golden_dataset]).sample(frac=1)\n",
    "\n",
    "golden_tasks = [\n",
    "    toloka.Task(\n",
    "        pool_id=pool.id,\n",
    "        input_values={'review': row['reviews.text']},\n",
    "        known_solutions = [\n",
    "            toloka.task.BaseTask.KnownSolution(\n",
    "                output_values={'sentiment': row['reviews.doRecommend']}\n",
    "            )\n",
    "        ],\n",
    "        infinite_overlap=True,\n",
    "    )\n",
    "    for _, row in golden_dataset.iterrows()\n",
    "]\n",
    "\n",
    "tasks = [\n",
    "    toloka.Task(\n",
    "        pool_id=pool.id,\n",
    "        input_values={'review': review},\n",
    "    )\n",
    "    for review in task_dataset['reviews.text']\n",
    "]"
   ]
  },
  {
   "cell_type": "markdown",
   "metadata": {},
   "source": [
    "Upload tasks"
   ]
  },
  {
   "cell_type": "code",
   "execution_count": null,
   "metadata": {},
   "outputs": [],
   "source": [
    "created_tasks = toloka_client.create_tasks(golden_tasks + tasks, allow_defaults=True)\n",
    "print(len(created_tasks.items))"
   ]
  },
  {
   "cell_type": "markdown",
   "metadata": {},
   "source": [
    "You can go to the pool preview page and in web-interface you can see something like this:\n",
    "<table  align=\"center\">\n",
    "  <tr><td>\n",
    "    <img src=\"./img/pool_preview.png\"\n",
    "         alt=\"Pool interface\"  width=\"1000\">\n",
    "  </td></tr>\n",
    "  <tr><td align=\"center\">\n",
    "    <b>Figure 1.</b> What the pool interface might look like.\n",
    "  </td></tr>\n",
    "</table>"
   ]
  },
  {
   "cell_type": "markdown",
   "metadata": {},
   "source": [
    "Start the pool.\n",
    "\n",
    "<b>Note</b>: Remember that the tasks will be completed by actual Tolokers. Double check that everything is correct with your project configuration."
   ]
  },
  {
   "cell_type": "code",
   "execution_count": null,
   "metadata": {},
   "outputs": [],
   "source": [
    "pool = toloka_client.open_pool(pool.id)\n",
    "print(pool.status)"
   ]
  },
  {
   "cell_type": "markdown",
   "metadata": {},
   "source": [
    "## Receiving responses"
   ]
  },
  {
   "cell_type": "markdown",
   "metadata": {},
   "source": [
    "Wait until the pool is completed."
   ]
  },
  {
   "cell_type": "code",
   "execution_count": null,
   "metadata": {},
   "outputs": [],
   "source": [
    "pool_id = pool.id\n",
    "\n",
    "def wait_pool_for_close(pool_id, minutes_to_wait=1):\n",
    "    sleep_time = 60 * minutes_to_wait\n",
    "    pool = toloka_client.get_pool(pool_id)\n",
    "    while not pool.is_closed():\n",
    "        op = toloka_client.get_analytics([toloka.analytics_request.CompletionPercentagePoolAnalytics(subject_id=pool.id)])\n",
    "        op = toloka_client.wait_operation(op)\n",
    "        percentage = op.details['value'][0]['result']['value']\n",
    "        print(\n",
    "            f'   {datetime.datetime.now().strftime(\"%H:%M:%S\")}\\t'\n",
    "            f'Pool {pool.id} - {percentage}%'\n",
    "        )\n",
    "        time.sleep(sleep_time)\n",
    "        pool = toloka_client.get_pool(pool.id)\n",
    "    print('Pool was closed.')\n",
    "\n",
    "wait_pool_for_close(pool_id)"
   ]
  },
  {
   "cell_type": "markdown",
   "metadata": {},
   "source": [
    "Get responses."
   ]
  },
  {
   "cell_type": "code",
   "execution_count": null,
   "metadata": {},
   "outputs": [],
   "source": [
    "answers_df = toloka_client.get_assignments_df(pool_id)\n",
    "\n",
    "# Drop golden tasks\n",
    "answers_df = answers_df[answers_df['GOLDEN:sentiment'].isna()]\n",
    "\n",
    "# Prepare DataFrame for aggregation\n",
    "answers_df = answers_df.rename(columns={\n",
    "    'INPUT:review': 'task',\n",
    "    'OUTPUT:sentiment': 'label',\n",
    "    'ASSIGNMENT:worker_id': 'worker'\n",
    "})\n",
    "\n",
    "print(f'answers count: {len(answers_df)}')"
   ]
  },
  {
   "cell_type": "markdown",
   "metadata": {},
   "source": [
    "Run aggregation using the [Dawid-Skene](https://toloka.ai/en/docs/guide/concepts/result-aggregation?utm_source=github&utm_medium=site&utm_campaign=tolokakit#aggr__dawid-skene) model.\n",
    "\n",
    "We use this aggregation model because our questions are of the same difficulty, and we don't have many control tasks.\n",
    "\n",
    "Read more about the Dawid-Skene model in the Requester’s Guide or get at an overview of different aggregation models in our Knowledge Base.\n"
   ]
  },
  {
   "cell_type": "code",
   "execution_count": null,
   "metadata": {
    "pycharm": {
     "name": "#%%\n"
    }
   },
   "outputs": [],
   "source": [
    "# Run aggregation\n",
    "predicted_answers = DawidSkene(n_iter=20).fit_predict(answers_df)"
   ]
  },
  {
   "cell_type": "markdown",
   "metadata": {},
   "source": [
    "Look at the results."
   ]
  },
  {
   "cell_type": "code",
   "execution_count": null,
   "metadata": {
    "pycharm": {
     "name": "#%%\n"
    }
   },
   "outputs": [],
   "source": [
    "pd.DataFrame({'review': predicted_answers.index, 'sentiment': predicted_answers.values}).sample(10)"
   ]
  }
 ],
 "metadata": {
  "interpreter": {
   "hash": "aee8b7b246df8f9039afb4144a1f6fd8d2ca17a180786b69acc140d282b71a49"
  },
  "kernelspec": {
   "display_name": "Python 3 (ipykernel)",
   "language": "python",
   "name": "python3"
  },
  "language_info": {
   "codemirror_mode": {
    "name": "ipython",
    "version": 3
   },
   "file_extension": ".py",
   "mimetype": "text/x-python",
   "name": "python",
   "nbconvert_exporter": "python",
   "pygments_lexer": "ipython3",
   "version": "3.9.12"
  }
 },
 "nbformat": 4,
 "nbformat_minor": 2
}
