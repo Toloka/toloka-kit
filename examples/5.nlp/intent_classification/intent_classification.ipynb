{
 "cells": [
  {
   "cell_type": "markdown",
   "id": "7f3883f2",
   "metadata": {},
   "source": [
    "# Intent classification\n",
    "We need to define which class the search query belongs to and distribute the queries between several categories inside the class. There’s a list of queries (related to travel and dining), each with an unknown class and category. Performers are asked to first select the search query’s class and then define the category it belongs to within this class."
   ]
  },
  {
   "cell_type": "markdown",
   "id": "b532e85d",
   "metadata": {},
   "source": [
    "### Call to action\n",
    "If you found some bugs or have a new feature idea, don't hesitate to [open a new issue on Github](https://github.com/Toloka/toloka-kit/issues/new/choose).\n",
    "Like our library and examples? Star [our repo on Github](https://github.com/Toloka/toloka-kit)"
   ]
  },
  {
   "cell_type": "markdown",
   "id": "cc2b827d",
   "metadata": {},
   "source": [
    "Prepare environment and import all we'll need."
   ]
  },
  {
   "cell_type": "code",
   "execution_count": null,
   "id": "fafeb22f",
   "metadata": {},
   "outputs": [],
   "source": [
    "%%capture\n",
    "!pip install toloka-kit==0.1.26\n",
    "!pip install crowd-kit==1.0.0\n",
    "\n",
    "import datetime\n",
    "import json\n",
    "import logging\n",
    "import sys\n",
    "import time\n",
    "import pandas as pd\n",
    "\n",
    "import toloka.client as toloka\n",
    "import toloka.client.project.template_builder as tb\n",
    "from crowdkit.aggregation import DawidSkene"
   ]
  },
  {
   "cell_type": "code",
   "execution_count": null,
   "id": "0a1535a5",
   "metadata": {},
   "outputs": [],
   "source": [
    "logging.basicConfig(\n",
    "    format='[%(levelname)s] %(name)s: %(message)s',\n",
    "    level=logging.INFO,\n",
    "    stream=sys.stdout,\n",
    ")"
   ]
  },
  {
   "cell_type": "markdown",
   "id": "dd9fea34",
   "metadata": {},
   "source": [
    "Сreate toloka-client instance. All api calls will go through it. More about OAuth token in our [Learn the basics example](https://github.com/Toloka/toloka-kit/tree/main/examples/0.getting_started/0.learn_the_basics) [![Open In Colab](https://colab.research.google.com/assets/colab-badge.svg)](https://colab.research.google.com/github/Toloka/toloka-kit/blob/main/examples/0.getting_started/0.learn_the_basics/learn_the_basics.ipynb)"
   ]
  },
  {
   "cell_type": "code",
   "execution_count": null,
   "id": "16556f37",
   "metadata": {},
   "outputs": [],
   "source": [
    "toloka_client = toloka.TolokaClient(getpass.getpass('Enter your OAuth token: '), 'PRODUCTION') # Or switch to 'SANDBOX'\n",
    "print(toloka_client.get_requester())"
   ]
  },
  {
   "cell_type": "markdown",
   "id": "61eb3f8d",
   "metadata": {},
   "source": [
    "## Creating new project"
   ]
  },
  {
   "cell_type": "markdown",
   "id": "c8ff6256",
   "metadata": {},
   "source": [
    "Use a clear project name and description"
   ]
  },
  {
   "cell_type": "code",
   "execution_count": null,
   "id": "235dedee",
   "metadata": {},
   "outputs": [],
   "source": [
    "project = toloka.Project(\n",
    "    public_name='Intent classification',\n",
    "    public_description='Choose the right category and intent for a given text.',\n",
    ")"
   ]
  },
  {
   "cell_type": "markdown",
   "id": "1a64fa69",
   "metadata": {},
   "source": [
    "Use the Template builder to set the project interface ([more on the Template builder](https://yandex.ru/support/toloka-tb/index.html?utm_source=github&utm_medium=site&utm_campaign=tolokakit))"
   ]
  },
  {
   "cell_type": "code",
   "execution_count": null,
   "id": "420eeabe",
   "metadata": {},
   "outputs": [],
   "source": [
    "query_view = tb.AlertViewV1(\n",
    "    tb.TextViewV1(tb.data.InputData('query')),\n",
    "    label='QUERY',\n",
    "    theme='info'\n",
    ")\n",
    "\n",
    "domain_choice_field = tb.ButtonRadioGroupFieldV1(\n",
    "    tb.OutputData('domain'),\n",
    "    [\n",
    "        tb.GroupFieldOption('kitchen', 'Kitchen'),\n",
    "        tb.GroupFieldOption('travel', 'Travel')\n",
    "    ],\n",
    "    label='Please select query category:',\n",
    "    validation=tb.RequiredConditionV1()\n",
    ")\n",
    "\n",
    "helper_kitchen = tb.IfHelperV1(\n",
    "    tb.EqualsConditionV1(\n",
    "        'kitchen',\n",
    "        tb.OutputData('domain')\n",
    "    ),\n",
    "    tb.RadioGroupFieldV1(\n",
    "        tb.OutputData('intent'),\n",
    "        [\n",
    "            tb.GroupFieldOption(\n",
    "                'restaurant_reviews',\n",
    "                'Restaurant review',\n",
    "                hint='Anything related to whether a restaurant is worth the visit'\n",
    "            ),\n",
    "            tb.GroupFieldOption(\n",
    "                'restaurant_reservation',\n",
    "                'Restaurant reservation',\n",
    "                hint='Intention to reserve a table in the restaurant'\n",
    "            ),\n",
    "            tb.GroupFieldOption(\n",
    "                'nutrition_info',\n",
    "                'Nutritional information',\n",
    "                hint='Intention to know information about how healthy food or amount of calories'\n",
    "            ),\n",
    "            tb.GroupFieldOption(\n",
    "                'recipe',\n",
    "                'Recipe',\n",
    "                hint='Anything related to how to prepare food or food substitution'\n",
    "            ),\n",
    "        ],\n",
    "        label='What is the intent of the query?',\n",
    "        validation=tb.RequiredConditionV1(hint='please select the relevant intent')\n",
    "    )\n",
    ")\n",
    "\n",
    "helper_travel = tb.IfHelperV1(\n",
    "    tb.EqualsConditionV1(\n",
    "        'travel',\n",
    "        tb.OutputData('domain')\n",
    "    ),\n",
    "    tb.RadioGroupFieldV1(\n",
    "        tb.OutputData('intent'),\n",
    "        [\n",
    "            tb.GroupFieldOption(\n",
    "                'book_hotel',\n",
    "                'Book a hotel',\n",
    "                hint='Anything related to reservation a flight or hotel'\n",
    "            ),\n",
    "            tb.GroupFieldOption(\n",
    "                'timezone',\n",
    "                'Timezone',\n",
    "                hint='Intention to get information about timezone'\n",
    "            ),\n",
    "            tb.GroupFieldOption(\n",
    "                'travel_suggestion',\n",
    "                'Travel suggestion',\n",
    "                hint='Query related to recommendation on a travel'\n",
    "            ),\n",
    "            tb.GroupFieldOption(\n",
    "                'exchange_rate',\n",
    "                'Exchange rate',\n",
    "                hint='Intention to know price to buy such currency'\n",
    "            ),\n",
    "            tb.GroupFieldOption(\n",
    "                'vaccines',\n",
    "                'Vaccine',\n",
    "                hint='Query which contains information about vaccines in certain region'\n",
    "            ),\n",
    "        ],\n",
    "        label='What is the intent of the query?',\n",
    "        validation=tb.RequiredConditionV1(hint='please select the relevant intent')\n",
    "    )\n",
    ")\n",
    "\n",
    "task_width_plugin = tb.TolokaPluginV1('scroll', task_width=300)\n",
    "\n",
    "project_interface = toloka.project.TemplateBuilderViewSpec(\n",
    "    view=tb.ListViewV1([query_view, domain_choice_field, helper_kitchen, helper_travel]),\n",
    "    plugins=[task_width_plugin]\n",
    ")"
   ]
  },
  {
   "cell_type": "markdown",
   "id": "2d4081df",
   "metadata": {},
   "source": [
    "Set data specification. And set task interface to project."
   ]
  },
  {
   "cell_type": "code",
   "execution_count": null,
   "id": "3547e88e",
   "metadata": {},
   "outputs": [],
   "source": [
    "input_specification = {'query': toloka.project.StringSpec()}\n",
    "output_specification = {\n",
    "    'domain': toloka.project.StringSpec(),\n",
    "    'intent': toloka.project.StringSpec(),\n",
    "}\n",
    "\n",
    "project.task_spec = toloka.project.task_spec.TaskSpec(\n",
    "    input_spec=input_specification,\n",
    "    output_spec=output_specification,\n",
    "    view_spec=project_interface,\n",
    ")"
   ]
  },
  {
   "cell_type": "code",
   "execution_count": null,
   "id": "72ab448f",
   "metadata": {},
   "outputs": [],
   "source": [
    "project.public_instructions = open('./public_instructions/public_instruction.html').read().strip()"
   ]
  },
  {
   "cell_type": "markdown",
   "id": "f73cc73e",
   "metadata": {},
   "source": [
    "Create a project."
   ]
  },
  {
   "cell_type": "code",
   "execution_count": null,
   "id": "eb1e1e19",
   "metadata": {
    "scrolled": true
   },
   "outputs": [],
   "source": [
    "project = toloka_client.create_project(project)"
   ]
  },
  {
   "cell_type": "markdown",
   "id": "1fd99482",
   "metadata": {},
   "source": [
    "You can go to the project page and check that the interface looks how it's supposed to."
   ]
  },
  {
   "cell_type": "markdown",
   "id": "driving-frame",
   "metadata": {},
   "source": [
    "## Training pool\n",
    "We want to create training to help performers make the tasks better. We will add several training tasks and\n",
    "require to complete all of them before performing the real tasks."
   ]
  },
  {
   "cell_type": "markdown",
   "id": "688e691a",
   "metadata": {},
   "source": [
    "Training is an essential part of\n",
    "almost every crowdsourcing\n",
    "project. It allows you to select\n",
    "performers who have really\n",
    "mastered the task, and thus\n",
    "improve quality. Training is also a\n",
    "great tool for scaling your task\n",
    "because you can run it any time\n",
    "you need new performers ([more on training](https://toloka.ai/en/docs/guide/concepts/train?utm_source=github&utm_medium=site&utm_campaign=tolokakit))"
   ]
  },
  {
   "cell_type": "code",
   "execution_count": null,
   "id": "dc869fcf",
   "metadata": {},
   "outputs": [],
   "source": [
    "training_pool = toloka.Training(\n",
    "    project_id=project.id,\n",
    "    private_name='Intent Classification training',\n",
    "    may_contain_adult_content=False,\n",
    "    assignment_max_duration_seconds=7200,\n",
    "    mix_tasks_in_creation_order=True,\n",
    "    shuffle_tasks_in_task_suite=True,\n",
    "    training_tasks_in_task_suite_count=12,\n",
    "    retry_training_after_days=10\n",
    ")\n",
    "\n",
    "training_pool = toloka_client.create_training(training_pool)"
   ]
  },
  {
   "cell_type": "markdown",
   "id": "7755d452",
   "metadata": {},
   "source": [
    "## Main pool"
   ]
  },
  {
   "cell_type": "markdown",
   "id": "def0e427",
   "metadata": {},
   "source": [
    "A pool is a set of paid tasks grouped into task pages. These tasks are sent out for completion at the same time.\n",
    "\n",
    "*Note: All tasks within a pool have the same settings (price, quality control, etc.)*"
   ]
  },
  {
   "cell_type": "markdown",
   "id": "3cb0f251",
   "metadata": {},
   "source": [
    "Specify the [pool parameters.](https://toloka.ai/en/docs/guide/concepts/pool_poolparams?utm_source=github&utm_medium=site&utm_campaign=tolokakit):"
   ]
  },
  {
   "cell_type": "markdown",
   "id": "84d8aa8d",
   "metadata": {},
   "source": [
    "Set the price per task suite (for example, $0.01).\n",
    "\n",
    "*Classification tasks are normally paid as basic tasks because these tasks do not take much time. Read more about [pricing principles](https://toloka.ai/knowledgebase/pricing?utm_source=github&utm_medium=site&utm_campaign=tolokakit) in our Knowledge Base.*"
   ]
  },
  {
   "cell_type": "markdown",
   "id": "719d620c",
   "metadata": {},
   "source": [
    "[Filter](https://toloka.ai/en/docs/guide/concepts/filters?utm_source=github&utm_medium=site&utm_campaign=tolokakit) performers who can access the task. Set `may_contain_adult_content` to `False`.\n",
    "\n",
    "Add filter to choose the Languages and Client options. Set English language as your first filter. This way, performers who speak English will be invited to complete this task. Then specify Toloka web version. These filter will make it possible for performers to complete your task on their computers.\n",
    "\n"
   ]
  },
  {
   "cell_type": "markdown",
   "id": "d9087f5f",
   "metadata": {},
   "source": [
    "Overlap is the number of users who will complete the same task.  Set an overlap of 3 to get a more confident final label. To understand [how this rule works](https://toloka.ai/en/docs/guide/concepts/mvote?utm_source=github&utm_medium=site&utm_campaign=tolokakit), go to the Requester’s Guide.\n"
   ]
  },
  {
   "cell_type": "markdown",
   "id": "1e4db0b6",
   "metadata": {},
   "source": [
    "Specify the time given to complete a task suite (for example, 600 seconds).\n",
    "\n",
    "To understand how much time it should take to complete a task suite, try doing it yourself."
   ]
  },
  {
   "cell_type": "code",
   "execution_count": null,
   "id": "803f1099",
   "metadata": {},
   "outputs": [],
   "source": [
    "classification_pool = toloka.Pool(\n",
    "    project_id=project.id,\n",
    "    # Give the pool any convenient name. You are the only one who will see it.\n",
    "    private_name='Pool for intent classification',\n",
    "    may_contain_adult_content=False,\n",
    "    will_expire=datetime.datetime.utcnow() + datetime.timedelta(days=365),\n",
    "    reward_per_assignment=0.01,\n",
    "    auto_accept_solutions=True,\n",
    "    # time to complete a task suite\n",
    "    assignment_max_duration_seconds=600,\n",
    "    # overlap\n",
    "    defaults=toloka.Pool.Defaults(\n",
    "        default_overlap_for_new_task_suites=3\n",
    "    ),\n",
    "    # Select English-speaking performers with a web/mobile client\n",
    "    filter=(\n",
    "        (toloka.filter.Languages.in_('EN')) &\n",
    "        (toloka.filter.ClientType == 'BROWSER')\n",
    "    )\n",
    ")"
   ]
  },
  {
   "cell_type": "markdown",
   "id": "814e2e5f",
   "metadata": {},
   "source": [
    "Use [Smart mixing](https://toloka.ai/en/docs/guide/concepts/task_upload?utm_source=github&utm_medium=site&utm_campaign=tolokakit) and specify the number of tasks of each type per page.\n",
    "\n",
    "We recommend putting as many tasks on one page as a performer can complete in 1 to 5 minutes. That way, performers are less likely to get tired, and they won’t lose a significant amount of data if a technical issue occurs.\n",
    "\n",
    "To learn more about [grouping tasks](https://toloka.ai/en/docs/guide/concepts/distribute-tasks-by-pages?utm_source=github&utm_medium=site&utm_campaign=tolokakit) into suites, read the Requester’s Guide."
   ]
  },
  {
   "cell_type": "code",
   "execution_count": null,
   "id": "fe1fb281",
   "metadata": {},
   "outputs": [],
   "source": [
    "# 4 tasks per page\n",
    "classification_pool.set_mixer_config(real_tasks_count=3, golden_tasks_count=1)"
   ]
  },
  {
   "cell_type": "markdown",
   "id": "b12eca7d",
   "metadata": {},
   "source": [
    "Attach the training you created earlier and select the accuracy level that is required to reach the main pool.\n",
    "\n",
    "*Note: This means that Tolokers who get less than 85% accuracy will not see this pool.*"
   ]
  },
  {
   "cell_type": "code",
   "execution_count": null,
   "id": "ef8bec1b",
   "metadata": {},
   "outputs": [],
   "source": [
    "classification_pool.set_training_requirement(training_pool_id=training_pool.id, training_passing_skill_value=85)"
   ]
  },
  {
   "cell_type": "markdown",
   "id": "17a7daf8",
   "metadata": {},
   "source": [
    "Set up [Quality control](https://toloka.ai/en/docs/guide/concepts/control?utm_source=github&utm_medium=site&utm_campaign=tolokakit). Ban performers who give incorrect responses to control tasks.\n",
    "\n",
    "*Since tasks such as these have an answer that can be used as ground truth, we can use standard quality control rules like golden sets.*\n",
    "\n",
    "*Read more about [quality control principles](https://toloka.ai/knowledgebase/quality-control?utm_source=github&utm_medium=site&utm_campaign=tolokakit) in our Knowledge Base or check out [control tasks settings](https://toloka.ai/en/docs/guide/concepts/goldenset?utm_source=github&utm_medium=site&utm_campaign=tolokakit) in the Requester’s Guide.*"
   ]
  },
  {
   "cell_type": "markdown",
   "id": "be3104e0",
   "metadata": {},
   "source": [
    "Set the number of responses and the percentage of correct responses. Ban performer if their quality in the classification is lower than 80%"
   ]
  },
  {
   "cell_type": "code",
   "execution_count": null,
   "id": "4d16af0c",
   "metadata": {},
   "outputs": [],
   "source": [
    "classification_pool.quality_control.add_action(\n",
    "    collector=toloka.collectors.GoldenSet(),\n",
    "    conditions=[\n",
    "        toloka.conditions.GoldenSetCorrectAnswersRate < 80.0,\n",
    "        toloka.conditions.GoldenSetAnswersCount > 3\n",
    "    ],\n",
    "    action=toloka.actions.RestrictionV2(\n",
    "        scope='PROJECT',\n",
    "        duration=3,\n",
    "        duration_unit='DAYS',\n",
    "        private_comment='Did not answer the control tasks'\n",
    "    )\n",
    ")"
   ]
  },
  {
   "cell_type": "markdown",
   "id": "323f2943",
   "metadata": {},
   "source": [
    "Set up the up the Fast responses rule. This rule allows you to ban performers who submit tasks at a suspiciously high speed.\n"
   ]
  },
  {
   "cell_type": "code",
   "execution_count": null,
   "id": "6ac27241",
   "metadata": {},
   "outputs": [],
   "source": [
    "classification_pool.quality_control.add_action(\n",
    "    collector=toloka.collectors.AssignmentSubmitTime(history_size=5, fast_submit_threshold_seconds=10),\n",
    "    conditions=[toloka.conditions.FastSubmittedCount > 1],\n",
    "    action=toloka.actions.RestrictionV2(\n",
    "        scope='PROJECT',\n",
    "        duration_unit='PERMANENT',\n",
    "        private_comment='Fast responses'\n",
    "    )\n",
    ")\n",
    "\n",
    "classification_pool = toloka_client.create_pool(classification_pool)"
   ]
  },
  {
   "cell_type": "markdown",
   "id": "b5aaec0f",
   "metadata": {},
   "source": [
    "## Preparing data"
   ]
  },
  {
   "cell_type": "markdown",
   "id": "2e9ed7b0",
   "metadata": {},
   "source": [
    "This example uses [An Evaluation Dataset for Intent Classification and Out-of-Scope Prediction](https://github.com/clinc/oos-eval)"
   ]
  },
  {
   "cell_type": "markdown",
   "id": "ff8b7670",
   "metadata": {},
   "source": [
    "[![License: CC BY 3.0](https://img.shields.io/badge/License-CC%20BY%203.0-lightgrey.svg)](https://creativecommons.org/licenses/by/3.0/)"
   ]
  },
  {
   "cell_type": "markdown",
   "id": "fd158d34",
   "metadata": {},
   "source": [
    "Bibtex:\n",
    "```\n",
    "@inproceedings{larson-etal-2019-evaluation,\n",
    "    title = \"An Evaluation Dataset for Intent Classification and Out-of-Scope Prediction\",\n",
    "    author = \"Larson, Stefan  and\n",
    "      Mahendran, Anish  and\n",
    "      Peper, Joseph J.  and\n",
    "      Clarke, Christopher  and\n",
    "      Lee, Andrew  and\n",
    "      Hill, Parker  and\n",
    "      Kummerfeld, Jonathan K.  and\n",
    "      Leach, Kevin  and\n",
    "      Laurenzano, Michael A.  and\n",
    "      Tang, Lingjia  and\n",
    "      Mars, Jason\",\n",
    "    booktitle = \"Proceedings of the 2019 Conference on Empirical Methods in Natural Language Processing and the 9th International Joint Conference on Natural Language Processing (EMNLP-IJCNLP)\",\n",
    "    year = \"2019\",\n",
    "    url = \"https://www.aclweb.org/anthology/D19-1131\"\n",
    "}\n",
    "\n",
    "```"
   ]
  },
  {
   "cell_type": "code",
   "execution_count": null,
   "id": "0919fa9c",
   "metadata": {},
   "outputs": [],
   "source": [
    "!curl https://raw.githubusercontent.com/clinc/oos-eval/master/data/data_small.json --output dataset.json"
   ]
  },
  {
   "cell_type": "markdown",
   "id": "9f82678e",
   "metadata": {},
   "source": [
    "We will work only with these intents: `['restaurant_reviews', 'restaurant_reservation', 'nutrition_info', 'recipe']` and `['book_hotel', 'timezone', 'travel_suggestion', 'exchange_rate', 'vaccines']` (in the domains `kitchen` and `travel` respectively)"
   ]
  },
  {
   "cell_type": "code",
   "execution_count": null,
   "id": "74f13506",
   "metadata": {},
   "outputs": [],
   "source": [
    "list_of_intents = ['restaurant_reviews', 'restaurant_reservation', 'nutrition_info', 'recipe',\n",
    "'book_hotel', 'timezone', 'travel_suggestion', 'exchange_rate', 'vaccines']"
   ]
  },
  {
   "cell_type": "markdown",
   "id": "b58fcfcf",
   "metadata": {},
   "source": [
    "Let's prepare data for non-golden and golden tasks (control tasks)"
   ]
  },
  {
   "cell_type": "markdown",
   "id": "74ac3011",
   "metadata": {},
   "source": [
    "Control tasks are tasks that already contain the correct response. They are used for checking the quality of responses from performers. The performer's response is compared to the response you provided. If they match, it means the performer answered correctly.\n"
   ]
  },
  {
   "cell_type": "code",
   "execution_count": null,
   "id": "2d09feb6",
   "metadata": {},
   "outputs": [],
   "source": [
    "with open('dataset.json') as f:\n",
    "    json_file = json.load(f)\n",
    "    json_data = json_file['train']\n",
    "    json_golden_data = json_file['val']\n",
    "\n",
    "# data for non-golden tasks\n",
    "data = pd.DataFrame(json_data, columns=['query', 'intent'])\n",
    "# data for golden tasks\n",
    "golden_data = pd.DataFrame(json_golden_data, columns=['query', 'intent'])\n",
    "\n",
    "data = data[data['intent'].isin(list_of_intents)].reset_index(drop=True)\n",
    "\n",
    "golden_data = golden_data[golden_data['intent'].isin(list_of_intents)].reset_index(drop=True)"
   ]
  },
  {
   "cell_type": "markdown",
   "id": "f351c40b",
   "metadata": {},
   "source": [
    "We will leave only 180 queries for the sake of simplicity"
   ]
  },
  {
   "cell_type": "code",
   "execution_count": null,
   "id": "01591302",
   "metadata": {},
   "outputs": [],
   "source": [
    "SAMPLE_SIZE = 180\n",
    "data = data.sample(SAMPLE_SIZE)\n",
    "\n",
    "data.sample(5)"
   ]
  },
  {
   "cell_type": "markdown",
   "id": "bcf20e63",
   "metadata": {},
   "source": [
    "Now we can create non-golden tasks"
   ]
  },
  {
   "cell_type": "code",
   "execution_count": null,
   "id": "f36266d2",
   "metadata": {},
   "outputs": [],
   "source": [
    "tasks = [\n",
    "    toloka.Task(\n",
    "        pool_id=classification_pool.id,\n",
    "        input_values={'query': row.query},\n",
    "    )\n",
    "    for row in data.itertuples()\n",
    "]\n",
    "\n",
    "tasks = toloka_client.create_tasks(tasks, allow_defaults=True)"
   ]
  },
  {
   "cell_type": "markdown",
   "id": "d9465591",
   "metadata": {},
   "source": [
    "We'll use 2 queries per intent as a golden task.\n",
    "In small pools, golden tasks should account for 10–20% of all tasks."
   ]
  },
  {
   "cell_type": "markdown",
   "id": "c3096dd3",
   "metadata": {},
   "source": [
    "Make sure to include different variations of correct responses in equal amounts."
   ]
  },
  {
   "cell_type": "code",
   "execution_count": null,
   "id": "148e9dd0",
   "metadata": {
    "scrolled": true
   },
   "outputs": [],
   "source": [
    "GOLDEN_SAMPLE_SIZE = 2\n",
    "golden_data = golden_data.groupby('intent').apply(lambda x: x.sample(GOLDEN_SAMPLE_SIZE)).reset_index(drop=True)\n",
    "\n",
    "def get_domain(intent):\n",
    "    if intent in ['restaurant_reviews', 'restaurant_reservation', 'nutrition_info', 'recipe']:\n",
    "        return 'kitchen'\n",
    "    else:\n",
    "        return 'travel'\n",
    "\n",
    "golden_data['domain'] = golden_data.apply(lambda row: get_domain(row['intent']), axis=1)\n",
    "golden_data.sample(5)"
   ]
  },
  {
   "cell_type": "markdown",
   "id": "e185deeb",
   "metadata": {},
   "source": [
    "Let's create golden tasks"
   ]
  },
  {
   "cell_type": "code",
   "execution_count": null,
   "id": "fd687de3",
   "metadata": {},
   "outputs": [],
   "source": [
    "golden_tasks = [\n",
    "    toloka.Task(\n",
    "        pool_id=classification_pool.id,\n",
    "        input_values={'query': row.query},\n",
    "        known_solutions = [\n",
    "            toloka.task.BaseTask.KnownSolution(\n",
    "                output_values={'domain': row.domain, 'intent': row.intent}\n",
    "            )\n",
    "        ],\n",
    "        infinite_overlap=True,\n",
    "    )\n",
    "    for row in golden_data.itertuples()\n",
    "]\n",
    "\n",
    "golden_tasks = toloka_client.create_tasks(golden_tasks, allow_defaults=True)"
   ]
  },
  {
   "cell_type": "markdown",
   "id": "e9a56fee",
   "metadata": {},
   "source": [
    "Let's create training tasks with hints for users (based on the same [dataset](https://github.com/clinc/oos-eval))"
   ]
  },
  {
   "cell_type": "markdown",
   "id": "7bf98f30",
   "metadata": {},
   "source": [
    "It’s important to include examples for all classes in the training. Make sure the training set is balanced and the comments explain why an answer is correct. Don’t just name the correct answers."
   ]
  },
  {
   "cell_type": "code",
   "execution_count": null,
   "id": "3e6663e3",
   "metadata": {},
   "outputs": [],
   "source": [
    "training_data = [\n",
    " ['are there a reservation available at xenophone',\n",
    "  'kitchen',\n",
    "  'restaurant_reservation',\n",
    "  'It is reservation restaurant class in kitchen category. Try to find key words:  reserve / book , name of the restaurant'],\n",
    " ['I need a table for 7 pm under the name Paul',\n",
    "  'kitchen',\n",
    "  'restaurant_reservation',\n",
    "  'Query can consist of key words like  table, time, name. Category kitchen, class reservation'],\n",
    " ['what are the review for burger king',\n",
    "  'kitchen',\n",
    "  'restaurant_reviews',\n",
    "  'Pay attention to existence of the name of restaurant or the review  key word. Category kitchen, class review'],\n",
    " ['can I sub ketchup for mayo',\n",
    "  'kitchen',\n",
    "  'recipe',\n",
    "  'Anything related to substitution. Key words:  instead, substitution, sub. Category kitchen, class recipe'],\n",
    " ['pull up soup recipe',\n",
    "  'kitchen',\n",
    "  'recipe',\n",
    "  \"One of common words for such class could be 'recipe'. Category kitchen, class recipe\"],\n",
    " ['How healthy is orange',\n",
    "  'kitchen',\n",
    "  'nutrition_info',\n",
    "  \"'healthy' word is a marker of nutrition class. Category kitchen, class nutrition\"],\n",
    " ['How many calories are in mushrooms',\n",
    "  'kitchen',\n",
    "  'nutrition_info',\n",
    "  'Select this class if something is said about the amount of calories. Category kitchen, class nutrition'],\n",
    " ['in which time zone does Denver reside',\n",
    "  'travel',\n",
    "  'timezone',\n",
    "  'You can notice basic words like zone and time. As a result, category is travel and class is timezone'],\n",
    " ['find me a hotel with good reviews in phoenix',\n",
    "  'travel',\n",
    "  'book_hotel',\n",
    "  'If you find the word hotel than it could be a sign of category travel and class book a hotel'],\n",
    " [\"what's the best place for travelling to this time of year\",\n",
    "  'travel',\n",
    "  'travel_suggestion',\n",
    "  'Intent which consists of any recommendations about traveling. Category travel, class travel suggestion'],\n",
    " ['find me the exchange rate between usd and cad',\n",
    "  'travel',\n",
    "  'exchange_rate',\n",
    "  'Type of currency written in the query suggests category travel with class exchange rate'],\n",
    " ['are more shots needed to travel to argentina',\n",
    "  'travel',\n",
    "  'vaccines',\n",
    "  'Intent with shots and vaccines - key words related to category travel and class vaccine']\n",
    "]\n",
    "training_dataset = pd.DataFrame(training_data,\n",
    "                              columns=['query', 'domain', 'intent', 'hint']\n",
    ")"
   ]
  },
  {
   "cell_type": "code",
   "execution_count": null,
   "id": "25f0ba69",
   "metadata": {},
   "outputs": [],
   "source": [
    "training_tasks = [\n",
    "    toloka.Task(\n",
    "        input_values={'query': row.query},\n",
    "        known_solutions=[toloka.task.BaseTask.KnownSolution(\n",
    "            output_values={'domain': row.domain, 'intent': row.intent}\n",
    "        )],\n",
    "        message_on_unknown_solution=row.hint,\n",
    "        infinite_overlap=True,\n",
    "        pool_id=training_pool.id\n",
    "    )\n",
    "    for row in training_dataset.itertuples()\n",
    "]\n",
    "\n",
    "training_tasks = toloka_client.create_tasks(training_tasks, allow_defaults=True)"
   ]
  },
  {
   "cell_type": "markdown",
   "id": "ec54aee0",
   "metadata": {},
   "source": [
    "## Open pools"
   ]
  },
  {
   "cell_type": "markdown",
   "id": "20a0d039",
   "metadata": {},
   "source": [
    "We recommend opening the training pool along with the main pool. Otherwise Tolokers will spend their time on training but get no access to real tasks, which is frustrating. Also, do not forget to close the training pools when there are no main tasks available anymore."
   ]
  },
  {
   "cell_type": "code",
   "execution_count": null,
   "id": "c2781cd9",
   "metadata": {},
   "outputs": [],
   "source": [
    "toloka_client.open_pool(training_pool.id)\n",
    "toloka_client.open_pool(classification_pool.id)"
   ]
  },
  {
   "cell_type": "markdown",
   "id": "fa48db40",
   "metadata": {},
   "source": [
    "## Receiving responses"
   ]
  },
  {
   "cell_type": "markdown",
   "id": "ea36d2cf",
   "metadata": {},
   "source": [
    "Wait until the pool is completed."
   ]
  },
  {
   "cell_type": "code",
   "execution_count": null,
   "id": "1b3bd7ab",
   "metadata": {},
   "outputs": [],
   "source": [
    "def wait_pool_for_close(pool_id, minutes_to_wait=1):\n",
    "    sleep_time = 60 * minutes_to_wait\n",
    "    pool = toloka_client.get_pool(pool_id)\n",
    "    while not pool.is_closed():\n",
    "        op = toloka_client.get_analytics([toloka.analytics_request.CompletionPercentagePoolAnalytics(subject_id=pool.id)])\n",
    "        op = toloka_client.wait_operation(op)\n",
    "        percentage = op.details['value'][0]['result']['value']\n",
    "        print(\n",
    "            f'   {datetime.datetime.now().strftime(\"%H:%M:%S\")}\\t'\n",
    "            f'Pool {pool.id} - {percentage}%'\n",
    "        )\n",
    "        time.sleep(sleep_time)\n",
    "        pool = toloka_client.get_pool(pool.id)\n",
    "    print('Pool was closed.')\n",
    "\n",
    "wait_pool_for_close(classification_pool.id)\n",
    "toloka_client.close_training(training_pool.id)"
   ]
  },
  {
   "cell_type": "markdown",
   "id": "fa42d2eb",
   "metadata": {},
   "source": [
    "Get responses\n",
    "\n",
    "When all the tasks are completed, look at the responses from performers."
   ]
  },
  {
   "cell_type": "code",
   "execution_count": null,
   "id": "075fdc6d",
   "metadata": {},
   "outputs": [],
   "source": [
    "answers = []\n",
    "\n",
    "answers_df = toloka_client.get_assignments_df(classification_pool.id)\n",
    "# Prepare DataFrame\n",
    "answers_df = answers_df.rename(columns={\n",
    "    'INPUT:query': 'task',\n",
    "    'ASSIGNMENT:worker_id': 'worker'\n",
    "})\n",
    "# Create a feature-string for aggregation that contains both task's domain and intent\n",
    "answers_df['label'] = answers_df['OUTPUT:domain'] + ' ' + answers_df['OUTPUT:intent']\n",
    "\n",
    "print(f'answers count: {len(answers_df)}')"
   ]
  },
  {
   "cell_type": "markdown",
   "id": "a9b31f01",
   "metadata": {},
   "source": [
    "Aggregation results using the Dawid-Skene"
   ]
  },
  {
   "cell_type": "markdown",
   "id": "559b4224",
   "metadata": {},
   "source": [
    "We use this aggregation model because our questions are of comparable difficulty, and we don't have many control tasks.\n",
    "\n",
    "Read more about [the Dawid-Skene model](https://toloka.ai/en/docs/guide/concepts/result-aggregation?utm_source=github&utm_medium=site&utm_campaign=tolokakit#aggr__dawid-skene) in the Requester’s Guide or get at an overview of different [aggregation models](https://toloka.ai/knowledgebase/aggregation?utm_source=github&utm_medium=site&utm_campaign=tolokakit) our Knowledge Base."
   ]
  },
  {
   "cell_type": "code",
   "execution_count": null,
   "id": "91a86401",
   "metadata": {},
   "outputs": [],
   "source": [
    "# Run aggregation\n",
    "predicted_answers = DawidSkene(n_iter=20).fit_predict(answers_df)"
   ]
  },
  {
   "cell_type": "markdown",
   "id": "9c756113",
   "metadata": {},
   "source": [
    "Once the aggregation completes, let's look at some results"
   ]
  },
  {
   "cell_type": "code",
   "execution_count": null,
   "id": "ee056a69",
   "metadata": {},
   "outputs": [],
   "source": [
    "pd.DataFrame(predicted_answers.sample(15), columns=['domain and intent'])"
   ]
  }
 ],
 "metadata": {
  "kernelspec": {
   "display_name": "Python 3 (ipykernel)",
   "language": "python",
   "name": "python3"
  },
  "language_info": {
   "codemirror_mode": {
    "name": "ipython",
    "version": 3
   },
   "file_extension": ".py",
   "mimetype": "text/x-python",
   "name": "python",
   "nbconvert_exporter": "python",
   "pygments_lexer": "ipython3",
   "version": "3.9.12"
  }
 },
 "nbformat": 4,
 "nbformat_minor": 5
}
