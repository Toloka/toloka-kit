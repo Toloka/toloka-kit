{
 "cells": [
  {
   "cell_type": "markdown",
   "metadata": {},
   "source": [
    "# Text classification\n",
    "\n",
    "We have a set of news article headlines. We need to get these classified according to whether they are clickbait or not.\n",
    "We ask performers to read a headline and decide whether it’s clickbait.\n",
    "\n",
    ">**Clickbait headline** designed to make readers want to click on a hyperlink\n",
    "especially when the link leads to content of dubious value. Typically clickbait titles cover not very useful content,\n",
    "so visitors tend not to stay for too long, that's why it's bad."
   ]
  },
  {
   "cell_type": "markdown",
   "metadata": {},
   "source": [
    "### Call to action\n",
    "If you found some bugs or have a new feature idea, don't hesitate to [open a new issue on Github](https://github.com/Toloka/toloka-kit/issues/new/choose).\n",
    "Like our library and examples? Star [our repo on Github](https://github.com/Toloka/toloka-kit)"
   ]
  },
  {
   "cell_type": "markdown",
   "metadata": {},
   "source": [
    "Prepare environment and import all we'll need."
   ]
  },
  {
   "cell_type": "code",
   "execution_count": null,
   "metadata": {},
   "outputs": [],
   "source": [
    "%%capture\n",
    "!pip install toloka-kit==0.1.26\n",
    "!pip install crowd-kit==1.0.0\n",
    "!pip install pandas\n",
    "\n",
    "import datetime\n",
    "import sys\n",
    "import time\n",
    "import logging\n",
    "import getpass\n",
    "\n",
    "import pandas\n",
    "import numpy as np\n",
    "\n",
    "import toloka.client as toloka\n",
    "import toloka.client.project.template_builder as tb\n",
    "from crowdkit.aggregation import DawidSkene"
   ]
  },
  {
   "cell_type": "code",
   "execution_count": null,
   "metadata": {},
   "outputs": [],
   "source": [
    "logging.basicConfig(\n",
    "    format='[%(levelname)s] %(name)s: %(message)s',\n",
    "    level=logging.INFO,\n",
    "    stream=sys.stdout,\n",
    ")"
   ]
  },
  {
   "cell_type": "markdown",
   "metadata": {},
   "source": [
    "Сreate toloka-client instance. All api calls will go through it. More about OAuth token in our [Learn the basics example](https://github.com/Toloka/toloka-kit/tree/main/examples/0.getting_started/0.learn_the_basics) [![Open In Colab](https://colab.research.google.com/assets/colab-badge.svg)](https://colab.research.google.com/github/Toloka/toloka-kit/blob/main/examples/0.getting_started/0.learn_the_basics/learn_the_basics.ipynb)"
   ]
  },
  {
   "cell_type": "code",
   "execution_count": null,
   "metadata": {},
   "outputs": [],
   "source": [
    "toloka_client = toloka.TolokaClient(getpass.getpass('Enter your OAuth token: '), 'PRODUCTION') # Or switch to 'SANDBOX'\n",
    "print(toloka_client.get_requester())"
   ]
  },
  {
   "cell_type": "markdown",
   "metadata": {},
   "source": [
    "## Create a project\n",
    "Enter a clear project name and description.\n",
    "> Note: The project name and description will be visible to the performers."
   ]
  },
  {
   "cell_type": "code",
   "execution_count": null,
   "metadata": {},
   "outputs": [],
   "source": [
    "project = toloka.Project(\n",
    "    public_name='Is this headline clickbait?',\n",
    "    public_description='Look at the a news headline and decide if it is clickbait or not.',\n",
    ")"
   ]
  },
  {
   "cell_type": "markdown",
   "metadata": {},
   "source": [
    "Create task interface.\n",
    "> Check the [Interface section](https://toloka.ai/knowledgebase/interface?utm_source=github&utm_medium=site&utm_campaign=tolokakit) of our Knowledge Base for more tips on interface design."
   ]
  },
  {
   "cell_type": "code",
   "execution_count": null,
   "metadata": {},
   "outputs": [],
   "source": [
    "text_viewer = tb.TextViewV1(tb.JoinHelperV1(['Headline: ', tb.InputData('headline')]))\n",
    "\n",
    "radio_group_field = tb.ButtonRadioGroupFieldV1(\n",
    "    tb.OutputData('category'),\n",
    "    [\n",
    "        tb.GroupFieldOption('clickbait', 'Clickbait'),\n",
    "        tb.GroupFieldOption('notclickbait', 'Not clickbait'),\n",
    "    ],\n",
    "    validation=tb.RequiredConditionV1(hint='you need to select one answer'),\n",
    ")\n",
    "\n",
    "task_width_plugin = tb.TolokaPluginV1(\n",
    "    layout=tb.TolokaPluginV1.TolokaPluginLayout(\n",
    "        kind='scroll',\n",
    "        task_width=300,\n",
    "    )\n",
    ")\n",
    "\n",
    "hot_keys_plugin = tb.HotkeysPluginV1(\n",
    "    key_1=tb.SetActionV1(tb.OutputData('category'), 'clickbait'),\n",
    "    key_2=tb.SetActionV1(tb.OutputData('category'), 'notclickbait'),\n",
    ")\n",
    "\n",
    "project_interface = toloka.project.TemplateBuilderViewSpec(\n",
    "    view=tb.ListViewV1([text_viewer, radio_group_field]),\n",
    "    plugins=[task_width_plugin, hot_keys_plugin],\n",
    ")"
   ]
  },
  {
   "cell_type": "markdown",
   "metadata": {},
   "source": [
    "For performers, our interface will look like this.\n",
    "\n",
    "<table  align=\"center\">\n",
    "  <tr><td>\n",
    "    <img src=\"./img/tasks_preview.png\"\n",
    "         alt=\"Task page\"  width=\"1000\">\n",
    "  </td></tr>\n",
    "  <tr><td align=\"center\">\n",
    "    <b>Figure 1.</b> What the task page can looks like.\n",
    "  </td></tr>\n",
    "</table>"
   ]
  },
  {
   "cell_type": "markdown",
   "metadata": {},
   "source": [
    "Specifications are a description of input data that will be used in a project and the output data that will be collected from the performers.\n",
    "\n",
    "> Read more about [input and output data specifications](https://yandex.ru/support/toloka-tb/operations/create-specs.html?utm_source=github&utm_medium=site&utm_campaign=tolokakit) in the Requester’s Guide."
   ]
  },
  {
   "cell_type": "code",
   "execution_count": null,
   "metadata": {},
   "outputs": [],
   "source": [
    "input_specification = {'headline': toloka.project.StringSpec()}\n",
    "output_specification = {'category': toloka.project.StringSpec()}\n",
    "\n",
    "project.task_spec = toloka.project.task_spec.TaskSpec(\n",
    "    input_spec=input_specification,\n",
    "    output_spec=output_specification,\n",
    "    view_spec=project_interface,\n",
    ")"
   ]
  },
  {
   "cell_type": "markdown",
   "metadata": {},
   "source": [
    "Write comprehensive instructions.\n",
    "> Get more tips on [designing instructions](https://toloka.ai/knowledgebase/instruction?utm_source=github&utm_medium=site&utm_campaign=tolokakit) in our Knowledge Base."
   ]
  },
  {
   "cell_type": "code",
   "execution_count": null,
   "metadata": {},
   "outputs": [],
   "source": [
    "project.public_instructions = \"\"\"<h2>About the task</h2>\n",
    "In this task you need to classify headlines on 2 categories: Clickbait or Not clickbait.<br>\n",
    "<h2>What is Clickbait headline?</h2>\n",
    "Clickbait refers to the practice of writing sensationalized or misleading headlines.\n",
    "<b>Clickbait headline<b> designed to make readers want to click on a hyperlink\n",
    "especially when the link leads to content of dubious value. Typically clickbait titles cover not very useful content,\n",
    "so visitors tend not to stay for too long, that's why it's bad.\n",
    "\"\"\""
   ]
  },
  {
   "cell_type": "markdown",
   "metadata": {},
   "source": [
    "Create a project."
   ]
  },
  {
   "cell_type": "code",
   "execution_count": null,
   "metadata": {},
   "outputs": [],
   "source": [
    "project = toloka_client.create_project(project)"
   ]
  },
  {
   "cell_type": "markdown",
   "metadata": {},
   "source": [
    "## Preparing data\n",
    "This example uses SVM clickbait classifier, that distributed under a MIT license\n",
    "[![License: MIT](https://img.shields.io/badge/License-MIT-yellow.svg)](https://opensource.org/licenses/MIT)\n",
    "\n",
    "> Abhijnan Chakraborty, Bhargavi Paranjape, Sourya Kakarla, and Niloy Ganguly. \"Stop Clickbait: Detecting and Preventing Clickbaits in Online News Media”. In Proceedings of the 2016 IEEE/ACM International Conference on Advances in Social Networks Analysis and Mining (ASONAM), San Fransisco, US, August 2016.\n",
    "\n",
    "\n",
    "BibTex:\n",
    "```\n",
    "@inproceedings{chakraborty2016stop,\n",
    "title={Stop Clickbait: Detecting and preventing clickbaits in online news media},\n",
    "author={Chakraborty, Abhijnan and Paranjape, Bhargavi and Kakarla, Sourya and Ganguly, Niloy},\n",
    "booktitle={Advances in Social Networks Analysis and Mining (ASONAM), 2016 IEEE/ACM International Conference on},\n",
    "pages={9--16},\n",
    "year={2016},\n",
    "organization={IEEE}\n",
    "}\n",
    "```\n",
    "\n",
    "Let's load this dataset and split it into three parts."
   ]
  },
  {
   "cell_type": "code",
   "execution_count": 59,
   "metadata": {},
   "outputs": [
    {
     "name": "stdout",
     "output_type": "stream",
     "text": [
      "  % Total    % Received % Xferd  Average Speed   Time    Time     Time  Current\n",
      "                                 Dload  Upload   Total   Spent    Left  Speed\n",
      "100  902k  100  902k    0     0  2767k      0 --:--:-- --:--:-- --:--:-- 2759k\n",
      "  % Total    % Received % Xferd  Average Speed   Time    Time     Time  Current\n",
      "                                 Dload  Upload   Total   Spent    Left  Speed\n",
      "100  836k  100  836k    0     0  1926k      0 --:--:-- --:--:-- --:--:-- 1926k\n",
      "                                                headline   category\n",
      "0                                     Should I Get Bings  clickbait\n",
      "1          Which TV Female Friend Group Do You Belong In  clickbait\n",
      "2      The New \"Star Wars: The Force Awakens\" Trailer...  clickbait\n",
      "3      This Vine Of New York On \"Celebrity Big Brothe...  clickbait\n",
      "4      A Couple Did A Stunning Photo Shoot With Their...  clickbait\n",
      "...                                                  ...        ...\n",
      "15994  There Was A Mini \"Sisterhood Of The Traveling ...  clickbait\n",
      "15995    21 Dogs Who Are Thankful For Their Best Friends  clickbait\n",
      "15996  People Are Proving No Dick Is Too Big By Dropp...  clickbait\n",
      "15997                        I'm An Atheist, But I'm Not  clickbait\n",
      "15998  An Artist Drew Disney Men As Justin Bieber And...  clickbait\n",
      "\n",
      "[15999 rows x 2 columns]\n",
      "                                                headline      category\n",
      "0      Bill Changing Credit Card Rules Is Sent to Oba...  notclickbait\n",
      "1      In Hollywood, the Easy-Money Generation Toughe...  notclickbait\n",
      "2      1700 runners still unaccounted for in UK's Lak...  notclickbait\n",
      "3      Yankees Pitchers Trade Fielding Drills for Put...  notclickbait\n",
      "4      Large earthquake rattles Indonesia; Seventh in...  notclickbait\n",
      "...                                                  ...           ...\n",
      "15996  To Make Female Hearts Flutter in Iraq, Throw a...  notclickbait\n",
      "15997  British Liberal Democrat Patsy Calton, 56, die...  notclickbait\n",
      "15998  Drone smartphone app to help heart attack vict...  notclickbait\n",
      "15999  Netanyahu Urges Pope Benedict, in Israel, to D...  notclickbait\n",
      "16000  Computer Makers Prepare to Stake Bigger Claim ...  notclickbait\n",
      "\n",
      "[16001 rows x 2 columns]\n",
      "\n",
      "training_dataset - 10\n",
      "\n",
      "golden_dataset - 20\n",
      "\n",
      "main_dataset - 100\n"
     ]
    }
   ],
   "source": [
    "!curl https://tlk.s3.yandex.net/ext_dataset/clickbait/clickbait_data.csv --output clickbait_data.csv\n",
    "!curl https://tlk.s3.yandex.net/ext_dataset/clickbait/non_clickbait_data.csv --output non_clickbait_data.csv\n",
    "\n",
    "clickbait_df = pandas.read_csv('clickbait_data.csv', sep='\\t', names=['headline'])\n",
    "clickbait_df['category'] = 'clickbait'\n",
    "print(clickbait_df)\n",
    "\n",
    "non_clickbait_df = pandas.read_csv('non_clickbait_data.csv', sep='\\t', names=['headline'])\n",
    "non_clickbait_df['category'] = 'notclickbait'\n",
    "print(non_clickbait_df)\n",
    "\n",
    "dataset = clickbait_df.append(non_clickbait_df)\n",
    "dataset = dataset.sample(frac=1).reset_index(drop=True)\n",
    "\n",
    "training_dataset, golden_dataset, main_dataset, _ = np.split(dataset, [10, 30, 130], axis=0)\n",
    "print(f'\\ntraining_dataset - {len(training_dataset)}')\n",
    "print(f'\\ngolden_dataset - {len(golden_dataset)}')\n",
    "print(f'\\nmain_dataset - {len(main_dataset)}')"
   ]
  },
  {
   "cell_type": "markdown",
   "metadata": {},
   "source": [
    "## Create a training pool\n",
    "Training is an essential part of almost every crowdsourcing project. It allows you to select performers who have really mastered the task, and thus improve quality. Training is also a great tool for scaling your task because you can run it any time you need new performers.\n",
    "\n",
    "> Read more about [selecting performers](https://toloka.ai/knowledgebase/quality-control?utm_source=github&utm_medium=site&utm_campaign=tolokakit) in our Knowledge Base.\n",
    "\n",
    "> Read more about [training pools](https://toloka.ai/en/docs/guide/concepts/train?utm_source=github&utm_medium=site&utm_campaign=tolokakit) in our Requester’s Guide."
   ]
  },
  {
   "cell_type": "code",
   "execution_count": null,
   "metadata": {},
   "outputs": [],
   "source": [
    "training = toloka.Training(\n",
    "    project_id=project.id,\n",
    "    private_name='clickbait training',\n",
    "    may_contain_adult_content=False,\n",
    "    assignment_max_duration_seconds=60*30,\n",
    "    mix_tasks_in_creation_order=False,\n",
    "    shuffle_tasks_in_task_suite=False,\n",
    "    training_tasks_in_task_suite_count=10,\n",
    "    task_suites_required_to_pass=10,\n",
    "    retry_training_after_days=10,\n",
    "    inherited_instructions=True,\n",
    ")\n",
    "training = toloka_client.create_training(training)"
   ]
  },
  {
   "cell_type": "markdown",
   "metadata": {},
   "source": [
    "Upload training tasks to the pool."
   ]
  },
  {
   "cell_type": "code",
   "execution_count": null,
   "metadata": {},
   "outputs": [],
   "source": [
    "training_tasks = [\n",
    "    toloka.Task(\n",
    "        pool_id=training.id,\n",
    "        input_values={'headline': row['headline']},\n",
    "        known_solutions = [toloka.task.BaseTask.KnownSolution(output_values={'category': row['category']})],\n",
    "        message_on_unknown_solution=row['category'],\n",
    "    )\n",
    "    for _, row in training_dataset.iterrows()\n",
    "]\n",
    "result = toloka_client.create_tasks(training_tasks, allow_defaults=True)\n",
    "print(len(result.items))"
   ]
  },
  {
   "cell_type": "markdown",
   "metadata": {},
   "source": [
    "We recommend opening the training pool along with the main pool. Otherwise Tolokers will spend their time on training but get no access to real tasks, which is frustrating. Also, do not forget to close the training pools when there are no main tasks available anymore."
   ]
  },
  {
   "cell_type": "markdown",
   "metadata": {},
   "source": [
    "## Create the main pool\n",
    "A pool is a set of paid tasks grouped into task pages. These tasks are sent out for completion at the same time.\n",
    "\n",
    ">Note: All tasks within a pool have the same settings (price, quality control, etc.)\n",
    "\n",
    " Text classification tasks are normally paid as basic tasks because these tasks do not take much time. Read more about [pricing principles](https://toloka.ai/knowledgebase/pricing?utm_source=github&utm_medium=site&utm_campaign=tolokakit) in our Knowledge Base.\n",
    "\n",
    "Sets an overlap of 3 to get a more confident final label. To understand [how this rule works](https://toloka.ai/en/docs/guide/concepts/mvote?utm_source=github&utm_medium=site&utm_campaign=tolokakit), go to the Requester’s Guide.\n",
    "\n",
    "Let's add language filter so performers who speak English will be invited to complete this task. Then choose Toloka web version and Toloka for mobile clients. These filters will make it possible for performers to complete your task on their computers or mobile devices."
   ]
  },
  {
   "cell_type": "code",
   "execution_count": null,
   "metadata": {},
   "outputs": [],
   "source": [
    "pool = toloka.Pool(\n",
    "    project_id=project.id,\n",
    "    # Give the pool any convenient name. You are the only one who will see it.\n",
    "    private_name='Is this headline clickbait?',\n",
    "    may_contain_adult_content=False,\n",
    "    # Set the price per task page.\n",
    "    reward_per_assignment=0.01,\n",
    "    will_expire=datetime.datetime.utcnow() + datetime.timedelta(days=365),\n",
    "    # Overlap. This is the number of users who will complete the same task.\n",
    "    defaults=toloka.Pool.Defaults(default_overlap_for_new_task_suites=3),\n",
    "    # Time allowed for completing a task page\n",
    "    assignment_max_duration_seconds=120,\n",
    "    filter=(\n",
    "        (toloka.filter.Languages.in_('EN')) &\n",
    "        (\n",
    "            (toloka.filter.ClientType == 'TOLOKA_APP') |\n",
    "            (toloka.filter.ClientType == 'BROWSER')\n",
    "        )\n",
    "    ),\n",
    ")"
   ]
  },
  {
   "cell_type": "markdown",
   "metadata": {},
   "source": [
    "Attach the training you created earlier and select the accuracy level that is required to reach the main pool. This means that Tolokers who got less than 90% accuracy will not see this pool."
   ]
  },
  {
   "cell_type": "code",
   "execution_count": null,
   "metadata": {},
   "outputs": [],
   "source": [
    "pool.set_training_requirement(training_pool_id=training.id, training_passing_skill_value=90)"
   ]
  },
  {
   "cell_type": "markdown",
   "metadata": {},
   "source": [
    "Set up [Quality control](https://toloka.ai/en/docs/guide/concepts/control?utm_source=github&utm_medium=site&utm_campaign=tolokakit):\n",
    " - Ban performers who give incorrect responses to control tasks. Since tasks such as these have an answer that can be used as ground truth, we can use standard quality control rules like golden sets.\n",
    " - Set up the up the Fast responses rule. This rule allows you to ban performers who submit tasks at a suspiciously high speed.\n",
    "\n",
    "Read more about [quality control principles](https://toloka.ai/knowledgebase/quality-control?utm_source=github&utm_medium=site&utm_campaign=tolokakit) in our Knowledge Base or check out [control tasks settings](https://toloka.ai/en/docs/guide/concepts/goldenset?utm_source=github&utm_medium=site&utm_campaign=tolokakit) in the Requester’s Guide."
   ]
  },
  {
   "cell_type": "code",
   "execution_count": null,
   "metadata": {},
   "outputs": [],
   "source": [
    "pool.quality_control.add_action(\n",
    "    collector=toloka.collectors.AssignmentSubmitTime(history_size=5, fast_submit_threshold_seconds=30),\n",
    "    conditions=[toloka.conditions.FastSubmittedCount >= 2],\n",
    "    action=toloka.actions.RestrictionV2(\n",
    "        scope='POOL',\n",
    "        duration_unit='PERMANENT',\n",
    "        private_comment='bad quality'\n",
    "    )\n",
    ")\n",
    "\n",
    "pool.quality_control.add_action(\n",
    "    collector=toloka.collectors.GoldenSet(history_size=10),\n",
    "    conditions=[\n",
    "        toloka.conditions.GoldenSetCorrectAnswersRate <= 90.0,\n",
    "        toloka.conditions.GoldenSetAnswersCount >= 1\n",
    "    ],\n",
    "    action=toloka.actions.RestrictionV2(\n",
    "        scope='POOL',\n",
    "        duration_unit='PERMANENT',\n",
    "        private_comment='bad quality'\n",
    "    )\n",
    ")"
   ]
  },
  {
   "cell_type": "markdown",
   "metadata": {},
   "source": [
    "Specify\tthe number of tasks per page. We recommend putting as many tasks on one page as a performer can complete in 1 to 5 minutes. That way, performers are less likely to get tired, and they won’t lose a significant amount of data if a technical issue occurs.\n",
    "\n",
    "To learn more about [grouping tasks](https://toloka.ai/en/docs/guide/concepts/distribute-tasks-by-pages?utm_source=github&utm_medium=site&utm_campaign=tolokakit) into suites, read the Requester’s Guide."
   ]
  },
  {
   "cell_type": "code",
   "execution_count": null,
   "metadata": {},
   "outputs": [],
   "source": [
    "pool.set_mixer_config(\n",
    "    real_tasks_count=4,\n",
    "    golden_tasks_count=1,\n",
    ")"
   ]
  },
  {
   "cell_type": "markdown",
   "metadata": {},
   "source": [
    "Create pool"
   ]
  },
  {
   "cell_type": "code",
   "execution_count": null,
   "metadata": {},
   "outputs": [],
   "source": [
    "pool = toloka_client.create_pool(pool)"
   ]
  },
  {
   "cell_type": "markdown",
   "metadata": {},
   "source": [
    "## Preparing and uploading tasks\n",
    "\n",
    "> Note: Control tasks are tasks that already contain the correct response. They are used for checking the quality of responses from performers. The performer's response is compared to the response you provided. If they match, it means the performer answered correctly.`"
   ]
  },
  {
   "cell_type": "code",
   "execution_count": null,
   "metadata": {},
   "outputs": [],
   "source": [
    "golden_tasks = [\n",
    "    toloka.task.Task(\n",
    "        pool_id=pool.id,\n",
    "        input_values={'headline': row['headline']},\n",
    "        known_solutions = [\n",
    "            toloka.task.BaseTask.KnownSolution(\n",
    "                output_values={'category': row['category']}\n",
    "            )\n",
    "        ],\n",
    "        infinite_overlap=True,\n",
    "    )\n",
    "    for _, row in golden_dataset.iterrows()\n",
    "]\n",
    "tasks = [\n",
    "    toloka.task.Task(\n",
    "        pool_id=pool.id,\n",
    "        input_values={'headline': row['headline']},\n",
    "    )\n",
    "    for _, row in main_dataset.iterrows()\n",
    "]\n",
    "created_tasks = toloka_client.create_tasks(golden_tasks + tasks, allow_defaults=True)\n",
    "print(len(created_tasks.items))"
   ]
  },
  {
   "cell_type": "markdown",
   "metadata": {},
   "source": [
    "Start the pool and the training.\n",
    "\n",
    "**Important.** Remember that real Toloka performers will complete the tasks.\n",
    "Double check that everything is correct\n",
    "with your project configuration before you start the pool"
   ]
  },
  {
   "cell_type": "code",
   "execution_count": null,
   "metadata": {},
   "outputs": [],
   "source": [
    "training = toloka_client.open_training(training.id)\n",
    "print(training.status)\n",
    "pool = toloka_client.open_pool(pool.id)\n",
    "print(pool.status)"
   ]
  },
  {
   "cell_type": "markdown",
   "metadata": {},
   "source": [
    "## Receiving responses"
   ]
  },
  {
   "cell_type": "markdown",
   "metadata": {},
   "source": [
    "Wait until the pool is completed."
   ]
  },
  {
   "cell_type": "code",
   "execution_count": null,
   "metadata": {},
   "outputs": [],
   "source": [
    "pool_id = pool.id\n",
    "\n",
    "def wait_pool_for_close(pool_id, minutes_to_wait=1):\n",
    "    sleep_time = 60 * minutes_to_wait\n",
    "    pool = toloka_client.get_pool(pool_id)\n",
    "    while not pool.is_closed():\n",
    "        op = toloka_client.get_analytics([toloka.analytics_request.CompletionPercentagePoolAnalytics(subject_id=pool.id)])\n",
    "        op = toloka_client.wait_operation(op)\n",
    "        percentage = op.details['value'][0]['result']['value']\n",
    "        print(\n",
    "            f'   {datetime.datetime.now().strftime(\"%H:%M:%S\")}\\t'\n",
    "            f'Pool {pool.id} - {percentage}%'\n",
    "        )\n",
    "        time.sleep(sleep_time)\n",
    "        pool = toloka_client.get_pool(pool.id)\n",
    "    print('Pool was closed.')\n",
    "\n",
    "wait_pool_for_close(pool_id)"
   ]
  },
  {
   "cell_type": "markdown",
   "metadata": {},
   "source": [
    "Get responses\n",
    "\n",
    "When all the tasks are completed, look at the responses from performers."
   ]
  },
  {
   "cell_type": "code",
   "execution_count": 60,
   "metadata": {},
   "outputs": [
    {
     "name": "stdout",
     "output_type": "stream",
     "text": [
      "answers count: 300\n"
     ]
    }
   ],
   "source": [
    "answers = []\n",
    "\n",
    "for assignment in toloka_client.get_assignments(pool_id=pool_id, status='ACCEPTED'):\n",
    "    for task, solution in zip(assignment.tasks, assignment.solutions):\n",
    "        if not task.known_solutions:\n",
    "            answers.append([task.input_values['headline'], solution.output_values['category'], assignment.user_id])\n",
    "\n",
    "print(f'answers count: {len(answers)}')"
   ]
  },
  {
   "cell_type": "markdown",
   "metadata": {},
   "source": [
    "Aggregation results using the Dawid-Skene model. We use this aggregation model because our questions are of comparable difficulty, and we don't have many control tasks.\n",
    "\n",
    "Read more about the [Dawid-Skene model](https://toloka.ai/en/docs/guide/concepts/result-aggregation?utm_source=github&utm_medium=site&utm_campaign=tolokakit#aggr__dawid-skene) in the Requester’s Guide or get at an overview of different [aggregation models](https://toloka.ai/knowledgebase/aggregation) our Knowledge Base.\n",
    "\n",
    "More aggregation models in [Crowd-Kit](https://github.com/Toloka/crowd-kit#crowd-kit-computational-quality-control-for-crowdsourcing)."
   ]
  },
  {
   "cell_type": "code",
   "execution_count": 61,
   "metadata": {},
   "outputs": [
    {
     "name": "stdout",
     "output_type": "stream",
     "text": [
      "task\n",
      "The Cast Of \"The Office\" Reimagined As Disney Characters          notclickbait\n",
      "An Income Gap in Who May Lose TV                                  notclickbait\n",
      "Obama Speech Got Harsh Reviews on Bush Plane to Texas             notclickbait\n",
      "22 Reasons Cows Should Be Your Favorite Animal                       clickbait\n",
      "You'll Feel Really Dumb When You See How Simple Bagged Milk Is       clickbait\n",
      "                                                                      ...     \n",
      "US actor Gary Coleman dies aged 42                                notclickbait\n",
      "If Marvel Superheroes Had Kids                                       clickbait\n",
      "Kyrgyzstan to Give U.S. 6 Months to Leave Base                    notclickbait\n",
      "Two arrests made in Zotob worm attack                             notclickbait\n",
      "Puppies Eat Peanut Butter For The First Time                         clickbait\n",
      "Length: 100, dtype: object\n"
     ]
    }
   ],
   "source": [
    "# Prepare dataframe\n",
    "answers_df = pandas.DataFrame(answers, columns=['task', 'label', 'worker'])\n",
    "# Run aggregation\n",
    "predicted_answers = DawidSkene(n_iter=20).fit_predict(answers_df)\n",
    "\n",
    "print(predicted_answers)"
   ]
  }
 ],
 "metadata": {
  "kernelspec": {
   "display_name": "Python 3 (ipykernel)",
   "language": "python",
   "name": "python3"
  },
  "language_info": {
   "codemirror_mode": {
    "name": "ipython",
    "version": 3
   },
   "file_extension": ".py",
   "mimetype": "text/x-python",
   "name": "python",
   "nbconvert_exporter": "python",
   "pygments_lexer": "ipython3",
   "version": "3.9.12"
  }
 },
 "nbformat": 4,
 "nbformat_minor": 4
}
