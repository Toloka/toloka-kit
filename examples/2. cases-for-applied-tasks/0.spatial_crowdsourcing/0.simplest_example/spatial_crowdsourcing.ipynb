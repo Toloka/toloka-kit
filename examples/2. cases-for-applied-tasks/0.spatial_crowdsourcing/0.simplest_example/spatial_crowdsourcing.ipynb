{
 "cells": [
  {
   "cell_type": "markdown",
   "metadata": {},
   "source": [
    "# Spatial crowdsourcing example\n",
    "\n",
    "In this example, we will work with *field tasks*. Field tasks are available for performers only in Toloka mobile apps. Requesters set the field tasks, and performers choose them as points on the map. Performers are usually requested to visit the place and check something in person or take photos.\n",
    "\n",
    "**Examples:**\n",
    "\n",
    "* monitor prices, products, and outdoor items of interest ([case study](https://toloka.ai/blog/fuel?utm_source=github&utm_medium=site&utm_campaign=tolokakit));\n",
    "* play the role of *Secret Shopper*: leave reviews for stores and cafés;\n",
    "* collect data on businesses: whether a particular organization is closed or has changed its office hours;\n",
    "* monitor promotional events;\n",
    "* check on outdoor advertising and many more.\n",
    "\n",
    "\n",
    ">**Note:** For more information about field tasks, check out the Spatial Crowdsourcing page on our [website](https://toloka.ai/usecases/spatialcrowd?utm_source=github&utm_medium=site&utm_campaign=tolokakit) and more precisely [Toloka Requester's Guide](https://toloka.ai/en/docs/guide/tutorials/walk?utm_source=github&utm_medium=site&utm_campaign=tolokakit)."
   ]
  },
  {
   "cell_type": "markdown",
   "metadata": {},
   "source": [
    "### Call to action\n",
    "If you found some bugs or have a new feature idea, don't hesitate to [open a new issue on Github](https://github.com/Toloka/toloka-kit/issues/new/choose).\n",
    "Like our library and examples? Star [our repo on Github](https://github.com/Toloka/toloka-kit)"
   ]
  },
  {
   "cell_type": "markdown",
   "metadata": {},
   "source": [
    "## Introduction\n",
    "\n",
    "In this example, we will collect pictures of the Moscow metro entrances.\n",
    "Because usually spatial crowdsourcing assignments converge longer than others, for this example we have chosen the most frequently used stations. Many potential Toloka performers visit these subways every day.\n",
    "\n",
    "\n",
    "This example also can be reused for production tasks such as monitoring the state of objects, checking the presence of an organization or other physical object.\n",
    "\n",
    "For example to check:\n",
    "\n",
    "- that the area around the store is clean and tidy,\n",
    "- that the store has placed a new ad at the entrance,\n",
    "- how your advertisement was placed on the billboards,\n",
    "- the cleanliness of the waste disposal areas,\n",
    "- that the bench is installed correctly in the right place."
   ]
  },
  {
   "cell_type": "markdown",
   "metadata": {},
   "source": [
    "## Data preparation\n",
    "\n",
    "In most cases, field tasks are tied to a specific point on the map. In our case, these are subway entrances. The performer must come to the entrance and complete some actions.\n",
    "\n",
    "There is a way to set these points on the map through [toloka-kit](https://toloka.ai/en/docs/toloka-kit/?utm_source=github&utm_medium=site&utm_campaign=tolokakit).\n",
    "\n",
    "But first, let's take an example of the Okhotny Ryad metro station, from which it is easy to get to the Red Square and Kremlin. Let's open the maps in [Yandex](https://yandex.com/maps/213/moscow/search/metro%20Okhotny%20Ryad/?ll=37.617426%2C55.756762&sctx=ZAAAAAgBEAAaKAoSCfFmDd5XtSVAEXmxMEROl0hAEhIJAAAAAIAdV0ARe2X%2FuFTeQ0AoCjgAQNytB0gBVc3MzD5qAnJ1cACdAc3MTD2gAQCoAQC9AVmBJ6HCARH6tInp5AKeqLT7A%2Bi%2FyPT6BuoBAPIBAPgBAIICEm1ldHJvIE9raG90bnkgUnlhZIoCAA%3D%3D&sll=37.617426%2C55.756762&sspn=0.007170%2C0.002595&z=17.41) or [Google](https://www.google.com/maps/place/Okhotnyy+ryad/@55.7574454,37.615033,18z/data=!4m5!3m4!1s0x46b54a5adb3b8d5b:0x22be0270b70ed47d!8m2!3d55.757689!4d37.6164801). And find the required entrances.\n",
    "\n",
    "You will see something like this:\n",
    "\n",
    "<table  align=\"center\">\n",
    "  <tr><td>\n",
    "    <img src=\"./img/google_map1.png\"\n",
    "         alt=\"Okhotny Ryad on Google Maps\"  width=\"1000\">\n",
    "  </td></tr>\n",
    "  <tr><td align=\"center\">\n",
    "    <b>Figure 1.</b> Okhotny Ryad on Google Maps\n",
    "  </td></tr>\n",
    "  <tr><td><br><br></td></tr>\n",
    "  <tr><td>\n",
    "    <img src=\"./img/yandex_map1.png\"\n",
    "         alt=\"Okhotny Ryad on Yandex Maps\"  width=\"1000\">\n",
    "  </td></tr>\n",
    "  <tr><td align=\"center\">\n",
    "    <b>Figure 2.</b> Okhotny Ryad on Yandex Maps\n",
    "  </td></tr>\n",
    "</table>\n",
    "\n",
    "Now, to get the point on the map:\n",
    "\n",
    "1. Find the 1st entrance to the Okhotny Ryad metro station - a red-letter 'M' with a number 1 on the left side of the screen.\n",
    "\n",
    "2. *On Google Maps:* right-click on the entrance point and coordinates will immediately appear in a pop-up menu.\n",
    "\n",
    "    *On Yandex Maps:* click next to the entrance point, then click on the pop-up card 'Tverskaya Street,1' and coordinates will appear in the left menu.\n",
    "\n",
    ">**Note:** It is also helpful to switch maps to satellite mode or check yourself by panorama views.\n",
    "\n",
    "<table  align=\"center\">\n",
    "  <tr><td>\n",
    "    <img src=\"./img/google_map2.png\"\n",
    "         alt=\"Coordinates on Google Maps\"  width=\"1000\">\n",
    "  </td></tr>\n",
    "  <tr><td align=\"center\">\n",
    "    <b>Figure 3.</b> Coordinates on Google Maps\n",
    "  </td></tr>\n",
    "  <tr><td><br><br></td></tr>\n",
    "  <tr><td>\n",
    "    <img src=\"./img/yandex_map2.png\"\n",
    "         alt=\"Coordinates on Yandex Maps\"  width=\"1000\">\n",
    "  </td></tr>\n",
    "  <tr><td align=\"center\">\n",
    "    <b>Figure 4.</b> Coordinates on Yandex Maps\n",
    "  </td></tr>\n",
    "</table>\n",
    "\n",
    "We will get the following coordinates: 55.756916, 37.614546.\n",
    "\n",
    "These are latitude and longitude geographic coordinates expressed as [decimal fractions of a degree](https://en.wikipedia.org/wiki/Decimal_degrees)."
   ]
  },
  {
   "cell_type": "markdown",
   "metadata": {},
   "source": [
    "## Create a project\n",
    "\n",
    "### Set up the environment\n",
    "Specifically, we will use the following libraries:\n",
    "\n",
    "* `toloka-kit` to develop main Toloka functionalities;\n",
    "* `pandas` and `numpy` to perform data manipulation;\n",
    "* `ipyplot` to deal with images in Jupyter Notebooks."
   ]
  },
  {
   "cell_type": "code",
   "execution_count": null,
   "metadata": {},
   "outputs": [],
   "source": [
    "%%capture\n",
    "!pip install toloka-kit==0.1.26\n",
    "!pip install pandas\n",
    "!pip install ipyplot\n",
    "\n",
    "import datetime\n",
    "import io\n",
    "import logging\n",
    "import sys\n",
    "import getpass\n",
    "\n",
    "import ipyplot\n",
    "import pandas\n",
    "from PIL import Image\n",
    "\n",
    "import toloka.client as toloka\n",
    "import toloka.client.project.template_builder as tb"
   ]
  },
  {
   "cell_type": "code",
   "execution_count": null,
   "metadata": {},
   "outputs": [],
   "source": [
    "logging.basicConfig(\n",
    "    format='[%(levelname)s] %(name)s: %(message)s',\n",
    "    level=logging.INFO,\n",
    "    stream=sys.stdout,\n",
    ")"
   ]
  },
  {
   "cell_type": "markdown",
   "metadata": {},
   "source": [
    "Create a `TolokaClient` PRODUCTION or SANDBOX instance. All API calls will pass through it.\n",
    "\n",
    "Obtain your [OAuth token](https://toloka.ai/en/docs/api/concepts/access?utm_source=github&utm_medium=site&utm_campaign=tolokakit#access__token) from Toloka or [Toloka Sandbox](https://toloka.ai/en/docs/guide/concepts/sandbox?utm_source=github&utm_medium=site&utm_campaign=tolokakit)."
   ]
  },
  {
   "cell_type": "code",
   "execution_count": null,
   "metadata": {},
   "outputs": [],
   "source": [
    "toloka_client = toloka.TolokaClient(getpass.getpass('Enter your OAuth token: '), 'PRODUCTION') # Or switch to 'SANDBOX'\n",
    "print(toloka_client.get_requester())"
   ]
  },
  {
   "cell_type": "markdown",
   "metadata": {},
   "source": [
    "### Create a dataset\n",
    "We will use a ready-made dataset of Moscow metro entrances and select several stations from the circular (koltsevaya) line.\n",
    "\n",
    "This dataset is compiled by the Toloka team and is distributed under the Creative Commons Attribution 4.0 international license\n",
    "[![License: CC BY 4.0](https://img.shields.io/badge/License-CC%20BY%204.0-lightgrey.svg)](https://creativecommons.org/licenses/by/4.0/)\n"
   ]
  },
  {
   "cell_type": "code",
   "execution_count": null,
   "metadata": {},
   "outputs": [],
   "source": [
    "!curl https://tlk.s3.yandex.net/dataset/moscow_metro_entrance_2020_en.tsv --output dataset.tsv\n",
    "dataset = pandas.read_csv('dataset.tsv', sep='\\t')\n",
    "dataset = dataset[dataset['line'].isin(['Koltsevaya line'])].sample(frac=1).iloc[:5]\n",
    "print(dataset)"
   ]
  },
  {
   "cell_type": "markdown",
   "metadata": {},
   "source": [
    ">**Note:** Dataset contains not only the coordinates of the stations but also their names. In field tasks, the performer will come to the real object only once and must clearly understand what is required to do there.\n",
    "> It is always helpful to give as much information as possible so that the performer does not make a mistake.\n",
    "\n",
    "For example, attach a reference photo: from which angle you want to capture the entrance to the subway station.\n",
    "\n",
    "Otherwise, the performer may misunderstand the task and capture the object too close or too shallow. For example, capture only the door when we need a general plan, or capture a general building plan when we want a sign with the opening hours of the organization."
   ]
  },
  {
   "cell_type": "markdown",
   "metadata": {},
   "source": [
    "### Input and output data formats\n",
    "\n",
    "We need to decide what kind of data we have as input and what data we want to receive at the output.\n",
    "\n",
    "At the input, we have:\n",
    "\n",
    "- coordinates of the object (entrance);\n",
    "- station name and entrance number.\n",
    "\n",
    "At the output, we want to get:\n",
    "\n",
    "- verdict - if the object was found or not;\n",
    "- photos of the place itself, if the object is found;\n",
    "- photos of the surrounding area, if the object is not found - to make sure that the performer was where;\n",
    "- the coordinates of the performer at the time of task execution to check that it was the right place."
   ]
  },
  {
   "cell_type": "code",
   "execution_count": null,
   "metadata": {},
   "outputs": [],
   "source": [
    "input_specification = {\n",
    "    'coordinates': toloka.project.StringSpec(),\n",
    "    'entrance': toloka.project.StringSpec(),\n",
    "}\n",
    "output_specification = {\n",
    "    'verdict': toloka.project.StringSpec(),\n",
    "    'entrance_images': toloka.project.ArrayFileSpec(required=False),\n",
    "    'around_images': toloka.project.ArrayFileSpec(required=False),\n",
    "    'performer_coordinates':  toloka.project.CoordinatesSpec(current_location=True, required=False),\n",
    "    'comment': toloka.project.StringSpec(required=False),\n",
    "}"
   ]
  },
  {
   "cell_type": "markdown",
   "metadata": {},
   "source": [
    "### Create instructions for performers\n",
    "\n",
    "It is essential to prepare detailed instructions covering all the corner cases.\n",
    "\n",
    "Let's upload a prepared instruction from an HTML file and then analyze best practices for writing instruction for a task."
   ]
  },
  {
   "cell_type": "code",
   "execution_count": null,
   "metadata": {},
   "outputs": [],
   "source": [
    "prepared_instruction = open('instruction.html').read().strip()"
   ]
  },
  {
   "cell_type": "markdown",
   "metadata": {},
   "source": [
    "For field tasks, a good start for the instruction is configuring a device.\n",
    "\n",
    "\n",
    "<table  align=\"center\">\n",
    "  <tr><td>\n",
    "    <img src=\"./img/instruction1.png\"\n",
    "         alt=\"How to configure device\"  width=\"800\">\n",
    "  </td></tr>\n",
    "  <tr><td align=\"center\">\n",
    "    <b>Figure 5.</b> How to configure device\n",
    "  </td></tr>\n",
    "</table>\n",
    "\n",
    "Next, we describe the steps for completing the task.\n",
    "\n",
    "Be sure to provide exact steps what performers should do if something went wrong: there is no requested object or limited access to it, or something else went wrong.\n",
    "\n",
    "<table  align=\"center\">\n",
    "  <tr><td>\n",
    "    <img src=\"./img/instruction2.png\"\n",
    "         alt=\"Steps for performers\"  width=\"800\">\n",
    "  </td></tr>\n",
    "  <tr><td align=\"center\">\n",
    "    <b>Figure 6.</b> Steps for performers\n",
    "  </td></tr>\n",
    "</table>\n",
    "\n",
    "Then, it is always helpful to include requirements for photographs or other information you require from the performer.\n",
    "\n",
    "Usually, these requirements match with rules on how you will check the task.\n",
    "\n",
    "<table  align=\"center\">\n",
    "  <tr><td>\n",
    "    <img src=\"./img/instruction3.png\"\n",
    "         alt=\"Photo requirements\"  width=\"800\">\n",
    "  </td></tr>\n",
    "  <tr><td align=\"center\">\n",
    "    <b>Figure 7.</b> Photo requirements\n",
    "  </td></tr>\n",
    "</table>\n",
    "\n",
    "Another best practice is to provide examples of correctly taken photos and photos that will not be accepted in the task.\n",
    "\n",
    "<table  align=\"center\">\n",
    "  <tr><td>\n",
    "    <img src=\"./img/instruction4.png\"\n",
    "         alt=\"Photo examples\"  width=\"800\">\n",
    "  </td></tr>\n",
    "  <tr><td align=\"center\">\n",
    "    <b>Figure 8.</b> Photo examples\n",
    "  </td></tr>\n",
    "</table>"
   ]
  },
  {
   "cell_type": "markdown",
   "metadata": {},
   "source": [
    "### Project interface\n",
    "\n",
    "In the cell below, we define some UI elements of the project, such as the task's title, links, text fields, buttons, conditions. We use [template builder](https://toloka.ai/en/docs/toloka-kit/source/toloka.client.project.template_builder?utm_source=github&utm_medium=site&utm_campaign=tolokakit) (`tb`) instance from `toloka-kit`.\n",
    "\n",
    ">**Note:** You can also create an interface for this task in [Template Builder](https://clck.ru/SMCHv) web version using our [documentation](https://toloka.ai/en/docs/template-builder/?utm_source=github&utm_medium=site&utm_campaign=tolokakit)."
   ]
  },
  {
   "cell_type": "code",
   "execution_count": null,
   "metadata": {},
   "outputs": [],
   "source": [
    "# Project title\n",
    "header = tb.MarkdownViewV1('# Cleanliness at the entrance to the metro:\\n---')\n",
    "# Name of metro station and number of the entrance\n",
    "entrance_name = tb.TextViewV1(tb.InputData('entrance'), label='Entrance name:')\n",
    "# Situation on the spot\n",
    "# If the required entrance was found or not\n",
    "workflow_options = tb.ButtonRadioGroupFieldV1(\n",
    "    tb.OutputData('verdict'),\n",
    "    [\n",
    "        tb.GroupFieldOption('ok', 'I found the right entrance'),\n",
    "        tb.GroupFieldOption('no_obj', 'The required entrance is not there'),\n",
    "    ],\n",
    "    validation=tb.RequiredConditionV1(hint='Choose one of the answer options'),\n",
    ")\n",
    "\n",
    "# Task interface if the required object was found by a performer\n",
    "# First, we set all the elements that will be shown\n",
    "\n",
    "# Description on what to do next\n",
    "exist_header = tb.MarkdownViewV1('** Photos of the entrance from the right and left sides **\\n\\n_Take two photos of the entrance on the right and on the left. The photo should show the entire entrances and the floor. So that you can assess the cleanliness around the entrance to the metro._')\n",
    "\n",
    "# Links to examples\n",
    "example_links = tb.LinkGroupViewV1(\n",
    "    [\n",
    "        tb.LinkGroupViewV1.Link(\n",
    "            'https://tlk.s3.yandex.net/toloka-kit/images_for_instructions/0spatial_good1.png',\n",
    "            'Example1',\n",
    "        ),\n",
    "        tb.LinkGroupViewV1.Link(\n",
    "            'https://tlk.s3.yandex.net/toloka-kit/images_for_instructions/0spatial_good2.png',\n",
    "            'Example2',\n",
    "        ),\n",
    "        tb.LinkGroupViewV1.Link(\n",
    "            'https://tlk.s3.yandex.net/toloka-kit/images_for_instructions/0spatial_good3.png',\n",
    "            'Example3',\n",
    "        ),\n",
    "    ]\n",
    ")\n",
    "\n",
    "# Field for loading responses\n",
    "image_loader = tb.MediaFileFieldV1(\n",
    "    tb.OutputData('entrance_images'),\n",
    "    tb.MediaFileFieldV1.Accept(photo=True, gallery=True),\n",
    "    multiple=True,\n",
    "    validation=tb.RequiredConditionV1(hint='There must be at least 2 photos of the entrance: from the right and from the left'),\n",
    ")\n",
    "\n",
    "# Define the condition by which all the necessary interface elements will be shown\n",
    "exist_ui = tb.IfHelperV1(\n",
    "    tb.EqualsConditionV1('ok', tb.OutputData('verdict')),\n",
    "    tb.ListViewV1([exist_header, example_links, image_loader]),\n",
    ")\n",
    "\n",
    "# Task interface if the required object was NOT found by a performer\n",
    "# First, we set all the elements that will be shown\n",
    "\n",
    "# Description on what to do next\n",
    "miss_header = tb.MarkdownViewV1('**Take 4 photos in all directions**\\n\\n_So that we can understand where you are and that there is no entrance to the metro here._')\n",
    "\n",
    "# Field for loading responses\n",
    "miss_image_loader = tb.MediaFileFieldV1(\n",
    "    tb.OutputData('around_images'),\n",
    "    tb.MediaFileFieldV1.Accept(photo=True, gallery=True),\n",
    "    multiple=True,\n",
    "    validation=tb.RequiredConditionV1(hint='There must be at least 4 photos of the place'),\n",
    ")\n",
    "\n",
    "# Define the condition by which all the necessary interface elements will be shown\n",
    "miss_ui = tb.IfHelperV1(\n",
    "    tb.EqualsConditionV1('no_obj', tb.OutputData('verdict')),\n",
    "    tb.ListViewV1([miss_header, miss_image_loader]),\n",
    ")\n",
    "\n",
    "# Validation of the performer's geolocation\n",
    "coordinates_validation = tb.AllConditionV1(\n",
    "    [\n",
    "        # Check that geolocation reading is generally possible\n",
    "        tb.RequiredConditionV1(\n",
    "            tb.OutputData('performer_coordinates'),\n",
    "            hint=\"Couldn't get your coordinates. Please enable geolocation.\",\n",
    "        ),\n",
    "        # Check that the performer is close enough to the required location\n",
    "        tb.DistanceConditionV1(\n",
    "            tb.LocationData(),\n",
    "            tb.InputData('coordinates'),\n",
    "            max=500,\n",
    "            hint='You are too far from the entrance.',\n",
    "        ),\n",
    "    ]\n",
    ")\n",
    "\n",
    "# Plugin to make tasks look nice in the performer's interface\n",
    "task_width_plugin = tb.TolokaPluginV1(\n",
    "    layout = tb.TolokaPluginV1.TolokaPluginLayout('scroll', task_width=400)\n",
    ")\n",
    "\n",
    "# Plugin for writing device coordinates at the time of task's execution to the output\n",
    "coordinates_save_plugin = tb.TriggerPluginV1(\n",
    "    fire_immediately=True,\n",
    "    action=tb.SetActionV1(\n",
    "        tb.OutputData('performer_coordinates'),\n",
    "        tb.LocationData()\n",
    "    ),\n",
    ")\n",
    "\n",
    "# How performers will see the task\n",
    "project_interface = toloka.project.TemplateBuilderViewSpec(\n",
    "    view=tb.ListViewV1(\n",
    "        [header, entrance_name, workflow_options, exist_ui, miss_ui],\n",
    "        validation=coordinates_validation,\n",
    "    ),\n",
    "    plugins=[task_width_plugin, coordinates_save_plugin]\n",
    ")\n",
    "\n",
    "print('interface prepared')"
   ]
  },
  {
   "cell_type": "markdown",
   "metadata": {},
   "source": [
    "The performer will see the interface like this:\n",
    "\n",
    "<table  align=\"center\">\n",
    "  <tr>\n",
    "  <td>\n",
    "    <img src=\"./img/performer_interface1.jpg\"\n",
    "         alt=\"Photo examples\"  width=\"350\">\n",
    "  </td>\n",
    "  <td>\n",
    "    <img src=\"./img/performer_interface2.jpg\"\n",
    "         alt=\"Photo examples\"  width=\"350\">\n",
    "  </td>\n",
    "  <td>\n",
    "    <img src=\"./img/performer_interface3.jpg\"\n",
    "         alt=\"Photo examples\"  width=\"350\">\n",
    "  </td>\n",
    "  </tr>\n",
    "  <td colspan=\"3\" align=\"center\">\n",
    "    <b>Figure 9.</b> How performer will see your task\n",
    "  </td></tr>\n",
    "</table>"
   ]
  },
  {
   "cell_type": "markdown",
   "metadata": {},
   "source": [
    "### Create a project in Toloka\n",
    "\n",
    "Finally, we can create an instance of the [Project class](https://toloka.ai/en/docs/toloka-kit/source/toloka.client.project#module-toloka.client.project?utm_source=github&utm_medium=site&utm_campaign=tolokakit) and send it to Toloka or Toloka Sandbox.\n",
    "\n",
    "The project with all the instructions and interface will appear in your [Toloka Requester's account](https://platform.toloka.ai/requester?utm_source=github&utm_medium=site&utm_campaign=tolokakit)."
   ]
  },
  {
   "cell_type": "code",
   "execution_count": null,
   "metadata": {},
   "outputs": [],
   "source": [
    "project = toloka.Project(\n",
    "    public_name='Cleanliness of metro entrances',\n",
    "    public_description='Take two photos of the entrance on the right and on the left. The photo should show the entire entrances and the floor. So that you can assess the cleanliness around the entrance to the metro.',\n",
    "    public_instructions=prepared_instruction,\n",
    "    # We indicate that this task is selected by the performer on the map.\n",
    "    # Tasks without reference to the map are displayed simply as a list.\n",
    "    assignments_issuing_type='MAP_SELECTOR',\n",
    "    # We will indicate how the title of the task and description will be displayed on the map\n",
    "    assignments_issuing_view_config=toloka.Project.AssignmentsIssuingViewConfig(\n",
    "        title_template='Photo metro entrance',  # Set title as a constant\n",
    "        description_template='{{inputParams[\"entrance\"]}}',  # Set description from the input parameters\n",
    "                                                            # That way we can have different description for each point on the map\n",
    "    ),\n",
    "    task_spec=toloka.project.task_spec.TaskSpec(\n",
    "        input_spec=input_specification,\n",
    "        output_spec=output_specification,\n",
    "        view_spec=project_interface\n",
    "    ),\n",
    ")\n",
    "\n",
    "project = toloka_client.create_project(project)"
   ]
  },
  {
   "cell_type": "markdown",
   "metadata": {},
   "source": [
    "## Create a pool\n",
    "\n",
    "Here we create an instance of the [Pool class](https://toloka.ai/en/docs/toloka-kit/source/toloka.client.pool?utm_source=github&utm_medium=site&utm_campaign=tolokakit) and send it to Toloka or Toloka Sandbox.\n",
    "\n",
    "The pool is a set of tasks sent out to performers. Learn more about working with a [pool](https://toloka.ai/en/docs/guide/concepts/pool-main?utm_source=github&utm_medium=site&utm_campaign=tolokakit)."
   ]
  },
  {
   "cell_type": "code",
   "execution_count": null,
   "metadata": {},
   "outputs": [],
   "source": [
    "pool = toloka.Pool(\n",
    "    project_id=project.id,\n",
    "    private_name='Metro entrances',\n",
    "    may_contain_adult_content=False,\n",
    "    will_expire=datetime.datetime.utcnow() + datetime.timedelta(days=10),\n",
    "    reward_per_assignment=2,\n",
    "    assignment_max_duration_seconds=60 * 60 * 2,  # We give 2 hours to complete the task,\n",
    "                                                  # So that performer has time to book a task, get there and complete it.\n",
    "    auto_accept_solutions=False,    # We will check the completed tasks manually before paying for them.\n",
    "    auto_accept_period_day=5,       # Number of days to determine if we pay\n",
    "    # Only performers from the Toloka mobile application are allowed to pick field tasks\n",
    "    filter=(\n",
    "        (toloka.filter.ClientType == 'TOLOKA_APP') &\n",
    "        (toloka.filter.Languages.in_('EN')) &\n",
    "        (toloka.filter.RegionByPhone.in_(225)) &  # Russia\n",
    "        (toloka.filter.RegionByIp.in_(213))  # Moscow\n",
    "    ),\n",
    "    defaults=toloka.Pool.Defaults(\n",
    "        # Overlap is not used for most field tasks\n",
    "        default_overlap_for_new_task_suites=1,\n",
    "        default_overlap_for_new_tasks=1,\n",
    "    ),\n",
    ")\n",
    "\n",
    "pool = toloka_client.create_pool(pool)"
   ]
  },
  {
   "cell_type": "markdown",
   "metadata": {},
   "source": [
    "## Add tasks and run the pool\n",
    "\n",
    "To add tasks and bind them to map coordinates, you need to create instances of [TaskSuite](https://toloka.ai/en/docs/toloka-kit/source/toloka.client?utm_source=github&utm_medium=site&utm_campaign=tolokakit#module-toloka.client.task_suite) class. Only `TaskSuites` allow bindings with geolocation."
   ]
  },
  {
   "cell_type": "code",
   "execution_count": null,
   "metadata": {},
   "outputs": [],
   "source": [
    "task_suites = [\n",
    "    toloka.TaskSuite(\n",
    "        pool_id=pool.id,\n",
    "        latitude=round(row['latitude'], 10),  # First number in a pair of coordinates\n",
    "        longitude=round(row['longitude'], 10),  # Second number\n",
    "        overlap=1,\n",
    "        tasks=[\n",
    "            toloka.Task(input_values={\n",
    "                'entrance': row['name'],\n",
    "                'coordinates': f\"{round(row['latitude'], 10)}, {round(row['longitude'], 10)}\"\n",
    "            })\n",
    "        ],\n",
    "    )\n",
    "    for i, row in dataset.iterrows()]\n",
    "\n",
    "task_suites = toloka_client.create_task_suites(task_suites)\n",
    "\n",
    "pool_id = pool.id\n",
    "pool = toloka_client.open_pool(pool.id)"
   ]
  },
  {
   "cell_type": "markdown",
   "metadata": {},
   "source": [
    "## Get results and check them\n",
    "\n",
    "Validation of field tasks differs from validation of other types of tasks.\n",
    "\n",
    "We suggest using the following rules for field task validation:\n",
    "\n",
    "1. First, you need to check that the performer came where you wanted. We did this in the task interface by comparing the device coordinates with the required coordinates.\n",
    "\n",
    "    But it will be helpful to cross-check that the user has attached real photographs of the place you required. For example, check panorama views on Yandex or Google Maps. Or an old photo of the same place, if you have one.\n",
    "\n",
    "2. Secondly, you need to remember what you pay the performer, even if the object does not exist on the spot. It is not the fault of the performer.\n",
    "\n",
    "    The performer came and verified this information for you, and for that work should be paid with the same reward.\n",
    "\n",
    "3. In the third, field tasks usually converge much slower, and there is no point in waiting for the entire pool to close. We suggest retrieving completed tasks from the pool and sending them for verification periodically.\n",
    "\n",
    "    This allows you to collect information faster. And the performers get the well-deserved reward more quickly."
   ]
  },
  {
   "cell_type": "markdown",
   "metadata": {},
   "source": [
    "If you interrupted the execution of this notebook, uncomment the code below and include your `Pool ID`.\n",
    "\n",
    "\n",
    "\n"
   ]
  },
  {
   "cell_type": "code",
   "execution_count": null,
   "metadata": {},
   "outputs": [],
   "source": [
    "# pool_id = '23461858'"
   ]
  },
  {
   "cell_type": "markdown",
   "metadata": {},
   "source": [
    "Let's get all completed but not yet verified tasks from our pool:"
   ]
  },
  {
   "cell_type": "code",
   "execution_count": null,
   "metadata": {},
   "outputs": [],
   "source": [
    "results_list = []\n",
    "\n",
    "for assignment in toloka_client.get_assignments(pool_id=pool_id, status='SUBMITTED'):\n",
    "    for task, solution in zip(assignment.tasks, assignment.solutions):\n",
    "        results_list.append({\n",
    "            'assignment_id': assignment.id,\n",
    "            'input_values': task.input_values,\n",
    "            'output_values': solution.output_values\n",
    "        })\n",
    "\n",
    "print(f'New results received: {len(results_list)}' if len(results_list) > 0 else 'Not received any new results yet, try to run this cell later.')\n",
    "\n",
    "results_iter = iter(results_list)"
   ]
  },
  {
   "cell_type": "markdown",
   "metadata": {},
   "source": [
    "If you get at least one result, you can run the cells below. In the first one, you see all the information received. In the second and third, you can accept or reject the assignment.\n",
    "\n",
    "You can execute these cells several times."
   ]
  },
  {
   "cell_type": "code",
   "execution_count": null,
   "metadata": {},
   "outputs": [],
   "source": [
    "res = next(results_iter, None)\n",
    "\n",
    "if res is not None:\n",
    "    images = []\n",
    "    for id in res['output_values']['entrance_images']:\n",
    "        out_b = io.BytesIO()\n",
    "        toloka_client.download_attachment(id, out_b)\n",
    "        images.append(Image.open(out_b).convert('RGBA'))\n",
    "\n",
    "    print(f\"Entrance name:\\t\\t{res['input_values']['station']}\")\n",
    "    print(f\"Object found:\\t\\t{res['output_values']['verdict']}\")\n",
    "    print(f\"Object coordinates:\\t{res['input_values']['coordinates']}\")\n",
    "    print(f\"Performer coordinates:\\t{res['output_values']['performer_coordinates']}\")\n",
    "    ipyplot.plot_images(\n",
    "        images,\n",
    "        max_images=10,\n",
    "        img_width=600,\n",
    "    )\n",
    "else:\n",
    "    print('No more results')"
   ]
  },
  {
   "cell_type": "markdown",
   "metadata": {},
   "source": [
    "Now let's try to reject or accept the completed assignment.\n",
    "\n",
    "Remember that it will be automatically accepted after the time specified when creating the pool.\n",
    "\n",
    "If you try to accept or reject the same task twice, you will get an error."
   ]
  },
  {
   "cell_type": "code",
   "execution_count": null,
   "metadata": {},
   "outputs": [],
   "source": [
    "# If you want to accept assignment\n",
    "if res is not None:\n",
    "    updated_assignment = toloka_client.accept_assignment(res['assignment_id'], 'Well done!')\n",
    "    print(updated_assignment.status)"
   ]
  },
  {
   "cell_type": "code",
   "execution_count": null,
   "metadata": {},
   "outputs": [],
   "source": [
    "# If you want to reject assignment\n",
    "if res is not None:\n",
    "    updated_assignment = toloka_client.reject_assignment(res['assignment_id'], 'Type your issue here')\n",
    "    print(updated_assignment.status)"
   ]
  },
  {
   "cell_type": "markdown",
   "metadata": {},
   "source": [
    ">**Note:** You do not have to check all the photos you received by yourself. You can also validate field tasks through Toloka. Check how it's done in our [object detection example.](https://github.com/Toloka/toloka-kit/tree/main/examples/1.computer_vision/object_detection) [![Open In Colab](https://colab.research.google.com/assets/colab-badge.svg)](https://colab.research.google.com/github/Toloka/toloka-kit/blob/main/examples/1.computer_vision/object_detection/object_detection.ipynb)"
   ]
  },
  {
   "cell_type": "markdown",
   "metadata": {},
   "source": [
    "## Summary\n",
    "We have considered the simple example of a field task. In fact, with field tasks, you can carry out various projects: from a Secret Shopper to monitoring the state of urban infrastructure.\n",
    "\n",
    "The main takeaway is not to forget about the specifics of such projects: give the most detailed instructions to the performers and carefully check the results."
   ]
  }
 ],
 "metadata": {
  "kernelspec": {
   "display_name": "Python 3 (ipykernel)",
   "language": "python",
   "name": "python3"
  },
  "language_info": {
   "codemirror_mode": {
    "name": "ipython",
    "version": 3
   },
   "file_extension": ".py",
   "mimetype": "text/x-python",
   "name": "python",
   "nbconvert_exporter": "python",
   "pygments_lexer": "ipython3",
   "version": "3.9.12"
  }
 },
 "nbformat": 4,
 "nbformat_minor": 2
}
