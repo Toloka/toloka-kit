{
 "cells": [
  {
   "cell_type": "markdown",
   "metadata": {},
   "source": [
    "# Search relevance\n",
    "\n",
    "We have a set of search queries and products on a website. We need to determine the extent to which each query is relevant to the corresponding product on the website. We ask performers to look at the search query and the product image from the website and rate the relevance level."
   ]
  },
  {
   "cell_type": "markdown",
   "metadata": {},
   "source": [
    "### Call to action\n",
    "If you found some bugs or have a new feature idea, don't hesitate to [open a new issue on Github](https://github.com/Toloka/toloka-kit/issues/new/choose).\n",
    "Like our library and examples? Star [our repo on Github](https://github.com/Toloka/toloka-kit)"
   ]
  },
  {
   "cell_type": "markdown",
   "metadata": {},
   "source": [
    "Prepare environment and import all we'll need."
   ]
  },
  {
   "cell_type": "code",
   "execution_count": null,
   "metadata": {},
   "outputs": [],
   "source": [
    "%%capture\n",
    "!pip install toloka-kit==0.1.26\n",
    "!pip install crowd-kit==1.0.0\n",
    "\n",
    "import datetime\n",
    "import sys\n",
    "import time\n",
    "import logging\n",
    "import getpass\n",
    "import urllib.request\n",
    "\n",
    "import pandas\n",
    "import numpy as np\n",
    "\n",
    "import toloka.client as toloka\n",
    "import toloka.client.project.template_builder as tb\n",
    "from crowdkit.aggregation import DawidSkene"
   ]
  },
  {
   "cell_type": "code",
   "execution_count": null,
   "metadata": {},
   "outputs": [],
   "source": [
    "logging.basicConfig(\n",
    "    format='[%(levelname)s] %(name)s: %(message)s',\n",
    "    level=logging.INFO,\n",
    "    stream=sys.stdout,\n",
    ")"
   ]
  },
  {
   "cell_type": "markdown",
   "metadata": {},
   "source": [
    "Сreate toloka-client instance. All api calls will go through it. More about OAuth token in our [Learn the basics example](https://github.com/Toloka/toloka-kit/tree/main/examples/0.getting_started/0.learn_the_basics) [![Open In Colab](https://colab.research.google.com/assets/colab-badge.svg)](https://colab.research.google.com/github/Toloka/toloka-kit/blob/main/examples/0.getting_started/0.learn_the_basics/learn_the_basics.ipynb)"
   ]
  },
  {
   "cell_type": "code",
   "execution_count": null,
   "metadata": {},
   "outputs": [],
   "source": [
    "toloka_client = toloka.TolokaClient(getpass.getpass('Enter your OAuth token: '), 'PRODUCTION') # Or switch to 'SANDBOX'\n",
    "print(toloka_client.get_requester())"
   ]
  },
  {
   "cell_type": "markdown",
   "metadata": {},
   "source": [
    "## Create a project\n",
    "Enter a clear project name and description.\n",
    "> Note: The project name and description will be visible to the performers."
   ]
  },
  {
   "cell_type": "code",
   "execution_count": null,
   "metadata": {},
   "outputs": [],
   "source": [
    "project = toloka.Project(\n",
    "    public_name='Classify search query relevance',\n",
    "    public_description='Analyze a website with a product and decide to what extent it meets the search query',\n",
    ")"
   ]
  },
  {
   "cell_type": "markdown",
   "metadata": {},
   "source": [
    "Create task interface.\n",
    "> Read about configuring the [task interface](https://toloka.ai/en/docs/guide/reference/interface-spec?utm_source=github&utm_medium=site&utm_campaign=tolokakit) in the Requester’s Guide.\n",
    "\n",
    "> Check the [Interface section](https://toloka.ai/knowledgebase/interface?utm_source=github&utm_medium=site&utm_campaign=tolokakit) of our Knowledge Base for more tips on interface design.\n",
    "\n",
    "This interface contains a query, a picture of a product, and its title, which needs to be assessed. There is a button for checking this query in Google, which is handy because the query might not be obvious and performers will often need to look it up. There is also a plugin that checks if a label was really chosen."
   ]
  },
  {
   "cell_type": "code",
   "execution_count": null,
   "metadata": {},
   "outputs": [],
   "source": [
    "# left column\n",
    "product_image = tb.ImageViewV1(tb.InputData('imagepath'))\n",
    "product_description = tb.MarkdownViewV1(tb.InputData('title'), label='Product title:')\n",
    "\n",
    "# right column\n",
    "request = tb.AlertViewV1(tb.TextViewV1(tb.InputData('query')), label='Search query', theme='info')\n",
    "google_link = tb.ActionButtonViewV1(tb.OpenLinkActionV1(tb.InputData('search_url')), label='Search query in Google')\n",
    "divider = tb.DividerViewV1()\n",
    "label = tb.RadioGroupFieldV1(\n",
    "    tb.OutputData('result_class'),\n",
    "    label='Choose relevance class',\n",
    "    options=[\n",
    "        tb.GroupFieldOption('relevant', 'Relevant'),\n",
    "        tb.GroupFieldOption('relevant_minus', 'Slightly relevant'),\n",
    "        tb.GroupFieldOption('irrelevant', 'Irrelevant'),\n",
    "    ],\n",
    "    validation=tb.RequiredConditionV1()\n",
    "    )\n",
    "\n",
    "# create interface with two columns\n",
    "general_interface = tb.SidebarLayoutV1(\n",
    "    tb.ListViewV1([product_image, product_description], direction='vertical'),\n",
    "    tb.ListViewV1([request, google_link, divider, label], direction='vertical'),\n",
    "    min_width=400,\n",
    ")\n",
    "\n",
    "task_width_plugin = tb.TolokaPluginV1(\n",
    "    layout=tb.TolokaPluginV1.TolokaPluginLayout(\n",
    "        kind='scroll',\n",
    "        task_width=600,\n",
    "    )\n",
    ")\n",
    "\n",
    "project_interface = toloka.project.TemplateBuilderViewSpec(\n",
    "    view=tb.ListViewV1([general_interface]),\n",
    "    plugins=[task_width_plugin],\n",
    ")"
   ]
  },
  {
   "cell_type": "markdown",
   "metadata": {},
   "source": [
    "For performers, our interface will look like this.\n",
    "\n",
    "<table  align=\"center\">\n",
    "  <tr><td>\n",
    "    <img src=\"./img/performer_interface.png\"\n",
    "         alt=\"Task page\"  width=\"1000\">\n",
    "  </td></tr>\n",
    "  <tr><td align=\"center\">\n",
    "    <b>Figure 1.</b> What the task can looks like.\n",
    "  </td></tr>\n",
    "</table>"
   ]
  },
  {
   "cell_type": "markdown",
   "metadata": {},
   "source": [
    "Specifications are a description of input data that will be used in a project and the output data that will be collected from the performers.\n",
    "\n",
    "We are using screenshots to make this demo more robust against possible webpage changes. Another way is to use an iframe and let the performers assess the whole webpage.\n",
    "\n",
    "> Read more about [input and output data specifications](https://yandex.ru/support/toloka-tb/operations/create-specs.html?utm_source=github&utm_medium=site&utm_campaign=tolokakit) in the Requester’s Guide."
   ]
  },
  {
   "cell_type": "code",
   "execution_count": null,
   "metadata": {},
   "outputs": [],
   "source": [
    "input_specification = {\n",
    "    'imagepath': toloka.project.UrlSpec(),\n",
    "    'title': toloka.project.StringSpec(),\n",
    "    'query': toloka.project.StringSpec(),\n",
    "    'search_url': toloka.project.UrlSpec(),\n",
    "}\n",
    "output_specification = {'result_class': toloka.project.StringSpec()}\n",
    "\n",
    "project.task_spec = toloka.project.task_spec.TaskSpec(\n",
    "    input_spec=input_specification,\n",
    "    output_spec=output_specification,\n",
    "    view_spec=project_interface,\n",
    ")"
   ]
  },
  {
   "cell_type": "markdown",
   "metadata": {},
   "source": [
    "Write comprehensive instructions.\n",
    "\n",
    "Instructions are essential for complex tasks like relevance evaluation that are based on a set of rules and various criteria. Make sure to not only describe the general idea, but also go through examples and explain the evaluation logic in each case. We recommend trying to evaluate around two dozen cases yourself to get more insights for the instructions.\n",
    "\n",
    "> Get more tips on [designing instructions](https://toloka.ai/knowledgebase/instruction?utm_source=github&utm_medium=site&utm_campaign=tolokakit) in our Knowledge Base."
   ]
  },
  {
   "cell_type": "code",
   "execution_count": null,
   "metadata": {},
   "outputs": [],
   "source": [
    "project.public_instructions = \"\"\"Your task is to determine whether a product is relevant to the search query and to what degree.<br>\n",
    "<br>\n",
    "Imagine that you're searching for this product and get such an answer for your query.<br>\n",
    "<br>\n",
    "<b>Basic steps:</b>\n",
    "<ul><li>Look at the title and the image of the product</li>\n",
    "<li>Compare it with the query</li>\n",
    "<li>Choose the most appropriate level of relevance from Relevant, Slightly relevant or Irrelevant&nbsp;.</li></ul>\n",
    "<br>\n",
    "<i>If image is too small click on the expand button!</i>\n",
    "<br>\n",
    "Relevant:<br>\n",
    "<ol><li>The product fully matches the query</li></ol>\n",
    "<br>\n",
    "Slightly relevant:<br>\n",
    "<ol><li>The product is somewhat right but some properties are different</li></ol>\n",
    "<br>\n",
    "Irrelevant:<br>\n",
    "<ol><li>There is a completely different product in the image</li>\n",
    "<li>The title doesn't match the query at all</li></ol>\n",
    "\"\"\""
   ]
  },
  {
   "cell_type": "code",
   "execution_count": null,
   "metadata": {},
   "outputs": [],
   "source": [
    "example_images = [\n",
    "    {\n",
    "        'label': 'Relevant',\n",
    "        'product': 'Bodum Bistro Electric Burr Coffee Grinder-(Brand New)',\n",
    "        'query': 'coffee grinder',\n",
    "        'img_url': 'https://tlklab.s3.yandex.net/screenshots/1026.jpg'\n",
    "    },\n",
    "    {\n",
    "        'label': 'Slightly relevant',\n",
    "        'product': 'The Hobbit: The Desolation of Smaug',\n",
    "        'query': 'Bluray Hobbit extended',\n",
    "        'img_url': 'https://tlklab.s3.yandex.net/screenshots/1037.jpg'\n",
    "    },\n",
    "    {\n",
    "        'label': 'Irrelevant',\n",
    "        'product': 'NEW IKEA RUSCH BATTERY OPERATED WHITE WALL CLOCK',\n",
    "        'query': 'stop watches',\n",
    "        'img_url': 'https://tlklab.s3.yandex.net/screenshots/1066.jpg'\n",
    "    },\n",
    "]\n",
    "\n",
    "table_rows = ''.join([\n",
    "    f'<tr><td>{row[\"label\"]}</td>'\n",
    "    f'<td>{row[\"product\"]}</td>'\n",
    "    f'<td>{row[\"query\"]}</td>'\n",
    "    f'<td><img alt=\"{row[\"label\"]}\" src=\"{row[\"img_url\"]}\" width=\"200\" height=\"205\"></td></tr>\\n'\n",
    "    for row in example_images\n",
    "])\n",
    "\n",
    "project.public_instructions = project.public_instructions + f\"\"\"\n",
    "<br>\n",
    "<b>Examples:</b><br>\n",
    "<table border=\"1\">\n",
    "<tr><td>Class</td><td>Product</td><td>Query</td><td>Image</td></tr>\n",
    "{table_rows}\n",
    "</table>\n",
    "\"\"\""
   ]
  },
  {
   "cell_type": "markdown",
   "metadata": {},
   "source": [
    "Create a project."
   ]
  },
  {
   "cell_type": "code",
   "execution_count": null,
   "metadata": {},
   "outputs": [],
   "source": [
    "project = toloka_client.create_project(project)"
   ]
  },
  {
   "cell_type": "markdown",
   "metadata": {},
   "source": [
    "## Preparing data\n",
    "This example uses [eCommerce search relevance](https://data.world/crowdflower/ecommerce-search-relevance) that distributed under Public Domain License [![License: ODbL](https://img.shields.io/badge/License-PDDL-brightgreen.svg)](https://opendatacommons.org/licenses/pddl/)\n",
    "\n",
    "Let's load this dataset and split it."
   ]
  },
  {
   "cell_type": "code",
   "execution_count": null,
   "metadata": {},
   "outputs": [],
   "source": [
    "!curl https://tlk.s3.yandex.net/ext_dataset/ecommerce_search_relevance.csv --output dataset.csv\n",
    "\n",
    "dataset = pandas.read_csv('dataset.csv')\n",
    "dataset = dataset.sample(frac=1).reset_index(drop=True)\n",
    "\n",
    "with pandas.option_context(\"max_colwidth\", 100):\n",
    "    display(dataset)"
   ]
  },
  {
   "cell_type": "markdown",
   "metadata": {},
   "source": [
    "Because it's old dataset, we need to check images. Let's take 80 rows with valid images:\n",
    "- 10 - for training\n",
    "- 10 - for exam\n",
    "- 10 - for golden-set in the main pool\n",
    "- 50 - main tasks"
   ]
  },
  {
   "cell_type": "code",
   "execution_count": null,
   "metadata": {},
   "outputs": [],
   "source": [
    "rows_cnt = 80\n",
    "new_dataset = pandas.DataFrame(columns=['relevance', 'product_image', 'product_title', 'query'])\n",
    "for row in dataset.itertuples():\n",
    "    try:\n",
    "        response = urllib.request.urlopen(row.product_image)\n",
    "        data = response.read()\n",
    "        if len(data) > 2000:\n",
    "            new_dataset = new_dataset.append(\n",
    "                {\n",
    "                    'relevance': row.relevance,\n",
    "                    'product_image': row.product_image,\n",
    "                    'product_title': row.product_title,\n",
    "                    'query': row.query,\n",
    "                },\n",
    "                ignore_index=True\n",
    "            )\n",
    "            print(len(new_dataset), row.product_image)\n",
    "            if len(new_dataset) >= rows_cnt:\n",
    "                break\n",
    "    except:\n",
    "        pass"
   ]
  },
  {
   "cell_type": "markdown",
   "metadata": {},
   "source": [
    "Split dataset into 4 parts."
   ]
  },
  {
   "cell_type": "code",
   "execution_count": null,
   "metadata": {},
   "outputs": [],
   "source": [
    "dataset_with_answers = new_dataset[~new_dataset['relevance'].isna()].head(30)\n",
    "main_dataset = new_dataset.drop(dataset_with_answers.index)\n",
    "training_dataset, exam_dataset, gold_dataset = np.split(dataset_with_answers, [10, 20], axis=0)\n",
    "\n",
    "print(f'training_dataset - {len(training_dataset)}')\n",
    "print(f'exam_dataset - {len(exam_dataset)}')\n",
    "print(f'gold_dataset - {len(gold_dataset)}')\n",
    "print(f'main_dataset - {len(main_dataset)}')"
   ]
  },
  {
   "cell_type": "markdown",
   "metadata": {},
   "source": [
    "In the dataset relevance is a float, where 1.0 is \"irrelevant\" and 4.0 is absolutely \"relevant\". But in our project, we need three string labels. Let's prepare function to convert one to another."
   ]
  },
  {
   "cell_type": "code",
   "execution_count": null,
   "metadata": {},
   "outputs": [],
   "source": [
    "def str_relevance(relevance: float) -> str:\n",
    "    if relevance > 3:\n",
    "        return 'relevant'\n",
    "    if relevance > 2:\n",
    "        return 'relevant_minus'\n",
    "    return 'irrelevant'\n",
    "\n",
    "print(str_relevance(1.0))\n",
    "print(str_relevance(3.0))\n",
    "print(str_relevance(3.66))"
   ]
  },
  {
   "cell_type": "markdown",
   "metadata": {},
   "source": [
    "## Create a training pool\n",
    "\n",
    "Since relevance evaluation is based on rules, not just common sense or certain skills, we recommend investing some time on learning how to explain all the rules. Training needs to involve both common and extreme cases. The comments should explain the underlying logic rather than just state the correct answers.\n",
    "\n",
    "> A well-grounded training exercise is also a great tool for scaling your task, because you can run it any time you need new performers.\n",
    "\n",
    "Read more about [selecting performers](https://toloka.ai/knowledgebase/quality-control?utm_source=github&utm_medium=site&utm_campaign=tolokakit) in our Knowledge Base.\n",
    "\n",
    "Read more about [training pools](https://toloka.ai/en/docs/guide/concepts/train?utm_source=github&utm_medium=site&utm_campaign=tolokakit) in our Requester’s Guide."
   ]
  },
  {
   "cell_type": "code",
   "execution_count": null,
   "metadata": {},
   "outputs": [],
   "source": [
    "training = toloka.Training(\n",
    "    project_id=project.id,\n",
    "    private_name='Search relevance training',\n",
    "    may_contain_adult_content=False,\n",
    "    assignment_max_duration_seconds=60*10,\n",
    "    mix_tasks_in_creation_order=True,\n",
    "    shuffle_tasks_in_task_suite=True,\n",
    "    training_tasks_in_task_suite_count=2,\n",
    "    task_suites_required_to_pass=5,\n",
    "    retry_training_after_days=2,\n",
    "    inherited_instructions=True,\n",
    ")\n",
    "training = toloka_client.create_training(training)"
   ]
  },
  {
   "cell_type": "markdown",
   "metadata": {},
   "source": [
    "Upload training tasks to the pool, without opening the training pool.\n",
    "\n",
    "> We recommend opening the training pool along with the main pool. Otherwise Tolokers will spend their time on training but get no access to real tasks, which is frustrating. Also, do not forget to close the training pool when there are no main tasks available anymore."
   ]
  },
  {
   "cell_type": "code",
   "execution_count": null,
   "metadata": {},
   "outputs": [],
   "source": [
    "hint_messages = {\n",
    "    'irrelevant': 'The product does not fit the request.',\n",
    "    'relevant_minus': 'The product is similar, but does not fully satisfy the request.',\n",
    "    'relevant': 'Product is satisfied.',\n",
    "}\n",
    "\n",
    "training_tasks = [\n",
    "    toloka.Task(\n",
    "        pool_id=training.id,\n",
    "        input_values={\n",
    "            'imagepath': row.product_image,\n",
    "            'title': row.product_title,\n",
    "            'query': row.query,\n",
    "            'search_url': f'https://www.google.ru/search?q={row.query}',\n",
    "        },\n",
    "        known_solutions = [toloka.task.BaseTask.KnownSolution(output_values={'result_class': str_relevance(row.relevance)})],\n",
    "        message_on_unknown_solution=hint_messages[str_relevance(row.relevance)],\n",
    "    )\n",
    "    for row in training_dataset.itertuples()\n",
    "]\n",
    "result = toloka_client.create_tasks(training_tasks, allow_defaults=True)\n",
    "print(len(result.items))"
   ]
  },
  {
   "cell_type": "markdown",
   "metadata": {},
   "source": [
    "## Create an exam pool\n",
    "We recommend adding an exam pool along with the training because relevance evaluation projects are usually more complicated than most crowdsourcing projects, and it takes a certain effort to master all the guidelines. The more guidelines there are, the greater will be the need to check if the performers have really learned them.\n",
    "\n",
    "Set up exam quality calculation via skill.\n",
    "Create new skill."
   ]
  },
  {
   "cell_type": "code",
   "execution_count": null,
   "metadata": {},
   "outputs": [],
   "source": [
    "exam_skill = next(toloka_client.get_skills(name='Search relevance exam'), None)\n",
    "if exam_skill:\n",
    "    print('Skill already exists')\n",
    "else:\n",
    "    exam_skill = toloka_client.create_skill(\n",
    "        name='Search relevance exam',\n",
    "        hidden=True,\n",
    "        public_requester_description={'EN': 'How performer deal with search relevance exam'},\n",
    "    )\n"
   ]
  },
  {
   "cell_type": "markdown",
   "metadata": {},
   "source": [
    "\n",
    "Set the price per task suite (for example, $0.03).\n",
    "> You can use a zero price as well. However, if the exam is time-consuming, a zero price might be unfair, as the performers will spend  a lot of time completing it.\n",
    "\n",
    "Read more about [pricing principles](https://toloka.ai/knowledgebase/pricing?utm_source=github&utm_medium=site&utm_campaign=tolokakit) in our Knowledge Base."
   ]
  },
  {
   "cell_type": "code",
   "execution_count": null,
   "metadata": {},
   "outputs": [],
   "source": [
    "exam = toloka.Pool(\n",
    "    project_id=project.id,\n",
    "    # Give the pool any convenient name. You are the only one who will see it.\n",
    "    private_name='Classify search query relevance - exam',\n",
    "    may_contain_adult_content=False,\n",
    "    # Set the price per task page.\n",
    "    reward_per_assignment=0.03,\n",
    "    will_expire=datetime.datetime.utcnow() + datetime.timedelta(days=365),\n",
    "    # Time allowed for completing a task page\n",
    "    assignment_max_duration_seconds=600,\n",
    "    filter=(toloka.filter.Languages.in_('EN')),\n",
    ")\n",
    "\n",
    "exam.set_mixer_config(golden_tasks_count=10)"
   ]
  },
  {
   "cell_type": "markdown",
   "metadata": {},
   "source": [
    "Attach the training pool.\n",
    "\n",
    "> The quality of the training can be low to just filter out potential deception, because we expect performers to make mistakes and learn from them (yet again, relevance is a complicated task type)."
   ]
  },
  {
   "cell_type": "code",
   "execution_count": null,
   "metadata": {},
   "outputs": [],
   "source": [
    "exam.set_training_requirement(training_pool_id=training.id, training_passing_skill_value=10)"
   ]
  },
  {
   "cell_type": "markdown",
   "metadata": {},
   "source": [
    "We will have 10 tasks in the exam pool, so the quality will be calculated after the whole exam has been passed.\n",
    "> We will then use this parameter as an entry filter for the main pool."
   ]
  },
  {
   "cell_type": "code",
   "execution_count": null,
   "metadata": {},
   "outputs": [],
   "source": [
    "exam.quality_control.add_action(\n",
    "    collector=toloka.collectors.GoldenSet(history_size=10),\n",
    "    conditions=[toloka.conditions.TotalAnswersCount >= 10,],\n",
    "    action=toloka.actions.SetSkillFromOutputField(\n",
    "        skill_id=exam_skill.id,\n",
    "        from_field='correct_answers_rate',\n",
    "    ),\n",
    ")"
   ]
  },
  {
   "cell_type": "code",
   "execution_count": null,
   "metadata": {},
   "outputs": [],
   "source": [
    "exam = toloka_client.create_pool(exam)"
   ]
  },
  {
   "cell_type": "markdown",
   "metadata": {},
   "source": [
    "Add tasks to exam."
   ]
  },
  {
   "cell_type": "code",
   "execution_count": null,
   "metadata": {},
   "outputs": [],
   "source": [
    "exam_tasks = [\n",
    "    toloka.Task(\n",
    "        pool_id=exam.id,\n",
    "        input_values={\n",
    "            'imagepath': row.product_image,\n",
    "            'title': row.product_title,\n",
    "            'query': row.query,\n",
    "            'search_url': f'https://www.google.ru/search?q={row.query}',\n",
    "        },\n",
    "        known_solutions = [toloka.task.BaseTask.KnownSolution(output_values={'result_class': str_relevance(row.relevance)})],\n",
    "        infinite_overlap=True,\n",
    "    )\n",
    "    for row in exam_dataset.itertuples()\n",
    "]\n",
    "result = toloka_client.create_tasks(exam_tasks, allow_defaults=True)\n",
    "print(len(result.items))"
   ]
  },
  {
   "cell_type": "markdown",
   "metadata": {},
   "source": [
    "## Create the main pool\n",
    "A pool is a set of paid tasks grouped into task pages. These tasks are sent out for completion at the same time.\n",
    "\n",
    ">Note: All tasks within a pool have the same settings (price, quality control, etc.)\n",
    "\n",
    "Set the price per task suite for 0.03$. Read more about [pricing principles](https://toloka.ai/knowledgebase/pricing?utm_source=github&utm_medium=site&utm_campaign=tolokakit) in our Knowledge Base.\n",
    "\n",
    "Sets an overlap of 3. This is the number of users who will complete the same task. We will aggregate the results after the pool is completed. To understand [how this rule works](https://toloka.ai/en/docs/guide/concepts/mvote?utm_source=github&utm_medium=site&utm_campaign=tolokakit), go to the Requester’s Guide.\n",
    "\n",
    "Let's add language filter so performers who speak English will be invited to complete this task."
   ]
  },
  {
   "cell_type": "code",
   "execution_count": null,
   "metadata": {},
   "outputs": [],
   "source": [
    "pool = toloka.Pool(\n",
    "    project_id=project.id,\n",
    "    # Give the pool any convenient name. You are the only one who will see it.\n",
    "    private_name='Classify search query relevance',\n",
    "    may_contain_adult_content=False,\n",
    "    # Set the price per task page.\n",
    "    reward_per_assignment=0.03,\n",
    "    will_expire=datetime.datetime.utcnow() + datetime.timedelta(days=365),\n",
    "    # Overlap. This is the number of users who will complete the same task.\n",
    "    defaults=toloka.Pool.Defaults(default_overlap_for_new_task_suites=3),\n",
    "    # Time allowed for completing a task page\n",
    "    assignment_max_duration_seconds=600,\n",
    "    filter=(\n",
    "        (toloka.filter.Languages.in_('EN')) &\n",
    "        (toloka.filter.Skill(exam_skill.id) >= 90)\n",
    "    )\n",
    ")"
   ]
  },
  {
   "cell_type": "markdown",
   "metadata": {},
   "source": [
    "Set up [Quality control](https://toloka.ai/en/docs/guide/concepts/control?utm_source=github&utm_medium=site&utm_campaign=tolokakit):\n",
    "  - Set the number of responses and the percentage of correct responses. We will record a quality parameter in the same skill we used in the quality filter.\n",
    "  - Set up the [Fast responses](https://toloka.ai/en/docs/guide/concepts/quick-answers?utm_source=github&utm_medium=site&utm_campaign=tolokakit) rule. This rule allows you to ban performers who submit tasks at a suspiciously high speed.\n",
    "\n",
    "Read more about [quality control principles](https://toloka.ai/knowledgebase/quality-control?utm_source=github&utm_medium=site&utm_campaign=tolokakit) in our Knowledge Base or check out [control tasks settings](https://toloka.ai/en/docs/guide/concepts/goldenset?utm_source=github&utm_medium=site&utm_campaign=tolokakit) in the Requester’s Guide."
   ]
  },
  {
   "cell_type": "code",
   "execution_count": null,
   "metadata": {},
   "outputs": [],
   "source": [
    "pool.quality_control.add_action(\n",
    "    collector=toloka.collectors.GoldenSet(history_size=20),\n",
    "    conditions=[toloka.conditions.TotalAnswersCount >= 1,],\n",
    "    action=toloka.actions.SetSkillFromOutputField(\n",
    "        skill_id=exam_skill.id,\n",
    "        from_field='correct_answers_rate',\n",
    "    ),\n",
    ")\n",
    "\n",
    "pool.quality_control.add_action(\n",
    "    collector=toloka.collectors.AssignmentSubmitTime(history_size=5, fast_submit_threshold_seconds=10),\n",
    "    conditions=[toloka.conditions.FastSubmittedCount >= 1],\n",
    "    action=toloka.actions.RestrictionV2(\n",
    "        scope=toloka.user_restriction.UserRestriction.PROJECT,\n",
    "        duration=10,\n",
    "        duration_unit='DAYS',\n",
    "        private_comment='Fast responses',\n",
    "    )\n",
    ")"
   ]
  },
  {
   "cell_type": "markdown",
   "metadata": {},
   "source": [
    "Specify\tthe number of tasks per page. We recommend putting as many tasks on one page as a performer can complete in 1 to 5 minutes. That way, performers are less likely to get tired, and they won’t lose a significant amount of data if a technical issue occurs.\n",
    "\n",
    "To learn more about [grouping tasks](https://toloka.ai/en/docs/guide/concepts/distribute-tasks-by-pages?utm_source=github&utm_medium=site&utm_campaign=tolokakit) into suites, read the Requester’s Guide."
   ]
  },
  {
   "cell_type": "code",
   "execution_count": null,
   "metadata": {},
   "outputs": [],
   "source": [
    "pool.set_mixer_config(\n",
    "    real_tasks_count=4,\n",
    "    golden_tasks_count=1,\n",
    ")"
   ]
  },
  {
   "cell_type": "markdown",
   "metadata": {},
   "source": [
    "Create pool"
   ]
  },
  {
   "cell_type": "code",
   "execution_count": null,
   "metadata": {},
   "outputs": [],
   "source": [
    "pool = toloka_client.create_pool(pool)"
   ]
  },
  {
   "cell_type": "markdown",
   "metadata": {},
   "source": [
    "## Preparing and uploading tasks\n",
    "\n",
    "We recommend putting as many tasks on one page as a performer can complete in 1 to 5 minutes. That way, performers are less likely to get tired, and they won’t lose a significant amount of data if a technical issue occurs.\n",
    "\n",
    "To learn more about [grouping tasks](https://toloka.ai/en/docs/guide/concepts/distribute-tasks-by-pages?utm_source=github&utm_medium=site&utm_campaign=tolokakit) into suites, read the Requester’s Guide."
   ]
  },
  {
   "cell_type": "code",
   "execution_count": null,
   "metadata": {},
   "outputs": [],
   "source": [
    "golden_tasks = [\n",
    "    toloka.Task(\n",
    "        pool_id=pool.id,\n",
    "        input_values={\n",
    "            'imagepath': row.product_image,\n",
    "            'title': row.product_title,\n",
    "            'query': row.query,\n",
    "            'search_url': f'https://www.google.ru/search?q={row.query}',\n",
    "        },\n",
    "        known_solutions = [toloka.task.BaseTask.KnownSolution(output_values={'result_class': str_relevance(row.relevance)})],\n",
    "        infinite_overlap=True,\n",
    "    )\n",
    "    for row in gold_dataset.itertuples()\n",
    "]\n",
    "\n",
    "tasks = [\n",
    "    toloka.Task(\n",
    "        pool_id=pool.id,\n",
    "        input_values={\n",
    "            'imagepath': row.product_image,\n",
    "            'title': row.product_title,\n",
    "            'query': row.query,\n",
    "            'search_url': f'https://www.google.ru/search?q={row.query}',\n",
    "        },\n",
    "    )\n",
    "    for row in main_dataset.itertuples()\n",
    "]\n",
    "created_tasks = toloka_client.create_tasks(golden_tasks + tasks, allow_defaults=True)\n",
    "print(len(created_tasks.items))"
   ]
  },
  {
   "cell_type": "markdown",
   "metadata": {},
   "source": [
    "You can visit web interface and preview task suites.\n",
    "<table  align=\"center\">\n",
    "  <tr><td>\n",
    "    <img src=\"./img/task_suite_interface.png\"\n",
    "         alt=\"How performers will see your tasks\"  height=\"600\">\n",
    "  </td></tr>\n",
    "  <tr><td align=\"center\">\n",
    "    <b>Figure 2.</b> How performers will see your tasks\n",
    "  </td></tr>\n",
    "</table>"
   ]
  },
  {
   "cell_type": "markdown",
   "metadata": {},
   "source": [
    "Start the pools.\n",
    "\n",
    "**Important.** Remember that real Toloka performers will complete the tasks.\n",
    "Double check that everything is correct\n",
    "with your project configuration before you start the pool"
   ]
  },
  {
   "cell_type": "code",
   "execution_count": null,
   "metadata": {},
   "outputs": [],
   "source": [
    "training = toloka_client.open_training(training.id)\n",
    "print(f'training - {training.status}')\n",
    "\n",
    "exam = toloka_client.open_pool(exam.id)\n",
    "print(f'exam - {exam.status}')\n",
    "\n",
    "pool = toloka_client.open_pool(pool.id)\n",
    "print(f'main pool - {pool.status}')"
   ]
  },
  {
   "cell_type": "markdown",
   "metadata": {},
   "source": [
    "## Receiving responses"
   ]
  },
  {
   "cell_type": "markdown",
   "metadata": {},
   "source": [
    "Wait until the pool is completed."
   ]
  },
  {
   "cell_type": "code",
   "execution_count": null,
   "metadata": {},
   "outputs": [],
   "source": [
    "pool_id = pool.id\n",
    "\n",
    "def wait_pool_for_close(pool_id, minutes_to_wait=1):\n",
    "    sleep_time = 60 * minutes_to_wait\n",
    "    pool = toloka_client.get_pool(pool_id)\n",
    "    while not pool.is_closed():\n",
    "        op = toloka_client.get_analytics([toloka.analytics_request.CompletionPercentagePoolAnalytics(subject_id=pool.id)])\n",
    "        op = toloka_client.wait_operation(op)\n",
    "        percentage = op.details['value'][0]['result']['value']\n",
    "        print(\n",
    "            f'   {datetime.datetime.now().strftime(\"%H:%M:%S\")}\\t'\n",
    "            f'Pool {pool.id} - {percentage}%'\n",
    "        )\n",
    "        time.sleep(sleep_time)\n",
    "        pool = toloka_client.get_pool(pool.id)\n",
    "    print('Pool was closed.')\n",
    "\n",
    "wait_pool_for_close(pool_id)\n",
    "\n",
    "exam = toloka_client.close_pool(exam.id)\n",
    "print(f'exam - {exam.status}')\n",
    "\n",
    "training = toloka_client.close_training(training.id)\n",
    "print(f'training - {training.status}')"
   ]
  },
  {
   "cell_type": "markdown",
   "metadata": {},
   "source": [
    "Get responses\n",
    "\n",
    "When all the tasks are completed, look at the responses from performers."
   ]
  },
  {
   "cell_type": "code",
   "execution_count": null,
   "metadata": {},
   "outputs": [],
   "source": [
    "answers_df = toloka_client.get_assignments_df(pool.id, field=['ASSIGNMENT:task_id', 'ASSIGNMENT:worker_id'])\n",
    "\n",
    "answers_df = answers_df[answers_df['GOLDEN:result_class'].isna()]\n",
    "\n",
    "answers_df = answers_df.rename(columns={\n",
    "    'ASSIGNMENT:task_id': 'task',\n",
    "    'OUTPUT:result_class': 'label',\n",
    "    'ASSIGNMENT:worker_id': 'worker',\n",
    "    'INPUT:query': 'query',\n",
    "    'INPUT:imagepath': 'imagepath',\n",
    "    'INPUT:title': 'title',\n",
    "})\n",
    "\n",
    "answers_to_aggregate = answers_df[['task', 'label', 'worker']]\n",
    "\n",
    "with pandas.option_context(\"max_colwidth\", None):\n",
    "    display(answers_df)"
   ]
  },
  {
   "cell_type": "markdown",
   "metadata": {},
   "source": [
    "Aggregation results using the Dawid-Skene model. We use this aggregation model because our questions are of comparable difficulty, and we don't have many control tasks.\n",
    "\n",
    "Read more about the [Dawid-Skene model](https://toloka.ai/en/docs/guide/concepts/result-aggregation?utm_source=github&utm_medium=site&utm_campaign=tolokakit#aggr__dawid-skene) in the Requester’s Guide or get at an overview of different [aggregation models](https://toloka.ai/knowledgebase/aggregation) our Knowledge Base.\n",
    "\n",
    "More aggregation models in [Crowd-Kit](https://github.com/Toloka/crowd-kit#crowd-kit-computational-quality-control-for-crowdsourcing)."
   ]
  },
  {
   "cell_type": "code",
   "execution_count": null,
   "metadata": {},
   "outputs": [],
   "source": [
    "predicted_answers = DawidSkene(n_iter=20).fit_predict(answers_to_aggregate).reset_index(name='result')\n",
    "\n",
    "predicted_answers = pandas.merge(predicted_answers, answers_df.drop_duplicates(subset='task'), on='task')\n",
    "\n",
    "with pandas.option_context(\"max_colwidth\", None):\n",
    "    display(predicted_answers[['query', 'imagepath', 'title', 'result']])"
   ]
  }
 ],
 "metadata": {
  "kernelspec": {
   "display_name": "Python 3 (ipykernel)",
   "language": "python",
   "name": "python3"
  },
  "language_info": {
   "codemirror_mode": {
    "name": "ipython",
    "version": 3
   },
   "file_extension": ".py",
   "mimetype": "text/x-python",
   "name": "python",
   "nbconvert_exporter": "python",
   "pygments_lexer": "ipython3",
   "version": "3.9.12"
  }
 },
 "nbformat": 4,
 "nbformat_minor": 4
}
