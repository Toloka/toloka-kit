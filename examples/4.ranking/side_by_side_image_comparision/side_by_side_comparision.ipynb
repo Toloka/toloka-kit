{
 "cells": [
  {
   "cell_type": "markdown",
   "metadata": {},
   "source": [
    "# Side-by-side image comparison\n",
    "We have a set of icons.\n",
    "We need to find out which icon people prefer and determine the top icon out of the set.\n",
    "We ask performers to look at the icons and choose the one they prefer and then we aggregate these results to obtain the top icon.\n",
    "\n",
    "<img src=\"https://tlk.s3.yandex.net/dataset/toloka_logos/b2b_blossom_icon.png\" width=\"200\"/>\n",
    "<img src=\"https://tlk.s3.yandex.net/dataset/toloka_logos/b2b_dandelion_icon.png\" width=\"200\"/>\n",
    "<img src=\"https://tlk.s3.yandex.net/dataset/toloka_logos/b2b_sunrise_icon.png\" width=\"200\"/>\n",
    "<img src=\"https://tlk.s3.yandex.net/dataset/toloka_logos/b2c_blossom_icon.png\" width=\"200\"/>\n",
    "<img src=\"https://tlk.s3.yandex.net/dataset/toloka_logos/b2c_dandelion_icon.png\" width=\"200\"/>\n",
    "<img src=\"https://tlk.s3.yandex.net/dataset/toloka_logos/b2c_sunrise_icon.png\" width=\"200\"/>"
   ]
  },
  {
   "cell_type": "markdown",
   "metadata": {},
   "source": [
    "### Call to action\n",
    "If you found some bugs or have a new feature idea, don't hesitate to [open a new issue on Github](https://github.com/Toloka/toloka-kit/issues/new/choose).\n",
    "Like our library and examples? Star [our repo on Github](https://github.com/Toloka/toloka-kit)"
   ]
  },
  {
   "cell_type": "markdown",
   "metadata": {},
   "source": [
    "Prepare environment and import all we'll need."
   ]
  },
  {
   "cell_type": "code",
   "execution_count": null,
   "metadata": {},
   "outputs": [],
   "source": [
    "%%capture\n",
    "!pip install toloka-kit==0.1.26\n",
    "!pip install crowd-kit==1.0.0\n",
    "!pip install pandas\n",
    "!pip install ipyplot\n",
    "\n",
    "import datetime\n",
    "import itertools\n",
    "import sys\n",
    "import time\n",
    "import logging\n",
    "import getpass\n",
    "\n",
    "import ipyplot\n",
    "import pandas\n",
    "\n",
    "import toloka.client as toloka\n",
    "import toloka.client.project.template_builder as tb\n",
    "from crowdkit.aggregation import NoisyBradleyTerry"
   ]
  },
  {
   "cell_type": "code",
   "execution_count": null,
   "metadata": {},
   "outputs": [],
   "source": [
    "logging.basicConfig(\n",
    "    format='[%(levelname)s] %(name)s: %(message)s',\n",
    "    level=logging.INFO,\n",
    "    stream=sys.stdout,\n",
    ")"
   ]
  },
  {
   "cell_type": "markdown",
   "metadata": {},
   "source": [
    "Сreate toloka-client instance. All api calls will go through it. More about OAuth token in our [Learn the basics example](https://github.com/Toloka/toloka-kit/tree/main/examples/0.getting_started/0.learn_the_basics) [![Open In Colab](https://colab.research.google.com/assets/colab-badge.svg)](https://colab.research.google.com/github/Toloka/toloka-kit/blob/main/examples/0.getting_started/0.learn_the_basics/learn_the_basics.ipynb)"
   ]
  },
  {
   "cell_type": "code",
   "execution_count": null,
   "metadata": {},
   "outputs": [],
   "source": [
    "toloka_client = toloka.TolokaClient(getpass.getpass('Enter your OAuth token: '), 'PRODUCTION') # Or switch to 'SANDBOX'\n",
    "print(toloka_client.get_requester())"
   ]
  },
  {
   "cell_type": "markdown",
   "metadata": {},
   "source": [
    "## Create a project"
   ]
  },
  {
   "cell_type": "code",
   "execution_count": null,
   "metadata": {},
   "outputs": [],
   "source": [
    "project = toloka.Project(\n",
    "    assignments_issuing_type='AUTOMATED',\n",
    "    public_name='Which icon do you like more?',\n",
    "    public_description='Look at the icons and decide which one you like more.',\n",
    ")"
   ]
  },
  {
   "cell_type": "markdown",
   "metadata": {},
   "source": [
    "Create task interface"
   ]
  },
  {
   "cell_type": "code",
   "execution_count": null,
   "metadata": {},
   "outputs": [],
   "source": [
    "main_interface = tb.SideBySideLayoutV1(\n",
    "    items=[\n",
    "        tb.ImageViewV1(url=tb.InputData(path='image_left'), full_height=True),\n",
    "        tb.ImageViewV1(url=tb.InputData(path='image_right'), full_height=True),\n",
    "    ],\n",
    "    controls=tb.ButtonRadioGroupFieldV1(\n",
    "        data=tb.OutputData(path='result'),\n",
    "        label='Which icon do you like more?',\n",
    "        options=[\n",
    "            tb.GroupFieldOption(label='Left', value='LEFT'),\n",
    "            tb.GroupFieldOption(label='Right', value='RIGHT'),\n",
    "            tb.GroupFieldOption(label='Loading error', value='ERROR'),\n",
    "        ]\n",
    "    )\n",
    ")\n",
    "\n",
    "hot_keys_plugin = tb.HotkeysPluginV1(\n",
    "    key_0=tb.SetActionV1(data=tb.OutputData(path='result'), payload='ERROR'),\n",
    "    key_1=tb.SetActionV1(data=tb.OutputData(path='result'), payload='LEFT'),\n",
    "    key_2=tb.SetActionV1(data=tb.OutputData(path='result'), payload='RIGHT'),\n",
    ")\n",
    "\n",
    "project_interface = toloka.project.view_spec.TemplateBuilderViewSpec(\n",
    "    config=tb.TemplateBuilder(\n",
    "        view=main_interface,\n",
    "        plugins=[hot_keys_plugin],\n",
    "    )\n",
    ")"
   ]
  },
  {
   "cell_type": "markdown",
   "metadata": {},
   "source": [
    "Set data specification. And set task interface to project."
   ]
  },
  {
   "cell_type": "code",
   "execution_count": null,
   "metadata": {},
   "outputs": [],
   "source": [
    "input_specification = {\n",
    "    'image_left': toloka.project.field_spec.UrlSpec(),\n",
    "    'image_right': toloka.project.field_spec.UrlSpec(),\n",
    "}\n",
    "output_specification = {'result': toloka.project.field_spec.StringSpec()}\n",
    "\n",
    "project.task_spec = toloka.project.task_spec.TaskSpec(\n",
    "    input_spec=input_specification,\n",
    "    output_spec=output_specification,\n",
    "    view_spec=project_interface,\n",
    ")"
   ]
  },
  {
   "cell_type": "markdown",
   "metadata": {},
   "source": [
    "Write short and simple \tinstructions."
   ]
  },
  {
   "cell_type": "code",
   "execution_count": null,
   "metadata": {},
   "outputs": [],
   "source": [
    "project.public_instructions = \"\"\"<p>Look at the icons and decide which one you like more.</p>\n",
    "<p>Select \"<b>Left</b>\" if you like the icon on the left more.</p>\n",
    "<p>Select \"<b>Right</b>\" if you like the icon on the right more.</p>\n",
    "<p>Select \"<b>Loadinf error</b>\" if the picture failed to load.</p>\"\"\""
   ]
  },
  {
   "cell_type": "markdown",
   "metadata": {},
   "source": [
    "Create a project."
   ]
  },
  {
   "cell_type": "code",
   "execution_count": null,
   "metadata": {},
   "outputs": [],
   "source": [
    "project = toloka_client.create_project(project)"
   ]
  },
  {
   "cell_type": "markdown",
   "metadata": {},
   "source": [
    "The performer will see the interface like this:\n",
    "\n",
    "<table  align=\"center\">\n",
    "  <tr>\n",
    "  <td>\n",
    "    <img src=\"./img/performer_interface.png\"\n",
    "         alt=\"Photo examples\"  width=\"800\">\n",
    "  </td></tr>\n",
    "  <tr>\n",
    "  <td align=\"center\">\n",
    "    <b>Figure 1.</b> How performer will see your task\n",
    "  </td></tr>\n",
    "</table>"
   ]
  },
  {
   "cell_type": "markdown",
   "metadata": {},
   "source": [
    "## Create a pool\n",
    "Specify the [pool parameters.](https://toloka.ai/en/docs/guide/concepts/pool_poolparams?utm_source=github&utm_medium=site&utm_campaign=tolokakit)"
   ]
  },
  {
   "cell_type": "code",
   "execution_count": null,
   "metadata": {},
   "outputs": [],
   "source": [
    "pool = toloka.Pool(\n",
    "    project_id=project.id,\n",
    "    # Give the pool any convenient name. You are the only one who will see it.\n",
    "    private_name='Which icon do you like more',\n",
    "    may_contain_adult_content=False,\n",
    "    # Set the price per task page.\n",
    "    reward_per_assignment=0.01,\n",
    "    will_expire=datetime.datetime.utcnow() + datetime.timedelta(days=365),\n",
    "    # Time given to complete a task suite\n",
    "    assignment_max_duration_seconds=600,\n",
    ")"
   ]
  },
  {
   "cell_type": "markdown",
   "metadata": {},
   "source": [
    "Select English-speaking performers"
   ]
  },
  {
   "cell_type": "code",
   "execution_count": null,
   "metadata": {},
   "outputs": [],
   "source": [
    "pool.filter = toloka.filter.Languages.in_('EN')"
   ]
  },
  {
   "cell_type": "markdown",
   "metadata": {},
   "source": [
    "Set up [Quality control](https://toloka.ai/en/docs/guide/concepts/control?utm_source=github&utm_medium=site&utm_campaign=tolokakit). Set up the Submitted responses quality control rule. Restrict the number of responses per user to one. This way you will only get one answer from each user and thus ensure a variety of opinions."
   ]
  },
  {
   "cell_type": "code",
   "execution_count": null,
   "metadata": {},
   "outputs": [],
   "source": [
    "pool.quality_control.add_action(\n",
    "    collector=toloka.collectors.AnswerCount(),\n",
    "    conditions=[toloka.conditions.AssignmentsAcceptedCount == 1],\n",
    "    action=toloka.actions.RestrictionV2(\n",
    "        scope=toloka.user_restriction.UserRestriction.PROJECT,\n",
    "        duration=3,\n",
    "        duration_unit='DAYS',\n",
    "        private_comment='No need more answers from this performer',\n",
    "    )\n",
    ")"
   ]
  },
  {
   "cell_type": "markdown",
   "metadata": {},
   "source": [
    "Overlap. This is the number of users who will complete the same task. Since you are interested in a variety of opinions, select a big overlap for each task. For example, 10."
   ]
  },
  {
   "cell_type": "code",
   "execution_count": null,
   "metadata": {},
   "outputs": [],
   "source": [
    "pool.defaults = toloka.Pool.Defaults(default_overlap_for_new_task_suites=10)"
   ]
  },
  {
   "cell_type": "markdown",
   "metadata": {},
   "source": [
    "Specify\tthe number of tasks per page. 1 task per page. A performer will only see one pair of images on a page."
   ]
  },
  {
   "cell_type": "code",
   "execution_count": null,
   "metadata": {},
   "outputs": [],
   "source": [
    "pool.set_mixer_config(\n",
    "    real_tasks_count=1,\n",
    "    golden_tasks_count=0,\n",
    "    training_tasks_count=0\n",
    ")"
   ]
  },
  {
   "cell_type": "markdown",
   "metadata": {},
   "source": [
    "Create pool"
   ]
  },
  {
   "cell_type": "code",
   "execution_count": null,
   "metadata": {},
   "outputs": [],
   "source": [
    "pool = toloka_client.create_pool(pool)"
   ]
  },
  {
   "cell_type": "markdown",
   "metadata": {},
   "source": [
    "## Preparing and uploading tasks\n",
    "\n",
    "This example uses a small data set with images.\n",
    "\n",
    "The dataset used is collected by Toloka team and distributed under a Creative Commons Attribution 4.0 International license\n",
    "[![License: CC BY 4.0](https://img.shields.io/badge/License-CC%20BY%204.0-lightgrey.svg)](https://creativecommons.org/licenses/by/4.0/)."
   ]
  },
  {
   "cell_type": "code",
   "execution_count": null,
   "metadata": {},
   "outputs": [],
   "source": [
    "!curl https://tlk.s3.yandex.net/dataset/toloka_logos/toloka_logos.tsv --output dataset.tsv\n",
    "dataset = pandas.read_csv('dataset.tsv', sep='\\t')\n",
    "with pandas.option_context(\"max_colwidth\", 80):\n",
    "    print(dataset)"
   ]
  },
  {
   "cell_type": "markdown",
   "metadata": {},
   "source": [
    "Our project is a pairwise comparison of two images. But our dataset contains just a flat list. Let's create a dataset that contains all possible pairs for comparison."
   ]
  },
  {
   "cell_type": "code",
   "execution_count": null,
   "metadata": {},
   "outputs": [],
   "source": [
    "dataset = pandas.DataFrame(itertools.combinations(dataset['url'], 2), columns=['image_left', 'image_right'])\n",
    "with pandas.option_context(\"max_colwidth\", 70):\n",
    "    display(dataset)"
   ]
  },
  {
   "cell_type": "markdown",
   "metadata": {},
   "source": [
    "Create pool tasks"
   ]
  },
  {
   "cell_type": "code",
   "execution_count": null,
   "metadata": {},
   "outputs": [],
   "source": [
    "tasks = [\n",
    "    toloka.Task(\n",
    "        pool_id=pool.id,\n",
    "        input_values={\n",
    "            'image_left': row['image_left'],\n",
    "            'image_right': row['image_right'],\n",
    "        }\n",
    "    )\n",
    "    for i, row in dataset.iterrows()\n",
    "]"
   ]
  },
  {
   "cell_type": "markdown",
   "metadata": {},
   "source": [
    "Upload tasks"
   ]
  },
  {
   "cell_type": "code",
   "execution_count": null,
   "metadata": {},
   "outputs": [],
   "source": [
    "created_tasks = toloka_client.create_tasks(tasks, allow_defaults=True)\n",
    "print(len(created_tasks.items))"
   ]
  },
  {
   "cell_type": "markdown",
   "metadata": {},
   "source": [
    "Start the pool.\n",
    "\n",
    "**Important.** Remember that real Toloka performers will complete the tasks.\n",
    "Double check that everything is correct\n",
    "with your project configuration before you start the pool"
   ]
  },
  {
   "cell_type": "code",
   "execution_count": null,
   "metadata": {},
   "outputs": [],
   "source": [
    "pool = toloka_client.open_pool(pool.id)\n",
    "print(pool.status)"
   ]
  },
  {
   "cell_type": "markdown",
   "metadata": {},
   "source": [
    "## Receiving responses"
   ]
  },
  {
   "cell_type": "markdown",
   "metadata": {},
   "source": [
    "Wait until the pool is completed."
   ]
  },
  {
   "cell_type": "code",
   "execution_count": null,
   "metadata": {},
   "outputs": [],
   "source": [
    "pool_id = pool.id\n",
    "\n",
    "def wait_pool_for_close(pool_id, minutes_to_wait=1):\n",
    "    sleep_time = 60 * minutes_to_wait\n",
    "    pool = toloka_client.get_pool(pool_id)\n",
    "    while not pool.is_closed():\n",
    "        op = toloka_client.get_analytics([toloka.analytics_request.CompletionPercentagePoolAnalytics(subject_id=pool.id)])\n",
    "        op = toloka_client.wait_operation(op)\n",
    "        percentage = op.details['value'][0]['result']['value']\n",
    "        print(\n",
    "            f'   {datetime.datetime.now().strftime(\"%H:%M:%S\")}\\t'\n",
    "            f'Pool {pool.id} - {percentage}%'\n",
    "        )\n",
    "        time.sleep(sleep_time)\n",
    "        pool = toloka_client.get_pool(pool.id)\n",
    "    print('Pool was closed.')\n",
    "\n",
    "wait_pool_for_close(pool_id)"
   ]
  },
  {
   "cell_type": "markdown",
   "metadata": {},
   "source": [
    "Get responses\n",
    "\n",
    "When all the tasks are completed, look at the responses from performers."
   ]
  },
  {
   "cell_type": "code",
   "execution_count": null,
   "metadata": {},
   "outputs": [],
   "source": [
    "answers = []\n",
    "\n",
    "for assignment in toloka_client.get_assignments(pool_id=pool_id, status='ACCEPTED'):\n",
    "    for task, solution in zip(assignment.tasks, assignment.solutions):\n",
    "        answers.append(\n",
    "            [\n",
    "                task.input_values['image_left'],\n",
    "                task.input_values['image_right'],\n",
    "                solution.output_values['result'],\n",
    "                assignment.user_id\n",
    "            ]\n",
    "        )\n",
    "\n",
    "print(f'answers count: {len(answers)}')"
   ]
  },
  {
   "cell_type": "markdown",
   "metadata": {},
   "source": [
    "Ranking after a pairwise comparison is quite a difficult task. We will use the Bradley-Terry algorithm, which is already implemented in the Crowd-Kit and allows you to get the result in a few lines of code.\n",
    "\n",
    "> David R. Hunter. 2004.\n",
    "> MM algorithms for generalized Bradley-Terry models\n",
    "> Ann. Statist., Vol. 32, 1 (2004): 384–406.\n",
    ">\n",
    ">\n",
    "> Bradley, R. A. and Terry, M. E. 1952.\n",
    "> Rank analysis of incomplete block designs. I. The method of paired comparisons.\n",
    "> Biometrika, Vol. 39 (1952): 324–345."
   ]
  },
  {
   "cell_type": "code",
   "execution_count": null,
   "metadata": {},
   "outputs": [],
   "source": [
    "# Prepare dataframe\n",
    "answers_df = pandas.DataFrame(answers, columns=['left', 'right', 'label', 'worker'])\n",
    "\n",
    "answers_df = answers_df[(answers_df.label == 'LEFT') | (answers_df.label == 'RIGHT')]\n",
    "answers_df['label'] = answers_df.apply(lambda row: row[row['label'].lower()], axis=1)\n",
    "\n",
    "# Run aggregation\n",
    "result = NoisyBradleyTerry().fit_predict(answers_df).sort_values(ascending=False)\n",
    "print(result)"
   ]
  },
  {
   "cell_type": "markdown",
   "metadata": {},
   "source": [
    "Let's look at the ranking results"
   ]
  },
  {
   "cell_type": "code",
   "execution_count": null,
   "metadata": {},
   "outputs": [],
   "source": [
    "images = result.index.values\n",
    "labels = result.values\n",
    "ipyplot.plot_images(\n",
    "    images=images,\n",
    "    labels=labels,\n",
    "    max_images=6,\n",
    "    img_width=200,\n",
    ")"
   ]
  },
  {
   "cell_type": "markdown",
   "metadata": {},
   "source": [
    "**You** can see the ranked images. Some possible results are shown in figure 2 below.\n",
    "\n",
    "<table  align=\"center\">\n",
    "  <tr><td>\n",
    "    <img src=\"./img/possible_results.png\"\n",
    "         alt=\"Possible results\">\n",
    "  </td></tr>\n",
    "  <tr><td align=\"center\">\n",
    "    <b>Figure 2.</b> Possible results.\n",
    "  </td></tr>\n",
    "</table>"
   ]
  }
 ],
 "metadata": {
  "kernelspec": {
   "display_name": "Python 3 (ipykernel)",
   "language": "python",
   "name": "python3"
  },
  "language_info": {
   "codemirror_mode": {
    "name": "ipython",
    "version": 3
   },
   "file_extension": ".py",
   "mimetype": "text/x-python",
   "name": "python",
   "nbconvert_exporter": "python",
   "pygments_lexer": "ipython3",
   "version": "3.9.12"
  }
 },
 "nbformat": 4,
 "nbformat_minor": 4
}
