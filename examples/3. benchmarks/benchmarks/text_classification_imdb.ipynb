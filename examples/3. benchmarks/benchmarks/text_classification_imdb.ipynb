{
 "cells": [
  {
   "cell_type": "markdown",
   "id": "5ac1f909",
   "metadata": {},
   "source": [
    "# Image classification on IMDB movie reviews\n",
    "\n",
    "Dataset source: https://ai.stanford.edu/~amaas/data/sentiment/\n",
    "\n",
    "Paper: https://aclanthology.org/P11-1015"
   ]
  },
  {
   "cell_type": "markdown",
   "id": "3d6ece80",
   "metadata": {},
   "source": [
    "### Call to action\n",
    "If you found some bugs or have a new feature idea, don't hesitate to [open a new issue on Github](https://github.com/Toloka/toloka-kit/issues/new/choose).\n",
    "Like our library and examples? Star [our repo on Github](https://github.com/Toloka/toloka-kit)"
   ]
  },
  {
   "cell_type": "markdown",
   "id": "33c32263",
   "metadata": {},
   "source": [
    "## Install dependencies and import"
   ]
  },
  {
   "cell_type": "code",
   "execution_count": 1,
   "id": "146b9955",
   "metadata": {},
   "outputs": [],
   "source": [
    "%%capture\n",
    "!pip install toloka-kit==0.1.26\n",
    "!pip install crowd-kit==1.0.0"
   ]
  },
  {
   "cell_type": "code",
   "execution_count": 1,
   "id": "2c4b2a73",
   "metadata": {},
   "outputs": [],
   "source": [
    "import datetime\n",
    "import time\n",
    "import pandas as pd\n",
    "import numpy as np\n",
    "from sklearn.metrics import balanced_accuracy_score\n",
    "import os\n",
    "import logging\n",
    "import sys\n",
    "import getpass\n",
    "import requests\n",
    "from tqdm.auto import tqdm\n",
    "\n",
    "import toloka.client as toloka\n",
    "import toloka.client.project.template_builder as tb\n",
    "\n",
    "from crowdkit.aggregation import DawidSkene\n",
    "%matplotlib inline\n",
    "pd.options.display.max_colwidth = 300"
   ]
  },
  {
   "cell_type": "code",
   "execution_count": 2,
   "id": "bcc0b1e7",
   "metadata": {},
   "outputs": [],
   "source": [
    "logging.basicConfig(\n",
    "    format='[%(levelname)s] %(name)s: %(message)s',\n",
    "    level=logging.INFO,\n",
    "    stream=sys.stdout,\n",
    ")"
   ]
  },
  {
   "cell_type": "markdown",
   "id": "91af6166",
   "metadata": {},
   "source": [
    "#  Load dataset"
   ]
  },
  {
   "cell_type": "code",
   "execution_count": 3,
   "id": "02e50d7b",
   "metadata": {},
   "outputs": [],
   "source": [
    "N_ROWS = 1000"
   ]
  },
  {
   "cell_type": "code",
   "execution_count": 27,
   "id": "20015b63",
   "metadata": {},
   "outputs": [
    {
     "data": {
      "text/html": [
       "<div>\n",
       "<style scoped>\n",
       "    .dataframe tbody tr th:only-of-type {\n",
       "        vertical-align: middle;\n",
       "    }\n",
       "\n",
       "    .dataframe tbody tr th {\n",
       "        vertical-align: top;\n",
       "    }\n",
       "\n",
       "    .dataframe thead th {\n",
       "        text-align: right;\n",
       "    }\n",
       "</style>\n",
       "<table border=\"1\" class=\"dataframe\">\n",
       "  <thead>\n",
       "    <tr style=\"text-align: right;\">\n",
       "      <th></th>\n",
       "      <th>path</th>\n",
       "      <th>label</th>\n",
       "    </tr>\n",
       "  </thead>\n",
       "  <tbody>\n",
       "    <tr>\n",
       "      <th>0</th>\n",
       "      <td>test/neg/3571_3.txt</td>\n",
       "      <td>neg</td>\n",
       "    </tr>\n",
       "    <tr>\n",
       "      <th>1</th>\n",
       "      <td>test/neg/4311_2.txt</td>\n",
       "      <td>neg</td>\n",
       "    </tr>\n",
       "    <tr>\n",
       "      <th>2</th>\n",
       "      <td>test/pos/8424_9.txt</td>\n",
       "      <td>pos</td>\n",
       "    </tr>\n",
       "    <tr>\n",
       "      <th>3</th>\n",
       "      <td>test/neg/9456_4.txt</td>\n",
       "      <td>neg</td>\n",
       "    </tr>\n",
       "    <tr>\n",
       "      <th>4</th>\n",
       "      <td>test/neg/3853_1.txt</td>\n",
       "      <td>neg</td>\n",
       "    </tr>\n",
       "  </tbody>\n",
       "</table>\n",
       "</div>"
      ],
      "text/plain": [
       "                  path label\n",
       "0  test/neg/3571_3.txt   neg\n",
       "1  test/neg/4311_2.txt   neg\n",
       "2  test/pos/8424_9.txt   pos\n",
       "3  test/neg/9456_4.txt   neg\n",
       "4  test/neg/3853_1.txt   neg"
      ]
     },
     "execution_count": 27,
     "metadata": {},
     "output_type": "execute_result"
    }
   ],
   "source": [
    "def sample_stratified(df, label_column, n_rows):\n",
    "    \"\"\"Function to sample n_rows from a dataframe while presenving class distribution\"\"\"\n",
    "    return df.groupby(label_column, group_keys=False) \\\n",
    "            .apply(lambda x: x.sample(int(np.rint(n_rows*len(x)/len(df))))) \\\n",
    "            .sample(frac=1)\n",
    "\n",
    "base_url = 'https://tlk.s3.yandex.net/ext_dataset/aclImdb'\n",
    "df = pd.read_csv(os.path.join(base_url, 'test.csv'))\n",
    "df_control = sample_stratified(df, 'label', n_rows=100)\n",
    "df = df.drop(df_control.index)\n",
    "df_training = sample_stratified(df, 'label', n_rows=10)\n",
    "df = df.drop(df_training.index)\n",
    "df = sample_stratified(df, 'label', n_rows=N_ROWS)\n",
    "df_control = df_control.reset_index(drop=True)\n",
    "df = df.reset_index(drop=True)\n",
    "df.head()"
   ]
  },
  {
   "cell_type": "code",
   "execution_count": 28,
   "id": "e66c8ab1",
   "metadata": {},
   "outputs": [
    {
     "data": {
      "text/plain": [
       "neg    500\n",
       "pos    500\n",
       "Name: label, dtype: int64"
      ]
     },
     "execution_count": 28,
     "metadata": {},
     "output_type": "execute_result"
    }
   ],
   "source": [
    "df.label.value_counts()"
   ]
  },
  {
   "cell_type": "code",
   "execution_count": 29,
   "id": "16412480",
   "metadata": {},
   "outputs": [
    {
     "name": "stderr",
     "output_type": "stream",
     "text": [
      "100%|██████████| 100/100 [00:11<00:00,  8.87it/s]\n",
      "100%|██████████| 10/10 [00:01<00:00,  7.74it/s]\n",
      "100%|██████████| 1000/1000 [02:04<00:00,  8.04it/s]\n"
     ]
    }
   ],
   "source": [
    "def load_texts(urls):\n",
    "    texts = []\n",
    "    for url in tqdm(urls):\n",
    "        resp = requests.get(url)\n",
    "        texts.append(resp.text)\n",
    "    return texts\n",
    "\n",
    "df_control['text'] = load_texts(base_url + '/' + df_control.path)\n",
    "df_training['text'] = load_texts(base_url + '/' + df_training.path)\n",
    "df['text'] = load_texts(base_url + '/' + df.path)"
   ]
  },
  {
   "cell_type": "code",
   "execution_count": 30,
   "id": "a7a2bb94",
   "metadata": {},
   "outputs": [
    {
     "data": {
      "text/html": [
       "<div>\n",
       "<style scoped>\n",
       "    .dataframe tbody tr th:only-of-type {\n",
       "        vertical-align: middle;\n",
       "    }\n",
       "\n",
       "    .dataframe tbody tr th {\n",
       "        vertical-align: top;\n",
       "    }\n",
       "\n",
       "    .dataframe thead th {\n",
       "        text-align: right;\n",
       "    }\n",
       "</style>\n",
       "<table border=\"1\" class=\"dataframe\">\n",
       "  <thead>\n",
       "    <tr style=\"text-align: right;\">\n",
       "      <th></th>\n",
       "      <th>path</th>\n",
       "      <th>label</th>\n",
       "      <th>text</th>\n",
       "    </tr>\n",
       "  </thead>\n",
       "  <tbody>\n",
       "    <tr>\n",
       "      <th>0</th>\n",
       "      <td>test/neg/3571_3.txt</td>\n",
       "      <td>neg</td>\n",
       "      <td>Upon writing this review I have difficulty trying to think of what to write about. Nothing much happens in this film. The storyline is a South Asian woman who falls for an English Londoner. The problem is he and his friends have had a racist streak. At the same time her friend at work is unknowi...</td>\n",
       "    </tr>\n",
       "    <tr>\n",
       "      <th>1</th>\n",
       "      <td>test/neg/4311_2.txt</td>\n",
       "      <td>neg</td>\n",
       "      <td>What a clunker!&lt;br /&gt;&lt;br /&gt;It MUST have been made for TV or Cable.&lt;br /&gt;&lt;br /&gt;Look: forget the screenplay - forget the bunch of forgettable actors. Excuse me? Continuity? The NSA/NIA/whatever or whoever he is (an agent) takes-off in an F16 - is shown in an F18 chucking his guts up and, later, th...</td>\n",
       "    </tr>\n",
       "    <tr>\n",
       "      <th>2</th>\n",
       "      <td>test/pos/8424_9.txt</td>\n",
       "      <td>pos</td>\n",
       "      <td>This review has been written by someone who has read it (several times) and knows what they are talking about!. Firstly I have read others comments and noticed that some of the objections were really quite stupid. People who have read the book and other Jane Austens or for that matter any good b...</td>\n",
       "    </tr>\n",
       "    <tr>\n",
       "      <th>3</th>\n",
       "      <td>test/neg/9456_4.txt</td>\n",
       "      <td>neg</td>\n",
       "      <td>Ouch!! What a mess we have here. Not so much of a mess as a painfully dull, half-assed excuse for exploitation. Brought to you by the one and only, J. G. \"Pat\" Patterson, yeah, the same one from Moonshine Mountain. Doctor Gore, formerly known as The Body Shop, is, I guess, somewhat inspired by F...</td>\n",
       "    </tr>\n",
       "    <tr>\n",
       "      <th>4</th>\n",
       "      <td>test/neg/3853_1.txt</td>\n",
       "      <td>neg</td>\n",
       "      <td>I am almost tempted to demand my money back from the video store. This movie plumbs the depths of inanity and is almost completely unwatchable. I NEVER bail out of a film early but this was painful to view. A thorough waste of celluloid. My vote 1/10 (it would have been zero).</td>\n",
       "    </tr>\n",
       "  </tbody>\n",
       "</table>\n",
       "</div>"
      ],
      "text/plain": [
       "                  path label  \\\n",
       "0  test/neg/3571_3.txt   neg   \n",
       "1  test/neg/4311_2.txt   neg   \n",
       "2  test/pos/8424_9.txt   pos   \n",
       "3  test/neg/9456_4.txt   neg   \n",
       "4  test/neg/3853_1.txt   neg   \n",
       "\n",
       "                                                                                                                                                                                                                                                                                                          text  \n",
       "0  Upon writing this review I have difficulty trying to think of what to write about. Nothing much happens in this film. The storyline is a South Asian woman who falls for an English Londoner. The problem is he and his friends have had a racist streak. At the same time her friend at work is unknowi...  \n",
       "1  What a clunker!<br /><br />It MUST have been made for TV or Cable.<br /><br />Look: forget the screenplay - forget the bunch of forgettable actors. Excuse me? Continuity? The NSA/NIA/whatever or whoever he is (an agent) takes-off in an F16 - is shown in an F18 chucking his guts up and, later, th...  \n",
       "2  This review has been written by someone who has read it (several times) and knows what they are talking about!. Firstly I have read others comments and noticed that some of the objections were really quite stupid. People who have read the book and other Jane Austens or for that matter any good b...  \n",
       "3  Ouch!! What a mess we have here. Not so much of a mess as a painfully dull, half-assed excuse for exploitation. Brought to you by the one and only, J. G. \"Pat\" Patterson, yeah, the same one from Moonshine Mountain. Doctor Gore, formerly known as The Body Shop, is, I guess, somewhat inspired by F...  \n",
       "4                        I am almost tempted to demand my money back from the video store. This movie plumbs the depths of inanity and is almost completely unwatchable. I NEVER bail out of a film early but this was painful to view. A thorough waste of celluloid. My vote 1/10 (it would have been zero).  "
      ]
     },
     "execution_count": 30,
     "metadata": {},
     "output_type": "execute_result"
    }
   ],
   "source": [
    "df.head()"
   ]
  },
  {
   "cell_type": "markdown",
   "id": "29fe7760",
   "metadata": {},
   "source": [
    "# Setup the project"
   ]
  },
  {
   "cell_type": "code",
   "execution_count": 13,
   "id": "13453217",
   "metadata": {},
   "outputs": [],
   "source": [
    "toloka_client = toloka.TolokaClient(getpass.getpass('Enter your OAuth token: '), 'PRODUCTION') # Or switch to 'SANDBOX'"
   ]
  },
  {
   "cell_type": "markdown",
   "id": "ba15a58d",
   "metadata": {},
   "source": [
    "## Create project"
   ]
  },
  {
   "cell_type": "code",
   "execution_count": 31,
   "id": "0b298578",
   "metadata": {},
   "outputs": [],
   "source": [
    "project = toloka.Project(\n",
    "    public_name='Movie review classification',\n",
    "    public_description='Classify sentiment of movie reviews',\n",
    "    private_comment='OOTB: IMDb Movie Reviews'\n",
    ")"
   ]
  },
  {
   "cell_type": "code",
   "execution_count": 32,
   "id": "5ce8fb18",
   "metadata": {},
   "outputs": [],
   "source": [
    "input_specification = {'text': toloka.project.StringSpec()}\n",
    "output_specification = {'result': toloka.project.StringSpec()}"
   ]
  },
  {
   "cell_type": "code",
   "execution_count": 33,
   "id": "c70b7ffe",
   "metadata": {},
   "outputs": [],
   "source": [
    "text_viewer = tb.TextViewV1(tb.InputData('text'))\n",
    "\n",
    "radio_group_field = tb.ButtonRadioGroupFieldV1(\n",
    "    tb.OutputData('result'),\n",
    "    [\n",
    "        tb.GroupFieldOption('pos', '😃 Positive'),\n",
    "        tb.GroupFieldOption('neg', '😡 Negative'),\n",
    "    ],\n",
    "    label='What is the review sentiment?',\n",
    "    validation=tb.RequiredConditionV1(hint='You need to select one answer'),\n",
    ")\n",
    "\n",
    "task_width_plugin = tb.TolokaPluginV1(\n",
    "    layout=tb.TolokaPluginV1.TolokaPluginLayout(\n",
    "        kind='pager', \n",
    "        task_width=500,\n",
    "    )\n",
    ")\n",
    "\n",
    "hot_keys_plugin = tb.HotkeysPluginV1(\n",
    "    key_1=tb.SetActionV1(tb.OutputData('result'), 'pos'),\n",
    "    key_2=tb.SetActionV1(tb.OutputData('result'), 'neg'),\n",
    ")\n",
    "\n",
    "project_interface = toloka.project.TemplateBuilderViewSpec(\n",
    "    view=tb.ListViewV1([radio_group_field, text_viewer]),\n",
    "    plugins=[task_width_plugin, hot_keys_plugin],\n",
    ")\n",
    "\n",
    "project.task_spec = toloka.project.task_spec.TaskSpec(\n",
    "    input_spec=input_specification,\n",
    "    output_spec=output_specification,\n",
    "    view_spec=project_interface,\n",
    ")"
   ]
  },
  {
   "cell_type": "code",
   "execution_count": 34,
   "id": "078efae9",
   "metadata": {},
   "outputs": [],
   "source": [
    "project.public_instructions = \"\"\"\n",
    "<h2>How to complete the task</h2>\n",
    "<ul>\n",
    "<li>1. Look at the movie review text.</li>\n",
    "<li>2. If it seems 😃 positive, assign the positive label. Otherwise assign the 😡 negative label.</li>\n",
    "<li>3. If you are unsure choose the label that seems most appropriate.</li>\n",
    "</ul>\n",
    "\n",
    "In case of problems send us a message. Good luck!\n",
    "\"\"\".strip()"
   ]
  },
  {
   "cell_type": "code",
   "execution_count": 35,
   "id": "0e359f15",
   "metadata": {},
   "outputs": [
    {
     "name": "stdout",
     "output_type": "stream",
     "text": [
      "[INFO] toloka.client: A new project with ID \"61042\" has been created. Link to open in web interface: https://toloka.yandex.com/requester/project/61042\n"
     ]
    }
   ],
   "source": [
    "project = toloka_client.create_project(project)"
   ]
  },
  {
   "cell_type": "markdown",
   "id": "7f08588c",
   "metadata": {},
   "source": [
    "## Create training tasks"
   ]
  },
  {
   "cell_type": "code",
   "execution_count": 65,
   "id": "ae976731",
   "metadata": {},
   "outputs": [],
   "source": [
    "training_pool = toloka.Training(\n",
    "    project_id=project.id,\n",
    "    private_name='Training pool',  \n",
    "    training_tasks_in_task_suite_count=5, \n",
    "    task_suites_required_to_pass=1,\n",
    "    may_contain_adult_content=False,\n",
    "    inherited_instructions=True,\n",
    "    assignment_max_duration_seconds=60*5,\n",
    "    retry_training_after_days=1,\n",
    "    mix_tasks_in_creation_order=True,\n",
    "    shuffle_tasks_in_task_suite=True,\n",
    ")"
   ]
  },
  {
   "cell_type": "code",
   "execution_count": 37,
   "id": "48d38d06",
   "metadata": {},
   "outputs": [
    {
     "name": "stdout",
     "output_type": "stream",
     "text": [
      "[INFO] toloka.client: A new training with ID \"28288532\" has been created. Link to open in web interface: https://toloka.yandex.com/requester/project/61042/training/28288532\n"
     ]
    }
   ],
   "source": [
    "training_pool = toloka_client.create_training(training_pool)"
   ]
  },
  {
   "cell_type": "code",
   "execution_count": 38,
   "id": "7440c365",
   "metadata": {},
   "outputs": [],
   "source": [
    "label_to_hint_map = {\n",
    "    'pos': 'Positive', \n",
    "    'neg': 'Negative',\n",
    "}\n",
    "\n",
    "\n",
    "tasks = []\n",
    "for l in ['pos', 'neg']: \n",
    "    examples = df_training[df_training.label == l]\n",
    "    \n",
    "    for ex_tuple in examples.itertuples():\n",
    "        tasks.append(\n",
    "            toloka.Task(\n",
    "                input_values={'text': ex_tuple.text}, \n",
    "                known_solutions=[toloka.task.BaseTask.KnownSolution(output_values={'result': ex_tuple.label})],   \n",
    "                message_on_unknown_solution=f'Incorrect label! The actual label is: {label_to_hint_map[ex_tuple.label]}',\n",
    "                infinite_overlap=True,\n",
    "                pool_id=training_pool.id,\n",
    "            )\n",
    "        )"
   ]
  },
  {
   "cell_type": "code",
   "execution_count": 39,
   "id": "55f1c4cd",
   "metadata": {},
   "outputs": [
    {
     "name": "stdout",
     "output_type": "stream",
     "text": [
      "10\n"
     ]
    }
   ],
   "source": [
    "result = toloka_client.create_tasks(tasks, allow_defaults=True)\n",
    "print(len(result.items))"
   ]
  },
  {
   "cell_type": "markdown",
   "id": "45b21857",
   "metadata": {},
   "source": [
    "## Create task Pool"
   ]
  },
  {
   "cell_type": "code",
   "execution_count": 40,
   "id": "82266781",
   "metadata": {},
   "outputs": [],
   "source": [
    "pool = toloka.Pool(\n",
    "    project_id=project.id,\n",
    "    private_name='Pool',\n",
    "    may_contain_adult_content=False,\n",
    "    reward_per_assignment=0.02, \n",
    "    assignment_max_duration_seconds=60*5, \n",
    "    will_expire=datetime.datetime.utcnow() + datetime.timedelta(days=365), \n",
    "    filter=(\n",
    "        (toloka.filter.Languages.in_('EN')) &\n",
    "        (toloka.filter.ClientType == 'BROWSER')\n",
    "    ),\n",
    ")\n",
    "pool.defaults = toloka.pool.Pool.Defaults(\n",
    "    default_overlap_for_new_task_suites=5,\n",
    ")\n",
    "pool.set_mixer_config(\n",
    "    real_tasks_count=4,\n",
    "    golden_tasks_count=1,\n",
    ")"
   ]
  },
  {
   "cell_type": "code",
   "execution_count": 41,
   "id": "07aaf41b",
   "metadata": {},
   "outputs": [],
   "source": [
    "pool.quality_control.training_requirement = toloka.quality_control.QualityControl.TrainingRequirement(\n",
    "    training_pool_id=training_pool.id, \n",
    "    training_passing_skill_value=50,\n",
    ")\n",
    "\n",
    "\n",
    "pool.quality_control.add_action(\n",
    "    collector=toloka.collectors.GoldenSet(\n",
    "        history_size=5,\n",
    "    ),\n",
    "    conditions=[\n",
    "        toloka.conditions.GoldenSetAnswersCount >= 5,\n",
    "        toloka.conditions.IncorrectAnswersRate >= 30,\n",
    "    ],\n",
    "    action=toloka.actions.RestrictionV2(\n",
    "        scope='PROJECT',\n",
    "        duration=1,\n",
    "        duration_unit='DAYS',\n",
    "        private_comment='Low quality of responses',\n",
    "    ),    \n",
    ")\n",
    "\n",
    "\n",
    "pool.quality_control.add_action(\n",
    "    collector=toloka.collectors.AssignmentSubmitTime(history_size=5, fast_submit_threshold_seconds=15),\n",
    "    conditions=[\n",
    "        toloka.conditions.TotalSubmittedCount >= 5,\n",
    "        toloka.conditions.FastSubmittedCount >= 3\n",
    "    ],\n",
    "    action=toloka.actions.RestrictionV2(\n",
    "        scope='PROJECT',\n",
    "        duration=1,\n",
    "        duration_unit='DAYS',\n",
    "        private_comment='Answering too fast',\n",
    "    ),    \n",
    ")\n",
    "\n",
    "pool.quality_control.add_action(\n",
    "    collector=toloka.collectors.SkippedInRowAssignments(),\n",
    "    conditions=[toloka.conditions.SkippedInRowCount >= 3],\n",
    "    action=toloka.actions.RestrictionV2(\n",
    "        scope=toloka.user_restriction.UserRestriction.PROJECT,\n",
    "        duration=1,\n",
    "        duration_unit='DAYS',\n",
    "        private_comment='Too many skipped assignments',\n",
    "    )\n",
    ")\n",
    "\n",
    "pool.quality_control.add_action(\n",
    "    collector=toloka.collectors.MajorityVote(\n",
    "        answer_threshold=4,\n",
    "        history_size=5,\n",
    "    ),\n",
    "    conditions=[\n",
    "        toloka.conditions.TotalAnswersCount >= 5,\n",
    "        toloka.conditions.IncorrectAnswersRate > 30,\n",
    "    ],\n",
    "    action=toloka.actions.RestrictionV2(\n",
    "        scope='PROJECT',\n",
    "        duration=1,\n",
    "        duration_unit='DAYS',\n",
    "        private_comment='Low quality responses',\n",
    "    ),    \n",
    ")"
   ]
  },
  {
   "cell_type": "code",
   "execution_count": 42,
   "id": "45e6ff19",
   "metadata": {},
   "outputs": [
    {
     "name": "stdout",
     "output_type": "stream",
     "text": [
      "[INFO] toloka.client: A new pool with ID \"28288533\" has been created. Link to open in web interface: https://toloka.yandex.com/requester/project/61042/pool/28288533\n"
     ]
    }
   ],
   "source": [
    "pool = toloka_client.create_pool(pool)"
   ]
  },
  {
   "cell_type": "markdown",
   "id": "27051f27",
   "metadata": {},
   "source": [
    "## Create control tasks"
   ]
  },
  {
   "cell_type": "code",
   "execution_count": 43,
   "id": "5fbe842c",
   "metadata": {},
   "outputs": [],
   "source": [
    "tasks = []\n",
    "for ex_tuple in df_control.itertuples():\n",
    "    tasks.append(\n",
    "        toloka.Task(\n",
    "            input_values={'text': ex_tuple.text}, \n",
    "            known_solutions=[toloka.task.BaseTask.KnownSolution(output_values={'result': ex_tuple.label})], \n",
    "            pool_id=pool.id,\n",
    "            infinite_overlap=True,\n",
    "        )\n",
    "    )"
   ]
  },
  {
   "cell_type": "code",
   "execution_count": 44,
   "id": "07da67c2",
   "metadata": {},
   "outputs": [
    {
     "name": "stdout",
     "output_type": "stream",
     "text": [
      "100\n"
     ]
    }
   ],
   "source": [
    "result = toloka_client.create_tasks(tasks=tasks, allow_defaults=True)\n",
    "print(len(result.items))"
   ]
  },
  {
   "cell_type": "markdown",
   "id": "a58247c4",
   "metadata": {},
   "source": [
    "## Create tasks from dataset"
   ]
  },
  {
   "cell_type": "code",
   "execution_count": 45,
   "id": "0d5b5ea6",
   "metadata": {},
   "outputs": [
    {
     "name": "stdout",
     "output_type": "stream",
     "text": [
      "1000\n"
     ]
    }
   ],
   "source": [
    "tasks = []\n",
    "for ex_tuple in df.itertuples():\n",
    "    tasks.append(\n",
    "        toloka.Task(\n",
    "            input_values={'text': ex_tuple.text}, \n",
    "            pool_id=pool.id,\n",
    "        )\n",
    "    )\n",
    "result = toloka_client.create_tasks(tasks=tasks, allow_defaults=True)\n",
    "print(len(result.items))"
   ]
  },
  {
   "cell_type": "markdown",
   "id": "a54129ff",
   "metadata": {},
   "source": [
    "# Start annotation"
   ]
  },
  {
   "cell_type": "code",
   "execution_count": 46,
   "id": "13d912de",
   "metadata": {},
   "outputs": [],
   "source": [
    "training_pool = toloka_client.open_pool(training_pool.id)\n",
    "pool = toloka_client.open_pool(pool.id)"
   ]
  },
  {
   "cell_type": "code",
   "execution_count": null,
   "id": "5f5f5979",
   "metadata": {},
   "outputs": [],
   "source": [
    "pool_id = pool.id\n",
    "\n",
    "def wait_pool_for_close(pool_id, minutes_to_wait=0.5):\n",
    "    sleep_time = 60 * minutes_to_wait\n",
    "    pool = toloka_client.get_pool(pool_id)\n",
    "    while not pool.is_closed():\n",
    "        op = toloka_client.get_analytics([toloka.analytics_request.CompletionPercentagePoolAnalytics(subject_id=pool.id)])\n",
    "        op = toloka_client.wait_operation(op)\n",
    "        percentage = op.details['value'][0]['result']['value']\n",
    "        print(\n",
    "            f'   {datetime.datetime.now().strftime(\"%H:%M:%S\")}\\t'\n",
    "            f'Pool {pool.id} - {percentage}%'\n",
    "        )\n",
    "        time.sleep(sleep_time)\n",
    "        pool = toloka_client.get_pool(pool.id)\n",
    "    print('Pool was closed.')\n",
    "\n",
    "wait_pool_for_close(pool_id)"
   ]
  },
  {
   "cell_type": "code",
   "execution_count": 48,
   "id": "d1318fa4",
   "metadata": {},
   "outputs": [],
   "source": [
    "training_pool = toloka_client.close_pool(training_pool.id)"
   ]
  },
  {
   "cell_type": "markdown",
   "id": "d9c3a3a1",
   "metadata": {},
   "source": [
    "# Extract results"
   ]
  },
  {
   "cell_type": "code",
   "execution_count": 60,
   "id": "e3d0ba73",
   "metadata": {},
   "outputs": [
    {
     "name": "stdout",
     "output_type": "stream",
     "text": [
      "[WARNING] toloka.client: Experimental method\n"
     ]
    }
   ],
   "source": [
    "answers_df = toloka_client.get_assignments_df(pool.id, exclude_banned=True)\n",
    "answers_df = answers_df[answers_df['GOLDEN:result'].isnull()]\n",
    "answers_df = answers_df.rename(columns={\n",
    "    'INPUT:text': 'task',\n",
    "    'OUTPUT:result': 'label',\n",
    "    'ASSIGNMENT:worker_id': 'worker',\n",
    "})"
   ]
  },
  {
   "cell_type": "markdown",
   "id": "7ef15a6f",
   "metadata": {},
   "source": [
    "# Aggregate results"
   ]
  },
  {
   "cell_type": "code",
   "execution_count": 61,
   "id": "916a6a80",
   "metadata": {},
   "outputs": [
    {
     "data": {
      "text/html": [
       "<div>\n",
       "<style scoped>\n",
       "    .dataframe tbody tr th:only-of-type {\n",
       "        vertical-align: middle;\n",
       "    }\n",
       "\n",
       "    .dataframe tbody tr th {\n",
       "        vertical-align: top;\n",
       "    }\n",
       "\n",
       "    .dataframe thead th {\n",
       "        text-align: right;\n",
       "    }\n",
       "</style>\n",
       "<table border=\"1\" class=\"dataframe\">\n",
       "  <thead>\n",
       "    <tr style=\"text-align: right;\">\n",
       "      <th></th>\n",
       "      <th>text</th>\n",
       "      <th>pred_label</th>\n",
       "      <th>path</th>\n",
       "      <th>label</th>\n",
       "    </tr>\n",
       "  </thead>\n",
       "  <tbody>\n",
       "    <tr>\n",
       "      <th>0</th>\n",
       "      <td>I think that this short TV series, was absolutely wonderful, and gave both a in-depth and clear explanation of everything that was on the screen at the given time. This was by far David Attenborough at his best. I personally thought this was one of the best documentaries in the past decade. This...</td>\n",
       "      <td>pos</td>\n",
       "      <td>test/pos/3585_10.txt</td>\n",
       "      <td>pos</td>\n",
       "    </tr>\n",
       "    <tr>\n",
       "      <th>1</th>\n",
       "      <td>Kill the scream queen may sound like a good slasher flick but it is terribly boring and very dumb.&lt;br /&gt;&lt;br /&gt;Kill the scream queen is about a crazy filmmaker who auditions girls to be in his snuff film. He rapes and tortures them. This is trash that is not amusing, suspenseful or entertaining.T...</td>\n",
       "      <td>neg</td>\n",
       "      <td>test/neg/2817_1.txt</td>\n",
       "      <td>neg</td>\n",
       "    </tr>\n",
       "    <tr>\n",
       "      <th>2</th>\n",
       "      <td>Well, okay, maybe not perfect, but it was pretty close. This movie jumped from crime drama to romantic goofball comedy and back again so quickly all the way throughout that it seemed like two different movies that played simultaneously and then joined up again at the end. But they did it smoothl...</td>\n",
       "      <td>pos</td>\n",
       "      <td>test/pos/2847_8.txt</td>\n",
       "      <td>pos</td>\n",
       "    </tr>\n",
       "    <tr>\n",
       "      <th>3</th>\n",
       "      <td>Some movies want to make us think, some want to excite us, some want to exhilarate us. But sometimes, a movie wants only to make us laugh, and \"In &amp; Out\" certainly succeeds in this department.&lt;br /&gt;&lt;br /&gt;Indiana high-school teacher Howard Brackett (Kevin Kline) is going to be married to fellow t...</td>\n",
       "      <td>pos</td>\n",
       "      <td>test/pos/10922_8.txt</td>\n",
       "      <td>pos</td>\n",
       "    </tr>\n",
       "    <tr>\n",
       "      <th>4</th>\n",
       "      <td>In 1913, in Carlton Mine, Addytown, Pennsylvania, the cruel owner of a mine uses poor children in the exploration and after an explosion, a group of children is buried alive. On the present days, Karen Tunny (Lori Heuring) has just lost her husband after a long period of terminal disease when th...</td>\n",
       "      <td>neg</td>\n",
       "      <td>test/neg/1114_4.txt</td>\n",
       "      <td>neg</td>\n",
       "    </tr>\n",
       "  </tbody>\n",
       "</table>\n",
       "</div>"
      ],
      "text/plain": [
       "                                                                                                                                                                                                                                                                                                          text  \\\n",
       "0  I think that this short TV series, was absolutely wonderful, and gave both a in-depth and clear explanation of everything that was on the screen at the given time. This was by far David Attenborough at his best. I personally thought this was one of the best documentaries in the past decade. This...   \n",
       "1  Kill the scream queen may sound like a good slasher flick but it is terribly boring and very dumb.<br /><br />Kill the scream queen is about a crazy filmmaker who auditions girls to be in his snuff film. He rapes and tortures them. This is trash that is not amusing, suspenseful or entertaining.T...   \n",
       "2  Well, okay, maybe not perfect, but it was pretty close. This movie jumped from crime drama to romantic goofball comedy and back again so quickly all the way throughout that it seemed like two different movies that played simultaneously and then joined up again at the end. But they did it smoothl...   \n",
       "3  Some movies want to make us think, some want to excite us, some want to exhilarate us. But sometimes, a movie wants only to make us laugh, and \"In & Out\" certainly succeeds in this department.<br /><br />Indiana high-school teacher Howard Brackett (Kevin Kline) is going to be married to fellow t...   \n",
       "4  In 1913, in Carlton Mine, Addytown, Pennsylvania, the cruel owner of a mine uses poor children in the exploration and after an explosion, a group of children is buried alive. On the present days, Karen Tunny (Lori Heuring) has just lost her husband after a long period of terminal disease when th...   \n",
       "\n",
       "  pred_label                  path label  \n",
       "0        pos  test/pos/3585_10.txt   pos  \n",
       "1        neg   test/neg/2817_1.txt   neg  \n",
       "2        pos   test/pos/2847_8.txt   pos  \n",
       "3        pos  test/pos/10922_8.txt   pos  \n",
       "4        neg   test/neg/1114_4.txt   neg  "
      ]
     },
     "execution_count": 61,
     "metadata": {},
     "output_type": "execute_result"
    }
   ],
   "source": [
    "aggregated_answers = DawidSkene(n_iter=100).fit_predict(answers_df)\n",
    "aggregated_answers = aggregated_answers.reset_index()\n",
    "aggregated_answers.columns = ['text', 'pred_label']\n",
    "aggregated_answers = aggregated_answers.merge(df, on='text')\n",
    "aggregated_answers.head()"
   ]
  },
  {
   "cell_type": "markdown",
   "id": "cac70a10",
   "metadata": {},
   "source": [
    "# View results"
   ]
  },
  {
   "cell_type": "code",
   "execution_count": 62,
   "id": "ead08680",
   "metadata": {},
   "outputs": [
    {
     "data": {
      "text/html": [
       "<div>\n",
       "<style scoped>\n",
       "    .dataframe tbody tr th:only-of-type {\n",
       "        vertical-align: middle;\n",
       "    }\n",
       "\n",
       "    .dataframe tbody tr th {\n",
       "        vertical-align: top;\n",
       "    }\n",
       "\n",
       "    .dataframe thead th {\n",
       "        text-align: right;\n",
       "    }\n",
       "</style>\n",
       "<table border=\"1\" class=\"dataframe\">\n",
       "  <thead>\n",
       "    <tr style=\"text-align: right;\">\n",
       "      <th></th>\n",
       "      <th>text</th>\n",
       "      <th>pred_label</th>\n",
       "      <th>label</th>\n",
       "    </tr>\n",
       "  </thead>\n",
       "  <tbody>\n",
       "    <tr>\n",
       "      <th>253</th>\n",
       "      <td>Don't ask me why I love this movie so much...Maybe it came at a time in my life I desperately wanted to fit in, maybe it is the amazing monster effects, maybe because I enjoyed the novel \"Cabal\", but It's probably because I LOVE Clive Barker. I think it's fair to warn you the movie and the novel...</td>\n",
       "      <td>pos</td>\n",
       "      <td>pos</td>\n",
       "    </tr>\n",
       "    <tr>\n",
       "      <th>22</th>\n",
       "      <td>With a name like \"10 Commandments\" you would expect a film to be representative of the account in the Bible, specifically Exodus. Not so here. This is standard procedure with any Biblical Hallmark-made film. Remember \"Noah\"?? That was utter fiction and one of the worst films ever made. At least ...</td>\n",
       "      <td>neg</td>\n",
       "      <td>neg</td>\n",
       "    </tr>\n",
       "    <tr>\n",
       "      <th>852</th>\n",
       "      <td>I've seen some bad things in my time. A half dead cow trying to get out of waist high mud; a head on collision between two cars; a thousand plates smashing on a kitchen floor; human beings living like animals.&lt;br /&gt;&lt;br /&gt;But never in my life have I seen anything as bad as The Cat in the Hat.&lt;br ...</td>\n",
       "      <td>neg</td>\n",
       "      <td>neg</td>\n",
       "    </tr>\n",
       "    <tr>\n",
       "      <th>298</th>\n",
       "      <td>Talk about being boring!&lt;br /&gt;&lt;br /&gt;I got this expecting a fascinating insight into the life of the man who wrote the mythical Night on the Galactic Railroad. I expected to see crazy stories and hijinks of an eccentric man and to discover his inspirations for such bizarre material. Boy, was I wr...</td>\n",
       "      <td>pos</td>\n",
       "      <td>neg</td>\n",
       "    </tr>\n",
       "    <tr>\n",
       "      <th>864</th>\n",
       "      <td>This Blake Edwards film isn't too sure whether it wants to be a comedy, a drama or a musical. No matter, the sheer presence of Julie Andrews, is reason enough to see this comedy-drama-musical-spy spoof. Julie is beautiful and uses her many talents, throughout the film. Rock Hudson looks tired, b...</td>\n",
       "      <td>pos</td>\n",
       "      <td>pos</td>\n",
       "    </tr>\n",
       "  </tbody>\n",
       "</table>\n",
       "</div>"
      ],
      "text/plain": [
       "                                                                                                                                                                                                                                                                                                            text  \\\n",
       "253  Don't ask me why I love this movie so much...Maybe it came at a time in my life I desperately wanted to fit in, maybe it is the amazing monster effects, maybe because I enjoyed the novel \"Cabal\", but It's probably because I LOVE Clive Barker. I think it's fair to warn you the movie and the novel...   \n",
       "22   With a name like \"10 Commandments\" you would expect a film to be representative of the account in the Bible, specifically Exodus. Not so here. This is standard procedure with any Biblical Hallmark-made film. Remember \"Noah\"?? That was utter fiction and one of the worst films ever made. At least ...   \n",
       "852  I've seen some bad things in my time. A half dead cow trying to get out of waist high mud; a head on collision between two cars; a thousand plates smashing on a kitchen floor; human beings living like animals.<br /><br />But never in my life have I seen anything as bad as The Cat in the Hat.<br ...   \n",
       "298  Talk about being boring!<br /><br />I got this expecting a fascinating insight into the life of the man who wrote the mythical Night on the Galactic Railroad. I expected to see crazy stories and hijinks of an eccentric man and to discover his inspirations for such bizarre material. Boy, was I wr...   \n",
       "864  This Blake Edwards film isn't too sure whether it wants to be a comedy, a drama or a musical. No matter, the sheer presence of Julie Andrews, is reason enough to see this comedy-drama-musical-spy spoof. Julie is beautiful and uses her many talents, throughout the film. Rock Hudson looks tired, b...   \n",
       "\n",
       "    pred_label label  \n",
       "253        pos   pos  \n",
       "22         neg   neg  \n",
       "852        neg   neg  \n",
       "298        pos   neg  \n",
       "864        pos   pos  "
      ]
     },
     "execution_count": 62,
     "metadata": {},
     "output_type": "execute_result"
    }
   ],
   "source": [
    "aggregated_answers[['text', 'pred_label', 'label']].sample(5).head()"
   ]
  },
  {
   "cell_type": "markdown",
   "id": "42c9a9a0",
   "metadata": {},
   "source": [
    "# View errors"
   ]
  },
  {
   "cell_type": "code",
   "execution_count": 63,
   "id": "710412d0",
   "metadata": {},
   "outputs": [
    {
     "data": {
      "text/html": [
       "<div>\n",
       "<style scoped>\n",
       "    .dataframe tbody tr th:only-of-type {\n",
       "        vertical-align: middle;\n",
       "    }\n",
       "\n",
       "    .dataframe tbody tr th {\n",
       "        vertical-align: top;\n",
       "    }\n",
       "\n",
       "    .dataframe thead th {\n",
       "        text-align: right;\n",
       "    }\n",
       "</style>\n",
       "<table border=\"1\" class=\"dataframe\">\n",
       "  <thead>\n",
       "    <tr style=\"text-align: right;\">\n",
       "      <th></th>\n",
       "      <th>text</th>\n",
       "      <th>pred_label</th>\n",
       "      <th>label</th>\n",
       "    </tr>\n",
       "  </thead>\n",
       "  <tbody>\n",
       "    <tr>\n",
       "      <th>755</th>\n",
       "      <td>The only reason I watched this movie a second time, was to learn the name of the \"second banana\" girl playing opposite Katie Holms. Her name is Marisa Coughlan. Never heard of her before. She is lovely. Captivating. With an animated face, and cute bod, she is highly watchable... She's got real, ...</td>\n",
       "      <td>pos</td>\n",
       "      <td>neg</td>\n",
       "    </tr>\n",
       "    <tr>\n",
       "      <th>608</th>\n",
       "      <td>It was inferred by a previous poster that the military would not be subordinate to the police in a disaster as depicted in the film. In fact the military role would be to supply aid to the civil authorities when requested to do so. The civil authorities would retain primacy. In practise the Army...</td>\n",
       "      <td>pos</td>\n",
       "      <td>neg</td>\n",
       "    </tr>\n",
       "    <tr>\n",
       "      <th>598</th>\n",
       "      <td>On paper this looks a good film . Michael Caine plays a tough and ruthless boxing promoter who's son is up for a title eliminator . The pity is that when the story is transferred from paper to my television screen it loses a certain everything . I had hoped we'd be seen emulating his definitive ...</td>\n",
       "      <td>pos</td>\n",
       "      <td>neg</td>\n",
       "    </tr>\n",
       "    <tr>\n",
       "      <th>609</th>\n",
       "      <td>Young Warriors (1983) &lt;br /&gt;&lt;br /&gt;While this is a deeply flawed (and in some ways idiotic) movie, the way it continually defies expectations makes it decent viewing for the adventurous sleaze fan.&lt;br /&gt;&lt;br /&gt;Meet yuppie college student Kevin and his gang of lovable frat boy buddies. In what star...</td>\n",
       "      <td>neg</td>\n",
       "      <td>pos</td>\n",
       "    </tr>\n",
       "    <tr>\n",
       "      <th>759</th>\n",
       "      <td>I have recently gone to the movie theatres to see the new (2007) version of Bridge to Teribithia. After, I went to the library to rent the older version to see it again without paying again. I must say that I was extremely disappointed! I found the older version to have horrible acting as well a...</td>\n",
       "      <td>pos</td>\n",
       "      <td>neg</td>\n",
       "    </tr>\n",
       "  </tbody>\n",
       "</table>\n",
       "</div>"
      ],
      "text/plain": [
       "                                                                                                                                                                                                                                                                                                            text  \\\n",
       "755  The only reason I watched this movie a second time, was to learn the name of the \"second banana\" girl playing opposite Katie Holms. Her name is Marisa Coughlan. Never heard of her before. She is lovely. Captivating. With an animated face, and cute bod, she is highly watchable... She's got real, ...   \n",
       "608  It was inferred by a previous poster that the military would not be subordinate to the police in a disaster as depicted in the film. In fact the military role would be to supply aid to the civil authorities when requested to do so. The civil authorities would retain primacy. In practise the Army...   \n",
       "598  On paper this looks a good film . Michael Caine plays a tough and ruthless boxing promoter who's son is up for a title eliminator . The pity is that when the story is transferred from paper to my television screen it loses a certain everything . I had hoped we'd be seen emulating his definitive ...   \n",
       "609  Young Warriors (1983) <br /><br />While this is a deeply flawed (and in some ways idiotic) movie, the way it continually defies expectations makes it decent viewing for the adventurous sleaze fan.<br /><br />Meet yuppie college student Kevin and his gang of lovable frat boy buddies. In what star...   \n",
       "759  I have recently gone to the movie theatres to see the new (2007) version of Bridge to Teribithia. After, I went to the library to rent the older version to see it again without paying again. I must say that I was extremely disappointed! I found the older version to have horrible acting as well a...   \n",
       "\n",
       "    pred_label label  \n",
       "755        pos   neg  \n",
       "608        pos   neg  \n",
       "598        pos   neg  \n",
       "609        neg   pos  \n",
       "759        pos   neg  "
      ]
     },
     "execution_count": 63,
     "metadata": {},
     "output_type": "execute_result"
    }
   ],
   "source": [
    "aggregated_answers[aggregated_answers.pred_label != aggregated_answers.label][['text', 'pred_label', 'label']].sample(5).head()"
   ]
  },
  {
   "cell_type": "markdown",
   "id": "cbcee026",
   "metadata": {},
   "source": [
    "# Obtain accuracy"
   ]
  },
  {
   "cell_type": "code",
   "execution_count": 64,
   "id": "136d00c9",
   "metadata": {},
   "outputs": [
    {
     "name": "stdout",
     "output_type": "stream",
     "text": [
      "Accuracy: 0.89\n",
      "Error: 0.11\n"
     ]
    }
   ],
   "source": [
    "accuracy = balanced_accuracy_score(aggregated_answers.label, aggregated_answers.pred_label)\n",
    "print(f'Accuracy: {accuracy:.2f}')\n",
    "print(f'Error: {1-accuracy:.2f}')"
   ]
  }
 ],
 "metadata": {
  "interpreter": {
   "hash": "aee8b7b246df8f9039afb4144a1f6fd8d2ca17a180786b69acc140d282b71a49"
  },
  "jupytercloud": {
   "share": {
    "history": [
     {
      "link": "https://a.yandex-team.ru/arc/trunk/arcadia/junk/btseytlin/jupyter/ootb/oottb_image_classification.ipynb?rev=8548703",
      "path": "junk/btseytlin/jupyter/ootb/oottb_image_classification.ipynb",
      "success": true,
      "timestamp": 1629718035338
     },
     {
      "link": "https://a.yandex-team.ru/arc/trunk/arcadia/junk/btseytlin/jupyter/ootb/oottb_image_classification.ipynb?rev=8560593",
      "path": "junk/btseytlin/jupyter/ootb/oottb_image_classification.ipynb",
      "success": true,
      "timestamp": 1629970369047
     },
     {
      "link": "https://a.yandex-team.ru/arc/trunk/arcadia/junk/btseytlin/jupyter/ootb/oottb_image_classification.ipynb?rev=8561371",
      "path": "junk/btseytlin/jupyter/ootb/oottb_image_classification.ipynb",
      "success": true,
      "timestamp": 1629978932609
     },
     {
      "link": "https://a.yandex-team.ru/arc/trunk/arcadia/junk/btseytlin/jupyter/ootb/oottb_text_classification.ipynb?rev=8565052",
      "path": "junk/btseytlin/jupyter/ootb/oottb_text_classification.ipynb",
      "success": true,
      "timestamp": 1630057712069
     }
    ]
   }
  },
  "kernelspec": {
   "display_name": "Python 3 (ipykernel)",
   "language": "python",
   "name": "python3"
  },
  "language_info": {
   "codemirror_mode": {
    "name": "ipython",
    "version": 3
   },
   "file_extension": ".py",
   "mimetype": "text/x-python",
   "name": "python",
   "nbconvert_exporter": "python",
   "pygments_lexer": "ipython3",
   "version": "3.9.12"
  }
 },
 "nbformat": 4,
 "nbformat_minor": 5
}
