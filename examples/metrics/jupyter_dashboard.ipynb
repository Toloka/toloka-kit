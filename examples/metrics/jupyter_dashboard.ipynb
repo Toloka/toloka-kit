{
 "cells": [
  {
   "cell_type": "markdown",
   "metadata": {},
   "source": [
    "# Collect and show metrics in jupyter dashboard"
   ]
  },
  {
   "cell_type": "markdown",
   "metadata": {
    "pycharm": {
     "name": "#%% md\n"
    }
   },
   "source": [
    "In this example we will learn how to collect metrics using Toloka-kit and\n",
    "display it right inside this jupyter notebook."
   ]
  },
  {
   "cell_type": "code",
   "execution_count": null,
   "metadata": {},
   "outputs": [],
   "source": [
    "%%capture\n",
    "!pip install toloka-kit==0.1.26\n",
    "!pip install crowd-kit==1.0.0\n",
    "\n",
    "import getpass\n",
    "\n",
    "import toloka.metrics as metrics\n",
    "import toloka.client as toloka\n",
    "from toloka.metrics.jupyter_dashboard import Chart, DashBoard\n"
   ]
  },
  {
   "cell_type": "code",
   "execution_count": null,
   "metadata": {
    "pycharm": {
     "name": "#%%\n"
    }
   },
   "outputs": [],
   "source": [
    "toloka_client = toloka.TolokaClient(getpass.getpass('Enter your OAuth token: '), 'PRODUCTION') # Or switch to 'SANDBOX'\n",
    "print(toloka_client.get_requester())"
   ]
  },
  {
   "cell_type": "markdown",
   "metadata": {},
   "source": [
    "For this example we will run pipeline from [Streaming pipeline example](https://github.com/Toloka/toloka-kit/tree/main/examples/6.streaming_pipelines/streaming_pipelines.ipynb) [![Open In Colab](https://colab.research.google.com/assets/colab-badge.svg)](https://colab.research.google.com/github/Toloka/toloka-kit/blob/main/examples/6.streaming_pipelines/streaming_pipelines.ipynb).\n",
    "If you are running this jupyter notebook in colab please download necessary script with the following line of code:"
   ]
  },
  {
   "cell_type": "code",
   "execution_count": null,
   "metadata": {
    "pycharm": {
     "name": "#%%\n"
    }
   },
   "outputs": [],
   "source": [
    "!wget --quiet --show-progress \"https://raw.githubusercontent.com/Toloka/toloka-kit/main/examples/metrics/find_items_pipeline.py\""
   ]
  },
  {
   "cell_type": "code",
   "execution_count": null,
   "metadata": {
    "pycharm": {
     "name": "#%%\n"
    }
   },
   "outputs": [],
   "source": [
    "from find_items_pipeline import FindItemsPipeline\n",
    "pipeline = FindItemsPipeline(client=toloka_client)"
   ]
  },
  {
   "cell_type": "markdown",
   "metadata": {
    "pycharm": {
     "name": "#%% md\n"
    }
   },
   "source": [
    "Create projects and pools needed for pipeline."
   ]
  },
  {
   "cell_type": "code",
   "execution_count": null,
   "metadata": {
    "pycharm": {
     "name": "#%%\n"
    }
   },
   "outputs": [],
   "source": [
    "pipeline.init_pipeline()"
   ]
  },
  {
   "cell_type": "markdown",
   "metadata": {
    "pycharm": {
     "name": "#%% md\n"
    }
   },
   "source": [
    "## Configuring jupyter dashboard\n",
    "\n",
    "Let's create dashboard for all pools in the pipeline. For this example we will collect\n",
    "a number of submitted assignments, accepted assignments and total expenses for each pool. All available metrics can be found in the [documentation](https://toloka.ai/en/docs/toloka-kit/reference/toloka.metrics.metrics.BaseMetric)."
   ]
  },
  {
   "cell_type": "code",
   "execution_count": null,
   "metadata": {
    "pycharm": {
     "name": "#%%\n"
    }
   },
   "outputs": [],
   "source": [
    "new_dash = DashBoard(\n",
    "    [\n",
    "        # Manually configured charts may contain several metrics and draw all their lines in one chart.\n",
    "        # You must clearly specify chart name\n",
    "        # Be careful, if you add same metric type with default line names, you get pair of lines with same names.\n",
    "        Chart(\n",
    "            'Assignments in pools',\n",
    "            # Assignments in pools. We will track submitted assignments and accepted assignments counts for every pool.\n",
    "            [metrics.AssignmentsInPool(\n",
    "                pipeline.verification_pool.id,\n",
    "                submitted_name='verification_pool.submitted_assignments',\n",
    "                accepted_name='verification_pool.accepted_assignments',\n",
    "            ),\n",
    "            metrics.AssignmentsInPool(\n",
    "                pipeline.find_items_pool.id,\n",
    "                submitted_name='find_items_pool.submitted_assignments',\n",
    "                accepted_name='find_items_pool.accepted_assignments',\n",
    "            ),\n",
    "            metrics.AssignmentsInPool(\n",
    "                pipeline.sbs_pool.id,\n",
    "                submitted_name='sbs_pool.submitted_assignments',\n",
    "                accepted_name='sbs_pool.accepted_assignments',\n",
    "            )]\n",
    "        ),\n",
    "        Chart(\n",
    "            'Pools expenses',\n",
    "            [# Budget spent for every pool\n",
    "            metrics.SpentBudgetOnPool(\n",
    "                pipeline.verification_pool.id,\n",
    "                'verification_pool.expenses'\n",
    "            ),\n",
    "            metrics.SpentBudgetOnPool(\n",
    "                pipeline.find_items_pool.id,\n",
    "                'find_items_pool.expenses'\n",
    "            ),\n",
    "            metrics.SpentBudgetOnPool(\n",
    "                pipeline.sbs_pool.id,\n",
    "                'sbs_pool.expenses'\n",
    "            ),]\n",
    "        ),\n",
    "    ],\n",
    "    update_seconds=2,  # just example. In real dashboards it's better to drop this parameter\n",
    "    header='Find items pipeline dashboard',\n",
    ")\n",
    "\n",
    "metrics.bind_client(new_dash.metrics, toloka_client)"
   ]
  },
  {
   "cell_type": "markdown",
   "metadata": {},
   "source": [
    "Start dashboard. You can run other cells, while this dashboard is tracking metrics."
   ]
  },
  {
   "cell_type": "code",
   "execution_count": null,
   "metadata": {
    "pycharm": {
     "name": "#%%\n"
    }
   },
   "outputs": [],
   "source": [
    "new_dash.run_dash()\n"
   ]
  },
  {
   "cell_type": "markdown",
   "metadata": {
    "pycharm": {
     "name": "#%% md\n"
    }
   },
   "source": [
    "---\n",
    "**NOTE**\n",
    "- This DashBoard is useful only for fast and pretty online demonstration in jupyter notebooks. For real monitoring system, please use `toloka.metric.MetricCollector` (see [Graphite example](https://github.com/Toloka/toloka-kit/tree/main/examples/metrics/graphite.ipynb) [![Open In Colab](https://colab.research.google.com/assets/colab-badge.svg)](https://colab.research.google.com/github/Toloka/toloka-kit/tree/main/examples/metrics/graphite.ipynb))\n",
    "- DashBoard is not saved with jupyter notebook. It uses `IPython.lib.display.IFrame`. So if you save notebook and share .ipynb file, there will be no dashboard images.\n",
    "- DashBoard works with current instance, so you can not share it.\n",
    "---\n"
   ]
  },
  {
   "cell_type": "markdown",
   "metadata": {},
   "source": [
    "## Running pipeline\n",
    "\n",
    "Let's try to launch our pipeline and see metrics updated. Metrics will be simultaneously drawn in the above dashboard.\n",
    "\n",
    "⚠️ **Be careful**:\n",
    "real projects will be created and money will be spent in case of running in production environment! ⚠️"
   ]
  },
  {
   "cell_type": "code",
   "execution_count": null,
   "metadata": {
    "pycharm": {
     "name": "#%%\n"
    }
   },
   "outputs": [],
   "source": [
    "import asyncio\n",
    "# Google Colab is using a global event pool,\n",
    "# so in order to run our pipeline we have to apply nest_asyncio to create an inner pool\n",
    "if 'google.colab' in str(get_ipython()):\n",
    "    import nest_asyncio, asyncio\n",
    "    nest_asyncio.apply()\n",
    "    asyncio.get_event_loop().run_until_complete(pipeline.run())\n",
    "else:\n",
    "    await pipeline.run()"
   ]
  },
  {
   "cell_type": "markdown",
   "metadata": {},
   "source": [
    "If you want to stop dashboard call this:"
   ]
  },
  {
   "cell_type": "code",
   "execution_count": null,
   "metadata": {},
   "outputs": [],
   "source": [
    "new_dash.stop_dash()"
   ]
  },
  {
   "cell_type": "markdown",
   "metadata": {},
   "source": [
    "After pipeline completion your dashboard should contain charts similar to this:\n",
    "\n",
    "<table  align=\"center\">\n",
    "  <tr><td>\n",
    "    <img src=\"./img/assignments_in_pool_dash.png\" width=\"1000\">\n",
    "  </td></tr>\n",
    "  <tr><td align=\"center\">\n",
    "    <b>Figure 1.</b> Assignments in pools metric chart.\n",
    "  </td></tr>\n",
    "</table>\n",
    "\n",
    "<table  align=\"center\">\n",
    "  <tr><td>\n",
    "    <img src=\"./img/pool_expenses_dash.png\" width=\"1000\">\n",
    "  </td></tr>\n",
    "  <tr><td align=\"center\">\n",
    "    <b>Figure 2.</b> Pools expenses metric chart.\n",
    "  </td></tr>\n",
    "</table>"
   ]
  },
  {
   "cell_type": "markdown",
   "metadata": {
    "pycharm": {
     "name": "#%% md\n"
    }
   },
   "source": [
    "---\n",
    "\n",
    "## Tips for using Toloka-kit metrics\n",
    "\n",
    "- If you need several dashboard, create several instances of DashBoard and run it in several ports like:\n",
    "```Python\n",
    "    dash_for_requester1 = DashBoard(toloka_client1, [...])\n",
    "    dash_for_requester2 = DashBoard(toloka_client2, [...])\n",
    "```\n",
    "And then run these instances in different cells on different ports:</br></br>\n",
    "First cell:\n",
    "```Python\n",
    "    dash_for_requester1.run_dash(port='8081')\n",
    "```\n",
    "Second cell:\n",
    "```Python\n",
    "    dash_for_requester2.run_dash(port='8082')\n",
    "```\n",
    "- You can use same dashboard for metrics from different clients:\n",
    "```Python\n",
    "    toloka_client_1 = toloka.TolokaClient(<FIRST CLIENT TOKEN>, 'PRODUCTION')\n",
    "    toloka_client_2 = toloka.TolokaClient(<SECOND CLIENT TOKEN>, 'PRODUCTION')\n",
    "\n",
    "    my_dash = DashBoard(\n",
    "        [\n",
    "            metrics.Balance(toloka_client=toloka_client_1),\n",
    "            metrics.Balance(toloka_client=toloka_client_2),\n",
    "            Chart(\n",
    "                'Balance for both clients',\n",
    "                [\n",
    "                    metrics.Balance(balance_name='first client', toloka_client=toloka_client_1),\n",
    "                    metrics.Balance(balance_name='second client', toloka_client=toloka_client_2),\n",
    "                ]\n",
    "            )\n",
    "        ],\n",
    "        header='Dashboard for several clients',\n",
    "    )\n",
    "```\n",
    "You **don't** need to call `bind_client` afterwards because you have already binded clients in each metric.\n"
   ]
  }
 ],
 "metadata": {
  "kernelspec": {
   "display_name": "Python 3 (ipykernel)",
   "language": "python",
   "name": "python3"
  },
  "language_info": {
   "codemirror_mode": {
    "name": "ipython",
    "version": 3
   },
   "file_extension": ".py",
   "mimetype": "text/x-python",
   "name": "python",
   "nbconvert_exporter": "python",
   "pygments_lexer": "ipython3",
   "version": "3.9.12"
  }
 },
 "nbformat": 4,
 "nbformat_minor": 4
}
