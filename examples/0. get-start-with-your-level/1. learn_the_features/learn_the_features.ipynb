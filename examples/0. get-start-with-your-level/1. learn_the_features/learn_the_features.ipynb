{
  "nbformat": 4,
  "nbformat_minor": 0,
  "metadata": {
    "colab": {
      "provenance": []
    },
    "kernelspec": {
      "name": "python3",
      "display_name": "Python 3"
    },
    "language_info": {
      "name": "python"
    }
  },
  "cells": [
    {
      "cell_type": "markdown",
      "source": [
        "# Get your medium level"
      ],
      "metadata": {
        "id": "W3LjutNLcuVp"
      }
    },
    {
      "cell_type": "markdown",
      "source": [
        "Welcome to the medium level Toloka-Kit tutorial! In this notebook, we will explore some of the powerful features and capabilities that Toloka-Kit has to offer. This tutorial is designed for users who already have some experience with Toloka-Kit and are looking to expand their knowledge and implement more complex workflows in their crowdsourcing projects.\n",
        "\n",
        "We will cover topics such as advanced quality control, custom interface design and using various collectors, conditions, and actions to create more sophisticated task pools."
      ],
      "metadata": {
        "id": "DCtfQgrO1WMX"
      }
    },
    {
      "cell_type": "markdown",
      "source": [
        "## Libraries importing"
      ],
      "metadata": {
        "id": "WqSrUAMNdMbN"
      }
    },
    {
      "cell_type": "markdown",
      "source": [
        "First of all, let's install and import necessary libraries"
      ],
      "metadata": {
        "id": "Vn9Z4FSFbduE"
      }
    },
    {
      "cell_type": "code",
      "execution_count": null,
      "metadata": {
        "id": "P52cvCgKzPZE"
      },
      "outputs": [],
      "source": [
        "import datetime\n",
        "import getpass\n",
        "import time\n",
        "\n",
        "import pandas as pd\n",
        "import toloka.client as toloka\n",
        "import toloka.client.project.template_builder as tb"
      ]
    },
    {
      "cell_type": "markdown",
      "source": [
        "## Authorization in Toloka API"
      ],
      "metadata": {
        "id": "nWLdAVkqdXKt"
      }
    },
    {
      "cell_type": "markdown",
      "source": [
        "To interact with the Toloka API, you need to provide an API key for authentication.\n",
        "\n",
        "You can obtain your API key from the Toloka website https://platform.toloka.ai/requester/profile/integration.\n",
        "\n",
        "Make sure to keep your API key secret and not share it with anyone."
      ],
      "metadata": {
        "id": "7vXiAoNif_IN"
      }
    },
    {
      "cell_type": "code",
      "source": [
        "toloka_client = toloka.TolokaClient(getpass.getpass('Enter your OAuth token: '), 'PRODUCTION') # Or switch to 'SANDBOX'\n",
        "# Lines below check that the OAuth token is correct and print your account's name\n",
        "print(toloka_client.get_requester())"
      ],
      "metadata": {
        "id": "4_jLOymszQUN"
      },
      "execution_count": null,
      "outputs": []
    },
    {
      "cell_type": "markdown",
      "source": [
        "# Creating new project"
      ],
      "metadata": {
        "id": "sBi_aC2idonJ"
      }
    },
    {
      "cell_type": "markdown",
      "source": [
        "Here we create an instance of the Toloka project with a specified public name and description.\n",
        "\n",
        "The public name and description will be visible to the performers who work on your tasks.\n",
        "\n",
        "Make sure to provide a clear and concise name and description that accurately represent the purpose and requirements of your crowdsourcing project."
      ],
      "metadata": {
        "id": "llDtUF7ZgtXP"
      }
    },
    {
      "cell_type": "code",
      "source": [
        "project = toloka.Project(\n",
        "    public_name='Your project name',\n",
        "    public_description='Your project description',\n",
        ")"
      ],
      "metadata": {
        "id": "3aBi2SrnzRCa"
      },
      "execution_count": null,
      "outputs": []
    },
    {
      "cell_type": "markdown",
      "source": [
        "## Input and output data"
      ],
      "metadata": {
        "id": "QVxd68KQ2fed"
      }
    },
    {
      "cell_type": "markdown",
      "source": [
        "Define the input and output data types for our project.\n",
        "\n",
        "The `input_specification` is a dictionary that describes the format of the input data (in this case, a URL pointing to an image).\n",
        "\n",
        "The `output_specification` is a dictionary that describes the format of the output data (in this case, a string that will contain the result provided by the performer)."
      ],
      "metadata": {
        "id": "_E35QfsTgv8n"
      }
    },
    {
      "cell_type": "code",
      "source": [
        "input_specification = {'image': toloka.project.UrlSpec()}\n",
        "output_specification = {'result': toloka.project.StringSpec()}"
      ],
      "metadata": {
        "id": "t_u04omt2evG"
      },
      "execution_count": null,
      "outputs": []
    },
    {
      "cell_type": "markdown",
      "source": [
        "## Task interface"
      ],
      "metadata": {
        "id": "nwPm_wd-E7bJ"
      }
    },
    {
      "cell_type": "markdown",
      "source": [
        "We will configure the task interface that performers will interact with while working on the tasks.\n",
        "A well-designed interface is essential for obtaining high-quality results. We will create different input and output fields\n",
        "to capture various types of user responses, and use Toloka's Template Builder to customize the interface appearance and layout."
      ],
      "metadata": {
        "id": "kwi-X31ptqjQ"
      }
    },
    {
      "cell_type": "markdown",
      "source": [
        "In this section, we create an instance of the Interface Builder. The Interface Builder allows you to easily create and customize various UI elements, such as text fields, image displays, and buttons, to ensure that your tasks are user-friendly and accessible to the performers."
      ],
      "metadata": {
        "id": "yJIe2W3ydxXy"
      }
    },
    {
      "cell_type": "code",
      "source": [
        "project_interface = tb.InterfaceBuilder()"
      ],
      "metadata": {
        "id": "ftt29KiozREo"
      },
      "execution_count": null,
      "outputs": []
    },
    {
      "cell_type": "markdown",
      "source": [
        "Here we create a text field UI element using the TextFieldV1 class from the Interface Builder.\n",
        "The `output_name` parameter specifies the key that will be used to store the performer's input in the output data.\n",
        "The `label` parameter sets the label that will be displayed next to the text field, providing instructions for the performer.\n",
        "After creating the text field, we add it to the project interface using the `add_element` method."
      ],
      "metadata": {
        "id": "z0ywP2oDd6Zq"
      }
    },
    {
      "cell_type": "code",
      "source": [
        "text_field = tb.TextFieldV1(output_name='text_result', label='Enter your answer here:')\n",
        "project_interface.view.add_element(text_field)"
      ],
      "metadata": {
        "id": "EGEnktYJFCeZ"
      },
      "execution_count": null,
      "outputs": []
    },
    {
      "cell_type": "markdown",
      "source": [
        "Next, we create a radio group UI element using the RadioGroupFieldV1 class from the Interface Builder.\n",
        "The `data_output_path` parameter specifies the key that will be used to store the performer's selected option in the output data.\n",
        "The `label` parameter sets the label that will be displayed.\n",
        "The `options` parameter is a list of GroupFieldOption instances, each representing a selectable option.\n",
        "After creating the radio group field, we add it to the project interface using the `add_element` method (not shown in this snippet)."
      ],
      "metadata": {
        "id": "ORFpfOWSd9yn"
      }
    },
    {
      "cell_type": "code",
      "source": [
        "radio_group = tb.RadioGroupFieldV1(\n",
        "    data_output_path='radio_result',\n",
        "    label='Select an option:',\n",
        "    options=[\n",
        "        tb.GroupFieldOption(label='Option 1', value='option_1'),\n",
        "        tb.GroupFieldOption(label='Option 2', value='option_2'),\n",
        "    ],\n",
        ")"
      ],
      "metadata": {
        "id": "rj0SJdhcFGyk"
      },
      "execution_count": null,
      "outputs": []
    },
    {
      "cell_type": "markdown",
      "source": [
        "Creating a checkbox group UI element using the CheckboxGroupFieldV1 class from the Interface Builder.\n",
        "The `data_output_path` parameter specifies the key that will be used to store the performer's selected options in the output data.\n",
        "The `label` parameter sets the label that will be displayed.\n",
        "The `options` parameter is a list of GroupFieldOption instances, each representing a selectable option in the checkbox group.\n",
        "After creating the checkbox group field, we add it to the project interface using the `add_element` method."
      ],
      "metadata": {
        "id": "vKnAUEoefhAC"
      }
    },
    {
      "cell_type": "code",
      "source": [
        "checkbox_group = tb.CheckboxGroupFieldV1(\n",
        "    data_output_path='checkbox_result',\n",
        "    label='Select all that apply:',\n",
        "    options=[\n",
        "        tb.GroupFieldOption(label='Option 1', value='option_1'),\n",
        "        tb.GroupFieldOption(label='Option 2', value='option_2'),\n",
        "    ],\n",
        ")\n",
        "project_interface.view.add_element(checkbox_group)"
      ],
      "metadata": {
        "id": "An6U26weFywj"
      },
      "execution_count": null,
      "outputs": []
    },
    {
      "cell_type": "markdown",
      "source": [
        "Creating a dropdown UI element using the DropdownFieldV1 class from the Interface Builder.\n",
        "The `data_output_path` parameter specifies the key that will be used to store the performer's selected option in the output data.\n",
        "The `label` parameter sets the label that will be displayed.\n",
        "The `options` parameter is a list of GroupFieldOption instances, each representing a selectable option in the dropdown menu.\n",
        "After creating the dropdown field, we add it to the project interface using the `add_element` method."
      ],
      "metadata": {
        "id": "egcQi8bBfqBi"
      }
    },
    {
      "cell_type": "code",
      "source": [
        "dropdown = tb.DropdownFieldV1(\n",
        "    data_output_path='dropdown_result',\n",
        "    label='Choose an option:',\n",
        "    options=[\n",
        "        tb.GroupFieldOption(label='Option 1', value='option_1'),\n",
        "        tb.GroupFieldOption(label='Option 2', value='option_2'),\n",
        "    ],\n",
        ")\n",
        "project_interface.view.add_element(dropdown)"
      ],
      "metadata": {
        "id": "-KoxlouMFyyv"
      },
      "execution_count": null,
      "outputs": []
    },
    {
      "cell_type": "markdown",
      "source": [
        "In this section, we create a TemplateBuilderTaskSpec object to define the task specification for the project.\n",
        "\n",
        "The `interface` parameter is set to the project_interface, which we converted to a dictionary using the `to_dict` method.\n",
        "The `task_defaults` parameter is used to set default values for tasks, such as the input and output data formats.\n",
        "The `output_schemas` parameter is a list of OutputFieldSchema instances, each defining the output data format for a specific UI element.\n",
        "\n",
        "The OutputFieldSchema has three parameters: `name` is the key used in the output data, `field` specifies the output data type, and `required` indicates whether the performer must provide a value for this field.\n",
        "\n",
        "In this example, we have created output schemas for the text field, radio group, checkbox group, and dropdown field in the project interface."
      ],
      "metadata": {
        "id": "hc9bYGkVf2jT"
      }
    },
    {
      "cell_type": "code",
      "source": [
        "project.task_spec = toloka.project.TemplateBuilderTaskSpec(\n",
        "    interface=project_interface.to_dict(),\n",
        "    task_defaults=toloka.project.ProjectTaskDefaults(),\n",
        "    output_schemas=[\n",
        "        toloka.project.OutputFieldSchema(\n",
        "            name='text_result',\n",
        "            field=tb.OutputFieldType.STRING,\n",
        "            required=True,\n",
        "        ),\n",
        "        toloka.project.OutputFieldSchema(\n",
        "            name='radio_result',\n",
        "            field=tb.OutputFieldType.STRING,\n",
        "            required=True,\n",
        "        ),\n",
        "        toloka.project.OutputFieldSchema(\n",
        "            name='checkbox_result',\n",
        "            field=tb.OutputFieldType.ARRAY,\n",
        "            required=True,\n",
        "        ),\n",
        "        toloka.project.OutputFieldSchema(\n",
        "            name='dropdown_result',\n",
        "            field=tb.OutputFieldType.STRING,\n",
        "            required=True,\n",
        "        ),\n",
        "    ],\n",
        ")"
      ],
      "metadata": {
        "id": "dLzxcyZKzRG7"
      },
      "execution_count": null,
      "outputs": []
    },
    {
      "cell_type": "markdown",
      "source": [
        "Creating a TolokaPluginV1 object with the scroll plugin to set the task width in the project interface.\n",
        "The `task_width` parameter is set to 400 pixels, but you can adjust it to fit the content of your tasks."
      ],
      "metadata": {
        "id": "royjRI3w4RyD"
      }
    },
    {
      "cell_type": "code",
      "source": [
        "task_width_plugin = tb.TolokaPluginV1(\n",
        "    'scroll',\n",
        "    task_width=400,\n",
        ")"
      ],
      "metadata": {
        "id": "RswF5sV24RiZ"
      },
      "execution_count": null,
      "outputs": []
    },
    {
      "cell_type": "markdown",
      "source": [
        "Here, we configure how the task will be presented to the performers.\n",
        "We create a `TemplateBuilderViewSpec` object that combines the dropdown and radio group fields in a ListViewV1.\n",
        "We also include the `task_width_plugin` we created earlier to control the task width.\n",
        "This configuration ensures a visually appealing and organized task layout for the performers in the Toloka interface."
      ],
      "metadata": {
        "id": "vaepylZ_2Sbu"
      }
    },
    {
      "cell_type": "code",
      "source": [
        "project_interface = toloka.project.TemplateBuilderViewSpec(\n",
        "    view=tb.ListViewV1([dropdown, radio_group]),\n",
        "    plugins=[task_width_plugin],\n",
        ")"
      ],
      "metadata": {
        "id": "82dpy-aM2SDl"
      },
      "execution_count": null,
      "outputs": []
    },
    {
      "cell_type": "markdown",
      "source": [
        "Next, we assign the task interface and input/output data specifications to the project."
      ],
      "metadata": {
        "id": "7YM87jew4fzK"
      }
    },
    {
      "cell_type": "code",
      "source": [
        "project.task_spec = toloka.project.task_spec.TaskSpec(\n",
        "    input_spec=input_specification,\n",
        "    output_spec=output_specification,\n",
        "    view_spec=project_interface,\n",
        ")"
      ],
      "metadata": {
        "id": "1VG4VLxQ103q"
      },
      "execution_count": null,
      "outputs": []
    },
    {
      "cell_type": "markdown",
      "source": [
        "Provide a text with instructions that will be visible to the performers before they start working on the tasks.\n",
        "Clear and comprehensive instructions are crucial for obtaining high-quality results from the performers."
      ],
      "metadata": {
        "id": "mE5_fcVr4xYV"
      }
    },
    {
      "cell_type": "code",
      "source": [
        "project.public_instructions = 'Your text with instruction'"
      ],
      "metadata": {
        "id": "RsxIHH4C101N"
      },
      "execution_count": null,
      "outputs": []
    },
    {
      "cell_type": "markdown",
      "source": [
        "Finally, we submit the project configuration to the Toloka platform by calling the `create_project` method.\n",
        "It creates a new project on the platform with the specified settings and returns the created project object."
      ],
      "metadata": {
        "id": "V3pmth8V01dp"
      }
    },
    {
      "cell_type": "code",
      "source": [
        "project = toloka_client.create_project(project)"
      ],
      "metadata": {
        "id": "gObBgDevG39Z"
      },
      "execution_count": null,
      "outputs": []
    },
    {
      "cell_type": "markdown",
      "source": [
        "# Traning"
      ],
      "metadata": {
        "id": "3EEOxKXZDAS8"
      }
    },
    {
      "cell_type": "markdown",
      "source": [
        "We should create a training pool for the project. Training pools help educate performers on how to complete the tasks correctly.\n",
        "By setting up a training pool, you ensure that performers understand the instructions and requirements before they start working on the main tasks."
      ],
      "metadata": {
        "id": "kpjee5wxzf6f"
      }
    },
    {
      "cell_type": "code",
      "source": [
        "training = toloka.Training(\n",
        "    project_id=project.id,\n",
        "    private_name='Training for your project',\n",
        "    may_contain_adult_content=False,\n",
        "    inherited_instructions=True,\n",
        "    assignment_max_duration_seconds=60 * 20,\n",
        ")"
      ],
      "metadata": {
        "id": "fxde5ZvdDAIm"
      },
      "execution_count": null,
      "outputs": []
    },
    {
      "cell_type": "markdown",
      "source": [
        "Creating an interface builder specifically for the training tasks.\n",
        "The training interface can be similar or identical to the main task interface, depending on the project's requirements."
      ],
      "metadata": {
        "id": "M79EUvrfzjmf"
      }
    },
    {
      "cell_type": "code",
      "source": [
        "training_interface = tb.InterfaceBuilder()"
      ],
      "metadata": {
        "id": "mkW2nsRPDAGA"
      },
      "execution_count": null,
      "outputs": []
    },
    {
      "cell_type": "markdown",
      "source": [
        "Next, we configure the components of the training interface.\n",
        "Here, we use a text field similar to the main task interface.\n",
        "Then, we define the task specification for the training project with the appropriate input and output data schemas."
      ],
      "metadata": {
        "id": "RuoEndTizu1G"
      }
    },
    {
      "cell_type": "code",
      "source": [
        "training_text_field = tb.TextFieldV1(output_name='result', label='Enter your answer here:')\n",
        "training_interface.view.add_element(training_text_field)\n",
        "\n",
        "training.task_spec = toloka.project.TemplateBuilderTaskSpec(\n",
        "    interface=training_interface.to_dict(),\n",
        "    task_defaults=toloka.project.ProjectTaskDefaults(),\n",
        "    output_schemas=[\n",
        "        toloka.project.OutputFieldSchema(\n",
        "            name='result',\n",
        "            field=tb.OutputFieldType.STRING,\n",
        "            required=True,\n",
        "        ),\n",
        "    ],\n",
        ")"
      ],
      "metadata": {
        "id": "31lQ_2WuDADK"
      },
      "execution_count": null,
      "outputs": []
    },
    {
      "cell_type": "markdown",
      "source": [
        "Finally, we create the training project using the Toloka API client and the configured training object."
      ],
      "metadata": {
        "id": "Fq4c9suEz7xg"
      }
    },
    {
      "cell_type": "code",
      "source": [
        "training = toloka_client.create_training(training)"
      ],
      "metadata": {
        "id": "0NIQtxQJC__w"
      },
      "execution_count": null,
      "outputs": []
    },
    {
      "cell_type": "markdown",
      "source": [
        "# Pool"
      ],
      "metadata": {
        "id": "SemqBAELAQIP"
      }
    },
    {
      "cell_type": "markdown",
      "source": [
        "Here, we will create a pool for our project. A pool is a group of tasks with similar characteristics and settings, assigned to performers with specific skills or attributes. We will configure the pool settings, such as the reward per assignment, auto-acceptance of solutions, assignment duration, and dynamic pricing, to ensure efficient task distribution and management."
      ],
      "metadata": {
        "id": "cPAoy2Sy7N9y"
      }
    },
    {
      "cell_type": "code",
      "source": [
        "pool = toloka.Pool(\n",
        "    # The project ID to which the pool is related\n",
        "    project_id=project.id,\n",
        "    # A private name for the pool, visible only to you\n",
        "    private_name='Your pool name',\n",
        "    # Whether the pool may contain adult content\n",
        "    may_contain_adult_content=False,\n",
        "    # The pool's expiration date\n",
        "    will_expire=datetime.datetime.utcnow() + datetime.timedelta(days=365),\n",
        "    # The reward per assignment for performers\n",
        "    reward_per_assignment=0.01,\n",
        "    # Whether to automatically accept solutions after the specified period\n",
        "    auto_accept_solutions=True,\n",
        "    # The number of days before auto-accepting solutions\n",
        "    auto_accept_period_day=7,\n",
        "    # Maximum duration for a performer to complete an assignment\n",
        "    assignment_max_duration_seconds=60 * 20,\n",
        "    dynamic_pricing_config=toloka.pool.DynamicPricingConfig(\n",
        "        # Whether dynamic pricing is enabled\n",
        "        enabled=True,\n",
        "        # The multiplier for dynamic pricing\n",
        "        multiplier=1.5,\n",
        "    ),\n",
        ")\n"
      ],
      "metadata": {
        "id": "qS_lW0GFzRJV"
      },
      "execution_count": null,
      "outputs": []
    },
    {
      "cell_type": "markdown",
      "source": [
        "Setting the default overlap for tasks in the pool. The overlap value determines the number of different performers who will complete the same task. In this case, each task will be completed by 3 different performers, allowing for more reliable results through aggregation."
      ],
      "metadata": {
        "id": "V1rgpmza7Ygw"
      }
    },
    {
      "cell_type": "code",
      "source": [
        "pool.defaults = toloka.client.pool.Pool.Defaults (\n",
        "    overlap=3,\n",
        ")"
      ],
      "metadata": {
        "id": "aqLR_XZLef4x"
      },
      "execution_count": null,
      "outputs": []
    },
    {
      "cell_type": "markdown",
      "source": [
        "In this section, we configure the Task Suite mixer for the pool. The mixer determines the composition of tasks within a Task Suite for performers. In this example, we set the following configuration:\n",
        "\n",
        "- real_tasks_count: The number of actual tasks in a Task Suite, which is set to 5.\n",
        "- golden_tasks_count: The number of golden tasks (tasks with known correct answers) in a Task Suite, which is set to 1. Golden tasks help monitor and evaluate the quality of performer's work.\n",
        "- training_tasks_count: The number of training tasks in a Task Suite, which is set to 0. Training tasks are used to teach performers how to complete tasks correctly before they start working on actual tasks."
      ],
      "metadata": {
        "id": "7a2gBSys7jUG"
      }
    },
    {
      "cell_type": "code",
      "source": [
        "pool.set_mixer_config(real_tasks_count=5, golden_tasks_count=1, training_tasks_count=0)"
      ],
      "metadata": {
        "id": "lpMMAkn8ey2M"
      },
      "execution_count": null,
      "outputs": []
    },
    {
      "cell_type": "markdown",
      "source": [
        "## Filters"
      ],
      "metadata": {
        "id": "gwFSOliwfjsk"
      }
    },
    {
      "cell_type": "markdown",
      "source": [
        "Here, we will apply various filters to the pool to ensure that only performers with certain characteristics can work on the tasks. We will combine different filters such as language, custom skill, number of completed tasks, average task completion rate, region based on the performer's IP address, and the type of client used by the performer. By using these filters, we can better control the quality of the work and attract performers who meet our requirements."
      ],
      "metadata": {
        "id": "4zG5y0V77UwA"
      }
    },
    {
      "cell_type": "code",
      "source": [
        "pool.filter = (\n",
        "    # Language filter\n",
        "    (toloka.filter.Languages.in_('EN')) &\n",
        "    # Filter by custom skill\n",
        "    (toloka.filter.Skill('your_custom_skill_id') > 0.8) &\n",
        "     # Filter by the number of completed tasks\n",
        "    (toloka.filter.AssignmentsAcceptedCount.gt(100)) &\n",
        "    # Filter by average task completion rate\n",
        "    (toloka.filter.AssignmentSubmitTimeRate.lt(60 * 2)) &\n",
        "    # Filter by performer's region using his location\n",
        "    (toloka.filter.RegionByIp.in_('US', 'CA')) &\n",
        "    # Combination of filters using the OR condition due to the gadget type\n",
        "    (\n",
        "        toloka.filter.ClientType.eq(toloka.filter.ClientType.ClientType.BROWSER) |\n",
        "        toloka.filter.ClientType.eq(toloka.filter.ClientType.ClientType.TOLOKA_APP)\n",
        "    )\n",
        ")"
      ],
      "metadata": {
        "id": "HSNiRNgEAvbf"
      },
      "execution_count": null,
      "outputs": []
    },
    {
      "cell_type": "markdown",
      "source": [
        "Creating a custom skill which can be used to track and rate the performers based on their performance in our tasks. This skill will be hidden from the performers, and it won't be accessible through public requests. The custom skill can be used as a filter in the pool to select performers with specific skill levels."
      ],
      "metadata": {
        "id": "0HkMCrbH7sV4"
      }
    },
    {
      "cell_type": "code",
      "source": [
        "custom_skill = toloka_client.create_skill(\n",
        "    toloka.Skill(\n",
        "        name='custom_skill',\n",
        "        hidden=True,\n",
        "        public_request=False,\n",
        "    )\n",
        ")"
      ],
      "metadata": {
        "id": "S8qygDVK7sQ4"
      },
      "execution_count": null,
      "outputs": []
    },
    {
      "cell_type": "markdown",
      "source": [
        "Here are some more functionalities for skills' manipulating"
      ],
      "metadata": {
        "id": "MI5CYikLh9AR"
      }
    },
    {
      "cell_type": "markdown",
      "source": [
        "To get a list of all skills in your account, you can use the `get_skills` method"
      ],
      "metadata": {
        "id": "mrmmEkDhjozB"
      }
    },
    {
      "cell_type": "code",
      "source": [
        "all_skills = toloka_client.TolokaClient.get_skills()\n",
        "for skill in all_skills:\n",
        "    print(f'Skill ID: {skill.id}, Name: {skill.name}')"
      ],
      "metadata": {
        "id": "z8zHIitOiTP8"
      },
      "execution_count": null,
      "outputs": []
    },
    {
      "cell_type": "markdown",
      "source": [
        "If you need to delete a skill, you can use the `delete_skill` method"
      ],
      "metadata": {
        "id": "9dkYFT2Ujthj"
      }
    },
    {
      "cell_type": "code",
      "source": [
        "toloka_client.TolokaClient.delete_skill(custom_skill.id)\n",
        "print(f'Skill with ID {custom_skill.id} has been deleted.')"
      ],
      "metadata": {
        "id": "P_xNbgVTjYxQ"
      },
      "execution_count": null,
      "outputs": []
    },
    {
      "cell_type": "markdown",
      "source": [
        "You can set a skill value for a specific performer using the `set_performer_skill` method"
      ],
      "metadata": {
        "id": "MQ4GTaukjty7"
      }
    },
    {
      "cell_type": "code",
      "source": [
        "performer_id = 'your_performer_id'\n",
        "updated_skill_value = 0.9\n",
        "\n",
        "toloka_client.set_performer_skill(\n",
        "    user_id=performer_id,\n",
        "    skill_id=custom_skill.id,\n",
        "    value=updated_skill_value\n",
        ")"
      ],
      "metadata": {
        "id": "zVx_66zrjYu5"
      },
      "execution_count": null,
      "outputs": []
    },
    {
      "cell_type": "markdown",
      "source": [
        "You can update the properties of a skill using the `update_skill` method"
      ],
      "metadata": {
        "id": "ofTutOYVkFkF"
      }
    },
    {
      "cell_type": "code",
      "source": [
        "updated_skill_name = 'Updated Custom Skill'\n",
        "updated_skill_description = 'An updated description for the custom skill'\n",
        "\n",
        "updated_skill = toloka.Skill(\n",
        "    id=custom_skill.id,\n",
        "    name=updated_skill_name,\n",
        "    description=updated_skill_description\n",
        ")\n",
        "\n",
        "updated_skill = toloka.client.TolokaClient.update_skill(updated_skill)"
      ],
      "metadata": {
        "id": "GBJfsPecjYsq"
      },
      "execution_count": null,
      "outputs": []
    },
    {
      "cell_type": "markdown",
      "source": [
        "## Tasks in pool"
      ],
      "metadata": {
        "id": "X0LqIwE0gZyG"
      }
    },
    {
      "cell_type": "markdown",
      "source": [
        "Uploading your data, it could be any format (csv, json, tsv, sql) but upload it using pd"
      ],
      "metadata": {
        "id": "y566yG0Z9rOo"
      }
    },
    {
      "cell_type": "code",
      "source": [
        "dataset = pd.read_csv('Your dataset')"
      ],
      "metadata": {
        "id": "ISNAy8NOfG3_"
      },
      "execution_count": null,
      "outputs": []
    },
    {
      "cell_type": "markdown",
      "source": [
        "Next, we are preparing and uploading tasks to the pool:\n",
        "\n",
        "- tasks: Creates a list of tasks from the dataset. The toloka.Task object contains various parameters that can be set to customize the tasks as required.\n",
        "- toloka_client.create_tasks: Adds the tasks to the pool using the Toloka API client. The allow_defaults parameter is set to True, which allows default values for task parameters."
      ],
      "metadata": {
        "id": "h0RaeeFTEz9Z"
      }
    },
    {
      "cell_type": "code",
      "source": [
        "# Forming tasks from data\n",
        "tasks = [\n",
        "    toloka.Task(\n",
        "    self, *,\n",
        "    input_values: Optional[Dict[str, Any]] = None,\n",
        "    known_solutions: Optional[List[BaseTask.KnownSolution]] = None,\n",
        "    message_on_unknown_solution: Optional[str] = None,\n",
        "    id: Optional[str] = None,\n",
        "    infinite_overlap=None,\n",
        "    overlap=None,\n",
        "    pool_id: Optional[str] = None,\n",
        "    remaining_overlap: Optional[int] = None,\n",
        "    reserved_for: Optional[List[str]] = None,\n",
        "    unavailable_for: Optional[List[str]] = None,\n",
        "    origin_task_id: Optional[str] = None,\n",
        "    created: Optional[datetime] = None,\n",
        "    baseline_solutions: Optional[List[BaselineSolution]] = None\n",
        ")\n",
        "]\n",
        "\n",
        "# Add tasks to a pool\n",
        "toloka_client.create_tasks(tasks, allow_defaults=True)"
      ],
      "metadata": {
        "id": "44IyFf-nDEK6"
      },
      "execution_count": null,
      "outputs": []
    },
    {
      "cell_type": "markdown",
      "source": [
        "For example, we are downloading a dataset of cats and dogs images, loading it into a pandas dataframe, shuffling the dataset, and then creating tasks from the image URLs in the dataset. Finally, we are adding these tasks to the pool."
      ],
      "metadata": {
        "id": "UQC1atttn5iX"
      }
    },
    {
      "cell_type": "code",
      "source": [
        "!curl https://tlk.s3.yandex.net/dataset/cats_vs_dogs/toy_dataset.tsv --output dataset.tsv\n",
        "\n",
        "dataset = pd.read_csv('dataset.tsv', sep='\\t')\n",
        "print(f'Dataset contains {len(dataset)} rows\\n')\n",
        "dataset = dataset.sample(frac=1).reset_index(drop=True)\n",
        "\n",
        "tasks = [\n",
        "    toloka.Task(input_values={'image': url}, pool_id=pool.id)\n",
        "    for url in dataset['url']\n",
        "]\n",
        "# Add tasks to a pool\n",
        "toloka_client.create_tasks(tasks, allow_defaults=True)\n",
        "print(f'Populated pool with {len(tasks)} tasks')\n",
        "print(f'To view this pool, go to https://toloka.dev/requester/project/{project.id}/pool/{pool.id}')"
      ],
      "metadata": {
        "id": "BXo75A93n3rN"
      },
      "execution_count": null,
      "outputs": []
    },
    {
      "cell_type": "markdown",
      "source": [
        "`TaskSuites` are a grouping of several tasks that are meant to be completed together by a single performer. This can be useful for a variety of reasons, such as maintaining context or consistency across tasks, or simply optimizing the workflow for performers.\n",
        "\n",
        "In contrast, individual Tasks represent a single unit of work that can be completed independently by a performer. These tasks are typically used for projects where context and consistency are not crucial or when tasks are unrelated to each other."
      ],
      "metadata": {
        "id": "vNWxF8e9BUO3"
      }
    },
    {
      "cell_type": "code",
      "source": [
        "# Create a list of Task Suites\n",
        "task_suites = toloka.client.task_suite.TaskSuite(\n",
        "    self,\n",
        "    *,\n",
        "    infinite_overlap=None,\n",
        "    overlap=None,\n",
        "    pool_id: Optional[str] = None,\n",
        "    tasks: Optional[List[BaseTask]] = ...,\n",
        "    reserved_for: Optional[List[str]] = None,\n",
        "    unavailable_for: Optional[List[str]] = None,\n",
        "    issuing_order_override: Optional[float] = None,\n",
        "    mixed: Optional[bool] = None,\n",
        "    traits_all_of: Optional[List[str]] = None,\n",
        "    traits_any_of: Optional[List[str]] = None,\n",
        "    traits_none_of_any: Optional[List[str]] = None,\n",
        "    longitude: Optional[float] = None,\n",
        "    latitude: Optional[float] = None,\n",
        "    id: Optional[str] = None,\n",
        "    remaining_overlap: Optional[int] = None,\n",
        "    automerged: Optional[bool] = None,\n",
        "    created: Optional[datetime] = None\n",
        ")"
      ],
      "metadata": {
        "id": "jY6eS2TxT3WK"
      },
      "execution_count": null,
      "outputs": []
    },
    {
      "cell_type": "code",
      "source": [
        "# Add the Task Suites to the pool\n",
        "toloka_client.create_task_suites(task_suites)"
      ],
      "metadata": {
        "id": "sEFdzB4gn_KG"
      },
      "execution_count": null,
      "outputs": []
    },
    {
      "cell_type": "markdown",
      "source": [
        "## Quality control"
      ],
      "metadata": {
        "id": "KzZ3U49Xgf5n"
      }
    },
    {
      "cell_type": "markdown",
      "source": [
        "Quality control in a Toloka task pool consists of three main components: collectors, conditions, and actions. They work together to monitor the performance of workers and take measures when quality issues are detected.\n",
        "- Collectors: These collect information about the worker's performance while they complete tasks. For example, collectors may gather information about the task completion time, correctness scores, etc.\n",
        "\n",
        "- Conditions: Conditions determine under which circumstances actions will be applied to a worker. Conditions can check information gathered by collectors, or other properties of a worker's performance, such as the number of tasks completed or their current rating.\n",
        "\n",
        "- Actions: These are measures that are applied to a worker if the conditions are met. For example, an action can involve restricting a worker's access to the project or task pool for a certain period, adjusting the worker's rating, or notifying the administrator."
      ],
      "metadata": {
        "id": "-_05nfjw1I7V"
      }
    },
    {
      "cell_type": "markdown",
      "source": [
        "In this section, we're setting a quality control requirement based on the performer's training. \n",
        "\n",
        "- *pool.quality_control.training_requirement*: This attribute of the pool object sets the training requirement for the quality control.\n",
        "\n",
        "- *toloka.pool.QualityControl.TrainingRequirement*: This class defines the training requirement configuration.\n",
        "\n",
        "1) *training_pool_id*: Replace <your_training_pool_id> with the ID of the training pool you want the performers to pass before they can work on the main pool tasks.\n",
        "\n",
        "2) *training_passing_score*: This is the minimum score (in percentage) that performers must achieve in the training pool to be allowed to work on the main pool tasks. In this example, the passing score is set to 80.\n",
        "\n",
        "By setting this training requirement, you ensure that only performers who have successfully passed the training with a score of at least 80% can access and work on the tasks in the main pool."
      ],
      "metadata": {
        "id": "NC-R9Of892JN"
      }
    },
    {
      "cell_type": "code",
      "source": [
        "pool.quality_control.training_requirement = toloka.pool.QualityControl.TrainingRequirement(\n",
        "    training_pool_id='<your_training_pool_id>',\n",
        "    training_passing_score=80,)"
      ],
      "metadata": {
        "id": "xrhiS3Jx93QO"
      },
      "execution_count": null,
      "outputs": []
    },
    {
      "cell_type": "markdown",
      "source": [
        "In this section, we're adding a quality control action to the pool based on the assignment submit time.\n",
        "\n",
        "- pool.quality_control.add_action: This method adds a quality control action to the pool.\n",
        "\n",
        "- collector=toloka.collectors.AssignmentSubmitTime(history_size=5): This collector gathers information on the average submit time for the last 5 assignments completed by a performer.\n",
        "\n",
        "- conditions=[toloka.conditions.AssignmentSubmitTime(minutes_ago=15)]: This condition checks if the average submit time for the last 5 assignments was less than 15 minutes ago. If the condition is met, the specified action will be triggered.\n",
        "\n",
        "- action=toloka.actions.RestrictionV2(...): This action applies a restriction to the performer who meets the condition. The restriction parameters are as follows:\n",
        "\n",
        "  1) scope='PROJECT': The restriction applies to the entire project.\n",
        "\n",
        "  2) duration=3: The restriction will last for 3 units of time.\n",
        "\n",
        "  3) duration_unit='DAYS': The unit of time for the restriction duration is days. So, the restriction will last for 3 days.\n",
        "\n",
        "  4) reason_code='SUBMIT_TIME_TOO_FAST': This is a custom code to indicate the reason for the restriction.\n",
        "\n",
        "By adding this quality control action, you restrict access to the project for performers who complete tasks too quickly (average submit time for the last 5 assignments is less than 15 minutes). This can help to prevent low-quality submissions from performers who rush through tasks."
      ],
      "metadata": {
        "id": "4p0xBxZDEkr1"
      }
    },
    {
      "cell_type": "code",
      "source": [
        "pool.quality_control.add_action(\n",
        "    collector=toloka.collectors.AssignmentSubmitTime(history_size=5),\n",
        "    conditions=[\n",
        "                toloka.conditions.AssignmentSubmitTime(minutes_ago=15),\n",
        "    ],\n",
        "    action=toloka.actions.RestrictionV2(\n",
        "        scope='PROJECT',\n",
        "        duration=3,\n",
        "        duration_unit='DAYS',\n",
        "        reason_code='SUBMIT_TIME_TOO_FAST',\n",
        "    ),\n",
        ")"
      ],
      "metadata": {
        "id": "HJ58dh9TA4-C"
      },
      "execution_count": null,
      "outputs": []
    },
    {
      "cell_type": "markdown",
      "source": [
        "Here, we're adding another quality control action to the pool based on the performer's skill.\n",
        "\n",
        "By adding this quality control action, you restrict access to the project for performers who have a custom skill score lower than 0.8. This helps ensure that only high-skilled performers can participate in the project. Note that the collector should be updated or removed to reflect the condition based on the custom skill, as the current collector is not relevant."
      ],
      "metadata": {
        "id": "1iVdKqj4EsEZ"
      }
    },
    {
      "cell_type": "code",
      "source": [
        "pool.quality_control.add_action(\n",
        "    collector=toloka.collectors.AssignmentSubmitTime(history_size=5),\n",
        "    conditions=[\n",
        "        toloka.conditions.Skill(custom_skill.id, '>=', 0.8),\n",
        "    ],\n",
        "    action=toloka.actions.RestrictionV2(\n",
        "        scope='PROJECT',\n",
        "        duration=3,\n",
        "        duration_unit='DAYS',\n",
        "        reason_code='LOW_SKILL',\n",
        "    ),\n",
        ")"
      ],
      "metadata": {
        "id": "yLm1egVRzRMQ"
      },
      "execution_count": null,
      "outputs": []
    },
    {
      "cell_type": "markdown",
      "source": [
        "## Final settings and pool creation"
      ],
      "metadata": {
        "id": "rq2lgr_pg1dw"
      }
    },
    {
      "cell_type": "markdown",
      "source": [
        "Next, we are setting a limit on the number of assignments a single performer can complete in the pool"
      ],
      "metadata": {
        "id": "WBeNvth3Ez-l"
      }
    },
    {
      "cell_type": "code",
      "source": [
        "pool.set_limit(toloka.limits.AssignmentsPerUserCountLimit(max_count=50))"
      ],
      "metadata": {
        "id": "m4WrHn-FBnFj"
      },
      "execution_count": null,
      "outputs": []
    },
    {
      "cell_type": "markdown",
      "source": [
        "Adding a webhook for event notifications in the pool"
      ],
      "metadata": {
        "id": "y8-2XQJPE4-_"
      }
    },
    {
      "cell_type": "code",
      "source": [
        "webhook = toloka.Webhook(\n",
        "    url='https://your-webhook-url.com',\n",
        "    events=[\n",
        "        toloka.Webhook.Event.ASSIGNMENT_SUBMITTED,\n",
        "        toloka.Webhook.Event.ASSIGNMENT_APPROVED,\n",
        "    ],\n",
        ")\n",
        "webhook = toloka_client.create_webhook(webhook)\n",
        "\n",
        "pool.webhooks.add(webhook.id)"
      ],
      "metadata": {
        "id": "hcJ8qJihB-rG"
      },
      "execution_count": null,
      "outputs": []
    },
    {
      "cell_type": "markdown",
      "source": [
        "Creating the pool and open it for performers to start working on the tasks. "
      ],
      "metadata": {
        "id": "NhlQxx--JnQs"
      }
    },
    {
      "cell_type": "code",
      "source": [
        "pool = toloka_client.create_pool(pool)\n",
        "toloka_client.open_pool(pool.id)"
      ],
      "metadata": {
        "id": "QJM-2xDMB-oW"
      },
      "execution_count": null,
      "outputs": []
    },
    {
      "cell_type": "markdown",
      "source": [
        "## Semi-Manual Acceptance and Rejection of Assignments"
      ],
      "metadata": {
        "id": "TS0q2kCRMFXH"
      }
    },
    {
      "cell_type": "markdown",
      "source": [
        "In some cases, you might want to review the assignments submitted by performers manually and decide whether to accept or reject them.\n",
        "\n",
        "The usuall pipeline is the next:\n",
        "- Get an assignment by ID;\n",
        "- Review the assignment;\n",
        "- Accept the assignment or reject the assignment:;\n"
      ],
      "metadata": {
        "id": "EEOJ5nTOMHzr"
      }
    },
    {
      "cell_type": "code",
      "source": [
        "# To retrieve an assignment using its ID, you can use the get_assignment function.\n",
        "assignment_id = 'your_assignment_id'\n",
        "assignment = toloka_client.get_assignment(assignment_id)"
      ],
      "metadata": {
        "id": "w45eDjCTMQb-"
      },
      "execution_count": null,
      "outputs": []
    },
    {
      "cell_type": "code",
      "source": [
        "# If you're satisfied with the performer's work, you can accept the assignment using the accept_assignment function.\n",
        "toloka_client.accept_assignment(assignment_id, 'Well done!')"
      ],
      "metadata": {
        "id": "Wyez1tBONPsx"
      },
      "execution_count": null,
      "outputs": []
    },
    {
      "cell_type": "code",
      "source": [
        "# If the assignment doesn't meet your expectations or requirements, you can reject it using the reject_assignment function.\n",
        "toloka_client.reject_assignment(assignment_id, 'Please follow the instructions carefully.')"
      ],
      "metadata": {
        "id": "KyG6BM-aNPqX"
      },
      "execution_count": null,
      "outputs": []
    },
    {
      "cell_type": "markdown",
      "source": [
        "# Get responses"
      ],
      "metadata": {
        "id": "82W_cnGZJz2b"
      }
    },
    {
      "cell_type": "markdown",
      "source": [
        "In this section, we define a function to monitor the progress of the pool and wait for its completion"
      ],
      "metadata": {
        "id": "LyfQwCGOKBWl"
      }
    },
    {
      "cell_type": "code",
      "source": [
        "pool_id = pool.id\n",
        "\n",
        "def wait_pool_for_close(pool_id, minutes_to_wait=1):\n",
        "    sleep_time = 60 * minutes_to_wait\n",
        "    pool = toloka_client.get_pool(pool_id)\n",
        "    while not pool.is_closed():\n",
        "        op = toloka_client.get_analytics([toloka.analytics_request.CompletionPercentagePoolAnalytics(subject_id=pool.id)])\n",
        "        op = toloka_client.wait_operation(op)\n",
        "        percentage = op.details['value'][0]['result']['value']\n",
        "        print(\n",
        "            f'   {datetime.datetime.now().strftime(\"%H:%M:%S\")}\\t'\n",
        "            f'Pool {pool.id} - {percentage}%'\n",
        "        )\n",
        "        time.sleep(sleep_time)\n",
        "        pool = toloka_client.get_pool(pool.id)\n",
        "    print('Pool was closed.')\n",
        "\n",
        "wait_pool_for_close(pool_id)"
      ],
      "metadata": {
        "id": "pIul9A1YJ8l2"
      },
      "execution_count": null,
      "outputs": []
    },
    {
      "cell_type": "markdown",
      "source": [
        "Next, we use the Toloka API to retrieve the completed assignments from the specified pool and store the results in a pandas DataFrame called `answers_df`. This DataFrame will contain all the information about the completed tasks, such as the input values, the performer's answers, and other metadata. You can then use this DataFrame to analyze the results or perform additional quality control steps."
      ],
      "metadata": {
        "id": "NNPUXekZKXfQ"
      }
    },
    {
      "cell_type": "code",
      "source": [
        "answers_df = toloka_client.get_assignments_df(pool_id)"
      ],
      "metadata": {
        "id": "3UrBEXEUKb2B"
      },
      "execution_count": null,
      "outputs": []
    },
    {
      "cell_type": "markdown",
      "source": [
        "## Aggregate the results"
      ],
      "metadata": {
        "id": "kV1NB5ouKilb"
      }
    },
    {
      "cell_type": "markdown",
      "source": [
        "For this step, please, see our prepared notebooks with examples here \n",
        "https://github.com/Toloka/crowd-kit/tree/main/examples"
      ],
      "metadata": {
        "id": "bM98a16yMgpX"
      }
    },
    {
      "cell_type": "markdown",
      "source": [
        "## Summary"
      ],
      "metadata": {
        "id": "kD0C81cENIOL"
      }
    },
    {
      "cell_type": "markdown",
      "source": [
        "In the advanced Toloka notebook, we cover the following main aspects:\n",
        "\n",
        "- Authorization in Toloka API: Involves authorizing with Toloka using OAuth 2.0 token.\n",
        "\n",
        "- Creating a new project: Describes the process of creating a new project in Toloka, adding a description, and public instructions.\n",
        "\n",
        "- Task interface description: Includes creating a task interface using various components like text fields, radio buttons, checkboxes, and dropdowns.\n",
        "\n",
        "- Creating and setting up a training pool: Describes the process of creating and setting up a training pool for training performers before they work on actual tasks.\n",
        "\n",
        "- Creating and setting up the main pool: Involves creating and configuring the main pool for tasks execution, setting up performer filters, dynamic pricing, limits, and quality control mechanisms.\n",
        "\n",
        "- Preparing and uploading data: Preparing data for creating tasks and uploading them to the pool.\n",
        "\n",
        "- Launching the pool and tracking progress: Describes the process of launching the pool, tracking its progress, and closing it upon completion.\n",
        "\n",
        "- Retrieving results: Explains how to retrieve the results of completed tasks and save them in a DataFrame.\n",
        "\n",
        "This advanced notebook provides a detailed guide on creating, configuring, and managing Toloka projects using Python and the Toloka API, as well as exploring various quality control mechanisms and workflow optimizations."
      ],
      "metadata": {
        "id": "gm6TuTz-NKqf"
      }
    }
  ]
}