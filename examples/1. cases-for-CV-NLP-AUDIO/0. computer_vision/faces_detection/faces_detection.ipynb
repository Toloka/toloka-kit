{
 "cells": [
  {
   "cell_type": "markdown",
   "metadata": {},
   "source": [
    "# Annotating ground truth for object detection\n",
    "\n",
    "The goal of this notebook is to annotate images which can later be used for training object detection algorithms.\n",
    "\n",
    "We will configure and run the annotation project in Toloka from scratch.\n",
    "\n",
    "Follow the steps in this notebook to get the labeled data at the end.\n"
   ]
  },
  {
   "cell_type": "markdown",
   "metadata": {},
   "source": [
    "## Prerequisites\n",
    "To proceed with this notebook:\n",
    "- Make sure you are [registered](https://toloka.ai/get-started/?utm_source=github&utm_medium=instruction-a&utm_campaign=link-1) in Toloka as a requester.\n",
    "- Use the promo code **OBJECT_DETECTION_PROMO** to add $10 to your account on your [profile page](https://platform.toloka.ai/requester/profile/income/?utm_source=github&utm_medium=instruction-a&utm_campaign=link-2). You can use it to pay for data labeling while following this tutorial.\n"
   ]
  },
  {
   "cell_type": "markdown",
   "metadata": {},
   "source": [
    "## The challenge\n",
    "We have a set of photos with people in them:\n",
    "\n",
    "<table  align=\"center\">\n",
    "  <tr><td>\n",
    "    <img src=\"https://tlk.s3.yandex.net/dataset/faces_detection/5fc9583cbda646c7de9c6451b7f22a165b6b7d4b.jpg\"\n",
    "         alt=\"Sample photo of people\"  width=\"650\">\n",
    "  </td></tr>\n",
    "  <tr><td align=\"center\">\n",
    "    <b>Figure 1.</b> Sample photo of people\n",
    "  </td></tr>\n",
    "</table>\n",
    "\n",
    "We need to outline every person's face. Ultimately, we need to get a set of pixelwise boundaries that represent the people's faces in each photo. Here’s what it can look like:\n",
    "\n",
    "<table  align=\"center\">\n",
    "  <tr><td>\n",
    "    <img src=\"./img/segmentation_example.png\"\n",
    "         alt=\"Example of how people face detection can be performed\"  width=\"650\">\n",
    "  </td></tr>\n",
    "  <tr><td align=\"center\">\n",
    "    <b>Figure 2.</b> An example of how face detection can be performed\n",
    "  </td></tr>\n",
    "</table>\n",
    "\n",
    "This type of annotation often uses polygons. We are using bounding boxes to simplify the task so that we can reduce costs and speed things up.  You can still use polygons, just uncomment the related pieces of code."
   ]
  },
  {
   "cell_type": "markdown",
   "metadata": {},
   "source": [
    "### Detailed task description\n",
    "In this notebook, we will implement projects #2 and #3 from [this Toloka tutorial](https://toloka.ai/en/docs/guide/concepts/image-segmentation-overview/?utm_source=github&utm_medium=instruction-a&utm_campaign=link-3). Feel free to check them out if you want to learn how to configure these projects in the web interface. Otherwise you can skip it, since this notebook covers all the steps using the Toloka API.\n",
    "\n",
    "We’ll skip the first project “Does the image contain a specific object?” from the tutorial above because it’s easy to implement using our “verification project” code.\n",
    "\n",
    "We will implement two projects in Toloka:\n",
    "- A detection project called “[Select an object in the image](https://toloka.ai/en/docs/guide/concepts/image-segmentation-project2/?utm_source=github&utm_medium=instruction-a&utm_campaign=link-4)”: Tolokers will select image areas that contain faces. Tolokers are people around the world who get paid for completing your tasks. \n",
    "- A verification project called “[Are the bounding boxes correct?](https://toloka.ai/en/docs/guide/concepts/image-segmentation-project3/?utm_source=github&utm_medium=instruction-a&utm_campaign=link-5)”: Tolokers will check the annotated images.\n",
    "\n",
    "We don’t use [control tasks](https://toloka.ai/en/docs/guide/concepts/goldenset?utm_source=github&utm_medium=instruction-a&utm_campaign=link-6) or [majority vote](https://toloka.ai/en/docs/guide/concepts/mvote?utm_source=github&utm_medium=instruction-a&utm_campaign=link-7) to control quality in the detection project because we can’t expect the image annotations provided by the Tolokers to match each other exactly to the pixel. Instead, we’ll check detection results in the second project, where a different group of Tolokers will decide whether the faces are annotated correctly or not."
   ]
  },
  {
   "cell_type": "markdown",
   "metadata": {},
   "source": [
    "### Set up the environment"
   ]
  },
  {
   "cell_type": "markdown",
   "metadata": {},
   "source": [
    "Prepare the environment and import necessary libraries."
   ]
  },
  {
   "cell_type": "code",
   "execution_count": null,
   "metadata": {},
   "outputs": [],
   "source": [
    "!pip install toloka-kit==1.0.0 # To interact with Toloka API\n",
    "!pip install ipyplot # To plot images inside Jupyter Notebooks cells\n",
    "!pip install crowd-kit==1.1.0\n",
    "\n",
    "import os\n",
    "import datetime\n",
    "import time\n",
    "import logging\n",
    "import sys\n",
    "\n",
    "import pandas as pd   # To perform data manipulation\n",
    "import ipyplot\n",
    "\n",
    "\n",
    "from typing import List\n",
    "from toloka.streaming.event import AssignmentEvent\n",
    "\n",
    "import toloka.client as toloka\n",
    "import toloka.client.project.template_builder as tb\n",
    "\n",
    "from crowdkit.aggregation import MajorityVote\n",
    "\n",
    "logging.basicConfig(\n",
    "    format='[%(levelname)s] %(name)s: %(message)s',\n",
    "    level=logging.INFO,\n",
    "    stream=sys.stdout,\n",
    ")"
   ]
  },
  {
   "cell_type": "markdown",
   "metadata": {},
   "source": [
    "Create a toloka-client instance. All API calls will pass through it.\n",
    "\n",
    "To get an OAuth token, follow these [instructions](https://toloka.ai/en/docs/api/concepts/access/?utm_source=github&utm_medium=instruction-a&utm_campaign=link-8). Enter your token."
   ]
  },
  {
   "cell_type": "code",
   "execution_count": null,
   "metadata": {},
   "outputs": [],
   "source": [
    "toloka_client = toloka.TolokaClient(input(\"Enter your token:\"), 'PRODUCTION')\n",
    "print(toloka_client.get_requester())"
   ]
  },
  {
   "cell_type": "markdown",
   "metadata": {},
   "source": [
    "Check out Toloka documentation to learn more about [the Toloka API](https://toloka.ai/en/docs/api/?utm_source=github&utm_medium=instruction-a&utm_campaign=link-9) and [Toloka-Kit](https://toloka.ai/en/docs/toloka-kit/?utm_source=github&utm_medium=instruction-a&utm_campaign=link-10)."
   ]
  },
  {
   "cell_type": "markdown",
   "metadata": {},
   "source": [
    "### Review the dataset\n",
    "We use the [Human Parts Dataset](https://github.com/xiaojie1017/Human-Parts/?utm_source=github&utm_medium=instruction-a&utm_campaign=link-11), distributed under the MIT license.\n",
    "\n",
    "Our dataset is just a collection of URLs leading to JPEG images. GIF, PNG, and WEBP formats are also supported.\n"
   ]
  },
  {
   "cell_type": "code",
   "execution_count": null,
   "metadata": {
    "scrolled": true
   },
   "outputs": [],
   "source": [
    "!curl https://tlk.s3.yandex.net/dataset/faces_detection.tsv --output dataset.tsv # TODO\n",
    "\n",
    "# Load the dataset of links to a pd DataFrame\n",
    "dataset = pd.read_csv('dataset.tsv', sep='\\t')\n",
    "\n",
    "# Plot 5 images from dataset to verify data loading\n",
    "ipyplot.plot_images(\n",
    "    [url for url in dataset['image'].sample(n=50)],\n",
    "    max_images=5,\n",
    "    img_width=1000\n",
    ")"
   ]
  },
  {
   "cell_type": "markdown",
   "metadata": {},
   "source": [
    "---\n",
    "---\n",
    "## Create a new detection project\n",
    "\n",
    "In this project, Tolokers select image areas that contain faces.\n",
    "\n",
    "The first step is to configure how Tolokers will see the tasks:\n",
    "- Write instructions.\n",
    "- Define the input and output formats.\n",
    "\n",
    "**Note:** It’s important to write clear instructions with examples to make sure the Tolokers do exactly what we need them to. We also recommend checking the task interface yourself to see if there are any problems with the layout.   "
   ]
  },
  {
   "cell_type": "code",
   "execution_count": null,
   "metadata": {},
   "outputs": [],
   "source": [
    "# How tolokers will see the task\n",
    "project_interface = toloka.project.TemplateBuilderViewSpec(\n",
    "    view=tb.ImageAnnotationFieldV1(  # Component that selects areas in images\n",
    "        tb.OutputData('result'),  # Path for writing output data\n",
    "        tb.InputData('image'),  # Getter for the input image\n",
    "        shapes={'rectangle': True},  # Allow to select only rectangular areas #polygons\n",
    "        validation=tb.RequiredConditionV1(hint='Please select an area'),  # At least one area should be selected\n",
    "        full_height=True\n",
    "    )\n",
    ")\n",
    "\n",
    "# You can write instructions and upload them from a file or enter them later in the web interface\n",
    "# In case of polygon markup adjust the instruction describing the rules of putting the polygons instead of bounding boxes\n",
    "prepared_instruction = open('./instructions/detection_instruction.html').read().strip()\n",
    "\n",
    "# Set up the project\n",
    "detection_project = toloka.Project(\n",
    "    public_name='Outline all people faces with bounding boxes',\n",
    "    public_description='Find and outline all people faces with bounding boxes.',\n",
    "    public_instructions=prepared_instruction,\n",
    "    # Set up the task: view, input, and output parameters\n",
    "    task_spec=toloka.project.task_spec.TaskSpec(\n",
    "        input_spec={'image': toloka.project.UrlSpec()},\n",
    "        output_spec={'result': toloka.project.JsonSpec()},\n",
    "        view_spec=project_interface,\n",
    "    ),\n",
    ")"
   ]
  },
  {
   "cell_type": "markdown",
   "metadata": {
    "pycharm": {
     "name": "#%% md\n"
    }
   },
   "source": [
    "Call the API to create a new project."
   ]
  },
  {
   "cell_type": "code",
   "execution_count": null,
   "metadata": {
    "pycharm": {
     "name": "#%%\n"
    }
   },
   "outputs": [],
   "source": [
    "detection_project = toloka_client.create_project(detection_project)"
   ]
  },
  {
   "cell_type": "markdown",
   "metadata": {},
   "source": [
    "### Review your project and check the task interface\n",
    "\n",
    "Visit the project page to make sure the task interface is working correctly.\n",
    "\n",
    "To do this:\n",
    "1. Follow the link you got in the output above.\n",
    "2. In the project interface, click **Project actions** on the top right.\n",
    "3. Click **Preview** in the menu.\n",
    "4. Click **Change input data**.\n",
    "5. Insert an image URL into the **Image** field. Here, you can use a link to one of the images you want to label, or [this sample image](https://tlk.s3.yandex.net/dataset/faces_detection/5fc9583cbda646c7de9c6451b7f22a165b6b7d4b.jpg).\n",
    "6. Click the **Instructions** button. Make sure the instructions are visible and valid.\n",
    "7. Try to select multiple areas with a rectangle using **Box annotation tool**.\n",
    "8. Click **Submit** and then click **View responses**.\n",
    "\n",
    "A window with the results will appear. Check that the results are in the expected format and that the data is being entered correctly.\n",
    "\n",
    "\n",
    "<table  align=\"center\">\n",
    "  <tr><td>\n",
    "    <img src=\"./img/segmentation_results_preview.png\"\n",
    "         alt=\"Task interface\"  width=\"800\">\n",
    "  </td></tr>\n",
    "  <tr><td align=\"center\">\n",
    "    <b>Figure 3.</b> What the results window might look like\n",
    "  </td></tr>\n",
    "</table>\n",
    "\n",
    "**Tip:** Do a trial run with a small sample of your data. Make sure that after running a trial for the entire pipeline, you get data with the expected format and quality. "
   ]
  },
  {
   "cell_type": "markdown",
   "metadata": {},
   "source": [
    "### Add custom skills for tolokers\n",
    "\n",
    "A [skill](https://toloka.ai/en/docs/guide/concepts/nav?utm_source=github&utm_medium=instruction-a&utm_campaign=link-12) is a characteristic of a Toloker. For example, you can record the percentage of correct responses as a skill.\n",
    "\n",
    "In this project, we’ll create two skills:\n",
    "- **Detection skill**: Shows that a Toloker has completed at least one detection task. We’ll later filter out these Tolokers from verification tasks to ensure that the people doing the verification are not the same people who performed the detection.\n",
    "- **Verification skill**: How good the current Toloker’s verification results are compared to others. We’ll need this skill later when we aggregate the results of the second project. "
   ]
  },
  {
   "cell_type": "code",
   "execution_count": null,
   "metadata": {},
   "outputs": [],
   "source": [
    "detection_skill = next(toloka_client.get_skills(name='Area selection of people faces'), None)\n",
    "if detection_skill:\n",
    "    print('Detection skill already exists')\n",
    "else:\n",
    "    detection_skill = toloka_client.create_skill(\n",
    "        name='Area selection of people faces',\n",
    "        hidden=True,\n",
    "        public_requester_description={'EN': 'Toloker is annotating people faces'},\n",
    "    )\n",
    "\n",
    "verification_skill = next(toloka_client.get_skills(name='People faces detection verification'), None)\n",
    "if verification_skill:\n",
    "    print('Verification skill already exists')\n",
    "else:\n",
    "    verification_skill = toloka_client.create_skill(\n",
    "        name='People faces detection verification',\n",
    "        hidden=True,\n",
    "        public_requester_description={'EN': 'How good a toloker is at verifying detection tasks'},\n",
    "    )"
   ]
  },
  {
   "cell_type": "markdown",
   "metadata": {},
   "source": [
    "### Pool creation for a detection project\n",
    "A [pool](https://toloka.ai/en/docs/guide/concepts/pool-main?utm_source=github&utm_medium=instruction-a&utm_campaign=link-13) is a set of tasks sent out for Tolokers.\n",
    "\n",
    "First, create an instance of a pool and set its basic parameters:\n",
    "- Payment amount per task.\n",
    "- Non-automatic acceptance of results.\n",
    "- Number of tasks Tolokers will see per page.\n",
    "- Toloker selection filters to control who can access this task."
   ]
  },
  {
   "cell_type": "code",
   "execution_count": null,
   "metadata": {},
   "outputs": [],
   "source": [
    "detection_pool = toloka.Pool(\n",
    "    project_id=detection_project.id,\n",
    "    private_name='Pool 1',  # Only you can see this information.\n",
    "    may_contain_adult_content=False,\n",
    "    will_expire=datetime.datetime.utcnow() + datetime.timedelta(days=365),  # Pool will automatically close after one year\n",
    "    reward_per_assignment=0.01,     # Set the minimum payment amount for one task page\n",
    "    auto_accept_solutions=False,    # Only pay the toloker for completing the task,\n",
    "                                    # based on the verification results of the second project.\n",
    "\n",
    "    auto_accept_period_day=7,       # Number of days to determine if we'll pay for task completion by this toloker or not.\n",
    "    assignment_max_duration_seconds=60*20,  # Give tolokers 20 minutes maximum to complete one task page.\n",
    "    defaults=toloka.pool.Pool.Defaults(\n",
    "        # We don't need overlapping for detection tasks, so we set it to 1\n",
    "        default_overlap_for_new_task_suites=1,\n",
    "        default_overlap_for_new_tasks=1,\n",
    "    ),\n",
    ")\n",
    "\n",
    "# Set the number of tasks per page\n",
    "detection_pool.set_mixer_config(real_tasks_count=1)\n",
    "# Please note that the payment amount specified when creating the pool is the amount the toloker receives for completing one page of tasks.\n",
    "# If you specify 10 tasks per page above, then reward_per_assignment will be paid for completing 10 tasks."
   ]
  },
  {
   "cell_type": "markdown",
   "metadata": {},
   "source": [
    "We’ll only show our tasks to English-speaking users because the description of the task is in English. This means that only people who speak English will be able to accept this task.  "
   ]
  },
  {
   "cell_type": "code",
   "execution_count": null,
   "metadata": {},
   "outputs": [],
   "source": [
    "detection_pool.filter = toloka.filter.Languages.in_('EN')"
   ]
  },
  {
   "cell_type": "markdown",
   "metadata": {},
   "source": [
    "**Quality control rules**\n",
    "\n",
    "Each [quality control rule](https://toloka.ai/en/docs/guide/concepts/control?utm_source=github&utm_medium=instruction-a&utm_campaign=link-14) consists of the following:\n",
    "- **Collector**: How to collect statistics and which metrics can be used in this rule.\n",
    "- **Condition**: When the rule will be triggered. Under this condition, only parameters that apply to the collector can be used.\n",
    "- **Action**: What to do if the condition is true."
   ]
  },
  {
   "cell_type": "code",
   "execution_count": null,
   "metadata": {},
   "outputs": [],
   "source": [
    "# The first rule in this project restricts pool access for tolokers who often make mistakes\n",
    "detection_pool.quality_control.add_action(\n",
    "    collector=toloka.collectors.AcceptanceRate(),\n",
    "    conditions=[\n",
    "        # Toloker completed more than 2 tasks\n",
    "        toloka.conditions.TotalAssignmentsCount > 2,\n",
    "        # And more than 35% of their responses were rejected\n",
    "        toloka.conditions.RejectedAssignmentsRate > 35,\n",
    "    ],\n",
    "    # This action tells Toloka what to do if the condition above is True\n",
    "    # In our case, we'll restrict access for 15 days\n",
    "    # Always leave a comment: it may be useful later on\n",
    "    action=toloka.actions.RestrictionV2(\n",
    "        scope='ALL_PROJECTS',\n",
    "        duration=15,\n",
    "        duration_unit='DAYS',\n",
    "        private_comment='Tolokers often make mistakes',  # Only you will see this comment\n",
    "    )\n",
    ")\n",
    "\n",
    "# The second useful rule is \"Fast responses\". It allows us to filter out tolokers who respond too quickly.\n",
    "detection_pool.quality_control.add_action(\n",
    "    # Let's monitor fast submissions for the last 5 completed task pages\n",
    "    # And define ones that take less than 20 seconds as quick responses.\n",
    "    collector=toloka.collectors.AssignmentSubmitTime(history_size=5, fast_submit_threshold_seconds=20),\n",
    "    # If we see more than one fast response, we ban the toloker from all our projects for 10 days.\n",
    "    conditions=[toloka.conditions.FastSubmittedCount > 1],\n",
    "    action=toloka.actions.RestrictionV2(\n",
    "        scope='ALL_PROJECTS',\n",
    "        duration=10,\n",
    "        duration_unit='DAYS',\n",
    "        private_comment='Fast responses',  # Only you will see this comment\n",
    "    )\n",
    ")\n",
    "\n",
    "# Another rule we use is for automatically updating skills\n",
    "# We update the detection skill for tolokers who complete at least one page of tasks from detection pool.\n",
    "detection_pool.quality_control.add_action(\n",
    "    collector=toloka.collectors.AnswerCount(),\n",
    "    # If toloker completed at least one task, it sets the new skill to 1\n",
    "    conditions=[toloka.conditions.AssignmentsAcceptedCount > 0],\n",
    "    action=toloka.actions.SetSkill(skill_id=detection_skill.id, skill_value=1),\n",
    ")\n",
    "\n",
    "# This rule sends rejected assignments (tasks that you rejected) to other tolokers according to specified parameters.\n",
    "detection_pool.quality_control.add_action(\n",
    "    collector=toloka.collectors.AssignmentsAssessment(),\n",
    "    # Check if a task was rejected\n",
    "    conditions=[toloka.conditions.AssessmentEvent == 'REJECT'],\n",
    "    # If the condition is True, add 1 to overlap and open the pool\n",
    "    action=toloka.actions.ChangeOverlap(delta=1, open_pool=True),\n",
    ")\n",
    "\n",
    "print('Quality rules count:', len(detection_pool.quality_control.configs))"
   ]
  },
  {
   "cell_type": "markdown",
   "metadata": {},
   "source": [
    "### Create a pool with all specified conditions\n",
    "\n",
    "Now we call the Toloka API to create a pool in the detection project. Afterwards, you can check the pool in the web interface. You’ll see there aren’t any tasks in it. We’ll add them later.  "
   ]
  },
  {
   "cell_type": "code",
   "execution_count": null,
   "metadata": {},
   "outputs": [],
   "source": [
    "detection_pool = toloka_client.create_pool(detection_pool)"
   ]
  },
  {
   "cell_type": "markdown",
   "metadata": {},
   "source": [
    "---\n",
    "---\n",
    "## Create a new project for verification\n",
    "In this project, Tolokers will determine whether the faces were outlined correctly or not.\n",
    "\n",
    "This will be a standard classification project with only two classes: `OK` and `BAD`. We’ll explicitly define these labels as the output values.       \n"
   ]
  },
  {
   "cell_type": "code",
   "execution_count": null,
   "metadata": {},
   "outputs": [],
   "source": [
    "# Configure task interface: how tolokers will see the task\n",
    "verification_interface = toloka.project.TemplateBuilderViewSpec(\n",
    "    view=tb.ListViewV1(  # List of components that should be positioned from top to bottom in the UI\n",
    "        [\n",
    "            tb.ImageAnnotationFieldV1(  # Image and selected areas to verify\n",
    "                tb.InternalData('selection',\n",
    "                                default=tb.InputData('selection')),  # Use the input field as default value to display the selected areas\n",
    "                tb.InputData('image'),\n",
    "                disabled=True,  # Disable adding and deleting areas\n",
    "                full_height=True\n",
    "            ),\n",
    "            tb.RadioGroupFieldV1(  # A component for selecting one value out of several options\n",
    "                tb.OutputData('result'),  # Path for writing output data\n",
    "                [\n",
    "                    tb.GroupFieldOption('OK', 'Yes'),\n",
    "                    tb.GroupFieldOption('BAD', 'No'),\n",
    "                ],\n",
    "                label='Are all people faces outlined correctly?',  # Label above the options\n",
    "                validation=tb.RequiredConditionV1()  # Requirement to select one of the options\n",
    "            )\n",
    "        ]\n",
    "    ),\n",
    "    plugins=[\n",
    "        tb.HotkeysPluginV1( # Shortcuts for selecting options using the keyboard\n",
    "            key_1=tb.SetActionV1(tb.OutputData('result'), 'OK'),\n",
    "            key_2=tb.SetActionV1(tb.OutputData('result'), 'BAD')\n",
    "        )\n",
    "    ]\n",
    ")\n",
    "\n",
    "# You can write instructions and upload them from a file or enter them later in the web interface\n",
    "# In case of polygon markup adjust the instruction describing the rules of putting the polygons instead of bounding boxes\n",
    "verification_instruction = open('./instructions/verification_instruction.html').read().strip()\n",
    "\n",
    "# Set up the project\n",
    "verification_project = toloka.Project(\n",
    "    public_name='Are the people faces outlined correctly?',\n",
    "    public_description='Look at the image and decide whether or not the people faces are outlined correctly',\n",
    "    public_instructions=verification_instruction,\n",
    "    # Set up the task: view, input, and output parameters\n",
    "    task_spec=toloka.project.task_spec.TaskSpec(\n",
    "        input_spec={\n",
    "            'image': toloka.project.UrlSpec(),\n",
    "            'selection': toloka.project.JsonSpec(),\n",
    "            'assignment_id': toloka.project.StringSpec(),\n",
    "        },\n",
    "        # Set allowed_values, we'll use smart mixing to get the results of this project\n",
    "        output_spec={'result': toloka.project.StringSpec(allowed_values=['OK', 'BAD'])},\n",
    "        view_spec=verification_interface,\n",
    "    ),\n",
    ")"
   ]
  },
  {
   "cell_type": "markdown",
   "metadata": {},
   "source": [
    "Call the API to create a new project."
   ]
  },
  {
   "cell_type": "code",
   "execution_count": null,
   "metadata": {},
   "outputs": [],
   "source": [
    "verification_project = toloka_client.create_project(verification_project)"
   ]
  },
  {
   "cell_type": "markdown",
   "metadata": {},
   "source": [
    "Examine the project in the web interface:\n",
    "\n",
    "1. After running the code above, you’ll get a link to your project. Follow this link to check the task interface and instructions.\n",
    "\n",
    "    **Note:** You will see almost the same interface as in the previous project, just without the ability to select areas. It’s important to make sure that the annotation results from the first project are displayed correctly in the second one.\n",
    "    \n",
    "    \n",
    "2. Open the task **Preview** in the first project.\n",
    "\n",
    "\n",
    "3. Outline the faces and click **Submit**.\n",
    "\n",
    "\n",
    "4. Copy the results.\n",
    "\n",
    "\n",
    "5. Now open the **Preview** of the second project.\n",
    "\n",
    "\n",
    "6. Click **Change input data** and paste the annotation results in the selection field.\n",
    "\n",
    "\n",
    "7. Click **Apply** and make sure the annotation displays correctly. "
   ]
  },
  {
   "cell_type": "markdown",
   "metadata": {},
   "source": [
    "### Create and set up a pool in the verification project\n",
    "Now we need to add a filter for this pool. Specify Tolokers that don’t have the detection skill (we want to avoid using Tolokers who did the detection tasks). You can combine multiple conditions using the `&` and `|` operators.\n",
    "\n",
    "**Note:** Add two quality control rules with the same collector but with different conditions and actions.    "
   ]
  },
  {
   "cell_type": "code",
   "execution_count": null,
   "metadata": {},
   "outputs": [],
   "source": [
    "verification_pool = toloka.Pool(\n",
    "    project_id=verification_project.id,\n",
    "    private_name='Pool 1. People faces verification',  # Only you can see this information.\n",
    "    may_contain_adult_content=False,\n",
    "    will_expire=datetime.datetime.utcnow() + datetime.timedelta(days=365),  # Pool will close automatically after one year\n",
    "    reward_per_assignment=0.01,  # We set the minimum payment amount for one task page\n",
    "                                 # By default, auto_accept_solutions is on,\n",
    "                                 # so we'll pay for all the tasks without checking results.\n",
    "    assignment_max_duration_seconds=60*10,  # Give tolokers 10 minutes to complete one task page\n",
    "    defaults=toloka.pool.Pool.Defaults(\n",
    "        # We need an overlap to compare the tolokers among themselves,\n",
    "        default_overlap_for_new_task_suites=5,\n",
    "    ),\n",
    ")\n",
    "\n",
    "# We'll only show our tasks to English-speaking users because the description of the task is in English.\n",
    "# We also won't allow our verification tasks to be performed by users who performed detection tasks.\n",
    "verification_pool.filter = (\n",
    "    (toloka.filter.Languages.in_('EN')) &\n",
    "    (toloka.filter.Skill(detection_skill.id) == None)\n",
    ")\n",
    "\n",
    "# Set up quality control\n",
    "# Quality is based on the majority of matching responses from tolokers who completed the same task.\n",
    "verification_pool.quality_control.add_action(\n",
    "    collector=toloka.collectors.MajorityVote(answer_threshold=3),\n",
    "    # If a toloker has 10 or more responses\n",
    "    # And the responses are correct in less than 50% of cases,\n",
    "    conditions=[\n",
    "        toloka.conditions.TotalAnswersCount > 9,\n",
    "        toloka.conditions.CorrectAnswersRate < 50,\n",
    "    ],\n",
    "    # We ban the toloker from all our projects for 10 days.\n",
    "    action=toloka.actions.RestrictionV2(\n",
    "        scope='ALL_PROJECTS',\n",
    "        duration=10,\n",
    "        duration_unit='DAYS',\n",
    "        private_comment=' Doesn\\'t match the majority',  # Only you will see this comment\n",
    "    )\n",
    ")\n",
    "\n",
    "# Set up the new skill value using MajorityVote.\n",
    "# Depending on the percentage of correct responses, we increase the value of the toloker's skill.\n",
    "verification_pool.quality_control.add_action(\n",
    "    collector=toloka.collectors.MajorityVote(answer_threshold=3, history_size=10),\n",
    "    conditions=[\n",
    "        toloka.conditions.TotalAnswersCount > 2,\n",
    "    ],\n",
    "    action=toloka.actions.SetSkillFromOutputField(\n",
    "        skill_id=verification_skill.id,\n",
    "        from_field='correct_answers_rate',\n",
    "    ),\n",
    ")\n",
    "print(f'Quality rule count:{len(verification_pool.quality_control.configs)}')"
   ]
  },
  {
   "cell_type": "markdown",
   "metadata": {},
   "source": [
    "### Create a pool"
   ]
  },
  {
   "cell_type": "code",
   "execution_count": null,
   "metadata": {},
   "outputs": [],
   "source": [
    "# Set the task count for one page\n",
    "verification_pool.set_mixer_config(\n",
    "    real_tasks_count=10,\n",
    "    force_last_assignment=True,\n",
    ")\n",
    "\n",
    "verification_pool = toloka_client.create_pool(verification_pool)"
   ]
  },
  {
   "cell_type": "markdown",
   "metadata": {},
   "source": [
    "---\n",
    "---\n",
    "## Add tasks to pools and run the projects\n",
    "At this point, we have configured two projects, and now we can upload the real data that we want to annotate."
   ]
  },
  {
   "cell_type": "code",
   "execution_count": null,
   "metadata": {},
   "outputs": [],
   "source": [
    "tasks = [\n",
    "    toloka.Task(input_values={'image': url}, pool_id=detection_pool.id)\n",
    "    for url in dataset['image'].values\n",
    "]\n",
    "# Add tasks to a pool\n",
    "toloka_client.create_tasks(tasks, allow_defaults=True,)\n",
    "\n",
    "detection_pool = toloka_client.open_pool(detection_pool.id)"
   ]
  },
  {
   "cell_type": "markdown",
   "metadata": {},
   "source": [
    "Visit the pool page in the web interface and make sure the number of tasks is correct and the pool is running. Some tasks may already be completed.\n",
    "\n",
    "<table  align=\"center\">\n",
    "  <tr><td>\n",
    "    <img src=\"./img/segmentation_pool_look.png\"\n",
    "         alt=\"Pool with tasks\"  width=\"800\">\n",
    "  </td></tr>\n",
    "  <tr><td align=\"center\">\n",
    "    <b>Figure 4.</b> What a running pool might look like\n",
    "  </td></tr>\n",
    "</table>\n"
   ]
  },
  {
   "cell_type": "markdown",
   "metadata": {},
   "source": [
    "Tolokers work really fast, but they still need time to complete their tasks. We’ll use streaming to start the verification project without having to wait until the detection pool closes completely.\n",
    "\n",
    "Next, [review](https://toloka.ai/en/docs/guide/concepts/offline-accept?utm_source=github&utm_medium=instruction-a&utm_campaign=link-15) the detection results in the web interface."
   ]
  },
  {
   "cell_type": "code",
   "execution_count": null,
   "metadata": {},
   "outputs": [],
   "source": [
    "from toloka.streaming import AssignmentsObserver, Pipeline\n",
    "from toloka.streaming.storage import JSONLocalStorage"
   ]
  },
  {
   "cell_type": "code",
   "execution_count": null,
   "metadata": {},
   "outputs": [],
   "source": [
    "# class for handling submissions in the detection pool\n",
    "class DetectionSubmittedHandler:\n",
    "    def __init__(self, client, verification_pool_id):\n",
    "        self.client = client\n",
    "        self.verification_pool_id = verification_pool_id\n",
    "\n",
    "    # create new tasks for the verification pool\n",
    "    def __call__(self, events: List[AssignmentEvent]) -> None:\n",
    "        verification_tasks = [\n",
    "            toloka.Task(\n",
    "                pool_id=self.verification_pool_id,\n",
    "                input_values={\n",
    "                        'image': event.assignment.tasks[0].input_values['image'],\n",
    "                        'selection': event.assignment.solutions[0].output_values['result'],\n",
    "                        'assignment_id': event.assignment.id,\n",
    "                }\n",
    "            )\n",
    "            for event in events\n",
    "        ]\n",
    "        self.client.create_tasks(verification_tasks, allow_defaults=True, open_pool=True)"
   ]
  },
  {
   "cell_type": "code",
   "execution_count": null,
   "metadata": {},
   "outputs": [],
   "source": [
    "# class for handling accepted tasks in the verification pool\n",
    "class VerificationDoneHandler:\n",
    "    def __init__(self, client, verification_skill_id):\n",
    "        self.microtasks = pd.DataFrame([], columns=['task', 'label', 'worker'])\n",
    "        self.client = client\n",
    "        self.verification_skill_id = verification_skill_id\n",
    "\n",
    "    # filter out tasks that already have enough overlap and aggregate the result\n",
    "    def __call__(self, events: List[AssignmentEvent]) -> None:\n",
    "        # Initializing data\n",
    "        microtasks = pd.concat([self.microtasks, self.as_frame(events)])\n",
    "        # get user skills for aggregation\n",
    "        skills = pd.Series({\n",
    "            skill.user_id: skill.value\n",
    "            for skill in self.client.get_user_skills(skill_id=self.verification_skill_id)\n",
    "        })\n",
    "\n",
    "        # Filtering all microtasks that have overlap of 5\n",
    "        microtasks['overlap'] = microtasks.groupby('task')['task'].transform('count')\n",
    "        to_aggregate = microtasks[microtasks['overlap'] >= 5]\n",
    "        microtasks = microtasks[microtasks['overlap'] < 5]\n",
    "        aggregated = MajorityVote(on_missing_skill='value', default_skill=0).fit_predict(to_aggregate, skills)\n",
    "        # Accepting or rejecting assignments\n",
    "        for assignment_id, result in aggregated.items():\n",
    "            if result == 'OK':\n",
    "                self.client.accept_assignment(assignment_id, 'Well done!')\n",
    "            else:\n",
    "                toloka_client.reject_assignment(assignment_id, 'The object wasn\\'t selected or was selected incorrectly.')\n",
    "\n",
    "        # Updating mictotasks\n",
    "        self.microtasks = microtasks[['task', 'label', 'worker']]\n",
    "\n",
    "    # get the data necessary for aggregation\n",
    "    @staticmethod\n",
    "    def as_frame(events: List[AssignmentEvent]) -> pd.DataFrame:\n",
    "        microtasks = [\n",
    "            (task.input_values['assignment_id'], solution.output_values['result'], event.assignment.user_id)\n",
    "            for event in events\n",
    "            for task, solution in zip(event.assignment.tasks, event.assignment.solutions)\n",
    "        ]\n",
    "        return pd.DataFrame(microtasks, columns=['task', 'label', 'worker'])"
   ]
  },
  {
   "cell_type": "markdown",
   "metadata": {},
   "source": [
    "We’ll create a pipeline with an observer for each pool.\n",
    "\n",
    "Depending on the number of images in the detection pool and the time of day, the whole process can take from a few minutes to almost an hour. "
   ]
  },
  {
   "cell_type": "code",
   "execution_count": null,
   "metadata": {},
   "outputs": [],
   "source": [
    "detection_observer = AssignmentsObserver(toloka_client, detection_pool.id)\n",
    "detection_observer.on_submitted(DetectionSubmittedHandler(toloka_client, verification_pool.id))\n",
    "verification_observer = AssignmentsObserver(toloka_client, verification_pool.id)\n",
    "verification_observer.on_accepted(VerificationDoneHandler(toloka_client, verification_skill.id))\n",
    "\n",
    "# Create a local directory that will store pipeline progress and logs.\n",
    "# It allows to restart the pipeline without losing data in case of pause or failure.\n",
    "storage_path = './storage/'\n",
    "if not os.path.exists(storage_path):\n",
    "    os.makedirs(storage_path)\n",
    "storage = JSONLocalStorage(storage_path)\n",
    "\n",
    "pipeline = Pipeline(storage=storage)\n",
    "pipeline.register(detection_observer)\n",
    "pipeline.register(verification_observer)\n",
    "\n",
    "# Google Colab is using a global event pool,\n",
    "# so in order to run our pipeline we have to apply nest_asyncio to create an inner pool\n",
    "if 'google.colab' in str(get_ipython()):\n",
    "    import nest_asyncio, asyncio\n",
    "    nest_asyncio.apply()\n",
    "    asyncio.get_event_loop().run_until_complete(pipeline.run())\n",
    "else:\n",
    "    await pipeline.run()"
   ]
  },
  {
   "cell_type": "markdown",
   "metadata": {},
   "source": [
    "---\n",
    "---\n",
    "## Get the results\n",
    "Now you can download all the accepted tasks from the detection pool and work with them. In this notebook, we’ll only show the detection results. The code below will display the results of the bounding boxes markup.\n",
    "\n",
    "You can also [download](https://toloka.ai/en/docs/guide/concepts/result-of-eval?utm_source=github&utm_medium=instruction-a&utm_campaign=link-16) results as a TSV file from the web interface.  "
   ]
  },
  {
   "cell_type": "code",
   "execution_count": null,
   "metadata": {},
   "outputs": [],
   "source": [
    "!pip install pillow # To deal with images\n",
    "!pip install requests # To make HTTP requests\n",
    "from PIL import Image, ImageDraw\n",
    "import requests\n",
    "\n",
    "def get_image(url, selection):\n",
    "    raw_image = requests.get(url, stream=True).raw\n",
    "    image = Image.open(raw_image).convert(\"RGBA\")\n",
    "    regions = Image.new('RGBA', image.size, (255,255,255,0))\n",
    "    pencil = ImageDraw.Draw(regions)\n",
    "    for region in selection:\n",
    "        if region['shape'] != 'rectangle':\n",
    "            continue\n",
    "        p1_x = region['left'] * image.size[0]\n",
    "        p1_y = region['top'] * image.size[1]\n",
    "        p2_x = (region['left'] + region['width']) * image.size[0]\n",
    "        p2_y = (region['top'] + region['height']) * image.size[1]\n",
    "        pencil.rectangle((p1_x, p1_y, p2_x, p2_y), fill =(255, 30, 30, int(255*0.5)))\n",
    "    image = Image.alpha_composite(image, regions)\n",
    "    return image\n",
    "\n",
    "detection_result = {}  # We'll store our result here"
   ]
  },
  {
   "cell_type": "code",
   "execution_count": null,
   "metadata": {
    "scrolled": true
   },
   "outputs": [],
   "source": [
    "max_images = 2\n",
    "images = []\n",
    "\n",
    "if not detection_result:\n",
    "\n",
    "    for assignment in toloka_client.get_assignments(\n",
    "        status='ACCEPTED',\n",
    "        pool_id=detection_pool.id\n",
    "    ):\n",
    "        detection_result[assignment.tasks[0].input_values['image']] = assignment.solutions[0].output_values['result']\n",
    "\n",
    "for i in range(max_images):\n",
    "    url, selection = detection_result.popitem()\n",
    "    image = get_image(url, selection)\n",
    "    images.append(image)\n",
    "\n",
    "ipyplot.plot_images(\n",
    "    images,\n",
    "    max_images=max_images,\n",
    "    img_width=1000\n",
    ")"
   ]
  },
  {
   "cell_type": "markdown",
   "metadata": {},
   "source": [
    "---\n",
    "---\n",
    "## Summary\n",
    "\n",
    "This project consists of the minimum number of settings that This project has the minimum number of settings that will allow you to collect annotated images for your dataset right from Jupyter Notebook.\n",
    "\n",
    "For further experiments use the [Toloka-Kit documentation](https://toloka.ai/en/docs/toloka-kit/?utm_source=github&utm_medium=instruction-a&utm_campaign=link-17) and check out other [use cases](https://github.com/Toloka/toloka-kit/tree/main/examples/?utm_source=github&utm_medium=instruction-a&utm_campaign=link-18).  \n"
   ]
  }
 ],
 "metadata": {
  "kernelspec": {
   "display_name": "Python 3.10.6 64-bit",
   "language": "python",
   "name": "python3"
  },
  "language_info": {
   "codemirror_mode": {
    "name": "ipython",
    "version": 3
   },
   "file_extension": ".py",
   "mimetype": "text/x-python",
   "name": "python",
   "nbconvert_exporter": "python",
   "pygments_lexer": "ipython3",
   "version": "3.10.6"
  },
  "vscode": {
   "interpreter": {
    "hash": "e7370f93d1d0cde622a1f8e1c04877d8463912d04d973331ad4851f04de6915a"
   }
  }
 },
 "nbformat": 4,
 "nbformat_minor": 1
}
