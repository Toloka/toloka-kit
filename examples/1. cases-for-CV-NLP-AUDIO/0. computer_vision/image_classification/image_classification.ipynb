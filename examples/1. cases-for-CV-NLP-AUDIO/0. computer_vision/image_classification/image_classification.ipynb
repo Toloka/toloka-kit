{
 "cells": [
  {
   "cell_type": "markdown",
   "metadata": {},
   "source": [
    "# Image binary classification\n"
   ]
  },
  {
   "cell_type": "markdown",
   "metadata": {},
   "source": [
    "### Call to action\n",
    "If you found some bugs or have a new feature idea, don't hesitate to [open a new issue on Github](https://github.com/Toloka/toloka-kit/issues/new/choose).\n",
    "Like our library and examples? Star [our repo on Github](https://github.com/Toloka/toloka-kit)"
   ]
  },
  {
   "cell_type": "markdown",
   "metadata": {},
   "source": [
    "Prepare environment and import all we'll need."
   ]
  },
  {
   "cell_type": "code",
   "execution_count": null,
   "metadata": {},
   "outputs": [],
   "source": [
    "%%capture\n",
    "!pip install toloka-kit==0.1.26\n",
    "!pip install crowd-kit==1.0.0\n",
    "!pip install pandas\n",
    "!pip install ipyplot\n",
    "\n",
    "import datetime\n",
    "import os\n",
    "import sys\n",
    "import time\n",
    "import logging\n",
    "import getpass\n",
    "\n",
    "import ipyplot\n",
    "import pandas\n",
    "import numpy as np\n",
    "\n",
    "import toloka.client as toloka\n",
    "import toloka.client.project.template_builder as tb\n",
    "from crowdkit.aggregation import DawidSkene"
   ]
  },
  {
   "cell_type": "code",
   "execution_count": null,
   "metadata": {},
   "outputs": [],
   "source": [
    "logging.basicConfig(\n",
    "    format='[%(levelname)s] %(name)s: %(message)s',\n",
    "    level=logging.INFO,\n",
    "    stream=sys.stdout,\n",
    ")"
   ]
  },
  {
   "cell_type": "markdown",
   "metadata": {},
   "source": [
    "Сreate toloka-client instance. All api calls will go through it. More about OAuth token in our [Learn the basics example](https://github.com/Toloka/toloka-kit/tree/main/examples/0.getting_started/0.learn_the_basics) [![Open In Colab](https://colab.research.google.com/assets/colab-badge.svg)](https://colab.research.google.com/github/Toloka/toloka-kit/blob/main/examples/0.getting_started/0.learn_the_basics/learn_the_basics.ipynb)"
   ]
  },
  {
   "cell_type": "code",
   "execution_count": null,
   "metadata": {},
   "outputs": [],
   "source": [
    "toloka_client = toloka.TolokaClient(getpass.getpass('Enter your OAuth token: '), 'PRODUCTION') # Or switch to 'SANDBOX'\n",
    "logging.info(toloka_client.get_requester())"
   ]
  },
  {
   "cell_type": "markdown",
   "metadata": {},
   "source": [
    "## Creating new project"
   ]
  },
  {
   "cell_type": "code",
   "execution_count": null,
   "metadata": {},
   "outputs": [],
   "source": [
    "project = toloka.Project(\n",
    "    public_name='Is it a cat or a dog?',\n",
    "    public_description='Look at the picture and decide whether there is a cat or a dog.',\n",
    ")"
   ]
  },
  {
   "cell_type": "markdown",
   "metadata": {},
   "source": [
    "Create task interface"
   ]
  },
  {
   "cell_type": "code",
   "execution_count": null,
   "metadata": {},
   "outputs": [],
   "source": [
    "image_viewer = tb.ImageViewV1(tb.InputData('image'), ratio=[1, 1], rotatable=True)\n",
    "\n",
    "radio_group_field = tb.ButtonRadioGroupFieldV1(\n",
    "    tb.OutputData('result'),\n",
    "    [\n",
    "        tb.GroupFieldOption('cat', 'Cat'),\n",
    "        tb.GroupFieldOption('dog', 'Dog'),\n",
    "        tb.GroupFieldOption('other', 'Other'),\n",
    "    ],\n",
    "    validation=tb.RequiredConditionV1(hint='choose one of the options'),\n",
    ")\n",
    "\n",
    "task_width_plugin = tb.TolokaPluginV1(\n",
    "    kind='scroll',\n",
    "    task_width=500,\n",
    ")\n",
    "\n",
    "hot_keys_plugin = tb.HotkeysPluginV1(\n",
    "    key_1=tb.SetActionV1(tb.OutputData('result'), 'cat'),\n",
    "    key_2=tb.SetActionV1(tb.OutputData('result'), 'dog'),\n",
    "    key_3=tb.SetActionV1(tb.OutputData('result'), 'other'),\n",
    ")\n",
    "\n",
    "project_interface = toloka.project.TemplateBuilderViewSpec(\n",
    "    view=tb.ListViewV1([image_viewer, radio_group_field]),\n",
    "    plugins=[task_width_plugin, hot_keys_plugin],\n",
    ")"
   ]
  },
  {
   "cell_type": "markdown",
   "metadata": {},
   "source": [
    "Set data specification. And set task interface to project."
   ]
  },
  {
   "cell_type": "code",
   "execution_count": null,
   "metadata": {},
   "outputs": [],
   "source": [
    "input_specification = {'image': toloka.project.UrlSpec()}\n",
    "output_specification = {'result': toloka.project.StringSpec()}\n",
    "\n",
    "project.task_spec = toloka.project.task_spec.TaskSpec(\n",
    "    input_spec=input_specification,\n",
    "    output_spec=output_specification,\n",
    "    view_spec=project_interface,\n",
    ")"
   ]
  },
  {
   "cell_type": "markdown",
   "metadata": {},
   "source": [
    "Write short and simple \tinstructions."
   ]
  },
  {
   "cell_type": "code",
   "execution_count": null,
   "metadata": {},
   "outputs": [],
   "source": [
    "project.public_instructions = \"\"\"<p>Decide what category the image belongs to.</p>\n",
    "<p>Select \"<b>Cat</b>\" if the picture contains one or more cats.</p>\n",
    "<p>Select \"<b>Dog</b>\" if the picture contains one or more dogs.</p>\n",
    "<p>Select \"<b>Other</b>\" if:</p>\n",
    "<ul><li>the picture contains both cats and dogs</li>\n",
    "<li>the picture is a picture of animals other than cats and dogs</li>\n",
    "<li>it is not clear whether the picture is of a cat or a dog</li>\n",
    "</ul>\"\"\""
   ]
  },
  {
   "cell_type": "markdown",
   "metadata": {},
   "source": [
    "Create a project."
   ]
  },
  {
   "cell_type": "code",
   "execution_count": null,
   "metadata": {},
   "outputs": [],
   "source": [
    "project = toloka_client.create_project(project)"
   ]
  },
  {
   "cell_type": "markdown",
   "metadata": {},
   "source": [
    "You can go to the project page and in web-interface you can see something like this:\n",
    "<table  align=\"center\">\n",
    "  <tr><td>\n",
    "    <img src=\"./img/created_project.png\"\n",
    "         alt=\"Project interface\"  width=\"1000\">\n",
    "  </td></tr>\n",
    "  <tr><td align=\"center\">\n",
    "    <b>Figure 1.</b> What the project interface might look like.\n",
    "  </td></tr>\n",
    "</table>"
   ]
  },
  {
   "cell_type": "markdown",
   "metadata": {},
   "source": [
    "## Pool creation\n",
    "Specify the [pool parameters.](https://toloka.ai/en/docs/guide/concepts/pool_poolparams?utm_source=github&utm_medium=site&utm_campaign=tolokakit)"
   ]
  },
  {
   "cell_type": "code",
   "execution_count": null,
   "metadata": {},
   "outputs": [],
   "source": [
    "pool = toloka.Pool(\n",
    "    project_id=project.id,\n",
    "    # Give the pool any convenient name. You are the only one who will see it.\n",
    "    private_name='Pool 1',\n",
    "    may_contain_adult_content=False,\n",
    "    # Set the price per task page.\n",
    "    reward_per_assignment=0.01,\n",
    "    will_expire=datetime.datetime.utcnow() + datetime.timedelta(days=365),\n",
    "    # Overlap. This is the number of users who will complete the same task.\n",
    "    defaults=toloka.Pool.Defaults(default_overlap_for_new_task_suites=3),\n",
    "    # Time allowed for completing a task page\n",
    "    assignment_max_duration_seconds=600,\n",
    ")"
   ]
  },
  {
   "cell_type": "markdown",
   "metadata": {},
   "source": [
    "Select English-speaking performers"
   ]
  },
  {
   "cell_type": "code",
   "execution_count": null,
   "metadata": {},
   "outputs": [],
   "source": [
    "pool.filter = toloka.filter.Languages.in_('EN')"
   ]
  },
  {
   "cell_type": "markdown",
   "metadata": {},
   "source": [
    "Set up [Quality control](https://toloka.ai/en/docs/guide/concepts/control?utm_source=github&utm_medium=site&utm_campaign=tolokakit). Add basic controls. And Golden Set\taka Control tasks. Ban performers who give incorrect responses to control tasks."
   ]
  },
  {
   "cell_type": "code",
   "execution_count": null,
   "metadata": {},
   "outputs": [],
   "source": [
    "pool.quality_control.add_action(\n",
    "    collector=toloka.collectors.Income(),\n",
    "    conditions=[toloka.conditions.IncomeSumForLast24Hours >= 20],\n",
    "    action=toloka.actions.RestrictionV2(\n",
    "        scope='PROJECT',\n",
    "        duration=1,\n",
    "        duration_unit='DAYS',\n",
    "        private_comment='No need more answers from this performer',\n",
    "    )\n",
    ")\n",
    "\n",
    "pool.quality_control.add_action(\n",
    "    collector=toloka.collectors.SkippedInRowAssignments(),\n",
    "    conditions=[toloka.conditions.SkippedInRowCount >= 10],\n",
    "    action=toloka.actions.RestrictionV2(\n",
    "        scope='PROJECT',\n",
    "        duration=1,\n",
    "        duration_unit='DAYS',\n",
    "        private_comment='Lazy performer',\n",
    "    )\n",
    ")\n",
    "\n",
    "pool.quality_control.add_action(\n",
    "    collector=toloka.collectors.MajorityVote(answer_threshold=2, history_size=10),\n",
    "    conditions=[\n",
    "        toloka.conditions.TotalAnswersCount >= 4,\n",
    "        toloka.conditions.CorrectAnswersRate < 75,\n",
    "    ],\n",
    "    action=toloka.actions.RestrictionV2(\n",
    "        scope='PROJECT',\n",
    "        duration=10,\n",
    "        duration_unit='DAYS',\n",
    "        private_comment='Too low quality',\n",
    "    )\n",
    ")\n",
    "\n",
    "pool.quality_control.add_action(\n",
    "    collector=toloka.collectors.GoldenSet(),\n",
    "    conditions=[\n",
    "        toloka.conditions.GoldenSetCorrectAnswersRate < 60.0,\n",
    "        toloka.conditions.GoldenSetAnswersCount >= 3\n",
    "    ],\n",
    "    action=toloka.actions.RestrictionV2(\n",
    "        scope='PROJECT',\n",
    "        duration=10,\n",
    "        duration_unit='DAYS',\n",
    "        private_comment='Golden set'\n",
    "    )\n",
    ")"
   ]
  },
  {
   "cell_type": "markdown",
   "metadata": {},
   "source": [
    "Specify\tthe number of tasks per page. For example: 9 main tasks and 1 control task."
   ]
  },
  {
   "cell_type": "code",
   "execution_count": null,
   "metadata": {},
   "outputs": [],
   "source": [
    "pool.set_mixer_config(\n",
    "    real_tasks_count=9,\n",
    "    golden_tasks_count=1\n",
    ")"
   ]
  },
  {
   "cell_type": "markdown",
   "metadata": {},
   "source": [
    "Create pool"
   ]
  },
  {
   "cell_type": "code",
   "execution_count": null,
   "metadata": {},
   "outputs": [],
   "source": [
    "pool = toloka_client.create_pool(pool)"
   ]
  },
  {
   "cell_type": "markdown",
   "metadata": {},
   "source": [
    "## Preparing and uploading tasks\n",
    "\n",
    "This example uses a small data set with images.\n",
    "\n",
    "The dataset used is collected by Toloka team and distributed under a Creative Commons Attribution 4.0 International license\n",
    "[![License: CC BY 4.0](https://img.shields.io/badge/License-CC%20BY%204.0-lightgrey.svg)](https://creativecommons.org/licenses/by/4.0/).\n",
    "\n",
    "Dataset looks like:\n",
    "<table  align=\"center\">\n",
    "  <tr><td>\n",
    "    <img src=\"./img/dataset_preview.png\"\n",
    "         alt=\"Dataset preview\"  width=\"1000\">\n",
    "  </td></tr>\n",
    "  <tr><td align=\"center\">\n",
    "    <b>Figure 2.</b> Dataset preview.\n",
    "  </td></tr>\n",
    "</table>"
   ]
  },
  {
   "cell_type": "code",
   "execution_count": null,
   "metadata": {},
   "outputs": [],
   "source": [
    "!curl https://tlk.s3.yandex.net/dataset/cats_vs_dogs/toy_dataset.tsv --output dataset.tsv\n",
    "\n",
    "dataset = pandas.read_csv('dataset.tsv', sep='\\t')\n",
    "\n",
    "logging.info(f'Dataset contains {len(dataset)} rows\\n')\n",
    "\n",
    "dataset = dataset.sample(frac=1).reset_index(drop=True)\n",
    "\n",
    "ipyplot.plot_images(\n",
    "    images=[row['url'] for _, row in dataset.iterrows()],\n",
    "    labels=[row['label'] for _, row in dataset.iterrows()],\n",
    "    max_images=12,\n",
    "    img_width=300,\n",
    ")"
   ]
  },
  {
   "cell_type": "markdown",
   "metadata": {},
   "source": [
    "Divide the dataset into two. One for tasks and one for [Control tasks](https://toloka.ai/en/docs/guide/concepts/task_markup?utm_source=github&utm_medium=site&utm_campaign=tolokakit).\n",
    "\n",
    "Note. Control tasks are tasks with the correct response known in advance. They are used to track the performer's quality of responses. The performer's response is compared to the response you provided. If they match, it means the performer answered correctly."
   ]
  },
  {
   "cell_type": "code",
   "execution_count": null,
   "metadata": {},
   "outputs": [],
   "source": [
    "golden_dataset, task_dataset = np.split(dataset, [15], axis=0)"
   ]
  },
  {
   "cell_type": "markdown",
   "metadata": {},
   "source": [
    "Create control tasks. In small pools, control tasks should account for 10–20% of all tasks.\n",
    "\n",
    "Tip. Make sure to include different variations of correct responses in equal amounts."
   ]
  },
  {
   "cell_type": "code",
   "execution_count": null,
   "metadata": {},
   "outputs": [],
   "source": [
    "golden_tasks = [\n",
    "    toloka.Task(\n",
    "        pool_id=pool.id,\n",
    "        input_values={'image': row['url']},\n",
    "        known_solutions = [\n",
    "            toloka.task.BaseTask.KnownSolution(\n",
    "                output_values={'result': row['label']}\n",
    "            )\n",
    "        ],\n",
    "        infinite_overlap=True,\n",
    "    )\n",
    "    for i, row in golden_dataset.iterrows()\n",
    "]"
   ]
  },
  {
   "cell_type": "markdown",
   "metadata": {},
   "source": [
    "Create pool tasks"
   ]
  },
  {
   "cell_type": "code",
   "execution_count": null,
   "metadata": {},
   "outputs": [],
   "source": [
    "tasks = [\n",
    "    toloka.Task(\n",
    "        pool_id=pool.id,\n",
    "        input_values={'image': url},\n",
    "    )\n",
    "    for url in task_dataset['url']\n",
    "]"
   ]
  },
  {
   "cell_type": "markdown",
   "metadata": {},
   "source": [
    "Upload tasks"
   ]
  },
  {
   "cell_type": "code",
   "execution_count": null,
   "metadata": {},
   "outputs": [],
   "source": [
    "created_tasks = toloka_client.create_tasks(golden_tasks + tasks, allow_defaults=True)\n",
    "logging.info(len(created_tasks.items))"
   ]
  },
  {
   "cell_type": "markdown",
   "metadata": {},
   "source": [
    "Start the pool.\n",
    "\n",
    "**Important.** Remember that real Toloka performers will complete the tasks.\n",
    "Double check that everything is correct\n",
    "with your project configuration before you start the pool"
   ]
  },
  {
   "cell_type": "code",
   "execution_count": null,
   "metadata": {},
   "outputs": [],
   "source": [
    "pool = toloka_client.open_pool(pool.id)\n",
    "logging.info(pool.status)"
   ]
  },
  {
   "cell_type": "markdown",
   "metadata": {},
   "source": [
    "## Receiving responses"
   ]
  },
  {
   "cell_type": "markdown",
   "metadata": {},
   "source": [
    "Wait until the pool is completed."
   ]
  },
  {
   "cell_type": "code",
   "execution_count": null,
   "metadata": {},
   "outputs": [],
   "source": [
    "pool_id = pool.id\n",
    "\n",
    "def wait_pool_for_close(pool_id, minutes_to_wait=1):\n",
    "    sleep_time = 60 * minutes_to_wait\n",
    "    pool = toloka_client.get_pool(pool_id)\n",
    "    while not pool.is_closed():\n",
    "        op = toloka_client.get_analytics([toloka.analytics_request.CompletionPercentagePoolAnalytics(subject_id=pool.id)])\n",
    "        op = toloka_client.wait_operation(op)\n",
    "        percentage = op.details['value'][0]['result']['value']\n",
    "        logging.info(\n",
    "            f'   {datetime.datetime.now().strftime(\"%H:%M:%S\")}\\t'\n",
    "            f'Pool {pool.id} - {percentage}%'\n",
    "        )\n",
    "        time.sleep(sleep_time)\n",
    "        pool = toloka_client.get_pool(pool.id)\n",
    "    logging.info('Pool was closed.')\n",
    "\n",
    "wait_pool_for_close(pool_id)"
   ]
  },
  {
   "cell_type": "markdown",
   "metadata": {},
   "source": [
    "Get responses\n",
    "\n",
    "When all the tasks are completed, look at the responses from performers."
   ]
  },
  {
   "cell_type": "code",
   "execution_count": null,
   "metadata": {},
   "outputs": [],
   "source": [
    "answers = []\n",
    "\n",
    "answers_df = toloka_client.get_assignments_df(pool_id)\n",
    "# prepare DataFrame\n",
    "answers_df = answers_df.rename(columns={\n",
    "    'INPUT:image': 'task',\n",
    "    'OUTPUT:result': 'label',\n",
    "    'ASSIGNMENT:worker_id': 'worker'\n",
    "})\n",
    "\n",
    "logging.info(f'answers count: {len(answers_df)}')"
   ]
  },
  {
   "cell_type": "markdown",
   "metadata": {},
   "source": [
    "Aggregation results using the Dawid-Skene model"
   ]
  },
  {
   "cell_type": "code",
   "execution_count": null,
   "metadata": {},
   "outputs": [],
   "source": [
    "# Run aggregation\n",
    "predicted_answers = DawidSkene(n_iter=20).fit_predict(answers_df)\n",
    "\n",
    "logging.info(predicted_answers)"
   ]
  },
  {
   "cell_type": "markdown",
   "metadata": {},
   "source": [
    "Look at the results.\n",
    "\n",
    "Some preparations for displaying the results"
   ]
  },
  {
   "cell_type": "code",
   "execution_count": null,
   "metadata": {},
   "outputs": [],
   "source": [
    "predicted_answers = predicted_answers.sample(frac=1)\n",
    "images = predicted_answers.index.values\n",
    "labels = predicted_answers.values\n",
    "start_with = 0"
   ]
  },
  {
   "cell_type": "markdown",
   "metadata": {},
   "source": [
    "Note: The cell below can be run several times."
   ]
  },
  {
   "cell_type": "code",
   "execution_count": null,
   "metadata": {},
   "outputs": [],
   "source": [
    "if start_with >= len(predicted_answers):\n",
    "    logging.info('no more images')\n",
    "else:\n",
    "    ipyplot.plot_images(\n",
    "        images=images[start_with:],\n",
    "        labels=labels[start_with:],\n",
    "        max_images=12,\n",
    "        img_width=300,\n",
    "    )\n",
    "\n",
    "    start_with += 12"
   ]
  },
  {
   "cell_type": "markdown",
   "metadata": {
    "pycharm": {
     "name": "#%% md\n"
    }
   },
   "source": [
    "**You** can see the labeled images. Some possible results are shown in figure 3 below.\n",
    "\n",
    "<table  align=\"center\">\n",
    "  <tr><td>\n",
    "    <img src=\"./img/possible_results.png\"\n",
    "         alt=\"Possible results\"  width=\"1000\">\n",
    "  </td></tr>\n",
    "  <tr><td align=\"center\">\n",
    "    <b>Figure 3.</b> Possible results.\n",
    "  </td></tr>\n",
    "</table>"
   ]
  }
 ],
 "metadata": {
  "kernelspec": {
   "display_name": "Python 3.10.6 64-bit",
   "language": "python",
   "name": "python3"
  },
  "language_info": {
   "codemirror_mode": {
    "name": "ipython",
    "version": 3
   },
   "file_extension": ".py",
   "mimetype": "text/x-python",
   "name": "python",
   "nbconvert_exporter": "python",
   "pygments_lexer": "ipython3",
   "version": "3.10.6"
  },
  "vscode": {
   "interpreter": {
    "hash": "e7370f93d1d0cde622a1f8e1c04877d8463912d04d973331ad4851f04de6915a"
   }
  }
 },
 "nbformat": 4,
 "nbformat_minor": 4
}
