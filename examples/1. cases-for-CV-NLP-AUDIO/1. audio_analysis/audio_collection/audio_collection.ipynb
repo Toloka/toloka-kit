{
 "cells": [
  {
   "cell_type": "markdown",
   "metadata": {},
   "source": [
    "# Audio collection\n",
    "\n",
    "We have a set of texts, and we need to get voice recordings of these texts. We ask performers to read the texts aloud and record themselves. Recordings like these are used for training voice assistants"
   ]
  },
  {
   "cell_type": "markdown",
   "metadata": {},
   "source": [
    "### Call to action\n",
    "If you found some bugs or have a new feature idea, don't hesitate to [open a new issue on Github](https://github.com/Toloka/toloka-kit/issues/new/choose).\n",
    "Like our library and examples? Star [our repo on Github](https://github.com/Toloka/toloka-kit)"
   ]
  },
  {
   "cell_type": "markdown",
   "metadata": {},
   "source": [
    "Prepare the environment and import everything you'll need."
   ]
  },
  {
   "cell_type": "code",
   "execution_count": null,
   "metadata": {},
   "outputs": [],
   "source": [
    "%%capture\n",
    "!pip install toloka-kit==0.1.26\n",
    "!pip install ipython\n",
    "\n",
    "import datetime\n",
    "import logging\n",
    "import sys\n",
    "import time\n",
    "import getpass\n",
    "\n",
    "import toloka.client as toloka\n",
    "import toloka.client.project.template_builder as tb\n",
    "\n",
    "import IPython.display as display\n",
    "import pandas"
   ]
  },
  {
   "cell_type": "code",
   "execution_count": null,
   "metadata": {},
   "outputs": [],
   "source": [
    "logging.basicConfig(\n",
    "    format='[%(levelname)s] %(name)s: %(message)s',\n",
    "    level=logging.INFO,\n",
    "    stream=sys.stdout,\n",
    ")"
   ]
  },
  {
   "cell_type": "markdown",
   "metadata": {},
   "source": [
    "Сreate toloka-client instance. All api calls will go through it. More about OAuth token in our [Learn the basics example](https://github.com/Toloka/toloka-kit/tree/main/examples/0.getting_started/0.learn_the_basics) [![Open In Colab](https://colab.research.google.com/assets/colab-badge.svg)](https://colab.research.google.com/github/Toloka/toloka-kit/blob/main/examples/0.getting_started/0.learn_the_basics/learn_the_basics.ipynb)"
   ]
  },
  {
   "cell_type": "code",
   "execution_count": null,
   "metadata": {},
   "outputs": [],
   "source": [
    "toloka_client = toloka.TolokaClient(getpass.getpass('Enter your OAuth token: '), 'PRODUCTION') # Or switch to 'SANDBOX'\n",
    "print(toloka_client.get_requester())"
   ]
  },
  {
   "cell_type": "markdown",
   "metadata": {},
   "source": [
    "---\n",
    "## Create a project\n",
    "\n",
    "> Note: The project name and description will be visible to the performers"
   ]
  },
  {
   "cell_type": "code",
   "execution_count": null,
   "metadata": {},
   "outputs": [],
   "source": [
    "new_project = toloka.Project(\n",
    "    public_name='Voice recording',\n",
    "    public_description='Tap the voice recorder button and read the text aloud.',\n",
    ")"
   ]
  },
  {
   "cell_type": "markdown",
   "metadata": {},
   "source": [
    "Prepare the task interface.\n",
    "\n",
    "The task interface should:\n",
    "- Contain the text, that performer should read.\n",
    "- Permit recording audio.\n",
    "\n",
    "Read more about the [Template Builder](https://toloka.ai/en/docs/template-builder/?utm_source=github&utm_medium=site&utm_campaign=tolokakit) in the Requester’s Guide.\n",
    "\n",
    "Check the [Interface section](https://toloka.ai/knowledgebase/interface?utm_source=github&utm_medium=site&utm_campaign=tolokakit) of our Knowledge Base for more tips on interface design"
   ]
  },
  {
   "cell_type": "code",
   "execution_count": null,
   "metadata": {},
   "outputs": [],
   "source": [
    "text_view = tb.TextViewV1(tb.InputData('text'))\n",
    "audio_field = tb.AudioFieldV1(tb.OutputData('audio_file'), validation=tb.RequiredConditionV1())\n",
    "width_plugin = tb.TolokaPluginV1('scroll', task_width=500)\n",
    "\n",
    "project_interface = toloka.project.TemplateBuilderViewSpec(\n",
    "    view=tb.ListViewV1(items=[text_view, audio_field]),\n",
    "    plugins=[width_plugin]\n",
    ")"
   ]
  },
  {
   "cell_type": "markdown",
   "metadata": {},
   "source": [
    "Set data specification. And set task interface to project.\n",
    "\n",
    "> Note: Specifications are a description of input data that will be used in a project and the output data that will be collected from the performers\n",
    "\n",
    "Read more about [input and output data specifications](https://yandex.ru/support/toloka-tb/operations/create-specs.html?utm_source=github&utm_medium=site&utm_campaign=tolokakit) in the Requester’s Guide."
   ]
  },
  {
   "cell_type": "code",
   "execution_count": null,
   "metadata": {},
   "outputs": [],
   "source": [
    "input_specification = {'text': toloka.project.StringSpec()}\n",
    "output_specification = {'audio_file': toloka.project.FileSpec()}\n",
    "\n",
    "new_project.task_spec = toloka.project.task_spec.TaskSpec(\n",
    "        input_spec=input_specification,\n",
    "        output_spec=output_specification,\n",
    "        view_spec=project_interface,\n",
    ")"
   ]
  },
  {
   "cell_type": "markdown",
   "metadata": {},
   "source": [
    "Write comprehensive instructions. Be sure to describe your task to performers who record words and phrases via different devices (iOS and Android). Mention how long it will take to check completed tasks (max time)\n",
    "\n",
    "Get more tips on designing [instructions](https://toloka.ai/knowledgebase/instruction?utm_source=github&utm_medium=site&utm_campaign=tolokakit) in our Knowledge Base."
   ]
  },
  {
   "cell_type": "code",
   "execution_count": null,
   "metadata": {},
   "outputs": [],
   "source": [
    "new_project.public_instructions = \"\"\"Each task contains words and phrases. You need to read and record them.\n",
    "Make a new recording for each phrase, even if it has already been used in other tasks.\"\"\""
   ]
  },
  {
   "cell_type": "markdown",
   "metadata": {},
   "source": [
    "Create a project via API request."
   ]
  },
  {
   "cell_type": "code",
   "execution_count": null,
   "metadata": {},
   "outputs": [],
   "source": [
    "new_project = toloka_client.create_project(new_project)"
   ]
  },
  {
   "cell_type": "markdown",
   "metadata": {},
   "source": [
    "## Create the main pool\n",
    "A pool is a set of paid tasks grouped into task pages. These tasks are sent out for completion at the same time.\n",
    "\n",
    "> Note: All tasks within a pool have the same settings (price, quality control, etc.)\n",
    "\n",
    "Let's set pool parameters:\n",
    "   - Give the pool any name you find suitable. You are the only one who will see it. The description can be either public or private.\n",
    "   - The price per task suite to $0.01. Audio recording tasks are normally paid as basic tasks (e.g. binary classification) because these tasks do not take much time. Read more about [pricing principles](https://toloka.ai/knowledgebase/pricing?utm_source=github&utm_medium=site&utm_campaign=tolokakit) in our Knowledge Base.\n",
    "   - Allows only English-speaking performers do these tasks. And allow performers to complete tasks on their computers or mobile devices.\n",
    "   - Auto accept solutions to False. Since there is no one true answer to a voice recording task that can be used as ground truth, post-acceptance is the preferable way to check if the recordings provided are acceptable. Read more about [quality control principles](https://toloka.ai/knowledgebase/quality-control?utm_source=github&utm_medium=site&utm_campaign=tolokakit) in our Knowledge Base or check out [post-acceptance settings](https://toloka.ai/en/docs/guide/concepts/offline-accept?utm_source=github&utm_medium=site&utm_campaign=tolokakit) in the Requester’s Guide\n",
    "   - Time given to complete a task suite to 120 seconds. To understand how much time it should take to complete a task suite, try doing it yourself.\n",
    "   - Overlap to 1. In the case of voice recording tasks, you only need one correct response. This overlap value is set by default, so we don't need to define it in code."
   ]
  },
  {
   "cell_type": "code",
   "execution_count": null,
   "metadata": {},
   "outputs": [],
   "source": [
    "new_pool = toloka.Pool(\n",
    "    project_id=new_project.id,\n",
    "    private_name='Voice recording',\n",
    "    may_contain_adult_content=False,\n",
    "    will_expire=datetime.datetime.utcnow() + datetime.timedelta(days=365),\n",
    "    reward_per_assignment=0.01,\n",
    "    assignment_max_duration_seconds=60*10,\n",
    "    auto_accept_solutions=False,\n",
    "    auto_accept_period_day=1,\n",
    "    filter=(\n",
    "        (toloka.filter.Languages.in_('EN')) &\n",
    "        (toloka.filter.ClientType == 'TOLOKA_APP')\n",
    "    ),\n",
    ")"
   ]
  },
  {
   "cell_type": "markdown",
   "metadata": {},
   "source": [
    "Let's specify the number of tasks per page. In the case of audio recording tasks several tasks per page are preferable, so that performers will complete tasks faster."
   ]
  },
  {
   "cell_type": "code",
   "execution_count": null,
   "metadata": {},
   "outputs": [],
   "source": [
    "new_pool.set_mixer_config(real_tasks_count=5)"
   ]
  },
  {
   "cell_type": "markdown",
   "metadata": {},
   "source": [
    "Create a pool."
   ]
  },
  {
   "cell_type": "code",
   "execution_count": null,
   "metadata": {},
   "outputs": [],
   "source": [
    "new_pool = toloka_client.create_pool(new_pool)"
   ]
  },
  {
   "cell_type": "markdown",
   "metadata": {},
   "source": [
    "## Add a tasks and run the project\n",
    "\n",
    "We will use texts from [Noisy speech database](https://datashare.ed.ac.uk/handle/10283/2791) that distributed under a Creative Commons Attribution 4.0 International license\n",
    "[![License: CC BY 4.0](https://img.shields.io/badge/License-CC%20BY%204.0-lightgrey.svg)](https://creativecommons.org/licenses/by/4.0/).\n",
    "\n",
    "> **Citation:** Valentini-Botinhao, Cassia. (2017). Noisy speech database for training speech enhancement algorithms and TTS models, 2016 [sound]. University of Edinburgh. School of Informatics. Centre for Speech Technology Research (CSTR). https://doi.org/10.7488/ds/2117."
   ]
  },
  {
   "cell_type": "code",
   "execution_count": null,
   "metadata": {},
   "outputs": [],
   "source": [
    "!curl https://tlk.s3.yandex.net/ext_dataset/noisy_speech/noisy_speech.tsv --output dataset.tsv\n",
    "\n",
    "dataset = pandas.read_csv('dataset.tsv', sep='\\t')\n",
    "\n",
    "print(dataset['text'])"
   ]
  },
  {
   "cell_type": "markdown",
   "metadata": {},
   "source": [
    "Let's create tasks and upload them to our pool. Then starting the pool.\n",
    "\n",
    "> Note: Remember that the tasks will be completed by actual Tolokers. Double check that everything is correct with your project configuration before you start the pool"
   ]
  },
  {
   "cell_type": "code",
   "execution_count": null,
   "metadata": {},
   "outputs": [],
   "source": [
    "tasks = [\n",
    "    toloka.Task(input_values={'text': text}, pool_id=new_pool.id)\n",
    "    for text in dataset['text'].values[:20]\n",
    "]\n",
    "\n",
    "toloka_client.create_tasks(tasks, allow_defaults=True)\n",
    "\n",
    "new_pool = toloka_client.open_pool(new_pool.id)"
   ]
  },
  {
   "cell_type": "markdown",
   "metadata": {},
   "source": [
    "You can open pool in web-interface and preview preformers interface.\n",
    "\n",
    "<table  align=\"center\">\n",
    "  <tr><td>\n",
    "    <img src=\"./img/tasks_preview.png\"\n",
    "         alt=\"Task page preview\"  width=\"1000\">\n",
    "  </td></tr>\n",
    "  <tr><td align=\"center\">\n",
    "    <b>Figure 1.</b> What the task page preview can looks like.\n",
    "  </td></tr>\n",
    "</table>"
   ]
  },
  {
   "cell_type": "markdown",
   "metadata": {},
   "source": [
    "## Receiving responses\n",
    "\n",
    "Wait for performers to complete the tasks, then download the results."
   ]
  },
  {
   "cell_type": "code",
   "execution_count": null,
   "metadata": {},
   "outputs": [],
   "source": [
    "def wait_pool_for_close(pool_id, minutes_to_wait=1):\n",
    "    sleep_time = 60 * minutes_to_wait\n",
    "    pool = toloka_client.get_pool(pool_id)\n",
    "    while not pool.is_closed():\n",
    "        op = toloka_client.get_analytics([toloka.analytics_request.CompletionPercentagePoolAnalytics(subject_id=pool.id)])\n",
    "        op = toloka_client.wait_operation(op)\n",
    "        percentage = op.details['value'][0]['result']['value']\n",
    "        print(\n",
    "            f'   {datetime.datetime.now().strftime(\"%H:%M:%S\")}\\t'\n",
    "            f'Pool {pool.id} - {percentage}%'\n",
    "        )\n",
    "        time.sleep(sleep_time)\n",
    "        pool = toloka_client.get_pool(pool.id)\n",
    "    print('Pool was closed.')\n",
    "\n",
    "wait_pool_for_close(new_pool.id)"
   ]
  },
  {
   "cell_type": "markdown",
   "metadata": {},
   "source": [
    "Since the main quality control method for this kind of task is post-acceptance, you will need to review the tasks after the pool is completed.\n",
    "\n",
    "You can check the quality of responses and reject and reevaluate incorrect assignments. Performers will get paid only after their assignment is accepted.\n",
    "\n",
    "You can open the pool page and click Review Assignments, for manual checking responses from performers.\n",
    "\n",
    "Another way to review tasks is to ask other performers to do that. We recommend this option when you have limited resources for checking tasks yourself. Examples of such checking projects you can find in our [Object detection example](https://github.com/Toloka/toloka-kit/tree/main/examples/1.computer_vision/object_detection) [![Open In Colab](https://colab.research.google.com/assets/colab-badge.svg)](https://colab.research.google.com/github/Toloka/toloka-kit/blob/main/examples/1.computer_vision/object_detection/object_detection.ipynb) or [Questing answering on SQuAD example](https://github.com/Toloka/toloka-kit/tree/main/examples/SQUAD2.0) [![Open In Colab](https://colab.research.google.com/assets/colab-badge.svg)](https://colab.research.google.com/github/Toloka/toloka-kit/blob/main/examples/SQUAD2.0/SQUAD2.0_processing.ipynb)"
   ]
  },
  {
   "cell_type": "markdown",
   "metadata": {},
   "source": [
    "Download the results.\n",
    "\n",
    "> Note: You should download files' ids, not the files themselves. The files will only be needed right before reviewing."
   ]
  },
  {
   "cell_type": "code",
   "execution_count": null,
   "metadata": {
    "tags": []
   },
   "outputs": [],
   "source": [
    "results_list = []\n",
    "\n",
    "for assignment in toloka_client.get_assignments(pool_id=new_pool.id, status='SUBMITTED'):\n",
    "    for task, solution in zip(assignment.tasks, assignment.solutions):\n",
    "        results_list.append({**solution.output_values, **task.input_values})\n",
    "results_iter = iter(results_list)\n",
    "print(len(results_list))"
   ]
  },
  {
   "cell_type": "markdown",
   "metadata": {},
   "source": [
    "Run the cell below multiple times to see different responses."
   ]
  },
  {
   "cell_type": "code",
   "execution_count": null,
   "metadata": {},
   "outputs": [],
   "source": [
    "res = next(results_iter, None)\n",
    "if res is not None:\n",
    "    with open('tmp_audio_file.wav', 'w+b') as out_f:\n",
    "        toloka_client.download_attachment(res['audio_file'], out_f)\n",
    "        print(res['text'])\n",
    "else:\n",
    "    print('No more results')\n",
    "\n",
    "display.Audio('tmp_audio_file.wav', autoplay=True)"
   ]
  },
  {
   "cell_type": "markdown",
   "metadata": {},
   "source": [
    "## Summary\n",
    "\n",
    "This project consists of the minimum number of settings that will allow you to collect audio dataset."
   ]
  }
 ],
 "metadata": {
  "kernelspec": {
   "display_name": "Python 3 (ipykernel)",
   "language": "python",
   "name": "python3"
  },
  "language_info": {
   "codemirror_mode": {
    "name": "ipython",
    "version": 3
   },
   "file_extension": ".py",
   "mimetype": "text/x-python",
   "name": "python",
   "nbconvert_exporter": "python",
   "pygments_lexer": "ipython3",
   "version": "3.9.12"
  }
 },
 "nbformat": 4,
 "nbformat_minor": 4
}
