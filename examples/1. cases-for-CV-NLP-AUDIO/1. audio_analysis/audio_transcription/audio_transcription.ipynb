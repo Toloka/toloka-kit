{
 "cells": [
  {
   "cell_type": "markdown",
   "metadata": {},
   "source": [
    "# Audio transcription\n",
    "We have a set of audio recordings.\n",
    "We need to obtain a transcription of each recording.\n",
    "We ask Tolokers to listen to the recordings and type what they hear."
   ]
  },
  {
   "cell_type": "markdown",
   "metadata": {},
   "source": [
    "### Call to action\n",
    "If you found some bugs or have a new feature idea, don't hesitate to [open a new issue on Github](https://github.com/Toloka/toloka-kit/issues/new/choose).\n",
    "Like our library and examples? Star [our repo on Github](https://github.com/Toloka/toloka-kit)"
   ]
  },
  {
   "cell_type": "markdown",
   "metadata": {},
   "source": [
    "Prepare environment and import all we'll need."
   ]
  },
  {
   "cell_type": "code",
   "execution_count": null,
   "metadata": {},
   "outputs": [],
   "source": [
    "%%capture\n",
    "!pip install toloka-kit==0.1.26\n",
    "!pip install crowd-kit==1.0.0\n",
    "!pip install pandas\n",
    "!pip install numpy\n",
    "!pip install sentence-transformers\n",
    "!pip install nltk\n",
    "\n",
    "import datetime\n",
    "import sys\n",
    "import logging\n",
    "import getpass\n",
    "\n",
    "import pandas\n",
    "import numpy as np\n",
    "from sentence_transformers import SentenceTransformer\n",
    "\n",
    "import toloka.client as toloka\n",
    "import toloka.client.project.template_builder as tb\n",
    "from crowdkit.aggregation import TextHRRASA"
   ]
  },
  {
   "cell_type": "code",
   "execution_count": null,
   "metadata": {},
   "outputs": [],
   "source": [
    "logging.basicConfig(\n",
    "    format='[%(levelname)s] %(name)s: %(message)s',\n",
    "    level=logging.INFO,\n",
    "    stream=sys.stdout,\n",
    ")"
   ]
  },
  {
   "cell_type": "markdown",
   "metadata": {},
   "source": [
    "Сreate toloka-client instance. All api calls will go through it. More about OAuth token in our [Learn the basics example](https://github.com/Toloka/toloka-kit/tree/main/examples/0.getting_started/0.learn_the_basics) [![Open In Colab](https://colab.research.google.com/assets/colab-badge.svg)](https://colab.research.google.com/github/Toloka/toloka-kit/blob/main/examples/0.getting_started/0.learn_the_basics/learn_the_basics.ipynb)"
   ]
  },
  {
   "cell_type": "code",
   "execution_count": null,
   "metadata": {},
   "outputs": [],
   "source": [
    "toloka_client = toloka.TolokaClient(getpass.getpass('Enter your OAuth token: '), 'PRODUCTION') # Or switch to 'SANDBOX'\n",
    "print(toloka_client.get_requester())"
   ]
  },
  {
   "cell_type": "markdown",
   "metadata": {},
   "source": [
    "## Creating new project\n",
    "Enter a clear project name and description."
   ]
  },
  {
   "cell_type": "code",
   "execution_count": 60,
   "metadata": {},
   "outputs": [],
   "source": [
    "project = toloka.Project(\n",
    "    assignments_issuing_type='AUTOMATED',\n",
    "    public_name='Transcribe the recording',\n",
    "    public_description='Type what you hear in the recording',\n",
    ")"
   ]
  },
  {
   "cell_type": "markdown",
   "metadata": {},
   "source": [
    "Create task interface"
   ]
  },
  {
   "cell_type": "code",
   "execution_count": 4,
   "metadata": {},
   "outputs": [],
   "source": [
    "audio_player = tb.AudioViewV1(\n",
    "    tb.InputData('audio'),\n",
    "    validation=tb.PlayedFullyConditionV1(hint='You didn\\'t listen to the recording')\n",
    ")\n",
    "\n",
    "input_text = tb.TextFieldV1(\n",
    "    tb.OutputData('result'),\n",
    "    validation=tb.SchemaConditionV1(\n",
    "        schema={\n",
    "            'type': 'string',\n",
    "            'pattern': r'^[a-zA-Z\\*\\s]+$'\n",
    "        },\n",
    "        hint='Use only lowercase letters and spaces',\n",
    "    )\n",
    ")\n",
    "\n",
    "task_width_plugin = tb.TolokaPluginV1('scroll', task_width=900)\n",
    "\n",
    "play_hotkey = tb.HotkeysPluginV1(key_q=tb.PlayPauseActionV1('view.items.0'))\n",
    "\n",
    "project_interface = toloka.project.TemplateBuilderViewSpec(\n",
    "    view=tb.ListViewV1(items=[audio_player, input_text]),\n",
    "    plugins=[task_width_plugin, play_hotkey],\n",
    ")"
   ]
  },
  {
   "cell_type": "markdown",
   "metadata": {},
   "source": [
    "Set data specification. And set task interface to project."
   ]
  },
  {
   "cell_type": "code",
   "execution_count": 63,
   "metadata": {},
   "outputs": [],
   "source": [
    "input_specification = {'audio': toloka.project.field_spec.UrlSpec()}\n",
    "output_specification = {'result': toloka.project.field_spec.StringSpec()}\n",
    "\n",
    "project.task_spec = toloka.project.task_spec.TaskSpec(\n",
    "    input_spec=input_specification,\n",
    "    output_spec=output_specification,\n",
    "    view_spec=project_interface,\n",
    ")"
   ]
  },
  {
   "cell_type": "markdown",
   "metadata": {},
   "source": [
    "Write short and simple \tinstructions."
   ]
  },
  {
   "cell_type": "code",
   "execution_count": 64,
   "metadata": {},
   "outputs": [],
   "source": [
    "project.public_instructions = \"\"\"<p><font color=\"red\">The training has 7 tasks, the main pool will open upon successful training completion.</font></p>\n",
    "<p>Each page includes several tasks with short audio recordings.</p>\n",
    "<p>Listen to them and type the text that you hear.</p>\n",
    "<p>Use headphones to hear the speech more clearly.</p>\n",
    "<p>Please, listen carefully and try to replay and re-listen to the recording in problem cases. When you finish transcribing, carefully reread the text.</p>\n",
    "<p>Use a dictionary if you are not sure of word spelling correctness.</p>\n",
    "<br>\n",
    "<p><b>Basic rules:</b></p>\n",
    "<ul><li>use only lowercase letters (for example, \"my cat is awesome\" instead of \"My cat is awesome\")</li>\n",
    "<li>do not use punctuation, special symbols, apostrophes and quotas (for example, \"thats not my problem\" instead of \"That's not my problem!\")</li>\n",
    "<li>specify numbers and signs in words (for example, \"i paid twenty dollars\" instead of \"I paid 20$\")</li></ul>\"\"\""
   ]
  },
  {
   "cell_type": "markdown",
   "metadata": {},
   "source": [
    "Create a project."
   ]
  },
  {
   "cell_type": "code",
   "execution_count": 65,
   "metadata": {},
   "outputs": [],
   "source": [
    "project = toloka_client.create_project(project)"
   ]
  },
  {
   "cell_type": "markdown",
   "metadata": {},
   "source": [
    "## Review the dataset\n",
    "We will use Noisy speech database. This dataset is distributed under a Creative Commons Attribution 4.0 International license. [![License: CC BY 4.0](https://img.shields.io/badge/License-CC%20BY%204.0-lightgrey.svg)](https://creativecommons.org/licenses/by/4.0/)\n",
    "\n",
    "A description of the database here: [https://datashare.ed.ac.uk/handle/10283/2791](https://datashare.ed.ac.uk/handle/10283/2791)\n",
    "\n",
    ">Valentini-Botinhao, Cassia. (2017). Noisy speech database for training speech enhancement algorithms and TTS models, 2016 [sound]. University of Edinburgh. School of Informatics. Centre for Speech Technology Research (CSTR). https://doi.org/10.7488/ds/2117."
   ]
  },
  {
   "cell_type": "code",
   "execution_count": 2,
   "metadata": {},
   "outputs": [
    {
     "name": "stdout",
     "output_type": "stream",
     "text": [
      "  % Total    % Received % Xferd  Average Speed   Time    Time     Time  Current\n",
      "                                 Dload  Upload   Total   Spent    Left  Speed\n",
      "100   98k  100   98k    0     0   620k      0 --:--:-- --:--:-- --:--:--  620k\n"
     ]
    },
    {
     "data": {
      "text/html": [
       "<div>\n",
       "<style scoped>\n",
       "    .dataframe tbody tr th:only-of-type {\n",
       "        vertical-align: middle;\n",
       "    }\n",
       "\n",
       "    .dataframe tbody tr th {\n",
       "        vertical-align: top;\n",
       "    }\n",
       "\n",
       "    .dataframe thead th {\n",
       "        text-align: right;\n",
       "    }\n",
       "</style>\n",
       "<table border=\"1\" class=\"dataframe\">\n",
       "  <thead>\n",
       "    <tr style=\"text-align: right;\">\n",
       "      <th></th>\n",
       "      <th>file_url</th>\n",
       "      <th>text</th>\n",
       "    </tr>\n",
       "  </thead>\n",
       "  <tbody>\n",
       "    <tr>\n",
       "      <th>0</th>\n",
       "      <td>https://tlk.s3.yandex.net/ext_dataset/noisy_speech/noisy_tested_wav/p257_354.wav</td>\n",
       "      <td>It's a long process.</td>\n",
       "    </tr>\n",
       "    <tr>\n",
       "      <th>1</th>\n",
       "      <td>https://tlk.s3.yandex.net/ext_dataset/noisy_speech/noisy_tested_wav/p232_009.wav</td>\n",
       "      <td>There is , according to legend, a boiling pot of gold at one end.</td>\n",
       "    </tr>\n",
       "    <tr>\n",
       "      <th>2</th>\n",
       "      <td>https://tlk.s3.yandex.net/ext_dataset/noisy_speech/noisy_tested_wav/p232_142.wav</td>\n",
       "      <td>I do not want to have a fight with Mr Hastings.</td>\n",
       "    </tr>\n",
       "    <tr>\n",
       "      <th>3</th>\n",
       "      <td>https://tlk.s3.yandex.net/ext_dataset/noisy_speech/noisy_tested_wav/p232_321.wav</td>\n",
       "      <td>Davis is very supportive, as a director.</td>\n",
       "    </tr>\n",
       "    <tr>\n",
       "      <th>4</th>\n",
       "      <td>https://tlk.s3.yandex.net/ext_dataset/noisy_speech/noisy_tested_wav/p232_324.wav</td>\n",
       "      <td>We think all other measures are not exhausted.</td>\n",
       "    </tr>\n",
       "    <tr>\n",
       "      <th>...</th>\n",
       "      <td>...</td>\n",
       "      <td>...</td>\n",
       "    </tr>\n",
       "    <tr>\n",
       "      <th>819</th>\n",
       "      <td>https://tlk.s3.yandex.net/ext_dataset/noisy_speech/noisy_tested_wav/p257_403.wav</td>\n",
       "      <td>It doesn't always work that way.</td>\n",
       "    </tr>\n",
       "    <tr>\n",
       "      <th>820</th>\n",
       "      <td>https://tlk.s3.yandex.net/ext_dataset/noisy_speech/noisy_tested_wav/p232_125.wav</td>\n",
       "      <td>I'm so angry.</td>\n",
       "    </tr>\n",
       "    <tr>\n",
       "      <th>821</th>\n",
       "      <td>https://tlk.s3.yandex.net/ext_dataset/noisy_speech/noisy_tested_wav/p232_194.wav</td>\n",
       "      <td>But a final decision will not be taken until after the elections.</td>\n",
       "    </tr>\n",
       "    <tr>\n",
       "      <th>822</th>\n",
       "      <td>https://tlk.s3.yandex.net/ext_dataset/noisy_speech/noisy_tested_wav/p232_356.wav</td>\n",
       "      <td>That's the principal difference between an artist and a dog.</td>\n",
       "    </tr>\n",
       "    <tr>\n",
       "      <th>823</th>\n",
       "      <td>https://tlk.s3.yandex.net/ext_dataset/noisy_speech/noisy_tested_wav/p257_421.wav</td>\n",
       "      <td>It is marvellous.</td>\n",
       "    </tr>\n",
       "  </tbody>\n",
       "</table>\n",
       "<p>824 rows × 2 columns</p>\n",
       "</div>"
      ],
      "text/plain": [
       "                                                                             file_url  \\\n",
       "0    https://tlk.s3.yandex.net/ext_dataset/noisy_speech/noisy_tested_wav/p257_354.wav   \n",
       "1    https://tlk.s3.yandex.net/ext_dataset/noisy_speech/noisy_tested_wav/p232_009.wav   \n",
       "2    https://tlk.s3.yandex.net/ext_dataset/noisy_speech/noisy_tested_wav/p232_142.wav   \n",
       "3    https://tlk.s3.yandex.net/ext_dataset/noisy_speech/noisy_tested_wav/p232_321.wav   \n",
       "4    https://tlk.s3.yandex.net/ext_dataset/noisy_speech/noisy_tested_wav/p232_324.wav   \n",
       "..                                                                                ...   \n",
       "819  https://tlk.s3.yandex.net/ext_dataset/noisy_speech/noisy_tested_wav/p257_403.wav   \n",
       "820  https://tlk.s3.yandex.net/ext_dataset/noisy_speech/noisy_tested_wav/p232_125.wav   \n",
       "821  https://tlk.s3.yandex.net/ext_dataset/noisy_speech/noisy_tested_wav/p232_194.wav   \n",
       "822  https://tlk.s3.yandex.net/ext_dataset/noisy_speech/noisy_tested_wav/p232_356.wav   \n",
       "823  https://tlk.s3.yandex.net/ext_dataset/noisy_speech/noisy_tested_wav/p257_421.wav   \n",
       "\n",
       "                                                                   text  \n",
       "0                                                  It's a long process.  \n",
       "1    There is , according to legend, a boiling pot of gold at one end.   \n",
       "2                       I do not want to have a fight with Mr Hastings.  \n",
       "3                              Davis is very supportive, as a director.  \n",
       "4                        We think all other measures are not exhausted.  \n",
       "..                                                                  ...  \n",
       "819                                    It doesn't always work that way.  \n",
       "820                                                       I'm so angry.  \n",
       "821   But a final decision will not be taken until after the elections.  \n",
       "822        That's the principal difference between an artist and a dog.  \n",
       "823                                                   It is marvellous.  \n",
       "\n",
       "[824 rows x 2 columns]"
      ]
     },
     "metadata": {},
     "output_type": "display_data"
    }
   ],
   "source": [
    "!curl https://tlk.s3.yandex.net/ext_dataset/noisy_speech/noisy_speech.tsv --output dataset.tsv\n",
    "\n",
    "dataset = pandas.read_csv('dataset.tsv', sep='\\t')\n",
    "dataset = dataset.sample(frac=1).reset_index(drop=True)\n",
    "\n",
    "with pandas.option_context(\"max_colwidth\", 100):\n",
    "    display(dataset)"
   ]
  },
  {
   "cell_type": "markdown",
   "metadata": {},
   "source": [
    "According to our instruction, text must be in lowercase and don't contain punctuations."
   ]
  },
  {
   "cell_type": "code",
   "execution_count": 10,
   "metadata": {},
   "outputs": [],
   "source": [
    "dataset['text'] = dataset['text'].str.lower().replace('[.,\\\\-\\'\"!?]', '', regex=True)"
   ]
  },
  {
   "cell_type": "markdown",
   "metadata": {},
   "source": [
    "Divide the dataset. One for control tasks and one for real tasks."
   ]
  },
  {
   "cell_type": "code",
   "execution_count": 25,
   "metadata": {},
   "outputs": [],
   "source": [
    "real_tasks_number = 50\n",
    "dataset = dataset.sample(frac=1).reset_index(drop=True)\n",
    "golden_dataset, task_dataset, _ = np.split(dataset, [10, 10 + real_tasks_number], axis=0)"
   ]
  },
  {
   "cell_type": "markdown",
   "metadata": {},
   "source": [
    "## Create the main pool\n",
    "Specify the [pool parameters.](https://toloka.ai/en/docs/guide/concepts/pool_poolparams?utm_source=github&utm_medium=site&utm_campaign=tolokakit)"
   ]
  },
  {
   "cell_type": "code",
   "execution_count": 82,
   "metadata": {},
   "outputs": [],
   "source": [
    "pool = toloka.Pool(\n",
    "    project_id=project.id,\n",
    "    # Give the pool any name you find suitable. You are the only one who will see it.\n",
    "    private_name='Transcribe the recording',\n",
    "    may_contain_adult_content=True,\n",
    "    # Set the price per task suite.\n",
    "    reward_per_assignment=0.03,\n",
    "    # We'll check answers later in this notebook\n",
    "    auto_accept_solutions=False,\n",
    "    auto_accept_period_day=1,\n",
    "    will_expire=datetime.datetime.utcnow() + datetime.timedelta(days=365),\n",
    "    # Overlap. This is the number of users who will complete the same task.\n",
    "    # We will aggregate the results after the pools are completed.\n",
    "    defaults=toloka.Pool.Defaults(default_overlap_for_new_task_suites=3),\n",
    "    # Time allowed for completing a task page\n",
    "    assignment_max_duration_seconds=900,\n",
    "    # Select English-speaking Tolokers\n",
    "    filter = toloka.filter.Languages.in_('EN'),\n",
    ")"
   ]
  },
  {
   "cell_type": "markdown",
   "metadata": {},
   "source": [
    "Set up [Quality control](https://toloka.ai/en/docs/guide/concepts/control?utm_source=github&utm_medium=site&utm_campaign=tolokakit).\n",
    "\n",
    "Set up the Fast responses quality control rule. And reopen pool after increasing overlap."
   ]
  },
  {
   "cell_type": "code",
   "execution_count": 83,
   "metadata": {},
   "outputs": [],
   "source": [
    "pool.quality_control.add_action(\n",
    "    collector=toloka.collectors.AssignmentSubmitTime(history_size=5, fast_submit_threshold_seconds=40),\n",
    "    conditions=[toloka.conditions.FastSubmittedCount >= 1],\n",
    "    action=toloka.actions.RestrictionV2(\n",
    "        scope=toloka.user_restriction.UserRestriction.PROJECT,\n",
    "        duration=5,\n",
    "        duration_unit=toloka.user_restriction.DurationUnit.DAYS,\n",
    "        private_comment='fast responses'\n",
    "    )\n",
    ")\n",
    "pool.quality_control.add_action(\n",
    "    collector=toloka.collectors.AssignmentsAssessment(),\n",
    "    conditions=[toloka.conditions.AssessmentEvent == 'REJECT'],\n",
    "    action=toloka.actions.ChangeOverlap(delta=1, open_pool=True),\n",
    ")"
   ]
  },
  {
   "cell_type": "markdown",
   "metadata": {},
   "source": [
    "Specify\tthe number of tasks per page. For example: 3 main tasks and 3 control task."
   ]
  },
  {
   "cell_type": "code",
   "execution_count": 84,
   "metadata": {},
   "outputs": [],
   "source": [
    "pool.set_mixer_config(\n",
    "    real_tasks_count=4,\n",
    "    golden_tasks_count=1,\n",
    ")"
   ]
  },
  {
   "cell_type": "markdown",
   "metadata": {},
   "source": [
    "Create pool"
   ]
  },
  {
   "cell_type": "code",
   "execution_count": 85,
   "metadata": {},
   "outputs": [],
   "source": [
    "pool = toloka_client.create_pool(pool)"
   ]
  },
  {
   "cell_type": "markdown",
   "metadata": {},
   "source": [
    "## Preparing and uploading tasks\n",
    "Create control tasks. In small pools, control tasks should account for 10–20% of all tasks."
   ]
  },
  {
   "cell_type": "code",
   "execution_count": 86,
   "metadata": {},
   "outputs": [],
   "source": [
    "golden_tasks = [\n",
    "    toloka.task.Task(\n",
    "        pool_id=pool.id,\n",
    "        input_values={'audio': row.file_url},\n",
    "        known_solutions = [\n",
    "            toloka.task.BaseTask.KnownSolution(\n",
    "                output_values={'result': row.text}\n",
    "            )\n",
    "        ],\n",
    "        infinite_overlap=True,\n",
    "    )\n",
    "    for row in golden_dataset.itertuples()\n",
    "]"
   ]
  },
  {
   "cell_type": "markdown",
   "metadata": {},
   "source": [
    "Create pool tasks"
   ]
  },
  {
   "cell_type": "code",
   "execution_count": 87,
   "metadata": {},
   "outputs": [],
   "source": [
    "tasks = [\n",
    "    toloka.task.Task(\n",
    "        pool_id=pool.id,\n",
    "        input_values={'audio': url},\n",
    "    )\n",
    "    for url in task_dataset['file_url']\n",
    "]"
   ]
  },
  {
   "cell_type": "markdown",
   "metadata": {},
   "source": [
    "Upload tasks"
   ]
  },
  {
   "cell_type": "code",
   "execution_count": 88,
   "metadata": {},
   "outputs": [
    {
     "name": "stdout",
     "output_type": "stream",
     "text": [
      "60\n"
     ]
    }
   ],
   "source": [
    "created_tasks = toloka_client.create_tasks(golden_tasks + tasks, allow_defaults=True)\n",
    "print(len(created_tasks.items))"
   ]
  },
  {
   "cell_type": "markdown",
   "metadata": {},
   "source": [
    "If you visit the pool right now and click `preview`, you can see this task interface:\n",
    "\n",
    "<table  align=\"center\">\n",
    "  <tr><td>\n",
    "    <img src=\"./img/task_interface.png\"\n",
    "         alt=\"Possible task interface\"  width=\"1000\">\n",
    "  </td></tr>\n",
    "  <tr><td align=\"center\">\n",
    "    <b>Figure 1.</b> Task interface.\n",
    "  </td></tr>\n",
    "</table>"
   ]
  },
  {
   "cell_type": "markdown",
   "metadata": {},
   "source": [
    "## Receiving responses\n",
    "Since it's a very complicated challenge to understand if the Tolokers answers honestly or just write some random text, we will use [Levenshtein distance](https://en.wikipedia.org/wiki/Levenshtein_distance) to understand this and ```toloka-kit.streaming``` for fast answers checking."
   ]
  },
  {
   "cell_type": "code",
   "execution_count": null,
   "metadata": {},
   "outputs": [],
   "source": [
    "!pip install python-Levenshtein\n",
    "import Levenshtein\n",
    "\n",
    "from toloka.streaming import Pipeline, AssignmentsObserver"
   ]
  },
  {
   "cell_type": "markdown",
   "metadata": {},
   "source": [
    "Small example of using Levenshtein distance"
   ]
  },
  {
   "cell_type": "code",
   "execution_count": 42,
   "metadata": {},
   "outputs": [
    {
     "name": "stdout",
     "output_type": "stream",
     "text": [
      "33\n",
      "4\n"
     ]
    }
   ],
   "source": [
    "print(Levenshtein.distance(\n",
    "    \"yes it was a man who asked a stranger\",\n",
    "    \"sjkkshjk\")\n",
    ")\n",
    "print(Levenshtein.distance(\n",
    "    \"for a full minute he crouched and listened\",\n",
    "    \"for full minute she cruched and listened\")\n",
    ")"
   ]
  },
  {
   "cell_type": "markdown",
   "metadata": {},
   "source": [
    "Prepare function for accepting and rejecting answers. It's useful only for task suites with exactly one control task."
   ]
  },
  {
   "cell_type": "code",
   "execution_count": 90,
   "metadata": {},
   "outputs": [],
   "source": [
    "def same_string(ground_truth, candidate, distance=5):\n",
    "    res = Levenshtein.distance(ground_truth.lower(), candidate.lower())\n",
    "    # return accept, ban\n",
    "    return res <= distance, res >= 10\n",
    "\n",
    "def handle_submitted(events):\n",
    "    for event in events:\n",
    "        accept = False\n",
    "        ban = True\n",
    "        for task, solution in zip(event.assignment.tasks, event.assignment.solutions):\n",
    "            if not task.known_solutions:\n",
    "                continue\n",
    "            answer = solution.output_values['result']\n",
    "            ground_truth = task.known_solutions[0].output_values['result']\n",
    "            accept, ban = same_string(ground_truth, answer)\n",
    "            print(f'\\n{ground_truth}\\n{answer}\\naccept - {accept}, ban - {ban}')\n",
    "\n",
    "        if ban:\n",
    "            toloka_client.set_user_restriction(\n",
    "                toloka.user_restriction.PoolUserRestriction(\n",
    "                    user_id=event.assignment.user_id,\n",
    "                    private_comment='Toloker often makes mistakes',\n",
    "                    pool_id=event.assignment.pool_id,\n",
    "                )\n",
    "            )\n",
    "        if accept:\n",
    "            toloka_client.accept_assignment(event.assignment.id, 'Well done!')\n",
    "        else:\n",
    "            toloka_client.reject_assignment(event.assignment.id, 'Wrong answer on control task')"
   ]
  },
  {
   "cell_type": "markdown",
   "metadata": {},
   "source": [
    "Build pipeline and start pool."
   ]
  },
  {
   "cell_type": "code",
   "execution_count": null,
   "metadata": {},
   "outputs": [],
   "source": [
    "observer = AssignmentsObserver(toloka_client, pool_id=pool.id)\n",
    "observer.on_submitted(handle_submitted)\n",
    "\n",
    "pipeline = Pipeline()\n",
    "pipeline.register(observer)\n",
    "\n",
    "pool = toloka_client.open_pool(pool.id)\n",
    "print(f'pool - {pool.status}')"
   ]
  },
  {
   "cell_type": "markdown",
   "metadata": {},
   "source": [
    "After some time start pipeline"
   ]
  },
  {
   "cell_type": "code",
   "execution_count": null,
   "metadata": {},
   "outputs": [],
   "source": [
    "# Google Colab is using a global event pool,\n",
    "# so in order to run our pipeline we have to apply nest_asyncio to create an inner pool\n",
    "if 'google.colab' in str(get_ipython()):\n",
    "    import nest_asyncio, asyncio\n",
    "    nest_asyncio.apply()\n",
    "    asyncio.get_event_loop().run_until_complete(pipeline.run())\n",
    "else:\n",
    "    await pipeline.run()"
   ]
  },
  {
   "cell_type": "markdown",
   "metadata": {},
   "source": [
    "Get responses\n",
    "\n",
    "When all the tasks are completed, look at the responses from Tolokers."
   ]
  },
  {
   "cell_type": "code",
   "execution_count": null,
   "metadata": {},
   "outputs": [],
   "source": [
    "answers_df = toloka_client.get_assignments_df(pool.id)\n",
    "\n",
    "gold_df = answers_df[~answers_df['GOLDEN:result'].isna()]\n",
    "answers_df.drop(gold_df.index, inplace=True)\n",
    "\n",
    "answers_df = answers_df.rename(columns={\n",
    "    'INPUT:audio': 'task',\n",
    "    'OUTPUT:result': 'output',\n",
    "    'ASSIGNMENT:worker_id': 'worker'\n",
    "})\n",
    "\n",
    "answers_df = answers_df[['task', 'output', 'worker']]\n",
    "answers_df['output'] = answers_df['output'].str.lower().replace('[.,\\\\-\\'\"!?]', '', regex=True)\n",
    "\n",
    "with pandas.option_context(\"max_colwidth\", 100):\n",
    "    display(answers_df)"
   ]
  },
  {
   "cell_type": "markdown",
   "metadata": {},
   "source": [
    "Aggregation results using the [TextHRRASA](https://dl.acm.org/doi/10.1145/3397271.3401239) model from [Crowd-Kit](https://github.com/Toloka/crowd-kit#crowd-kit)"
   ]
  },
  {
   "cell_type": "code",
   "execution_count": null,
   "metadata": {},
   "outputs": [],
   "source": [
    "# Run aggregation\n",
    "encoder = SentenceTransformer('paraphrase-distilroberta-base-v1')\n",
    "hrrasa = TextHRRASA(lambda *args, **kwargs: encoder.encode(*args, show_progress_bar=False, **kwargs))\n",
    "result_df = hrrasa.fit_predict(answers_df).reset_index(name='result')"
   ]
  },
  {
   "cell_type": "markdown",
   "metadata": {},
   "source": [
    "Look at the results."
   ]
  },
  {
   "cell_type": "code",
   "execution_count": 96,
   "metadata": {},
   "outputs": [
    {
     "name": "stdout",
     "output_type": "stream",
     "text": [
      "https://tlk.s3.yandex.net/ext_dataset/noisy_speech/noisy_tested_wav/p232_024.wav\n",
      "this is a very common type of bow one showing mainly red and yellow with little or no green or blue\n",
      "this is a very common type of bow one showing mainly red and yellow with little or no green or blue\n",
      "\n",
      "\n",
      "https://tlk.s3.yandex.net/ext_dataset/noisy_speech/noisy_tested_wav/p232_035.wav\n",
      "other members of the family were too upset to comment last night\n",
      "Other members of the family were too upset to comment last night\n",
      "\n",
      "\n",
      "https://tlk.s3.yandex.net/ext_dataset/noisy_speech/noisy_tested_wav/p232_056.wav\n",
      "because we do not need it\n",
      "because we do not need it\n",
      "\n",
      "\n",
      "https://tlk.s3.yandex.net/ext_dataset/noisy_speech/noisy_tested_wav/p232_072.wav\n",
      "that was the easy election\n",
      "that was the easy election\n",
      "\n",
      "\n",
      "https://tlk.s3.yandex.net/ext_dataset/noisy_speech/noisy_tested_wav/p232_090.wav\n",
      "downing street will make the second appointment in the scotland office today\n",
      "downing street will make the second appointment in the scotland office today\n",
      "\n",
      "\n",
      "https://tlk.s3.yandex.net/ext_dataset/noisy_speech/noisy_tested_wav/p232_106.wav\n",
      "it was really enjoyable on saturday\n",
      "It was really enjoyable on saturday\n",
      "\n",
      "\n",
      "https://tlk.s3.yandex.net/ext_dataset/noisy_speech/noisy_tested_wav/p232_110.wav\n",
      "i dont have many friends\n",
      "I dont have many friends\n",
      "\n",
      "\n",
      "https://tlk.s3.yandex.net/ext_dataset/noisy_speech/noisy_tested_wav/p232_134.wav\n",
      "youve got to be vigilant\n",
      "you got to be vigilant\n",
      "\n",
      "\n",
      "https://tlk.s3.yandex.net/ext_dataset/noisy_speech/noisy_tested_wav/p232_143.wav\n",
      "they did very well\n",
      "they did very well\n",
      "\n",
      "\n",
      "https://tlk.s3.yandex.net/ext_dataset/noisy_speech/noisy_tested_wav/p232_145.wav\n",
      "we want to see the maximum of change\n",
      "we want to see the maximum change\n",
      "\n",
      "\n",
      "https://tlk.s3.yandex.net/ext_dataset/noisy_speech/noisy_tested_wav/p232_167.wav\n",
      "waiting times for these services are too long\n",
      "waiting time for these services are too long\n",
      "\n",
      "\n",
      "https://tlk.s3.yandex.net/ext_dataset/noisy_speech/noisy_tested_wav/p232_206.wav\n",
      "were not seeing an image of the person he said\n",
      "were not seeing an image of the person he said\n",
      "\n",
      "\n",
      "https://tlk.s3.yandex.net/ext_dataset/noisy_speech/noisy_tested_wav/p232_209.wav\n",
      "there was an email\n",
      "there was an email\n",
      "\n",
      "\n",
      "https://tlk.s3.yandex.net/ext_dataset/noisy_speech/noisy_tested_wav/p232_211.wav\n",
      "feel the heat \n",
      "You have a heat\n",
      "\n",
      "\n",
      "https://tlk.s3.yandex.net/ext_dataset/noisy_speech/noisy_tested_wav/p232_225.wav\n",
      "weve got the bronze\n",
      "we got the bronze\n",
      "\n",
      "\n",
      "https://tlk.s3.yandex.net/ext_dataset/noisy_speech/noisy_tested_wav/p232_268.wav\n",
      "of course that is not the whole story\n",
      "ofcourse that is not the whole story\n",
      "\n",
      "\n",
      "https://tlk.s3.yandex.net/ext_dataset/noisy_speech/noisy_tested_wav/p232_270.wav\n",
      "perhaps its because i havent finished the first two races\n",
      "perhaps its because i havent finished the first two races\n",
      "\n",
      "\n",
      "https://tlk.s3.yandex.net/ext_dataset/noisy_speech/noisy_tested_wav/p232_310.wav\n",
      "he was solid\n",
      "he was solid\n",
      "\n",
      "\n",
      "https://tlk.s3.yandex.net/ext_dataset/noisy_speech/noisy_tested_wav/p232_311.wav\n",
      "special measures were needed\n",
      "special measures were needed\n",
      "\n",
      "\n",
      "https://tlk.s3.yandex.net/ext_dataset/noisy_speech/noisy_tested_wav/p232_337.wav\n",
      "his legal adviser was also not in court yesterday\n",
      "his legal advisor was also got in call yesterday\n",
      "\n",
      "\n",
      "https://tlk.s3.yandex.net/ext_dataset/noisy_speech/noisy_tested_wav/p232_350.wav\n",
      "chambers said he would accept the place\n",
      "chamber said he would accept the place\n",
      "\n",
      "\n",
      "https://tlk.s3.yandex.net/ext_dataset/noisy_speech/noisy_tested_wav/p232_367.wav\n",
      "he has seen the past\n",
      "He has seen the past\n",
      "\n",
      "\n",
      "https://tlk.s3.yandex.net/ext_dataset/noisy_speech/noisy_tested_wav/p232_368.wav\n",
      "it was one in the afternoon\n",
      "it was one in the afternoon\n",
      "\n",
      "\n",
      "https://tlk.s3.yandex.net/ext_dataset/noisy_speech/noisy_tested_wav/p232_379.wav\n",
      "they have not done so this season so far\n",
      "They have not done so this season so far\n",
      "\n",
      "\n",
      "https://tlk.s3.yandex.net/ext_dataset/noisy_speech/noisy_tested_wav/p232_385.wav\n",
      "i tried to be cautious but its hard in that role\n",
      "i tried to be cautious if it is hard in that role\n",
      "\n",
      "\n",
      "https://tlk.s3.yandex.net/ext_dataset/noisy_speech/noisy_tested_wav/p232_386.wav\n",
      "that left a bad taste in my mouth\n",
      "that left a bad taste in my mouth\n",
      "\n",
      "\n",
      "https://tlk.s3.yandex.net/ext_dataset/noisy_speech/noisy_tested_wav/p257_074.wav\n",
      "it was chaotic\n",
      "it was chaotic\n",
      "\n",
      "\n",
      "https://tlk.s3.yandex.net/ext_dataset/noisy_speech/noisy_tested_wav/p257_095.wav\n",
      "two other men including the taxi driver were wounded in the attack\n",
      "two other men including the taxi driver will new attack\n",
      "\n",
      "\n",
      "https://tlk.s3.yandex.net/ext_dataset/noisy_speech/noisy_tested_wav/p257_096.wav\n",
      "the peace process will be buried\n",
      "the peace process will be buried\n",
      "\n",
      "\n",
      "https://tlk.s3.yandex.net/ext_dataset/noisy_speech/noisy_tested_wav/p257_099.wav\n",
      "they were under a lot of pressure from the other clubs\n",
      "they were under a lot of pressure from the other clubs\n",
      "\n",
      "\n",
      "https://tlk.s3.yandex.net/ext_dataset/noisy_speech/noisy_tested_wav/p257_122.wav\n",
      "he did his job\n",
      "he did his job\n",
      "\n",
      "\n",
      "https://tlk.s3.yandex.net/ext_dataset/noisy_speech/noisy_tested_wav/p257_180.wav\n",
      "it is minute\n",
      "it is minute\n",
      "\n",
      "\n",
      "https://tlk.s3.yandex.net/ext_dataset/noisy_speech/noisy_tested_wav/p257_181.wav\n",
      "they need to look after themselves\n",
      "they need to look after themselves\n",
      "\n",
      "\n",
      "https://tlk.s3.yandex.net/ext_dataset/noisy_speech/noisy_tested_wav/p257_192.wav\n",
      "off i went\n",
      "off I went\n",
      "\n",
      "\n",
      "https://tlk.s3.yandex.net/ext_dataset/noisy_speech/noisy_tested_wav/p257_198.wav\n",
      "we see the rapid reaction force as the way ahead\n",
      "*see the rapid reaction force of the wirehead\n",
      "\n",
      "\n",
      "https://tlk.s3.yandex.net/ext_dataset/noisy_speech/noisy_tested_wav/p257_217.wav\n",
      "naturally enough the letter in question was an e\n",
      "not she enough the letter in question was inane\n",
      "\n",
      "\n",
      "https://tlk.s3.yandex.net/ext_dataset/noisy_speech/noisy_tested_wav/p257_218.wav\n",
      "william hague delighted his party\n",
      "willing hate to life is a party\n",
      "\n",
      "\n",
      "https://tlk.s3.yandex.net/ext_dataset/noisy_speech/noisy_tested_wav/p257_227.wav\n",
      "they had no children\n",
      "they have no children\n",
      "\n",
      "\n",
      "https://tlk.s3.yandex.net/ext_dataset/noisy_speech/noisy_tested_wav/p257_239.wav\n",
      "you can feel at home in china\n",
      "you can feel at home in china\n",
      "\n",
      "\n",
      "https://tlk.s3.yandex.net/ext_dataset/noisy_speech/noisy_tested_wav/p257_249.wav\n",
      "i watched a game\n",
      "I watch the game\n",
      "\n",
      "\n",
      "https://tlk.s3.yandex.net/ext_dataset/noisy_speech/noisy_tested_wav/p257_271.wav\n",
      "for the moment that is the result of the xray\n",
      "**for the moment i thought it was result of x ray\n",
      "\n",
      "\n",
      "https://tlk.s3.yandex.net/ext_dataset/noisy_speech/noisy_tested_wav/p257_274.wav\n",
      "who did the recruiting\n",
      "who did the recruiting\n",
      "\n",
      "\n",
      "https://tlk.s3.yandex.net/ext_dataset/noisy_speech/noisy_tested_wav/p257_302.wav\n",
      "in fact they have the opposite effect\n",
      "in fact they have the opposite effects\n",
      "\n",
      "\n",
      "https://tlk.s3.yandex.net/ext_dataset/noisy_speech/noisy_tested_wav/p257_369.wav\n",
      "there is a solution she believes\n",
      "there is a solution she believes\n",
      "\n",
      "\n",
      "https://tlk.s3.yandex.net/ext_dataset/noisy_speech/noisy_tested_wav/p257_376.wav\n",
      "i can lead by example\n",
      "i could lead by example\n",
      "\n",
      "\n",
      "https://tlk.s3.yandex.net/ext_dataset/noisy_speech/noisy_tested_wav/p257_386.wav\n",
      "hes already made history\n",
      "hes already made history\n",
      "\n",
      "\n",
      "https://tlk.s3.yandex.net/ext_dataset/noisy_speech/noisy_tested_wav/p257_401.wav\n",
      "she is superb\n",
      "she is superb\n",
      "\n",
      "\n",
      "https://tlk.s3.yandex.net/ext_dataset/noisy_speech/noisy_tested_wav/p257_406.wav\n",
      "but they are still unlikely to be involved in combat\n",
      "but they are still unlikely to be involved in combat\n",
      "\n",
      "\n",
      "https://tlk.s3.yandex.net/ext_dataset/noisy_speech/noisy_tested_wav/p257_412.wav\n",
      "i recommend a tour\n",
      "i recommend it all\n",
      "\n",
      "\n",
      "https://tlk.s3.yandex.net/ext_dataset/noisy_speech/noisy_tested_wav/p257_427.wav\n",
      "i was just overwhelmed\n",
      "I was just overwhelmed\n",
      "\n",
      "\n"
     ]
    }
   ],
   "source": [
    "joined_df = result_df.merge(dataset, left_on='task', right_on='file_url', how='left')\n",
    "for row in joined_df.itertuples():\n",
    "    print(f\"{row.task}\\n{row.text}\\n{row.result}\\n\\n\")"
   ]
  }
 ],
 "metadata": {
  "kernelspec": {
   "display_name": "Python 3 (ipykernel)",
   "language": "python",
   "name": "python3"
  },
  "language_info": {
   "codemirror_mode": {
    "name": "ipython",
    "version": 3
   },
   "file_extension": ".py",
   "mimetype": "text/x-python",
   "name": "python",
   "nbconvert_exporter": "python",
   "pygments_lexer": "ipython3",
   "version": "3.9.12"
  }
 },
 "nbformat": 4,
 "nbformat_minor": 4
}
