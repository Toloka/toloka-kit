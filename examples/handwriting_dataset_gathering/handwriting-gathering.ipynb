{
 "cells": [
  {
   "cell_type": "markdown",
   "metadata": {},
   "source": [
    "# Handwriting image dataset collection\n",
    "\n",
    "The goal for this project is to collect images of handwritten text for a dataset that could be used to train and evaluate HTR models.\n",
    "\n",
    "Furthermore, you can later enhance this dataset with extra bounding boxes for separate lines or words, using [this notebook](https://github.com/Toloka/toloka-kit/blob/main/examples/image_segmentation/image_segmentation.ipynb) as an example."
   ]
  },
  {
   "cell_type": "markdown",
   "metadata": {},
   "source": [
    "## Pipeline decomposition\n",
    "\n",
    "As we are dealing with image gathering, we should also implement validation of collected pictures to make sure each photo is correct. Scheme of pipeline is shown in Figure 1.\n",
    "\n",
    "<table  align=\"center\">\n",
    "  <tr><td>\n",
    "    <img src=\"./img/pipeline.png\"\n",
    "         alt=\"Pipeline\"  width=\"800\">\n",
    "  </td></tr>\n",
    "  <tr><td align=\"center\">\n",
    "    <b>Figure 1.</b> Pipeline scheme\n",
    "  </td></tr>\n",
    "</table>\n",
    "\n",
    "### Text corpus gathering\n",
    "In this tutorial extraction and filtering of texts from Wikipedia articles for an arbitrary language. This process, however, is quite time- and disk space-demanding, so sample sentences are provided for French language.\n",
    "\n",
    "### Project #1 - image gathering\n",
    "\n",
    "Performers will be asked to write suggested phrase on a piece of paper and take a photo of it. \n",
    "\n",
    "In this tutorial project structure is simplified and training for it is not implemented, however, in real production pipeline you strongly advice to add it to decrease cost of validation for obviously improper images. \n",
    "\n",
    "\n",
    "### Project #2 - image validation\n",
    "\n",
    "Performers will be asked to rate the quality of image with (supposed) handwritten text.\n",
    "\n",
    "In this tutorial we include samples for the trainig for French."
   ]
  },
  {
   "cell_type": "code",
   "execution_count": null,
   "metadata": {
    "scrolled": true
   },
   "outputs": [],
   "source": [
    "# install all the necessary packages \n",
    "!pip install -r requirements.txt"
   ]
  },
  {
   "cell_type": "code",
   "execution_count": null,
   "metadata": {},
   "outputs": [],
   "source": [
    "import os\n",
    "import urllib.request\n",
    "import re\n",
    "import time\n",
    "\n",
    "import requests\n",
    "import pandas as pd\n",
    "import numpy as np\n",
    "import datetime\n",
    "import shutil\n",
    "import ipyplot\n",
    "\n",
    "import toloka.client as toloka\n",
    "import toloka.client.project.template_builder as tb\n",
    "\n",
    "import yadisk\n",
    "import posixpath\n",
    "\n",
    "from collections import defaultdict"
   ]
  },
  {
   "cell_type": "markdown",
   "metadata": {},
   "source": [
    "## Text corpus gathering\n",
    "\n",
    "In general, any corpus of texts for corresponding language can be used. Here Wikipedia is chosen as it is one of the most accessible and multilanguage corpora.\n",
    "\n",
    "You can generate new texts with provided code or use included ones. If you chose the latter option, skip to **Use provided sentences** section.\n",
    "\n",
    "### New text generation"
   ]
  },
  {
   "cell_type": "code",
   "execution_count": null,
   "metadata": {},
   "outputs": [],
   "source": [
    "# Chosen language in the tutorial is French, you can replace it\n",
    "# with language of your choice to gather new texts\n",
    "lang_prefix = 'fr'\n",
    "os.makedirs('data', exist_ok=True)\n",
    "\n",
    "# If you are not sure which abbreviation to use, look up the right one at\n",
    "# https://dumps.wikimedia.org/backup-index-bydb.html\n",
    "url = f'https://dumps.wikimedia.org/{lang_prefix}wiki/20210601/{lang_prefix}wiki-20210601-pages-articles-multistream.xml.bz2'\n",
    "filepath = f'data/{lang_prefix}.xml.bz2'"
   ]
  },
  {
   "cell_type": "code",
   "execution_count": null,
   "metadata": {},
   "outputs": [],
   "source": [
    "# this could take a while\n",
    "urllib.request.urlretrieve(url, filepath);"
   ]
  },
  {
   "cell_type": "code",
   "execution_count": null,
   "metadata": {},
   "outputs": [],
   "source": [
    "# now unzip downloaded archive:\n",
    "\n",
    "# sudo apt-get install bzip2\n",
    "# bzip2 -d data/{lang_prefix}.xml.bz2"
   ]
  },
  {
   "cell_type": "code",
   "execution_count": null,
   "metadata": {},
   "outputs": [],
   "source": [
    "# create corpus with provided in corpus.py code\n",
    "# you can check out the code and tweak some things if you want\n",
    "from corpus import WikiDump\n",
    "wiki = WikiDump(filepath=filepath[:-4], language=lang_prefix)"
   ]
  },
  {
   "cell_type": "code",
   "execution_count": null,
   "metadata": {},
   "outputs": [],
   "source": [
    "# generate sentences\n",
    "sentences = wiki.get_sentences(max_size=1000)\n",
    "chosen_sentences = np.random.choice(sentences, size=100)\n",
    "print(*chosen_sentences[:10], sep='\\n')"
   ]
  },
  {
   "cell_type": "markdown",
   "metadata": {},
   "source": [
    "### Use provided sentences"
   ]
  },
  {
   "cell_type": "code",
   "execution_count": null,
   "metadata": {},
   "outputs": [],
   "source": [
    "# only French data provided\n",
    "chosen_sentences = pd.read_csv('data/{}-sentences.tsv'.format(lang_prefix), sep='\\t', encoding='utf-8')['INPUT:text'].values"
   ]
  },
  {
   "cell_type": "markdown",
   "metadata": {},
   "source": [
    "## Yandex.Toloka and Yandex.Disk API"
   ]
  },
  {
   "cell_type": "markdown",
   "metadata": {},
   "source": [
    "To automate the pipeline, we are going to use Toloka and Disk API. Disk will be used to upload gathered photos, so that they can be later visible to performers in validation project via Toloka's proxy."
   ]
  },
  {
   "cell_type": "code",
   "execution_count": null,
   "metadata": {},
   "outputs": [],
   "source": [
    "# Сreate a toloka-client instance\n",
    "# All API calls will go through it\n",
    "try:\n",
    "    production = input('Type \"p\" for PRODUCTION Toloka environment or \"s\" for SANDBOX:')[0] == 'p'\n",
    "    token = input(\"Enter your Yandex.Toloka API OAUTH token:\")\n",
    "    toloka_client = toloka.TolokaClient(token, 'PRODUCTION' if production else 'SANDBOX') \n",
    "        requester = toloka_client.get_requester()\n",
    "except:\n",
    "    print('You probably entered an invalid token. Please, run this cell again.')"
   ]
  },
  {
   "cell_type": "markdown",
   "metadata": {},
   "source": [
    "### Yandex.Disk OAUTH token\n",
    "\n",
    "Get OAUTH-token for Yandex.Disk, instructions can be found [here](https://yandex.ru/dev/oauth/).\n",
    "\n",
    "For example, you can create an application with Yandex.Disk API access, and then visit `https://oauth.yandex.ru/authorize?response_type=token&client_id=<APPLICATION ID>` to get a token."
   ]
  },
  {
   "cell_type": "code",
   "execution_count": null,
   "metadata": {},
   "outputs": [],
   "source": [
    "try:\n",
    "    ydisk_token = input(\"Enter your Yandex.Disk API OAUTH token:\")\n",
    "    ydisk = yadisk.YaDisk(token=ydisk_token)    \n",
    "    print('Provided token is valid - ',  ydisk.check_token())\n",
    "except:\n",
    "    print('You probably entered an invalid token. Please, run this cell again.')"
   ]
  },
  {
   "cell_type": "markdown",
   "metadata": {},
   "source": [
    "### Proxy creation\n",
    "\n",
    "Create proxies in Toloka: \n",
    "\n",
    "Go to `Profile->External Services Integration->Yandex.Disk Integration`, and after that, `Add proxy`. \n",
    "\n",
    "For pictures in instructions you will need a **public** proxy. You can use the same proxy istead of a private proxy, or create a new private proxy."
   ]
  },
  {
   "cell_type": "code",
   "execution_count": null,
   "metadata": {},
   "outputs": [],
   "source": [
    "public_proxy_name = <YOUR PUBLIC PROXY NAME>\n",
    "public_folder_name = <YOUR PUBLIC FOLDER NAME>\n",
    "\n",
    "private_proxy_name = <YOUR PRIVATE PROXY NAME> # you can use public here\n",
    "private_folder_name = <YOUR PRIVATE FOLDER NAME>\n",
    "\n",
    "tlk = 'Toloka' if production else 'Toloka.Sandbox'\n",
    "\n",
    "info = ydisk.get_disk_info()\n",
    "app_folder = info.system_folders.applications\n",
    "\n",
    "toloka_public_folder = posixpath.join(app_folder, tlk, public_folder_name)\n",
    "toloka_private_folder =  posixpath.join(app_folder, tlk, private_folder_name)"
   ]
  },
  {
   "cell_type": "code",
   "execution_count": null,
   "metadata": {},
   "outputs": [],
   "source": [
    "info = ydisk.get_disk_info()\n",
    "app_folder = info.system_folders.applications\n",
    "\n",
    "toloka_public_folder = posixpath.join(app_folder, tlk, public_folder_name)\n",
    "toloka_private_folder =  posixpath.join(app_folder, tlk, private_folder_name)"
   ]
  },
  {
   "cell_type": "markdown",
   "metadata": {},
   "source": [
    "### Upload photos for instructions\n",
    "\n",
    "As we are going to use images as examples in the instruction, you should upload them to the **public** folder. Sample images for instruction are provided."
   ]
  },
  {
   "cell_type": "code",
   "execution_count": null,
   "metadata": {},
   "outputs": [],
   "source": [
    "def recursive_upload(from_dir, to_dir):\n",
    "    for root, dirs, files in os.walk(from_dir):\n",
    "        p = root.split(from_dir)[1].strip(os.path.sep)\n",
    "        dir_path = posixpath.join(to_dir, p)\n",
    "\n",
    "        try:\n",
    "            ydisk.mkdir(dir_path)\n",
    "        except yadisk.exceptions.PathExistsError:\n",
    "            pass\n",
    "\n",
    "        for file in files:\n",
    "            file_path = posixpath.join(dir_path, file)\n",
    "            p_sys = p.replace(\"/\", os.path.sep)\n",
    "            in_path = os.path.join(from_dir, p_sys, file)\n",
    "            try:\n",
    "                 ydisk.upload(in_path, file_path)\n",
    "            except yadisk.exceptions.PathExistsError:\n",
    "                 pass"
   ]
  },
  {
   "cell_type": "code",
   "execution_count": null,
   "metadata": {},
   "outputs": [],
   "source": [
    "recursive_upload('instructions/images/', toloka_public_folder)"
   ]
  },
  {
   "cell_type": "markdown",
   "metadata": {},
   "source": [
    "## Project #1\n",
    "\n",
    "\n",
    "#### Interface\n",
    "In the interface performers will see suggested phrase and buttons for image upload.\n",
    "\n",
    "As we chose the texts automatically, with no external human verification, they could be faulty or incomplete. We are going to add a checkbox to report erroneous texts.\n",
    "\n",
    "<table  align=\"center\">\n",
    "  <tr><td>\n",
    "    <img src=\"./img/project-1-interface.jpg\"\n",
    "         alt=\"Interface-1\"  width=\"400\">\n",
    "  </td></tr>\n",
    "  <tr><td align=\"center\">\n",
    "    <b>Figure 2.</b> User's task interface in first project\n",
    "  </td></tr>\n",
    "</table>"
   ]
  },
  {
   "cell_type": "code",
   "execution_count": null,
   "metadata": {},
   "outputs": [],
   "source": [
    "output_specification = {\n",
    "    'image': toloka.project.field_spec.FileSpec(),\n",
    "    'offensive': toloka.project.field_spec.BooleanSpec(required=False)\n",
    "}\n",
    "\n",
    "checkbox = tb.fields.CheckboxFieldV1(\n",
    "    data=tb.data.OutputData(path='offensive'),\n",
    "    label='Phrase doesn\\'t make sense or is offensive',\n",
    "#     hint=<you can add localized label text here>\n",
    ")\n",
    "\n",
    "image_loader = tb.fields.MediaFileFieldV1(\n",
    "    data=tb.data.OutputData(path='image'),\n",
    "    validation=tb.conditions.RequiredConditionV1(),\n",
    "    # you can disallow some of the media sources here\n",
    "    accept=tb.fields.MediaFileFieldV1.Accept(photo=True, gallery=True, file_system=True),\n",
    "    multiple=False,\n",
    ")\n",
    "\n",
    "task_width_plugin = tb.plugins.TolokaPluginV1(\n",
    "    layout=tb.plugins.TolokaPluginV1.TolokaPluginLayout(\n",
    "        kind='scroll', \n",
    "        task_width=500,\n",
    "    )\n",
    ")\n",
    "\n",
    "interface = toloka.project.view_spec.TemplateBuilderViewSpec(\n",
    "    config=tb.TemplateBuilder(\n",
    "        view=tb.view.ListViewV1(\n",
    "            items=[\n",
    "                 tb.view.TextViewV1(\n",
    "                    label='Phrase:', \n",
    "                    content=tb.data.InputData(path='text')\n",
    "                ),\n",
    "                image_loader,\n",
    "                checkbox\n",
    "            ]\n",
    "        ),\n",
    "        plugins=[task_width_plugin],\n",
    "    )\n",
    ")"
   ]
  },
  {
   "cell_type": "markdown",
   "metadata": {},
   "source": [
    "#### Instructions\n",
    "\n",
    "Instructions in English and French are included."
   ]
  },
  {
   "cell_type": "code",
   "execution_count": null,
   "metadata": {},
   "outputs": [],
   "source": [
    "# we need to replace stubs with real proxy name\n",
    "with open(f'instructions/{lang_prefix}.html', encoding='utf-8') as fin:\n",
    "    public_instruction = fin.read().replace('PUBLIC-PROXY-NAME', public_proxy_name)\n",
    "    \n",
    "# fix endpoints, if using sandbox    \n",
    "if not production:\n",
    "    public_instruction = public_instruction.replace('toloka.yandex.ru', 'sandbox.toloka.yandex.ru')\n",
    "\n",
    "# name and description of the project\n",
    "with open(f'instructions/{lang_prefix}-desc.txt', encoding='utf-8') as fin:\n",
    "    public_name = fin.readline().strip()\n",
    "    public_description = fin.readline().strip()"
   ]
  },
  {
   "cell_type": "markdown",
   "metadata": {},
   "source": [
    "#### Creation via API"
   ]
  },
  {
   "cell_type": "code",
   "execution_count": null,
   "metadata": {},
   "outputs": [],
   "source": [
    "# Create a project\n",
    "\n",
    "img_project = toloka.project.Project(\n",
    "    assignments_issuing_type=toloka.project.Project.AssignmentsIssuingType.AUTOMATED,\n",
    "    public_name=public_name,\n",
    "    public_description=public_description,\n",
    "    public_instructions=public_instruction,\n",
    "    \n",
    "    # Set up the task interface and output parameters\n",
    "    task_spec=toloka.project.task_spec.TaskSpec(\n",
    "        input_spec={'text': toloka.project.field_spec.StringSpec(required=True)},\n",
    "        output_spec=output_specification,\n",
    "        view_spec=interface,\n",
    "    ),\n",
    ")"
   ]
  },
  {
   "cell_type": "code",
   "execution_count": null,
   "metadata": {},
   "outputs": [],
   "source": [
    "img_project = toloka_client.create_project(img_project)\n",
    "print(f'Created project with id {img_project.id}')\n",
    "sandbox_url = '' if production else 'sandbox.'\n",
    "print(f'To view the project, go to https://{sandbox_url}toloka.yandex.com/requester/project/{img_project.id}')"
   ]
  },
  {
   "cell_type": "markdown",
   "metadata": {},
   "source": [
    "#### Skill tracking\n",
    "\n",
    "We can track the image acceptance rate of the performers and ban those, who perform poorly."
   ]
  },
  {
   "cell_type": "code",
   "execution_count": null,
   "metadata": {},
   "outputs": [],
   "source": [
    "skill_name = 'Handwriting images'\n",
    "img_skill = next(toloka_client.get_skills(name=skill_name), None)\n",
    "if img_skill:\n",
    "    print('Skill already exists')\n",
    "else:\n",
    "    print('Creating new skill')\n",
    "    img_skill = toloka_client.create_skill(\n",
    "        name=skill_name,\n",
    "        hidden=True,\n",
    "        public_requester_description={'EN': 'Acceptance rate of the handwriting images'},\n",
    "    )"
   ]
  },
  {
   "cell_type": "markdown",
   "metadata": {},
   "source": [
    "#### Pool creation\n",
    "\n",
    "Performers would be offered to write one phrase for 0.01\\$, time limit - 15 minutes. You can tweak number of tasks in one page and reward for the page, if you'd like.\n",
    "\n",
    "As for quality control, we are going to use `Fast Answers` with 60 second threshold and `Acceptance Rate` tracking with al least 50\\% threshold."
   ]
  },
  {
   "cell_type": "code",
   "execution_count": null,
   "metadata": {},
   "outputs": [],
   "source": [
    "img_pool = toloka.pool.Pool(\n",
    "    project_id=img_project.id,\n",
    "    may_contain_adult_content=True,\n",
    "    private_name=f'Handwriting image gathering for {lang_prefix} language',\n",
    "    will_expire=datetime.datetime.utcnow() + datetime.timedelta(days=365),\n",
    "    reward_per_assignment=0.01,\n",
    "    auto_accept_solutions=False,\n",
    "    auto_accept_period_day=7,\n",
    "    assignment_max_duration_seconds=60*15,\n",
    "    filter=toloka.filter.FilterAnd(\n",
    "        [\n",
    "            toloka.filter.Languages.in_(lang_prefix.upper()),\n",
    "            toloka.filter.FilterOr(\n",
    "                [\n",
    "                    # you can modify skill threshold here\n",
    "                    toloka.filter.Skill(img_skill.id) == None,\n",
    "                    toloka.filter.Skill(img_skill.id) >= 50,\n",
    "                ]\n",
    "            ),\n",
    "            toloka.filter.FilterOr(\n",
    "                [\n",
    "                    # you can choose only mobile app users here\n",
    "                    toloka.filter.ClientType.eq(toloka.filter.ClientType.ClientType.BROWSER),\n",
    "                    toloka.filter.ClientType.eq(toloka.filter.ClientType.ClientType.TOLOKA_APP)\n",
    "                ]\n",
    "            )\n",
    "        ]\n",
    "    ),\n",
    "    defaults=toloka.pool.Pool.Defaults(\n",
    "        # we only want one successful picture for each text\n",
    "        default_overlap_for_new_task_suites=1\n",
    "    ),\n",
    ")\n",
    "\n",
    "# you can change number of tasks per-page here\n",
    "img_pool.set_mixer_config(\n",
    "    real_tasks_count=1,\n",
    "    golden_tasks_count=0,\n",
    "    training_tasks_count=0\n",
    ")\n",
    "\n",
    "img_pool.quality_control.add_action(\n",
    "    collector=toloka.collectors.AssignmentSubmitTime(\n",
    "        fast_submit_threshold_seconds=60\n",
    "    ),\n",
    "    conditions=[toloka.conditions.FastSubmittedCount > 0],\n",
    "    action=toloka.actions.RestrictionV2(\n",
    "        scope=toloka.user_restriction.UserRestriction.PROJECT,\n",
    "        duration_unit=toloka.user_restriction.DurationUnit.PERMANENT,\n",
    "        private_comment='Fast responses in handwriting images project'\n",
    "    )\n",
    ")\n",
    "\n",
    "img_pool.quality_control.add_action(\n",
    "    collector=toloka.collectors.AssignmentsAssessment(),\n",
    "    conditions=[toloka.conditions.AssessmentEvent == toloka.conditions.AssessmentEvent.REJECT],\n",
    "    action=toloka.actions.ChangeOverlap(delta=1, open_pool=True)\n",
    ")\n",
    "\n",
    "img_pool.quality_control.add_action(\n",
    "    collector=toloka.collectors.AcceptanceRate(),\n",
    "    conditions=[toloka.conditions.AcceptedAssignmentsRate > 50],\n",
    "    action=toloka.actions.SetSkill(skill_id=img_skill.id, skill_value=toloka.collectors.AcceptanceRate()),\n",
    ")"
   ]
  },
  {
   "cell_type": "code",
   "execution_count": null,
   "metadata": {},
   "outputs": [],
   "source": [
    "img_pool = toloka_client.create_pool(img_pool)\n",
    "print(f'Created pool with id {img_pool.id}')\n",
    "print(f'To view the pool, go to https://{sandbox_url}toloka.yandex.com/requester/project/{img_project.id}/pool/{img_pool.id}')"
   ]
  },
  {
   "cell_type": "markdown",
   "metadata": {},
   "source": [
    "#### Task creation\n",
    "\n",
    "Create tasks from gathered sentences:"
   ]
  },
  {
   "cell_type": "code",
   "execution_count": null,
   "metadata": {},
   "outputs": [],
   "source": [
    "tasks = [toloka.task.Task(\n",
    "    input_values={'text': sentence}, \n",
    "    pool_id=img_pool.id,\n",
    "    overlap=1\n",
    ") for sentence in chosen_sentences]\n",
    "\n",
    "tasks_op = toloka_client.create_tasks_async(tasks=tasks)\n",
    "result = toloka_client.wait_operation(tasks_op)\n",
    "\n",
    "print(\n",
    "    f'Total tasks: {result.details[\"total_count\"]}',\n",
    "    f'Total failed: {result.details[\"failed_count\"]}',\n",
    "    f'Total success: {result.details[\"success_count\"]}',\n",
    "    f'Total valid: {result.details[\"valid_count\"]}',\n",
    "    f'Total not valid: {result.details[\"not_valid_count\"]}',\n",
    "    sep='\\n'\n",
    ")"
   ]
  },
  {
   "cell_type": "markdown",
   "metadata": {},
   "source": [
    "## Project #2\n",
    "\n",
    "#### Interface\n",
    "We need to evaluate the quality of gathered images. We would separately rate quality of the photo and the text on it. If the image is unscrupulous and there's no text on it, we wouldn't need the text rating of it (as there's none).\n",
    "\n",
    "Performers will see a rotatable and photo that can be opened in fullscreen and two questions - about the quality of the photo and the text. If performer answers that there's no text on the picture, the second question would automatically disappear.\n",
    "\n",
    "You can add hotkeys to the buttons, if you'd like.\n",
    "\n",
    "<table  align=\"center\">\n",
    "  <tr><td>\n",
    "    <img src=\"./img/project-2-interface.jpg\"\n",
    "         alt=\"Interface-2\"  width=\"600\">\n",
    "  </td></tr>\n",
    "  <tr><td align=\"center\">\n",
    "    <b>Figure 3.</b> User's task interface in second project\n",
    "  </td></tr>\n",
    "</table>"
   ]
  },
  {
   "cell_type": "code",
   "execution_count": null,
   "metadata": {},
   "outputs": [],
   "source": [
    "# we need assignment id in order to rate answers in first project \n",
    "input_specification = {\n",
    "    'text': toloka.project.field_spec.StringSpec(required=True),\n",
    "    'image': toloka.project.field_spec.UrlSpec(required=True),\n",
    "    'assignment_id': toloka.project.field_spec.StringSpec(required=False, hidden=True)\n",
    "}\n",
    "\n",
    "output_specification = {\n",
    "    'image-result': toloka.project.field_spec.StringSpec(required=True, allowed_values=['ok', 'bad', 'error']),\n",
    "    'text-result': toloka.project.field_spec.StringSpec(allowed_values=['ok', 'bad', 'error'])\n",
    "}\n",
    "\n",
    "image_viewer = tb.view.ImageViewV1(url=tb.InputData(path='image'), rotatable=True)\n",
    "\n",
    "image_rating = tb.fields.ButtonRadioGroupFieldV1(\n",
    "    data=tb.data.OutputData(path='image-result'),\n",
    "    label='Rate the quality of the photo',\n",
    "    validation=tb.conditions.RequiredConditionV1(),\n",
    "    options=[\n",
    "        tb.fields.GroupFieldOption(label='Good', value='ok'),\n",
    "        tb.fields.GroupFieldOption(label='Bad', value='bad'),\n",
    "        tb.fields.GroupFieldOption(label='Not a photo of handwritten text', value='error'),\n",
    "    ]\n",
    ")\n",
    "\n",
    "text_rating = tb.fields.ButtonRadioGroupFieldV1(\n",
    "    data=tb.data.OutputData(path='text-result'),\n",
    "    validation=tb.conditions.RequiredConditionV1(hint=\"Choose one of the options\"),\n",
    "    label='Choose whether the text is written correctly',\n",
    "    options=[\n",
    "        tb.fields.GroupFieldOption(label='No mistakes', value='ok'),\n",
    "        tb.fields.GroupFieldOption(label='There are some mistakes', value='bad'),\n",
    "        tb.fields.GroupFieldOption(label='Different text', value='error'),\n",
    "    ]\n",
    ")\n",
    "\n",
    "\n",
    "helper = tb.helpers.IfHelperV1(\n",
    "    condition=tb.conditions.NotConditionV1(\n",
    "        condition=tb.conditions.EqualsConditionV1(to='error', data=tb.data.OutputData(path='image-result'))),\n",
    "    then=text_rating\n",
    ")\n",
    "\n",
    "task_width_plugin = tb.plugins.TolokaPluginV1(\n",
    "    layout=tb.plugins.TolokaPluginV1.TolokaPluginLayout(\n",
    "        kind='scroll', \n",
    "        task_width=700,\n",
    "    )\n",
    ")\n",
    "\n",
    "interface = toloka.project.view_spec.TemplateBuilderViewSpec(\n",
    "    config=tb.TemplateBuilder(\n",
    "        view=tb.view.ListViewV1(\n",
    "            items=[\n",
    "                 tb.view.TextViewV1(\n",
    "                    label='Phrase:', \n",
    "                    content=tb.data.InputData(path='text')\n",
    "                ),\n",
    "                image_viewer,\n",
    "                image_rating,\n",
    "                helper\n",
    "            ]\n",
    "        ),\n",
    "        plugins=[task_width_plugin],\n",
    "    )\n",
    ")"
   ]
  },
  {
   "cell_type": "markdown",
   "metadata": {},
   "source": [
    "#### Instructions\n",
    "\n",
    "Instructions for this project are provided only in English, and we should consider it when filtering performers."
   ]
  },
  {
   "cell_type": "code",
   "execution_count": null,
   "metadata": {},
   "outputs": [],
   "source": [
    "with open('instructions/en-check.html', encoding='utf-8') as fin:\n",
    "    # replace stub with real proxy name\n",
    "    public_instruction = fin.read().replace('PUBLIC-PROXY-NAME', public_proxy_name)\n",
    "    \n",
    "if not production:\n",
    "    # replace proxy endpoint in case of sandbox\n",
    "    public_instruction = public_instruction.replace('toloka.yandex.ru', 'sandbox.toloka.yandex.ru')\n",
    "    \n",
    "public_name = 'Check if the phrases are spelled correctly'\n",
    "public_description = 'Look at the photo and answer if the text is written on it correctly.'"
   ]
  },
  {
   "cell_type": "code",
   "execution_count": null,
   "metadata": {},
   "outputs": [],
   "source": [
    "validation_project = toloka.project.Project(\n",
    "    assignments_issuing_type=toloka.project.Project.AssignmentsIssuingType.AUTOMATED,\n",
    "    public_name=public_name,\n",
    "    public_description=public_description,\n",
    "    public_instructions=public_instruction,\n",
    "    \n",
    "    # Set up the task interface and output parameters\n",
    "    task_spec=toloka.project.task_spec.TaskSpec(\n",
    "        input_spec=input_specification,\n",
    "        output_spec=output_specification,\n",
    "        view_spec=interface,\n",
    "    ),\n",
    ")"
   ]
  },
  {
   "cell_type": "code",
   "execution_count": null,
   "metadata": {},
   "outputs": [],
   "source": [
    "validation_project = toloka_client.create_project(validation_project)\n",
    "print(f'Created project with id {validation_project.id}')\n",
    "print(f'To view the project, go to https://{sandbox_url}toloka.yandex.com/requester/project/{validation_project.id}')"
   ]
  },
  {
   "cell_type": "markdown",
   "metadata": {},
   "source": [
    "### Training\n",
    "\n",
    "We would need to have qualified performers for main pool, so we should implement training. In this tutorial samples for French are provided."
   ]
  },
  {
   "cell_type": "code",
   "execution_count": null,
   "metadata": {},
   "outputs": [],
   "source": [
    "# Setting up training\n",
    "validation_training = toloka.training.Training(\n",
    "    project_id=validation_project.id,\n",
    "    private_name='Handwriting images validation - training',\n",
    "    may_contain_adult_content=True,\n",
    "    mix_tasks_in_creation_order=True,\n",
    "    shuffle_tasks_in_task_suite=True,\n",
    "    training_tasks_in_task_suite_count=5,\n",
    "    assignment_max_duration_seconds=60*20,\n",
    "    task_suites_required_to_pass=1,\n",
    "    retry_training_after_days=1,\n",
    "    inherited_instructions=True,\n",
    ")\n",
    "\n",
    "validation_training = toloka_client.create_training(validation_training)\n",
    "print(f'Created training with id {validation_training.id}')\n",
    "print(f'To view the training, go to https://{sandbox_url}toloka.yandex.com/requester/project/{validation_project.id}/training/{validation_training.id}')"
   ]
  },
  {
   "cell_type": "markdown",
   "metadata": {},
   "source": [
    "#### Training data\n",
    "\n",
    "You would need to create some tasks on your own or from pictures from the first project if you chose another language."
   ]
  },
  {
   "cell_type": "code",
   "execution_count": null,
   "metadata": {},
   "outputs": [],
   "source": [
    "training_df = pd.read_csv(f'training/{lang_prefix}-training.tsv', sep='\\t', encoding='utf-8')\n",
    "training_df.head()"
   ]
  },
  {
   "cell_type": "code",
   "execution_count": null,
   "metadata": {},
   "outputs": [],
   "source": [
    "# replace stub with real proxy name\n",
    "training_df['INPUT:image'] = training_df['INPUT:image'].map(lambda s: s.replace('PRIVATE-PROXY-NAME', private_proxy_name))"
   ]
  },
  {
   "cell_type": "markdown",
   "metadata": {},
   "source": [
    "#### Training images upload"
   ]
  },
  {
   "cell_type": "code",
   "execution_count": null,
   "metadata": {},
   "outputs": [],
   "source": [
    "recursive_upload(os.path.join('training', 'images'), posixpath.join(toloka_private_folder, 'training'))"
   ]
  },
  {
   "cell_type": "code",
   "execution_count": null,
   "metadata": {},
   "outputs": [],
   "source": [
    "training_tasks = [\n",
    "    toloka.task.Task(\n",
    "        input_values={\n",
    "            'text': row[0],\n",
    "            'image': row[1],\n",
    "        },\n",
    "        known_solutions=[\n",
    "            toloka.task.BaseTask.KnownSolution(\n",
    "                output_values={'image-result': row[3], 'text-result':row[2]} if not pd.isna(row[2]) else {'image-result': row[3]}\n",
    "            )\n",
    "        ],\n",
    "        message_on_unknown_solution=row[4],\n",
    "        pool_id=validation_training.id,\n",
    "        infinite_overlap=True,\n",
    "    ) for row in training_df.values\n",
    "]"
   ]
  },
  {
   "cell_type": "code",
   "execution_count": null,
   "metadata": {},
   "outputs": [],
   "source": [
    "tasks_op = toloka_client.create_tasks_async(training_tasks)\n",
    "result = toloka_client.wait_operation(tasks_op)\n",
    "\n",
    "print(\n",
    "    f'Total tasks: {result.details[\"total_count\"]}',\n",
    "    f'Total failed: {result.details[\"failed_count\"]}',\n",
    "    f'Total success: {result.details[\"success_count\"]}',\n",
    "    f'Total valid: {result.details[\"valid_count\"]}',\n",
    "    f'Total not valid: {result.details[\"not_valid_count\"]}',\n",
    "    sep='\\n'\n",
    ")"
   ]
  },
  {
   "cell_type": "markdown",
   "metadata": {},
   "source": [
    "### Main pool\n",
    "\n",
    "We would allow performers, who achieved at least 70\\% right answers during trainig and use `overlap = 3` for more reliable answers after aggregation. \n",
    "\n",
    "As additional quality countrol we would use `Fast Answers` with 10 second treshold (for 5 tasks per page) and `Majority Vote` with 50\\% threshold.\n",
    "\n",
    "Additionally, you should probably create control tasks and add `Control Tasks` quality control rule, this step is omitted in this tutorial. "
   ]
  },
  {
   "cell_type": "code",
   "execution_count": null,
   "metadata": {},
   "outputs": [],
   "source": [
    "validation_pool = toloka.pool.Pool(\n",
    "    project_id=validation_project.id,\n",
    "    private_name=f'Handwritten images validation for {lang_prefix} language',\n",
    "    may_contain_adult_content=True,\n",
    "    will_expire=datetime.datetime.utcnow() + datetime.timedelta(days=365),\n",
    "    reward_per_assignment=0.01,\n",
    "    auto_accept_solutions=True,\n",
    "    assignment_max_duration_seconds=60*5,\n",
    "    defaults=toloka.pool.Pool.Defaults(\n",
    "        default_overlap_for_new_task_suites=3\n",
    "    ),\n",
    "    filter=toloka.filter.FilterAnd(\n",
    "        [   \n",
    "            # we would need preformers who speak both English (instructions are in English) and your chosen language\n",
    "            toloka.filter.Languages.in_('EN'),\n",
    "            toloka.filter.Languages.in_(lang_prefix.upper()),\n",
    "            toloka.filter.FilterOr(\n",
    "                [\n",
    "                    toloka.filter.ClientType.eq(toloka.filter.ClientType.ClientType.BROWSER),\n",
    "                    toloka.filter.ClientType.eq(toloka.filter.ClientType.ClientType.TOLOKA_APP)\n",
    "                ]\n",
    "            )\n",
    "        ]\n",
    "    )\n",
    ")\n",
    "\n",
    "# you can and probably should add control tasks here\n",
    "validation_pool.set_mixer_config(real_tasks_count=10, golden_tasks_count=0, training_tasks_count=0)\n",
    "validation_pool.quality_control.training_requirement=toloka.quality_control.QualityControl.TrainingRequirement(\n",
    "    training_pool_id=validation_training.id, \n",
    "    # you can tweak passing threshold here\n",
    "    training_passing_skill_value=70\n",
    ")\n",
    "\n",
    "validation_pool.quality_control.add_action(\n",
    "    collector=toloka.collectors.AssignmentSubmitTime(fast_submit_threshold_seconds=10),\n",
    "    conditions=[toloka.conditions.FastSubmittedCount > 0],\n",
    "    action=toloka.actions.RestrictionV2(\n",
    "        scope=toloka.user_restriction.UserRestriction.PROJECT,\n",
    "        duration_unit=toloka.user_restriction.DurationUnit.PERMANENT,\n",
    "        private_comment='Fast responses in main pool of handwriting images validation project'\n",
    "    )\n",
    ")\n",
    "\n",
    "validation_pool.quality_control.add_action(\n",
    "    collector=toloka.collectors.MajorityVote(history_size=5, answer_threshold=2),\n",
    "    conditions=[\n",
    "        toloka.conditions.TotalAnswersCount >= 5,\n",
    "        toloka.conditions.CorrectAnswersRate < 50,\n",
    "    ],\n",
    "    action=toloka.actions.RestrictionV2(\n",
    "        scope=toloka.user_restriction.UserRestriction.PROJECT,\n",
    "        duration_unit=toloka.user_restriction.DurationUnit.PERMANENT,\n",
    "        private_comment='Majority vote incorrect answers'\n",
    "    )\n",
    ")\n",
    "\n",
    "validation_pool = toloka_client.create_pool(validation_pool)\n",
    "print(f'Created pool with id {validation_pool.id}')\n",
    "print(f'To view the training, go to: https://{sandbox_url}toloka.yandex.com/requester/project/{validation_project.id}/pool/{validation_pool.id}')"
   ]
  },
  {
   "cell_type": "markdown",
   "metadata": {},
   "source": [
    "## Whole pipeline\n",
    "\n",
    "For pictures to show up in tasks in validation project we would need first download them loaclly and them - to the disk. You can (and probably should) optimize the images to make them load faster for the performers."
   ]
  },
  {
   "cell_type": "code",
   "execution_count": null,
   "metadata": {},
   "outputs": [],
   "source": [
    "def upload_image(path):\n",
    "    try:\n",
    "        filename = os.path.split(path)[-1]\n",
    "        ydisk.upload(path, posixpath.join(toloka_private_folder, lang_prefix, filename))\n",
    "    except yadisk.exceptions.PathExistsError:\n",
    "        pass\n",
    "    return f\"https://{sandbox_url}toloka.yandex.ru/api/proxy/{private_proxy_name}/{lang_prefix}/{filename}\""
   ]
  },
  {
   "cell_type": "code",
   "execution_count": null,
   "metadata": {},
   "outputs": [],
   "source": [
    "def get_and_upload_attachment(solution):\n",
    "    attachment = toloka_client.get_attachment(solution.output_values['image'])\n",
    "    ext = os.path.splitext(attachment.name)[-1]\n",
    "    # we can automatically reject non-image submits\n",
    "    # you can add or remove acceptable extensions here\n",
    "    if ext.lower() not in ['.jpg', '.jpeg', '.png', '.heic']:\n",
    "        return None, False\n",
    "\n",
    "    # downloading image locally\n",
    "    filename = f\"{attachment.id}{ext}\"\n",
    "    with open(filename, \"wb+\") as f:\n",
    "        toloka_client.download_attachment(attachment.id, f)\n",
    "    \n",
    "    url = upload_image(filename)\n",
    "\n",
    "    # deleting image locally\n",
    "    try:\n",
    "        os.remove(filename)\n",
    "    except Exception:\n",
    "        print(f'Failed to remove file {filename}.')\n",
    "    \n",
    "    return url, True"
   ]
  },
  {
   "cell_type": "code",
   "execution_count": null,
   "metadata": {},
   "outputs": [],
   "source": [
    "def wait_pool_for_close(pool, sleep_time = 60):\n",
    "    pool = toloka_client.get_pool(pool.id)\n",
    "    while not pool.is_closed():\n",
    "        print(\n",
    "            f'\\t{datetime.datetime.now().strftime(\"%H:%M:%S\")}\\t'\n",
    "            f'Pool {pool.id} has status {pool.status}.'\n",
    "        )\n",
    "        time.sleep(sleep_time)\n",
    "        pool = toloka_client.get_pool(pool.id)\n",
    "\n",
    "\n",
    "def prepare_validation_tasks():\n",
    "    validation_tasks = []  # Tasks that we will send for validation\n",
    "    request = toloka.search_requests.AssignmentSearchRequest(\n",
    "        status=toloka.assignment.Assignment.SUBMITTED,  # Only take completed tasks that haven't been accepted or rejected\n",
    "        pool_id=img_pool.id,\n",
    "    )\n",
    "    # Create and upload new tasks\n",
    "    for assignment in toloka_client.get_assignments(request):\n",
    "        for task, solution in zip(assignment.tasks, assignment.solutions):\n",
    "            img_url, correct = get_and_upload_attachment(solution)\n",
    "            if not correct:\n",
    "                toloka_client.reject_assignment(assignment.id,\n",
    "                                                'Incorrect format for image file.')\n",
    "                continue\n",
    "            validation_tasks.append(\n",
    "                toloka.task.Task(\n",
    "                    input_values={\n",
    "                        'text': task.input_values['text'],\n",
    "                        'assignment_id': assignment.id,\n",
    "                        'image': img_url\n",
    "                    },\n",
    "                    pool_id=validation_pool.id,\n",
    "                )\n",
    "            )\n",
    "    print(f'Generated {len(validation_tasks)} new validation tasks')\n",
    "    return validation_tasks\n",
    "\n",
    "\n",
    "\n",
    "def run_validation_pool(validation_tasks):\n",
    "    validation_tasks_op = toloka_client.create_tasks_async(\n",
    "        validation_tasks,\n",
    "        toloka.task.CreateTasksParameters(allow_defaults=True)\n",
    "    )\n",
    "    toloka_client.wait_operation(validation_tasks_op)\n",
    "    validation_tasks_result = [task for task in toloka_client.get_tasks(pool_id=validation_pool.id) if not task.known_solutions]\n",
    "\n",
    "    task_to_assignment = {}\n",
    "    for task in validation_tasks_result:\n",
    "        task_to_assignment[task.id] = task.input_values['assignment_id']\n",
    "\n",
    "    # Open the validation pool\n",
    "    run_pool = toloka_client.open_pool(validation_pool.id)\n",
    "    run_pool = toloka_client.wait_operation(run_pool)\n",
    "    print(f'Validation pool status - {run_pool.status}')\n",
    "    return task_to_assignment\n",
    "\n",
    "\n",
    "def get_aggregation_results():\n",
    "    print('Started aggregation in the validation pool')\n",
    "    # we need to aggregate answers for both output fields\n",
    "    aggregation_operation_1 = toloka_client.aggregate_solutions_by_pool(\n",
    "        request=toloka.aggregation.PoolAggregatedSolutionRequest(\n",
    "            type='DAWID_SKENE',\n",
    "            pool_id=validation_pool.id,\n",
    "            fields=[toloka.aggregation.PoolAggregatedSolutionRequest.Field(name='text-result')]\n",
    "        )\n",
    "    )\n",
    "    aggregation_operation_2 = toloka_client.aggregate_solutions_by_pool(\n",
    "        request=toloka.aggregation.PoolAggregatedSolutionRequest(\n",
    "            type='DAWID_SKENE',\n",
    "            pool_id=validation_pool.id,\n",
    "            fields=[toloka.aggregation.PoolAggregatedSolutionRequest.Field(name='image-result')]\n",
    "        )\n",
    "    )\n",
    "    aggregation_operation_1 = toloka_client.wait_operation(aggregation_operation_1)\n",
    "    aggregation_operation_2 = toloka_client.wait_operation(aggregation_operation_2)\n",
    "\n",
    "    print('Results aggregated')\n",
    "\n",
    "    aggregation_result_1 = toloka_client.find_aggregated_solutions(aggregation_operation_1.id)\n",
    "    aggregation_result_2 = toloka_client.find_aggregated_solutions(aggregation_operation_2.id)\n",
    "\n",
    "    validation_results_1 = aggregation_result_1.items\n",
    "    while aggregation_result_1.has_more:\n",
    "        aggregation_result_1 = toloka_client.find_aggregated_solutions(\n",
    "            aggregation_operation_1.id,\n",
    "            task_id_gt=aggregation_result_1.items[len(aggregation_result_1.items) - 1].task_id,\n",
    "        )\n",
    "        validation_results_1 = validation_results_1 + aggregation_result_1.items\n",
    "        \n",
    "    validation_results_2 = aggregation_result_2.items\n",
    "    while aggregation_result_2.has_more:\n",
    "        aggregation_result_2 = toloka_client.find_aggregated_solutions(\n",
    "            aggregation_operation_2.id,\n",
    "            task_id_gt=aggregation_result_2.items[len(aggregation_result_2.items) - 1].task_id,\n",
    "        )\n",
    "        validation_results_2 = validation_results_2 + aggregation_result_2.items\n",
    "    return validation_results_1, validation_results_2\n",
    "\n",
    "def set_answers_status(validation_results, task_to_assignment, links, confidence_lvl=0.6):\n",
    "    print('Started adding results to image tasks')\n",
    "    for text_result, image_result in zip(sorted(validation_results[0], key=lambda s: s.task_id), sorted(validation_results[1], key=lambda s: s.task_id)):\n",
    "        # skipping not needed results\n",
    "        if text_result.task_id not in task_to_assignment:\n",
    "            continue\n",
    "        # finding inputs for aggregated task\n",
    "        inputs = toloka_client.get_task(text_result.task_id).input_values\n",
    "        assignment_id = inputs['assignment_id']\n",
    "\n",
    "        # accepting task in recording project if record is correct with the necessary confidence level \n",
    "        if (text_result.output_values['text-result'] == 'yes' and\n",
    "            image_result.output_values['image-result'] == 'yes' and \n",
    "            text_result.confidence >= confidence_lvl and\n",
    "            image_result.confidence >= confidence_lvl):\n",
    "            try:\n",
    "                toloka_client.accept_assignment(assignment_id, \n",
    "                                                'Well done!')\n",
    "                links[assignment_id][os.path.split(inputs['image'])[-1]] = inputs['image']  # saving urls for getting result later\n",
    "            except Exception:\n",
    "                pass  # Already processed this assignment\n",
    "        else:\n",
    "            try:\n",
    "                toloka_client.reject_assignment(assignment_id,\n",
    "                                                'Image is incorrect. Check instructions for more details.')\n",
    "            except Exception:\n",
    "                pass  # Already processed this assignment\n",
    "            \n",
    "        task_to_assignment.pop(text_result.task_id, None)\n",
    "            \n",
    "    print('Finished adding results to image tasks')\n",
    "    \n",
    "    return links"
   ]
  },
  {
   "cell_type": "code",
   "execution_count": null,
   "metadata": {},
   "outputs": [],
   "source": [
    "# Run the pipeline\n",
    "\n",
    "links = defaultdict(dict)\n",
    "\n",
    "# Opening validation training and image gathering pool\n",
    "toloka_client.open_pool(validation_training.id)\n",
    "toloka_client.open_pool(img_pool.id)\n",
    "\n",
    "while True:\n",
    "    print('\\nWaiting for image gathering pool to close...')\n",
    "    wait_pool_for_close(img_pool)\n",
    "    print(f'Image gathering pool {img_pool.id} is finally closed!')\n",
    "    \n",
    "    # Preparing tasks for validation project\n",
    "    validation_tasks = prepare_validation_tasks()\n",
    "    \n",
    "    if len(validation_tasks) == 0:\n",
    "        # no more tasks\n",
    "        break\n",
    "     \n",
    "    # Adding tasks to the validation pool and open it\n",
    "    task_to_assignment = run_validation_pool(validation_tasks)\n",
    "    \n",
    "    print('\\nWaiting for validation pool to close')\n",
    "    wait_pool_for_close(validation_pool)\n",
    "    print(f'Validation pool {validation_pool.id} is finally closed!')\n",
    "    \n",
    "    # Getting validation results aggregation\n",
    "    validation_results = get_aggregation_results()\n",
    "    # Rejecting/accepting submitted images based on validation aggregation\n",
    "    links = set_answers_status(validation_results, \n",
    "                               task_to_assignment,\n",
    "                               links,\n",
    "                               confidence_lvl=0.6)\n",
    "    \n",
    "print(f'Results received at {datetime.datetime.now()}')"
   ]
  },
  {
   "cell_type": "markdown",
   "metadata": {},
   "source": [
    "## Results\n",
    "\n",
    "You can either download `tsv` with results and attachments from accepted tasks directly from Toloka web interface or using this code:"
   ]
  },
  {
   "cell_type": "code",
   "execution_count": null,
   "metadata": {},
   "outputs": [],
   "source": [
    "def get_results(img_pool, links=None, download_images=False, path=os.path.join('data', lang_prefix, 'images'), verbose=True):\n",
    "    request = toloka.search_requests.AssignmentSearchRequest(\n",
    "        status=toloka.assignment.Assignment.ACCEPTED,  # Only take completed tasks that have been accepted\n",
    "        pool_id=img_pool.id,\n",
    "    )\n",
    "    dataset = {\n",
    "        'text': [],\n",
    "        'image': [],\n",
    "        'image_local': []\n",
    "    }\n",
    "    \n",
    "    if download_images:\n",
    "        # creating directories in path\n",
    "        try:\n",
    "            os.makedirs(path)\n",
    "            if verbose:\n",
    "                print(f'Created directories in path {path}')\n",
    "        except FileExistsError:\n",
    "            if verbose:\n",
    "                print(f'Using already existing directory {path}') \n",
    "        abs_path = os.path.abspath(path)\n",
    "        \n",
    "    \n",
    "    for assignment in toloka_client.get_assignments(request):\n",
    "        for task, solution in zip(assignment.tasks, assignment.solutions):\n",
    "            text = task.input_values['text']\n",
    "            dataset['text'].append(text)\n",
    "\n",
    "            attachment = toloka_client.get_attachment(solution.output_values['image'])\n",
    "            ext = os.path.splitext(attachment.name)[-1]\n",
    "            if download_images:\n",
    "                # downloading image on disk\n",
    "                filepath = os.path.join(abs_path, f\"{attachment.id}{ext}\")\n",
    "                with open(filepath, \"wb+\") as f:\n",
    "                    toloka_client.download_attachment(attachment.id, f)\n",
    "                if verbose:\n",
    "                    print(f'Downloaded image: {filepath}')\n",
    "                dataset['image_local'].append(os.path.join(path, f\"{attachment.id}{ext}\"))\n",
    "            dataset['image'].append(links[assignment.id][solution.output_values['image']])\n",
    "\n",
    "    if verbose:        \n",
    "        print('Finished getting results.')\n",
    "    \n",
    "    # converting to pandas dataframe (for comfortable .tsv export)\n",
    "    df = pd.DataFrame.from_dict(dataset)\n",
    "    df.to_csv(os.path.join(path, os.pardir, 'data.tsv'), sep='\\t', encoding='utf-8', index=None)\n",
    "    return df"
   ]
  },
  {
   "cell_type": "code",
   "execution_count": null,
   "metadata": {},
   "outputs": [],
   "source": [
    "dataset = get_results(img_pool, links, download_images=True, verbose=False)"
   ]
  },
  {
   "cell_type": "markdown",
   "metadata": {},
   "source": [
    "## Visualization\n",
    "\n",
    "You can now view the gathered images using the code below, example can be seen in Figure 4.\n",
    "<table  align=\"center\">\n",
    "  <tr><td>\n",
    "    <img src=\"./img/final-example.jpg\"\n",
    "         alt=\"Example\"  width=\"600\">\n",
    "  </td></tr>\n",
    "  <tr><td align=\"center\">\n",
    "    <b>Figure 4.</b> Example of image from the dataset\n",
    "  </td></tr>\n",
    "</table>"
   ]
  },
  {
   "cell_type": "code",
   "execution_count": null,
   "metadata": {},
   "outputs": [],
   "source": [
    "texts = dataset['text'].values\n",
    "images = dataset['image_local'].values\n",
    "start_with = 0"
   ]
  },
  {
   "cell_type": "code",
   "execution_count": null,
   "metadata": {
    "scrolled": true
   },
   "outputs": [],
   "source": [
    "if start_with >= len(images):\n",
    "    print('no more images')\n",
    "else:\n",
    "    ipyplot.plot_images(\n",
    "        images=images[start_with:],\n",
    "        labels=texts[start_with:],\n",
    "        max_images=1,\n",
    "        img_width=300,\n",
    "    )\n",
    "\n",
    "    start_with += 1"
   ]
  },
  {
   "cell_type": "markdown",
   "metadata": {},
   "source": [
    "## Cleanup\n",
    "\n",
    "After we are done with dataset collection, we need to cleanup images from Yandex.Disk:"
   ]
  },
  {
   "cell_type": "code",
   "execution_count": null,
   "metadata": {},
   "outputs": [],
   "source": [
    "def cleanup(delete_rejected=True, delete_accepted=False, delete_training=False, empty_trash=True):\n",
    "    if delete_training:\n",
    "        try:\n",
    "            ydisk.remove(posixpath.join(toloka_private_folder, 'training'), permanently=empty_Trash)\n",
    "        except yadisk.exceptions.PathNotFoundError:\n",
    "            # already deleted\n",
    "            pass\n",
    "    if not delete_accepted and not delete_rejected:\n",
    "        return\n",
    "    \n",
    "    if delete_accepted and delete_rejected:\n",
    "        try:\n",
    "            ydisk.remove(posixpath.join(toloka_private_folder, lang_prefix))\n",
    "        except yadisk.exceptions.PathNotFoundError:\n",
    "            # already deleted\n",
    "            pass\n",
    "        return\n",
    "    \n",
    "    acc = []\n",
    "    for dct in links.values():\n",
    "        acc.extend(os.path.split(url)[-1] for url in dct.values())\n",
    "    acc = set(acc)\n",
    "    images = list(item.name for item in ydisk.listdir(posixpath.join(toloka_private_folder, lang_prefix)))\n",
    "    for img in images:\n",
    "        if (img in acc and delete_accepted) or (img not in acc and delete_rejected):\n",
    "            ydisk.remove(posixpath.join(toloka_private_folder, lang_prefix, img), permanently=empty_trash)"
   ]
  },
  {
   "cell_type": "code",
   "execution_count": null,
   "metadata": {},
   "outputs": [],
   "source": [
    "cleanup()"
   ]
  }
 ],
 "metadata": {
  "kernelspec": {
   "display_name": "Python 3",
   "language": "python",
   "name": "python3"
  },
  "language_info": {
   "codemirror_mode": {
    "name": "ipython",
    "version": 3
   },
   "file_extension": ".py",
   "mimetype": "text/x-python",
   "name": "python",
   "nbconvert_exporter": "python",
   "pygments_lexer": "ipython3",
   "version": "3.9.5"
  }
 },
 "nbformat": 4,
 "nbformat_minor": 1
}
