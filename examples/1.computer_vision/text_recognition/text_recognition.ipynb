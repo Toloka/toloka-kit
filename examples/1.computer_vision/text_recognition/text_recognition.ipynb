{
 "cells": [
  {
   "cell_type": "markdown",
   "metadata": {},
   "source": [
    "# Text recognition\n",
    "We have a set of water meter images. We need to get each water meter’s readings. We ask performers to look at the images and write down the digits on each water meter."
   ]
  },
  {
   "cell_type": "markdown",
   "metadata": {},
   "source": [
    "### Call to action\n",
    "If you found some bugs or have a new feature idea, don't hesitate to [open a new issue on Github](https://github.com/Toloka/toloka-kit/issues/new/choose).\n",
    "Like our library and examples? Star [our repo on Github](https://github.com/Toloka/toloka-kit)"
   ]
  },
  {
   "cell_type": "markdown",
   "metadata": {},
   "source": [
    "Prepare environment and import all we'll need."
   ]
  },
  {
   "cell_type": "code",
   "execution_count": null,
   "metadata": {},
   "outputs": [],
   "source": [
    "%%capture\n",
    "!pip install toloka-kit==0.1.26\n",
    "!pip install crowd-kit==1.0.0\n",
    "!pip install ipyplot\n",
    "\n",
    "import datetime\n",
    "import os\n",
    "import sys\n",
    "import time\n",
    "import logging\n",
    "import getpass\n",
    "\n",
    "import ipyplot\n",
    "import pandas\n",
    "import numpy as np\n",
    "\n",
    "import toloka.client as toloka\n",
    "import toloka.client.project.template_builder as tb\n",
    "from crowdkit.aggregation import ROVER"
   ]
  },
  {
   "cell_type": "code",
   "execution_count": null,
   "metadata": {},
   "outputs": [],
   "source": [
    "logging.basicConfig(\n",
    "    format='[%(levelname)s] %(name)s: %(message)s',\n",
    "    level=logging.INFO,\n",
    "    stream=sys.stdout,\n",
    ")"
   ]
  },
  {
   "cell_type": "markdown",
   "metadata": {},
   "source": [
    "Сreate toloka-client instance. All api calls will go through it. More about OAuth token in our [Learn the basics example](https://github.com/Toloka/toloka-kit/tree/main/examples/0.getting_started/0.learn_the_basics) [![Open In Colab](https://colab.research.google.com/assets/colab-badge.svg)](https://colab.research.google.com/github/Toloka/toloka-kit/blob/main/examples/0.getting_started/0.learn_the_basics/learn_the_basics.ipynb)"
   ]
  },
  {
   "cell_type": "code",
   "execution_count": null,
   "metadata": {},
   "outputs": [],
   "source": [
    "toloka_client = toloka.TolokaClient(getpass.getpass('Enter your OAuth token: '), 'PRODUCTION') # Or switch to 'SANDBOX'\n",
    "logging.info(toloka_client.get_requester())"
   ]
  },
  {
   "cell_type": "markdown",
   "metadata": {},
   "source": [
    "## Creating new project\n",
    "Enter a clear project name and description.\n",
    "> The project name and description will be visible to the performers."
   ]
  },
  {
   "cell_type": "code",
   "execution_count": null,
   "metadata": {},
   "outputs": [],
   "source": [
    "project = toloka.Project(\n",
    "    public_name='Write down the digits in an image',\n",
    "    public_description='Look at the image and write down the digits shown on the water meter.',\n",
    ")"
   ]
  },
  {
   "cell_type": "markdown",
   "metadata": {},
   "source": [
    "Create task interface.\n",
    "\n",
    "- Read about configuring the [task interface](https://toloka.ai/en/docs/guide/reference/interface-spec?utm_source=github&utm_medium=site&utm_campaign=tolokakit) in the Requester’s Guide.\n",
    "- Check the [Interfaces section](https://toloka.ai/knowledgebase/interface?utm_source=github&utm_medium=site&utm_campaign=tolokakit) of our Knowledge Base for more tips on interface design.\n",
    "- Read more about the [Template builder](https://toloka.ai/en/docs/template-builder/?utm_source=github&utm_medium=site&utm_campaign=tolokakit) in the Requester’s Guide."
   ]
  },
  {
   "cell_type": "code",
   "execution_count": null,
   "metadata": {},
   "outputs": [],
   "source": [
    "header_viewer = tb.MarkdownViewV1(\"\"\"1. Look at the image\n",
    "2. Find boxes with the numbers\n",
    "3. Write down the digits in black section. (Put '0' if there are no digits there)\n",
    "4. Put '.'\n",
    "5. Write down the digits in red section\"\"\")\n",
    "\n",
    "image_viewer = tb.ImageViewV1(tb.InputData('image_url'), rotatable=True)\n",
    "\n",
    "output_field = tb.TextFieldV1(\n",
    "    tb.OutputData('value'),\n",
    "    label='Write down the digits. Format: 365.235',\n",
    "    placeholder='Enter value',\n",
    "    hint=\"Make sure your format of number is '365.235' or '0.112'\",\n",
    "    validation=tb.SchemaConditionV1(\n",
    "        schema={\n",
    "            'type': 'string',\n",
    "            'pattern': r'^\\d+\\.?\\d{0,3}$',\n",
    "            'minLength': 1,\n",
    "            'maxLength': 9,\n",
    "        }\n",
    "    )\n",
    ")\n",
    "\n",
    "task_width_plugin = tb.TolokaPluginV1('scroll', task_width=600)\n",
    "\n",
    "project_interface = toloka.project.TemplateBuilderViewSpec(\n",
    "    view=tb.ListViewV1([header_viewer, image_viewer, output_field]),\n",
    "    plugins=[task_width_plugin],\n",
    ")"
   ]
  },
  {
   "cell_type": "markdown",
   "metadata": {},
   "source": [
    "Set data specification. And set task interface to project.\n",
    "> Specifications are a description of input data that will be used in a project and the output data that will be collected from the performers.\n",
    "\n",
    "Read more about [input and output data specifications](https://yandex.ru/support/toloka-tb/operations/create-specs.html?utm_source=github&utm_medium=site&utm_campaign=tolokakit) in the Requester’s Guide."
   ]
  },
  {
   "cell_type": "code",
   "execution_count": null,
   "metadata": {},
   "outputs": [],
   "source": [
    "input_specification = {'image_url': toloka.project.UrlSpec()}\n",
    "output_specification = {'value': toloka.project.StringSpec()}\n",
    "\n",
    "project.task_spec = toloka.project.task_spec.TaskSpec(\n",
    "    input_spec=input_specification,\n",
    "    output_spec=output_specification,\n",
    "    view_spec=project_interface,\n",
    ")"
   ]
  },
  {
   "cell_type": "markdown",
   "metadata": {},
   "source": [
    "Write short and clear instructions.\n",
    "\n",
    "> Though the task itself is simple, be sure to add examples for non-obvious cases (like when there are no red digits on an image). This helps to eliminate noise in the labels.\n",
    "\n",
    "Get more tips on designing [instructions](https://toloka.ai/knowledgebase/instruction?utm_source=github&utm_medium=site&utm_campaign=tolokakit) in our Knowledge Base."
   ]
  },
  {
   "cell_type": "code",
   "execution_count": null,
   "metadata": {},
   "outputs": [],
   "source": [
    "project.public_instructions = \"\"\"This task is to solve machine learning problem of digit recognition on the image.<br>\n",
    "The more precise you read the information from the image the more precise would be algorithm<br>\n",
    "Your contribution here is to get exact information even if there are any complicated and uncertain cases.<br>\n",
    "We hope for your skills to solve one of the important science problem.<br><br>\n",
    "<b>Basic steps:</b><br>\n",
    "<ul><li>Look at the image and find meter with the numbers in the boxes</li>\n",
    "<li>Find black numbers/section and red numbers/section</li>\n",
    "<li>Put black and red numbers separated with '.' to text field</li></ul>\"\"\""
   ]
  },
  {
   "cell_type": "markdown",
   "metadata": {},
   "source": [
    "Create a project."
   ]
  },
  {
   "cell_type": "code",
   "execution_count": null,
   "metadata": {},
   "outputs": [],
   "source": [
    "project = toloka_client.create_project(project)"
   ]
  },
  {
   "cell_type": "markdown",
   "metadata": {},
   "source": [
    "## Preparing data\n",
    "This example uses [Toloka WaterMeters](https://toloka.ai/datasets?utm_source=github&utm_medium=site&utm_campaign=tolokakit) dataset collected by Roman Kucev."
   ]
  },
  {
   "cell_type": "code",
   "execution_count": null,
   "metadata": {},
   "outputs": [],
   "source": [
    "!curl https://s3.mds.yandex.net/tlk/dataset/TlkWaterMeters/data.tsv --output data.tsv\n",
    "\n",
    "raw_dataset = pandas.read_csv('data.tsv', sep='\\t', dtype={'value': 'str'})\n",
    "raw_dataset = raw_dataset[['image_url', 'value']]\n",
    "\n",
    "with pandas.option_context(\"max_colwidth\", 100):\n",
    "    display(raw_dataset)"
   ]
  },
  {
   "cell_type": "markdown",
   "metadata": {},
   "source": [
    "Lets look at the images from this dataset:\n",
    "\n",
    "<table  align=\"center\">\n",
    "  <tr>\n",
    "  <td>\n",
    "    <img src=\"https://tlk.s3.yandex.net/dataset/TlkWaterMeters/images/id_53_value_595_825.jpg\" alt=\"value 595.825\">\n",
    "  </td>\n",
    "  <td>\n",
    "    <img src=\"https://tlk.s3.yandex.net/dataset/TlkWaterMeters/images/id_553_value_65_475.jpg\" alt=\"value 65.475\">\n",
    "  </td>\n",
    "  <td>\n",
    "    <img src=\"https://tlk.s3.yandex.net/dataset/TlkWaterMeters/images/id_407_value_21_86.jpg\" alt=\"value 21.860\">\n",
    "  </td>\n",
    "  </tr>\n",
    "  <tr><td align=\"center\" colspan=\"3\">\n",
    "    <b>Figure 1.</b> Images from dataset\n",
    "  </td></tr>\n",
    "</table>"
   ]
  },
  {
   "cell_type": "markdown",
   "metadata": {},
   "source": [
    "Split this dataset into three parts\n",
    "- Training tasks - we'll put them into training. This type of task must contain ground truth and hint about how to perform it.\n",
    "- Golden tasks - we'll put it into the regular pool. This type of task must contain ground truth.\n",
    "- Regular tasks - for regular pool. Only image url as input."
   ]
  },
  {
   "cell_type": "code",
   "execution_count": null,
   "metadata": {},
   "outputs": [],
   "source": [
    "raw_dataset = raw_dataset.sample(frac=1).reset_index(drop=True)\n",
    "\n",
    "training_dataset, golden_dataset, main_dataset, _ = np.split(raw_dataset, [10, 20, 120], axis=0)\n",
    "print(f'training_dataset - {len(training_dataset)}')\n",
    "print(f'golden_dataset - {len(golden_dataset)}')\n",
    "print(f'main_dataset - {len(main_dataset)}')"
   ]
  },
  {
   "cell_type": "markdown",
   "metadata": {},
   "source": [
    "## Create a training pool\n",
    "> Training is an essential part of almost every crowdsourcing project. It allows you to select performers who have really mastered the task, and thus improve quality. Training is also a great tool for scaling your task because you can run it any time you need new performers.\n",
    "\n",
    "Read more about [selecting performers](https://toloka.ai/knowledgebase/quality-control?utm_source=github&utm_medium=site&utm_campaign=tolokakit) in our Knowledge Base."
   ]
  },
  {
   "cell_type": "code",
   "execution_count": null,
   "metadata": {},
   "outputs": [],
   "source": [
    "training = toloka.Training(\n",
    "    project_id=project.id,\n",
    "    private_name='Text recognition training',\n",
    "    may_contain_adult_content=False,\n",
    "    assignment_max_duration_seconds=60*10,\n",
    "    mix_tasks_in_creation_order=False,\n",
    "    shuffle_tasks_in_task_suite=False,\n",
    "    training_tasks_in_task_suite_count=2,\n",
    "    task_suites_required_to_pass=5,\n",
    "    retry_training_after_days=5,\n",
    "    inherited_instructions=True,\n",
    ")\n",
    "training = toloka_client.create_training(training)"
   ]
  },
  {
   "cell_type": "markdown",
   "metadata": {},
   "source": [
    "Upload training tasks to the pool.\n",
    "> It’s important to include examples for all сases in the training. Make sure the training set is balanced and the comments explain why an answer is correct. Don’t just name the correct answers."
   ]
  },
  {
   "cell_type": "code",
   "execution_count": null,
   "metadata": {},
   "outputs": [],
   "source": [
    "training_tasks = [\n",
    "    toloka.Task(\n",
    "        pool_id=training.id,\n",
    "        input_values={'image_url': row.image_url},\n",
    "        known_solutions = [toloka.task.BaseTask.KnownSolution(output_values={'value': row.value})],\n",
    "        message_on_unknown_solution=f'Black section is {row.value.split(\".\")[0]}. Red section is {row.value.split(\".\")[1]}.',\n",
    "    )\n",
    "    for row in training_dataset.itertuples()\n",
    "]\n",
    "result = toloka_client.create_tasks(training_tasks, allow_defaults=True)\n",
    "print(len(result.items))"
   ]
  },
  {
   "cell_type": "markdown",
   "metadata": {},
   "source": [
    "## Create the main pool\n",
    "A pool is a set of paid tasks grouped into task pages. These tasks are sent out for completion at the same time.\n",
    "\n",
    "> All tasks within a pool have the same settings (price, quality control, etc.)"
   ]
  },
  {
   "cell_type": "code",
   "execution_count": null,
   "metadata": {},
   "outputs": [],
   "source": [
    "pool = toloka.Pool(\n",
    "    project_id=project.id,\n",
    "    # Give the pool any convenient name. You are the only one who will see it.\n",
    "    private_name='Write down the digits in an image.',\n",
    "    may_contain_adult_content=False,\n",
    "    # Set the price per task page.\n",
    "    reward_per_assignment=0.02,\n",
    "    will_expire=datetime.datetime.utcnow() + datetime.timedelta(days=365),\n",
    "    # Overlap. This is the number of users who will complete the same task.\n",
    "    defaults=toloka.Pool.Defaults(default_overlap_for_new_task_suites=3),\n",
    "    # Time allowed for completing a task page\n",
    "    assignment_max_duration_seconds=600,\n",
    ")"
   ]
  },
  {
   "cell_type": "markdown",
   "metadata": {},
   "source": [
    "- Read more about [pricing principles](https://toloka.ai/knowledgebase/pricing?utm_source=github&utm_medium=site&utm_campaign=tolokakit) in our Knowledge Base.\n",
    "- To understand [how overlap works](https://toloka.ai/en/docs/guide/concepts/mvote?utm_source=github&utm_medium=site&utm_campaign=tolokakit), go to the Requester’s Guide.\n",
    "- To understand how much time it should take to complete a task suite, try doing it yourself."
   ]
  },
  {
   "cell_type": "markdown",
   "metadata": {},
   "source": [
    "Attach the training you created earlier and select the accuracy level that is required to reach the main pool."
   ]
  },
  {
   "cell_type": "code",
   "execution_count": null,
   "metadata": {},
   "outputs": [],
   "source": [
    "pool.set_training_requirement(training_pool_id=training.id, training_passing_skill_value=75)"
   ]
  },
  {
   "cell_type": "markdown",
   "metadata": {},
   "source": [
    "Select English-speaking performers"
   ]
  },
  {
   "cell_type": "code",
   "execution_count": null,
   "metadata": {},
   "outputs": [],
   "source": [
    "pool.filter = toloka.filter.Languages.in_('EN')"
   ]
  },
  {
   "cell_type": "markdown",
   "metadata": {},
   "source": [
    "Set up [Quality control](https://toloka.ai/en/docs/guide/concepts/control?utm_source=github&utm_medium=site&utm_campaign=tolokakit). Ban performers who give incorrect responses to control tasks.\n",
    "\n",
    "> Since tasks such as these have an answer that can be used as ground truth, we can use standard quality control rules like golden sets.\n",
    "\n",
    "Read more about [quality control principles](https://toloka.ai/knowledgebase/quality-control?utm_source=github&utm_medium=site&utm_campaign=tolokakit) in our Knowledge Base or check out [control tasks settings](https://toloka.ai/en/docs/guide/concepts/goldenset?utm_source=github&utm_medium=site&utm_campaign=tolokakit) in the Requester’s Guide."
   ]
  },
  {
   "cell_type": "code",
   "execution_count": null,
   "metadata": {},
   "outputs": [],
   "source": [
    "pool.quality_control.add_action(\n",
    "    collector=toloka.collectors.GoldenSet(),\n",
    "    conditions=[\n",
    "        toloka.conditions.GoldenSetCorrectAnswersRate < 80.0,\n",
    "        toloka.conditions.GoldenSetAnswersCount >= 3\n",
    "    ],\n",
    "    action=toloka.actions.RestrictionV2(\n",
    "        scope='PROJECT',\n",
    "        duration=2,\n",
    "        duration_unit='DAYS',\n",
    "        private_comment='Control tasks failed'\n",
    "    )\n",
    ")\n",
    "\n",
    "pool.quality_control.add_action(\n",
    "    collector=toloka.collectors.AssignmentSubmitTime(history_size=5, fast_submit_threshold_seconds=7),\n",
    "    conditions=[toloka.conditions.FastSubmittedCount >= 1],\n",
    "    action=toloka.actions.RestrictionV2(\n",
    "        scope='PROJECT',\n",
    "        duration=2,\n",
    "        duration_unit='DAYS',\n",
    "        private_comment='Fast response'\n",
    "    ))"
   ]
  },
  {
   "cell_type": "markdown",
   "metadata": {},
   "source": [
    "Specify\tthe number of tasks per page. For example: 3 main tasks and 1 control task.\n",
    "\n",
    "> We recommend putting as many tasks on one page as a performer can complete in 1 to 5 minutes. That way, performers are less likely to get tired, and they won’t lose a significant amount of data if a technical issue occurs.\n",
    "\n",
    "To learn more about [grouping tasks](https://toloka.ai/en/docs/guide/concepts/distribute-tasks-by-pages?utm_source=github&utm_medium=site&utm_campaign=tolokakit) into suites, read the Requester’s Guide."
   ]
  },
  {
   "cell_type": "code",
   "execution_count": null,
   "metadata": {},
   "outputs": [],
   "source": [
    "pool.set_mixer_config(\n",
    "    real_tasks_count=3,\n",
    "    golden_tasks_count=1\n",
    ")"
   ]
  },
  {
   "cell_type": "markdown",
   "metadata": {},
   "source": [
    "Create pool"
   ]
  },
  {
   "cell_type": "code",
   "execution_count": null,
   "metadata": {},
   "outputs": [],
   "source": [
    "pool = toloka_client.create_pool(pool)"
   ]
  },
  {
   "cell_type": "markdown",
   "metadata": {},
   "source": [
    "**Uploading tasks**\n",
    "\n",
    "Create control tasks. In small pools, control tasks should account for 10–20% of all tasks.\n",
    "\n",
    "> Control tasks are tasks that already contain the correct response. They are used for checking the quality of responses from performers. The performer's response is compared to the response you provided. If they match, it means the performer answered correctly.\n",
    "> Make sure to include different variations of correct responses in equal amounts.\n",
    "\n",
    "To learn more about [creating control tasks](https://toloka.ai/en/docs/guide/concepts/task_markup?utm_source=github&utm_medium=site&utm_campaign=tolokakit), go to the Requester’s Guide."
   ]
  },
  {
   "cell_type": "code",
   "execution_count": null,
   "metadata": {},
   "outputs": [],
   "source": [
    "golden_tasks = [\n",
    "    toloka.Task(\n",
    "        pool_id=pool.id,\n",
    "        input_values={'image_url': row.image_url},\n",
    "        known_solutions = [\n",
    "            toloka.task.BaseTask.KnownSolution(\n",
    "                output_values={'value': row.value}\n",
    "            )\n",
    "        ],\n",
    "        infinite_overlap=True,\n",
    "    )\n",
    "    for row in golden_dataset.itertuples()\n",
    "]"
   ]
  },
  {
   "cell_type": "markdown",
   "metadata": {},
   "source": [
    "Create pool tasks"
   ]
  },
  {
   "cell_type": "code",
   "execution_count": null,
   "metadata": {},
   "outputs": [],
   "source": [
    "tasks = [\n",
    "    toloka.Task(\n",
    "        pool_id=pool.id,\n",
    "        input_values={'image_url': url},\n",
    "    )\n",
    "    for url in main_dataset['image_url']\n",
    "]"
   ]
  },
  {
   "cell_type": "markdown",
   "metadata": {},
   "source": [
    "Upload tasks"
   ]
  },
  {
   "cell_type": "code",
   "execution_count": null,
   "metadata": {},
   "outputs": [],
   "source": [
    "created_tasks = toloka_client.create_tasks(golden_tasks + tasks, allow_defaults=True)\n",
    "print(len(created_tasks.items))"
   ]
  },
  {
   "cell_type": "markdown",
   "metadata": {},
   "source": [
    "You can visit created pool in web-interface and preview tasks and control tasks.\n",
    "\n",
    "<table  align=\"center\">\n",
    "  <tr>\n",
    "  <td>\n",
    "    <img src=\"./img/performer_interface.png\" alt=\"Possible performer interface\">\n",
    "  </td>\n",
    "  </tr>\n",
    "  <tr><td align=\"center\">\n",
    "    <b>Figure 2.</b> Possible performer interface.\n",
    "  </td></tr>\n",
    "</table>"
   ]
  },
  {
   "cell_type": "markdown",
   "metadata": {},
   "source": [
    "Start the pool.\n",
    "\n",
    "**Important.** Remember that real Toloka performers will complete the tasks.\n",
    "Double check that everything is correct\n",
    "with your project configuration before you start the pool"
   ]
  },
  {
   "cell_type": "code",
   "execution_count": null,
   "metadata": {},
   "outputs": [],
   "source": [
    "training = toloka_client.open_training(training.id)\n",
    "print(f'training - {training.status}')\n",
    "\n",
    "pool = toloka_client.open_pool(pool.id)\n",
    "print(f'main pool - {pool.status}')"
   ]
  },
  {
   "cell_type": "markdown",
   "metadata": {},
   "source": [
    "## Receiving responses"
   ]
  },
  {
   "cell_type": "markdown",
   "metadata": {},
   "source": [
    "Wait until the pool is completed."
   ]
  },
  {
   "cell_type": "code",
   "execution_count": null,
   "metadata": {},
   "outputs": [],
   "source": [
    "pool_id = pool.id\n",
    "\n",
    "def wait_pool_for_close(pool_id, minutes_to_wait=1):\n",
    "    sleep_time = 60 * minutes_to_wait\n",
    "    pool = toloka_client.get_pool(pool_id)\n",
    "    while not pool.is_closed():\n",
    "        op = toloka_client.get_analytics([toloka.analytics_request.CompletionPercentagePoolAnalytics(subject_id=pool.id)])\n",
    "        op = toloka_client.wait_operation(op)\n",
    "        percentage = op.details['value'][0]['result']['value']\n",
    "        logging.info(\n",
    "            f'   {datetime.datetime.now().strftime(\"%H:%M:%S\")}\\t'\n",
    "            f'Pool {pool.id} - {percentage}%'\n",
    "        )\n",
    "        time.sleep(sleep_time)\n",
    "        pool = toloka_client.get_pool(pool.id)\n",
    "    logging.info('Pool was closed.')\n",
    "\n",
    "wait_pool_for_close(pool_id)"
   ]
  },
  {
   "cell_type": "markdown",
   "metadata": {},
   "source": [
    "Get responses\n",
    "\n",
    "When all the tasks are completed, look at the responses from performers."
   ]
  },
  {
   "cell_type": "code",
   "execution_count": null,
   "metadata": {},
   "outputs": [],
   "source": [
    "answers = []\n",
    "\n",
    "for assignment in toloka_client.get_assignments(pool_id=pool.id, status='ACCEPTED'):\n",
    "    for task, solution in zip(assignment.tasks, assignment.solutions):\n",
    "        if not task.known_solutions:\n",
    "            answers.append([task.input_values['image_url'], solution.output_values['value'], assignment.user_id])\n",
    "\n",
    "print(f'answers count: {len(answers)}')\n",
    "# Prepare dataframe\n",
    "answers_df = pandas.DataFrame(answers, columns=['task', 'text', 'worker'])"
   ]
  },
  {
   "cell_type": "markdown",
   "metadata": {},
   "source": [
    "Aggregation results using the ROVER model impemented in [Crowd-Kit](https://github.com/Toloka/crowd-kit#crowd-kit-computational-quality-control-for-crowdsourcing)."
   ]
  },
  {
   "cell_type": "code",
   "execution_count": null,
   "metadata": {},
   "outputs": [],
   "source": [
    "rover_agg_df = ROVER(tokenizer=lambda x: list(x), detokenizer=lambda x: ''.join(x)).fit_predict(answers_df)"
   ]
  },
  {
   "cell_type": "markdown",
   "metadata": {},
   "source": [
    "Look at the results.\n",
    "\n",
    "Some preparations for displaying the results"
   ]
  },
  {
   "cell_type": "code",
   "execution_count": null,
   "metadata": {},
   "outputs": [],
   "source": [
    "images = rover_agg_df.index.values\n",
    "labels = rover_agg_df.values\n",
    "start_with = 0"
   ]
  },
  {
   "cell_type": "markdown",
   "metadata": {},
   "source": [
    "Note: The cell below can be run several times."
   ]
  },
  {
   "cell_type": "code",
   "execution_count": null,
   "metadata": {},
   "outputs": [],
   "source": [
    "if start_with >= len(rover_agg_df):\n",
    "    logging.info('no more images')\n",
    "else:\n",
    "    ipyplot.plot_images(\n",
    "        images=images[start_with:],\n",
    "        labels=labels[start_with:],\n",
    "        max_images=8,\n",
    "        img_width=300,\n",
    "    )\n",
    "\n",
    "    start_with += 8"
   ]
  },
  {
   "cell_type": "markdown",
   "metadata": {
    "pycharm": {
     "name": "#%% md\n"
    }
   },
   "source": [
    "**You** can see the labeled images. Some possible results are shown in figure 3 below.\n",
    "\n",
    "<table  align=\"center\">\n",
    "  <tr><td>\n",
    "    <img src=\"./img/possible_result.png\"\n",
    "         alt=\"Possible results\">\n",
    "  </td></tr>\n",
    "  <tr><td align=\"center\">\n",
    "    <b>Figure 3.</b> Possible results.\n",
    "  </td></tr>\n",
    "</table>"
   ]
  }
 ],
 "metadata": {
  "kernelspec": {
   "display_name": "Python 3 (ipykernel)",
   "language": "python",
   "name": "python3"
  },
  "language_info": {
   "codemirror_mode": {
    "name": "ipython",
    "version": 3
   },
   "file_extension": ".py",
   "mimetype": "text/x-python",
   "name": "python",
   "nbconvert_exporter": "python",
   "pygments_lexer": "ipython3",
   "version": "3.9.12"
  }
 },
 "nbformat": 4,
 "nbformat_minor": 4
}
