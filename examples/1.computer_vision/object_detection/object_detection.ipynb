{
 "cells": [
  {
   "cell_type": "markdown",
   "metadata": {},
   "source": [
    "# Annotating ground truth for object detection\n",
    "\n",
    "The goal of this notebook is to annotate images which can later be used for training of detection algorithms.\n",
    "\n",
    "We will configure and run such project in Toloka from scratch.\n",
    "\n",
    "Performers will be asked to annotate the particular objects in the image.\n"
   ]
  },
  {
   "cell_type": "markdown",
   "metadata": {},
   "source": [
    "### Call to action\n",
    "If you found some bugs or have a new feature idea, don't hesitate to [open a new issue on Github](https://github.com/Toloka/toloka-kit/issues/new/choose).\n",
    "Like our library and examples? Star [our repo on Github](https://github.com/Toloka/toloka-kit)"
   ]
  },
  {
   "cell_type": "markdown",
   "metadata": {},
   "source": [
    "## The challenge\n",
    "We have a set of real-life photos of roads:\n",
    "\n",
    "<table  align=\"center\">\n",
    "  <tr><td>\n",
    "    <img src=\"https://tlk.s3.yandex.net/sdc/photos/0b35956a9afc639a71045f09745096de.jpg\"\n",
    "         alt=\"Sample road photo\"  width=\"800\">\n",
    "  </td></tr>\n",
    "  <tr><td align=\"center\">\n",
    "    <b>Figure 1.</b> Sample road photo\n",
    "  </td></tr>\n",
    "</table>\n",
    "\n",
    "We need to outline every traffic sign. Ultimately, we need to get a set of contours, defined by an array of points, that\n",
    "represent the road signs in each photo. Here’s how it can look like:\n",
    "\n",
    "<table  align=\"center\">\n",
    "  <tr><td>\n",
    "    <img src=\"./img/segmentation_example.png\"\n",
    "         alt=\"Example of how road sign detection can be performed\"  width=\"800\">\n",
    "  </td></tr>\n",
    "  <tr><td align=\"center\">\n",
    "    <b>Figure 2.</b> Example of how road sign detection can be performed.\n",
    "  </td></tr>\n",
    "</table>\n",
    "\n",
    "In real-world tasks, annotation is usually done with a polygon. We chose to use a rectangular outline to simplify the\n",
    "task so that we can reduce costs and speed things up."
   ]
  },
  {
   "cell_type": "markdown",
   "metadata": {},
   "source": [
    "### Detailed task description\n",
    "In this notebook we will implement Projects 2 and 3 from the [tutorial](https://toloka.ai/en/docs/guide/concepts/image-segmentation-overview?utm_source=github&utm_medium=site&utm_campaign=tolokakit).\n",
    "Check this link if you want to configure these projects right in the web interface.\n",
    "\n",
    "We'll skip the first project \"Does the image contain a specific object?\" from tutorial above, since it's easy to\n",
    "implement using our [\"verification project\"](https://toloka.ai/en/docs/guide/concepts/image-segmentation-project3?utm_source=github&utm_medium=site&utm_campaign=tolokakit) code.\n",
    "\n",
    "Here are the two projects we’re going to implement:\n",
    "- **Detection project** \"[Select an object in the image](https://toloka.ai/en/docs/guide/concepts/image-segmentation-project2?utm_source=github&utm_medium=site&utm_campaign=tolokakit)\" : performers will select image areas that contain a traffic sign.\n",
    "- **Verification project** \"[Are the bounding boxes correct?](https://toloka.ai/en/docs/guide/concepts/image-segmentation-project3?utm_source=github&utm_medium=site&utm_campaign=tolokakit)\" : performers will determine if traffic signs were selected correctly in the images.\n",
    "\n",
    "[Control tasks](https://toloka.ai/en/docs/guide/concepts/goldenset?utm_source=github&utm_medium=site&utm_campaign=tolokakit) and [majority vote](https://toloka.ai/en/docs/guide/concepts/mvote?utm_source=github&utm_medium=site&utm_campaign=tolokakit) aren't used for the detection project, because we can’t expect the area annotations provided by the performers to match each other exactly. Instead, we’ll check detection results in the second project, where a different group of performers will determine whether the traffic signs were annotated correctly or not."
   ]
  },
  {
   "cell_type": "markdown",
   "metadata": {},
   "source": [
    "### Set up the environment\n",
    "First of all, we higly recommend to read [learn the basics example](https://github.com/Toloka/toloka-kit/blob/main/examples/0.getting_started/0.learn_the_basics/) [![Open In Colab](https://colab.research.google.com/assets/colab-badge.svg)](https://colab.research.google.com/github/Toloka/toloka-kit/blob/main/examples/0.getting_started/0.learn_the_basics/learn_the_basics.ipynb) before you start this one to be familiar with the main kinds of entities in Toloka.\n",
    "\n",
    "In our example we are using the production version of Toloka, but you can also use [Toloka sandbox](https://toloka.ai/en/docs/guide/concepts/sandbox?utm_source=github&utm_medium=site&utm_campaign=tolokakit). Sandbox specifications of the code are presented in the comments."
   ]
  },
  {
   "cell_type": "markdown",
   "metadata": {},
   "source": [
    "Prepare environment and import necessary libraries"
   ]
  },
  {
   "cell_type": "code",
   "execution_count": null,
   "metadata": {},
   "outputs": [],
   "source": [
    "%%capture\n",
    "!pip install toloka-kit==0.1.26 # To interact with Toloka API\n",
    "!pip install ipyplot # To plot images inside Jupyter Notebooks cells\n",
    "!pip install crowd-kit==1.0.0\n",
    "\n",
    "import os\n",
    "import datetime\n",
    "import time\n",
    "import logging\n",
    "import sys\n",
    "import getpass\n",
    "\n",
    "import pandas as pd   # To perform data manipulation\n",
    "import ipyplot\n",
    "\n",
    "\n",
    "from typing import List\n",
    "from toloka.streaming.event import AssignmentEvent\n",
    "\n",
    "import toloka.client as toloka\n",
    "import toloka.client.project.template_builder as tb\n",
    "\n",
    "from crowdkit.aggregation import MajorityVote\n",
    "\n",
    "logging.basicConfig(\n",
    "    format='[%(levelname)s] %(name)s: %(message)s',\n",
    "    level=logging.INFO,\n",
    "    stream=sys.stdout,\n",
    ")"
   ]
  },
  {
   "cell_type": "markdown",
   "metadata": {},
   "source": [
    "Create a toloka-client instance. All API calls will pass through it."
   ]
  },
  {
   "cell_type": "code",
   "execution_count": null,
   "metadata": {},
   "outputs": [],
   "source": [
    "toloka_client = toloka.TolokaClient(getpass.getpass('Enter your OAuth token: '), 'PRODUCTION') # Or switch to 'SANDBOX'\n",
    "print(toloka_client.get_requester())"
   ]
  },
  {
   "cell_type": "markdown",
   "metadata": {},
   "source": [
    "Learn more about [Toloka API](https://toloka.ai/en/docs/api/?utm_source=github&utm_medium=site&utm_campaign=tolokakit) and [Toloka Kit](https://toloka.github.io/toloka-kit?utm_source=github&utm_medium=site&utm_campaign=tolokakit).\n"
   ]
  },
  {
   "cell_type": "markdown",
   "metadata": {},
   "source": [
    "### Review the dataset\n",
    "The dataset used is collected by Toloka team and distributed under a Creative Commons Attribution 4.0 International license\n",
    "[![License: CC BY 4.0](https://img.shields.io/badge/License-CC%20BY%204.0-lightgrey.svg)](https://creativecommons.org/licenses/by/4.0/).\n",
    "\n",
    "Our dataset is just a collection of image URLs."
   ]
  },
  {
   "cell_type": "code",
   "execution_count": null,
   "metadata": {
    "scrolled": true
   },
   "outputs": [],
   "source": [
    "!curl https://tlk.s3.yandex.net/dataset/road_signs.tsv --output dataset.tsv\n",
    "\n",
    "# Load the dataset of links to a pd DataFrame\n",
    "dataset = pd.read_csv('dataset.tsv', sep='\\t')\n",
    "\n",
    "# Plot 5 images from dataset to verify data loading\n",
    "ipyplot.plot_images(\n",
    "    [url for url in dataset['image'].sample(n=50)],\n",
    "    max_images=5,\n",
    "    img_width=1000\n",
    ")"
   ]
  },
  {
   "cell_type": "markdown",
   "metadata": {},
   "source": [
    "---\n",
    "---\n",
    "## Create a new detection project\n",
    "\n",
    "In this project, performers select image areas that contain traffic signs.\n",
    "\n",
    "The first step is to configure how performers will see the tasks:\n",
    "* write instructions,\n",
    "* define the input and output formats.\n",
    "\n",
    "**Note:** It's important to write clear instructions with examples to make sure the performers do exactly what we want. We also recommend checking the task interface."
   ]
  },
  {
   "cell_type": "code",
   "execution_count": null,
   "metadata": {},
   "outputs": [],
   "source": [
    "# How performers will see the task\n",
    "project_interface = toloka.project.TemplateBuilderViewSpec(\n",
    "    view=tb.ImageAnnotationFieldV1(  # Component that selects areas in images\n",
    "        tb.OutputData('result'),  # Path for writing output data\n",
    "        tb.InputData('image'),  # Getter for the input image\n",
    "        shapes={'rectangle': True},  # Allow to select only rectangular areas\n",
    "        validation=tb.RequiredConditionV1(hint='Please select an area')  # At least one area should be selected\n",
    "    )\n",
    ")\n",
    "\n",
    "# You can write instructions and upload them from a file or enter them later in the web interface\n",
    "# prepared_instruction = open('instruction.html').read().strip()\n",
    "prepared_instruction = '<b>Outline each traffic sign with a separate bounding box(rectangle).</b>'\n",
    "\n",
    "# Set up the project\n",
    "detection_project = toloka.Project(\n",
    "    public_name='Outline all traffic signs with bounding boxes',\n",
    "    public_description='Find and outline all traffic signs with bounding boxes.',\n",
    "    public_instructions=prepared_instruction,\n",
    "    # Set up the task: view, input, and output parameters\n",
    "    task_spec=toloka.project.task_spec.TaskSpec(\n",
    "        input_spec={'image': toloka.project.UrlSpec()},\n",
    "        output_spec={'result': toloka.project.JsonSpec()},\n",
    "        view_spec=project_interface,\n",
    "    ),\n",
    ")"
   ]
  },
  {
   "cell_type": "markdown",
   "metadata": {
    "pycharm": {
     "name": "#%% md\n"
    }
   },
   "source": [
    "Call the API to create a new project."
   ]
  },
  {
   "cell_type": "code",
   "execution_count": null,
   "metadata": {
    "pycharm": {
     "name": "#%%\n"
    }
   },
   "outputs": [],
   "source": [
    "detection_project = toloka_client.create_project(detection_project)"
   ]
  },
  {
   "cell_type": "markdown",
   "metadata": {},
   "source": [
    "### Review your project and check the task interface\n",
    "\n",
    "Visit the project page to make sure the task interface is working correctly.\n",
    "\n",
    "To do this:\n",
    "\n",
    "1. Follow the link in the output above.\n",
    "2. In the project interface, click **Project actions** on the top right.\n",
    "3. Click **Preview** in the menu that appears.\n",
    "4. Click **Change input data**.\n",
    "5. Insert an image URL (for example, `https://tlk.s3.yandex.net/sdc/photos/0b35956a9afc639a71045f09745096de.jpg`) into the `image` field.\n",
    "6. Click the **Instructions** button. Make sure the instructions are shown and valid.\n",
    "7. Try to select multiple areas with a rectangle using **Box annotation tool**.\n",
    "8. Click **Submit** and then **View responses**.\n",
    "\n",
    "The result window will appear. Check that your results are in the expected format and that the data is being entered correctly.\n",
    "\n",
    "<table  align=\"center\">\n",
    "  <tr><td>\n",
    "    <img src=\"./img/segmentation_results_preview.png\"\n",
    "         alt=\"Task interface\"  width=\"800\">\n",
    "  </td></tr>\n",
    "  <tr><td align=\"center\">\n",
    "    <b>Figure 3.</b> What the results window might look like\n",
    "  </td></tr>\n",
    "</table>\n",
    "\n",
    "We strongly recommend to check the task interface and instructions every time you create a project. This helps performers to complete the task correctly and your results to be useful.\n",
    "\n",
    "**Tip:** Do a trial run with a small amount of data. Make sure that after running the entire pipeline, you get data in the expected format and quality."
   ]
  },
  {
   "cell_type": "markdown",
   "metadata": {},
   "source": [
    "### Add custom skills for performers\n",
    "\n",
    "A skill can describe any characteristic of the performer. Skills are defined by a number from 0 to 100. For example, you can record the percentage of correct responses as a skill. Learn more about [skills](https://toloka.ai/en/docs/guide/concepts/nav?utm_source=github&utm_medium=site&utm_campaign=tolokakit).\n",
    "\n",
    "In this project, we'll create two skills:\n",
    "- **Detection skill**: Shows the performer completed at least one detection task. We'll later filter out these performers from verification tasks, so that no one can check their own detection.\n",
    "- **Verification skill**: How good the current performer is, when compared to others. We'll need this skill later when aggregating the results of the second project."
   ]
  },
  {
   "cell_type": "code",
   "execution_count": null,
   "metadata": {},
   "outputs": [],
   "source": [
    "detection_skill = next(toloka_client.get_skills(name='Area selection of road signs'), None)\n",
    "if detection_skill:\n",
    "    print('Detection skill already exists')\n",
    "else:\n",
    "    detection_skill = toloka_client.create_skill(\n",
    "        name='Area selection of road signs',\n",
    "        hidden=True,\n",
    "        public_requester_description={'EN': 'Performer is annotating road signs'},\n",
    "    )\n",
    "\n",
    "verification_skill = next(toloka_client.get_skills(name='Detection verification'), None)\n",
    "if verification_skill:\n",
    "    print('Verification skill already exists')\n",
    "else:\n",
    "    verification_skill = toloka_client.create_skill(\n",
    "        name='Detection verification',\n",
    "        hidden=True,\n",
    "        public_requester_description={'EN': 'How good a performer is at verifying detection tasks'},\n",
    "    )"
   ]
  },
  {
   "cell_type": "markdown",
   "metadata": {},
   "source": [
    "### Pool creation for a detection project\n",
    "A pool is a set of paid tasks sent out for performers.\n",
    "\n",
    "First, create an instance of the pool and set the basic parameters:\n",
    "- Payment amount per task.\n",
    "- Non-automatic acceptance of results.\n",
    "- Number of tasks performers will see on one page.\n",
    "- Performer's filter: control who can access this task.\n",
    "\n",
    "More about configuring and running pools in:\n",
    "* [Toloka Kit](https://toloka.ai/en/docs/toloka-kit/source/toloka.client.pool?utm_source=github&utm_medium=site&utm_campaign=tolokakit)\n",
    "* [Help](https://toloka.ai/en/docs/guide/concepts/pool-main?utm_source=github&utm_medium=site&utm_campaign=tolokakit)\n",
    "* [Toloka API](https://toloka.ai/en/docs/api/create-pool?utm_source=github&utm_medium=site&utm_campaign=tolokakit)"
   ]
  },
  {
   "cell_type": "code",
   "execution_count": null,
   "metadata": {},
   "outputs": [],
   "source": [
    "detection_pool = toloka.Pool(\n",
    "    project_id=detection_project.id,\n",
    "    private_name='Pool 1',  # Only you can see this information.\n",
    "    may_contain_adult_content=False,\n",
    "    will_expire=datetime.datetime.utcnow() + datetime.timedelta(days=365),  # Pool will automatically close after one year\n",
    "    reward_per_assignment=0.01,     # Set the minimum payment amount for one task page\n",
    "    auto_accept_solutions=False,    # Only pay the performer for completing the task,\n",
    "                                    # based on the verification results of the second project.\n",
    "\n",
    "    auto_accept_period_day=7,       # Number of days to determine if we'll pay for task completion by this performer or not.\n",
    "    assignment_max_duration_seconds=60*20,  # Give performers 20 minutes maximum to complete one task page.\n",
    "    defaults=toloka.pool.Pool.Defaults(\n",
    "        # We don't need overlapping for detection tasks, so we set it to 1\n",
    "        default_overlap_for_new_task_suites=1,\n",
    "        default_overlap_for_new_tasks=1,\n",
    "    ),\n",
    ")\n",
    "\n",
    "# Set the number of tasks per page\n",
    "detection_pool.set_mixer_config(real_tasks_count=1)\n",
    "# Please note that the payment amount specified when creating the pool is the amount the performer receives for completing one page of tasks.\n",
    "# If you specify 10 tasks per page above, then reward_per_assignment will be paid for completing 10 tasks."
   ]
  },
  {
   "cell_type": "markdown",
   "metadata": {},
   "source": [
    "We'll only show our tasks to English-speaking users because the description of the task is in English.\n",
    "This means that only people who speak English will be able to accept this task."
   ]
  },
  {
   "cell_type": "code",
   "execution_count": null,
   "metadata": {},
   "outputs": [],
   "source": [
    "detection_pool.filter = toloka.filter.Languages.in_('EN')"
   ]
  },
  {
   "cell_type": "markdown",
   "metadata": {},
   "source": [
    "**Quality control rules**\n",
    "\n",
    "View a detailed description of our quality control rules [in documentation](https://toloka.ai/en/docs/guide/concepts/control?utm_source=github&utm_medium=site&utm_campaign=tolokakit).\n",
    "\n",
    "Each quality control rule consists of the following:\n",
    "- **Collector**: How to collect statistics and which metrics can be used in this rule.\n",
    "- **Condition**: When the rule will be triggered. Under this condition, only parameters that apply to the collector can be used.\n",
    "- **Action**: What to do if the condition is true."
   ]
  },
  {
   "cell_type": "code",
   "execution_count": null,
   "metadata": {},
   "outputs": [],
   "source": [
    "# The first rule in this project restricts pool access for performers who often make mistakes\n",
    "detection_pool.quality_control.add_action(\n",
    "    collector=toloka.collectors.AcceptanceRate(),\n",
    "    conditions=[\n",
    "        # Performer completed more than 2 tasks\n",
    "        toloka.conditions.TotalAssignmentsCount > 2,\n",
    "        # And more than 35% of their responses were rejected\n",
    "        toloka.conditions.RejectedAssignmentsRate > 35,\n",
    "    ],\n",
    "    # This action tells Toloka what to do if the condition above is True\n",
    "    # In our case, we'll restrict access for 15 days\n",
    "    # Always leave a comment: it may be useful later on\n",
    "    action=toloka.actions.RestrictionV2(\n",
    "        scope='ALL_PROJECTS',\n",
    "        duration=15,\n",
    "        duration_unit='DAYS',\n",
    "        private_comment='Performer often make mistakes',  # Only you will see this comment\n",
    "    )\n",
    ")\n",
    "\n",
    "# The second useful rule is \"Fast responses\". It allows us to filter out performers who respond too quickly.\n",
    "detection_pool.quality_control.add_action(\n",
    "    # Let's monitor fast submissions for the last 5 completed task pages\n",
    "    # And define ones that take less than 20 seconds as quick responses.\n",
    "    collector=toloka.collectors.AssignmentSubmitTime(history_size=5, fast_submit_threshold_seconds=20),\n",
    "    # If we see more than one fast response, we ban the performer from all our projects for 10 days.\n",
    "    conditions=[toloka.conditions.FastSubmittedCount > 1],\n",
    "    action=toloka.actions.RestrictionV2(\n",
    "        scope='ALL_PROJECTS',\n",
    "        duration=10,\n",
    "        duration_unit='DAYS',\n",
    "        private_comment='Fast responses',  # Only you will see this comment\n",
    "    )\n",
    ")\n",
    "\n",
    "# Another rule we use is for automatically updating skills\n",
    "# We update the detection skill for performers who complete at least one page of tasks from detection pool.\n",
    "detection_pool.quality_control.add_action(\n",
    "    collector=toloka.collectors.AnswerCount(),\n",
    "    # If performer completed at least one task, it sets the new skill to 1\n",
    "    conditions=[toloka.conditions.AssignmentsAcceptedCount > 0],\n",
    "    action=toloka.actions.SetSkill(skill_id=detection_skill.id, skill_value=1),\n",
    ")\n",
    "\n",
    "# This rule sends rejected assignments (tasks that you rejected) to other performers according to specified parameters.\n",
    "detection_pool.quality_control.add_action(\n",
    "    collector=toloka.collectors.AssignmentsAssessment(),\n",
    "    # Check if a task was rejected\n",
    "    conditions=[toloka.conditions.AssessmentEvent == 'REJECT'],\n",
    "    # If the condition is True, add 1 to overlap and open the pool\n",
    "    action=toloka.actions.ChangeOverlap(delta=1, open_pool=True),\n",
    ")\n",
    "\n",
    "print('Quality rules count:', len(detection_pool.quality_control.configs))"
   ]
  },
  {
   "cell_type": "markdown",
   "metadata": {},
   "source": [
    "### Create a pool with all specified conditions\n",
    "\n",
    "Now we call the Toloka API to finally create a pool in the detection project.\n",
    "\n",
    "Afterwards, you can check the pool in the web interface. You'll see there aren't any tasks in it. We'll add them later."
   ]
  },
  {
   "cell_type": "code",
   "execution_count": null,
   "metadata": {},
   "outputs": [],
   "source": [
    "detection_pool = toloka_client.create_pool(detection_pool)"
   ]
  },
  {
   "cell_type": "markdown",
   "metadata": {},
   "source": [
    "---\n",
    "---\n",
    "## Create a new project for verification\n",
    "In this project, performers will determine if traffic signs were outlined correctly or not.\n",
    "\n",
    "This will be a standard classification project with only two classes: `OK` and `BAD`. We’ll explicitly define these labels as the output values."
   ]
  },
  {
   "cell_type": "code",
   "execution_count": null,
   "metadata": {},
   "outputs": [],
   "source": [
    "# Configure task interface: how performers will see the task\n",
    "verification_interface = toloka.project.TemplateBuilderViewSpec(\n",
    "    view=tb.ListViewV1(  # List of components that should be positioned from top to bottom in the UI\n",
    "        [\n",
    "            tb.ImageAnnotationFieldV1(  # Image and selected areas to verify\n",
    "                tb.InternalData('selection',\n",
    "                                default=tb.InputData('selection')),  # Use the input field as default value to display the selected areas\n",
    "                tb.InputData('image'),\n",
    "                disabled=True  # Disable adding and deleting areas\n",
    "            ),\n",
    "            tb.RadioGroupFieldV1(  # A component for selecting one value out of several options\n",
    "                tb.OutputData('result'),  # Path for writing output data\n",
    "                [\n",
    "                    tb.GroupFieldOption('OK', 'Yes'),\n",
    "                    tb.GroupFieldOption('BAD', 'No'),\n",
    "                ],\n",
    "                label='Are all traffic signs outlined correctly?',  # Label above the options\n",
    "                validation=tb.RequiredConditionV1()  # Requirement to select one of the options\n",
    "            )\n",
    "        ]\n",
    "    ),\n",
    "    plugins=[\n",
    "        tb.HotkeysPluginV1( # Shortcuts for selecting options using the keyboard\n",
    "            key_1=tb.SetActionV1(tb.OutputData('result'), 'OK'),\n",
    "            key_2=tb.SetActionV1(tb.OutputData('result'), 'BAD')\n",
    "        )\n",
    "    ]\n",
    ")\n",
    "\n",
    "# You can write instructions and upload them from a file or enter them later in the web interface\n",
    "# prepared_instruction = open('instruction.html').read().strip()\n",
    "verification_instruction = '''<b>Look at the image and answer the question:</b><br/>\n",
    "Are all traffic signs outlined correctly?<br/>\n",
    "If they are, click Yes.<br/>\n",
    "If they aren't, click No.<br/>\n",
    "For example, the road signs here are outlined correctly, so the correct answer is Yes.'''\n",
    "\n",
    "# Set up the project\n",
    "verification_project = toloka.Project(\n",
    "    public_name='Are the traffic signs outlined correctly?',\n",
    "    public_description='Look at the image and decide whether or not the traffic signs are outlined correctly',\n",
    "    public_instructions=verification_instruction,\n",
    "    # Set up the task: view, input, and output parameters\n",
    "    task_spec=toloka.project.task_spec.TaskSpec(\n",
    "        input_spec={\n",
    "            'image': toloka.project.UrlSpec(),\n",
    "            'selection': toloka.project.JsonSpec(),\n",
    "            'assignment_id': toloka.project.StringSpec(),\n",
    "        },\n",
    "        # Set allowed_values, we'll use smart mixing to get the results of this project\n",
    "        output_spec={'result': toloka.project.StringSpec(allowed_values=['OK', 'BAD'])},\n",
    "        view_spec=verification_interface,\n",
    "    ),\n",
    ")"
   ]
  },
  {
   "cell_type": "markdown",
   "metadata": {},
   "source": [
    "Call the API to create a new project"
   ]
  },
  {
   "cell_type": "code",
   "execution_count": null,
   "metadata": {},
   "outputs": [],
   "source": [
    "verification_project = toloka_client.create_project(verification_project)"
   ]
  },
  {
   "cell_type": "markdown",
   "metadata": {},
   "source": [
    "Examine created project in the web interface. To do that:\n",
    "\n",
    "1. Follow the link above to check the task interface and instructions.\n",
    "\n",
    "    **Note:** You should see nearly the same interface as in the previous project, only without the ability to select areas.\n",
    "    It's important to make sure that the annotation results from the first project display correctly in the second one.\n",
    "\n",
    "\n",
    "2. Open the task **Preview** in the first project.\n",
    "3. Outline the signs and click **Submit**.\n",
    "4. Copy the result.\n",
    "5. Now open the **Preview** of the second project.\n",
    "6. Click **Change input data** and paste the annotation results in the `selection` field.\n",
    "7. Click **Apply** and make sure the annotation displays correctly."
   ]
  },
  {
   "cell_type": "markdown",
   "metadata": {},
   "source": [
    "### Create and set up a pool in the verification project\n",
    "We will add filter for this pool: specify performers that don't have the detection skill (as they performed in detection tasks). You can combine multiple conditions using the `&` and `|` operators.\n",
    "\n",
    "**Note:** we add two quality control rules with the same collector, but with different conditions and actions."
   ]
  },
  {
   "cell_type": "code",
   "execution_count": null,
   "metadata": {},
   "outputs": [],
   "source": [
    "verification_pool = toloka.Pool(\n",
    "    project_id=verification_project.id,\n",
    "    private_name='Pool 1. Road sign verification',  # Only you can see this information.\n",
    "    may_contain_adult_content=False,\n",
    "    will_expire=datetime.datetime.utcnow() + datetime.timedelta(days=365),  # Pool will close automatically after one year\n",
    "    reward_per_assignment=0.01,  # We set the minimum payment amount for one task page\n",
    "                                 # By default, auto_accept_solutions is on,\n",
    "                                 # so we'll pay for all the tasks without checking results.\n",
    "    assignment_max_duration_seconds=60*10,  # Give performers 10 minutes to complete one task page\n",
    "    defaults=toloka.pool.Pool.Defaults(\n",
    "        # We need an overlap to compare the performers among themselves,\n",
    "        default_overlap_for_new_task_suites=5,\n",
    "    ),\n",
    ")\n",
    "\n",
    "# We'll only show our tasks to English-speaking users because the description of the task is in English.\n",
    "# We also won't allow our verification tasks to be performed by users who performed detection tasks.\n",
    "verification_pool.filter = (\n",
    "    (toloka.filter.Languages.in_('EN')) &\n",
    "    (toloka.filter.Skill(detection_skill.id) == None)\n",
    ")\n",
    "\n",
    "# Set up quality control\n",
    "# Quality is based on the majority of matching responses from performers who completed the same task.\n",
    "verification_pool.quality_control.add_action(\n",
    "    collector=toloka.collectors.MajorityVote(answer_threshold=2),\n",
    "    # If a performer has 10 or more responses\n",
    "    # And the responses are correct in less than 50% of cases,\n",
    "    conditions=[\n",
    "        toloka.conditions.TotalAnswersCount > 9,\n",
    "        toloka.conditions.CorrectAnswersRate < 50,\n",
    "    ],\n",
    "    # We ban the performer from all our projects for 10 days.\n",
    "    action=toloka.actions.RestrictionV2(\n",
    "        scope='ALL_PROJECTS',\n",
    "        duration=10,\n",
    "        duration_unit='DAYS',\n",
    "        private_comment=' Doesn\\'t match the majority',  # Only you will see this comment\n",
    "    )\n",
    ")\n",
    "\n",
    "# Set up the new skill value using MajorityVote.\n",
    "# Depending on the percentage of correct responses, we increase the value of the performer's skill.\n",
    "verification_pool.quality_control.add_action(\n",
    "    collector=toloka.collectors.MajorityVote(answer_threshold=2, history_size=10),\n",
    "    conditions=[\n",
    "        toloka.conditions.TotalAnswersCount > 2,\n",
    "    ],\n",
    "    action=toloka.actions.SetSkillFromOutputField(\n",
    "        skill_id=verification_skill.id,\n",
    "        from_field='correct_answers_rate',\n",
    "    ),\n",
    ")\n",
    "print(f'Quality rule count:{len(verification_pool.quality_control.configs)}')"
   ]
  },
  {
   "cell_type": "markdown",
   "metadata": {},
   "source": [
    "### Create a pool"
   ]
  },
  {
   "cell_type": "code",
   "execution_count": null,
   "metadata": {},
   "outputs": [],
   "source": [
    "# Set the task count for one page\n",
    "verification_pool.set_mixer_config(\n",
    "    real_tasks_count=10,\n",
    "    force_last_assignment=True,\n",
    ")\n",
    "\n",
    "verification_pool = toloka_client.create_pool(verification_pool)"
   ]
  },
  {
   "cell_type": "markdown",
   "metadata": {},
   "source": [
    "---\n",
    "---\n",
    "## Add tasks to pools and run the projects\n",
    "At this point, we have configured two projects, and now we can upload the real data that we want to annotate."
   ]
  },
  {
   "cell_type": "code",
   "execution_count": null,
   "metadata": {},
   "outputs": [],
   "source": [
    "tasks = [\n",
    "    toloka.Task(input_values={'image': url}, pool_id=detection_pool.id)\n",
    "    for url in dataset['image'].values[:20]\n",
    "]\n",
    "# Add tasks to a pool\n",
    "toloka_client.create_tasks(tasks, allow_defaults=True)\n",
    "\n",
    "detection_pool = toloka_client.open_pool(detection_pool.id)"
   ]
  },
  {
   "cell_type": "markdown",
   "metadata": {},
   "source": [
    "Visit the pool page in the web interface and make sure everything is ok: the number of tasks is correct, the pool is running, and some tasks may already be completed.\n",
    "\n",
    "<table  align=\"center\">\n",
    "  <tr><td>\n",
    "    <img src=\"./img/segmentation_pool_look.png\"\n",
    "         alt=\"Pool with tasks\"  width=\"800\">\n",
    "  </td></tr>\n",
    "  <tr><td align=\"center\">\n",
    "    <b>Figure 4.</b> How a running pool may look.\n",
    "  </td></tr>\n",
    "</table>\n"
   ]
  },
  {
   "cell_type": "markdown",
   "metadata": {},
   "source": [
    "Toloka performers work really fast, but they still need time to complete their tasks. We’ll use streaming to avoid having to wait until the detection pool closes completely.\n",
    "\n",
    "Remember that you should also review the assignments of the detection pool in the web interface. More about [reviewing assignments](https://toloka.ai/en/docs/guide/concepts/offline-accept?utm_source=github&utm_medium=site&utm_campaign=tolokakit).\n",
    "You can view the status of the pool in the web interface, but this is not very convenient in a real-life project."
   ]
  },
  {
   "cell_type": "code",
   "execution_count": null,
   "metadata": {},
   "outputs": [],
   "source": [
    "from toloka.streaming import AssignmentsObserver, Pipeline"
   ]
  },
  {
   "cell_type": "code",
   "execution_count": null,
   "metadata": {},
   "outputs": [],
   "source": [
    "# class for handling submissions in the detection pool\n",
    "class DetectionSubmittedHandler:\n",
    "    def __init__(self, client, verification_pool_id):\n",
    "        self.client = client\n",
    "        self.verification_pool_id = verification_pool_id\n",
    "\n",
    "    # create new tasks for the verification pool\n",
    "    def __call__(self, events: List[AssignmentEvent]) -> None:\n",
    "        verification_tasks = [\n",
    "            toloka.Task(\n",
    "                pool_id=self.verification_pool_id,\n",
    "                input_values={\n",
    "                        'image': event.assignment.tasks[0].input_values['image'],\n",
    "                        'selection': event.assignment.solutions[0].output_values['result'],\n",
    "                        'assignment_id': event.assignment.id,\n",
    "                }\n",
    "            )\n",
    "            for event in events\n",
    "        ]\n",
    "        self.client.create_tasks(verification_tasks, allow_defaults=True, open_pool=True)"
   ]
  },
  {
   "cell_type": "code",
   "execution_count": null,
   "metadata": {},
   "outputs": [],
   "source": [
    "# class for handling accepted tasks in the verification pool\n",
    "class VerificationDoneHandler:\n",
    "    def __init__(self, client, verification_skill_id):\n",
    "        self.microtasks = pd.DataFrame([], columns=['task', 'label', 'performer'])\n",
    "        self.client = client\n",
    "        self.verification_skill_id = verification_skill_id\n",
    "\n",
    "    # filter out tasks that already have enough overlap and aggregate the result\n",
    "    def __call__(self, events: List[AssignmentEvent]) -> None:\n",
    "        # Initializing data\n",
    "        microtasks = pd.concat([self.microtasks, self.as_frame(events)])\n",
    "        # get user skills for aggregation\n",
    "        skills = pd.Series({\n",
    "            skill.user_id: skill.value\n",
    "            for skill in self.client.get_user_skills(skill_id=self.verification_skill_id)\n",
    "        })\n",
    "\n",
    "        # Filtering all microtasks that have overlap of 5\n",
    "        microtasks['overlap'] = microtasks.groupby('task')['task'].transform('count')\n",
    "        to_aggregate = microtasks[microtasks['overlap'] >= 5]\n",
    "        microtasks = microtasks[microtasks['overlap'] < 5]\n",
    "        aggregated = MajorityVote().fit_predict(to_aggregate, skills)\n",
    "        # Accepting or rejecting assignments\n",
    "        for assignment_id, result in aggregated.items():\n",
    "            if result == 'OK':\n",
    "                self.client.accept_assignment(assignment_id, 'Well done!')\n",
    "            else:\n",
    "                self.client.reject_assignment(assignment_id, 'The object wasn\\'t selected or was selected incorrectly.')\n",
    "\n",
    "        # Updating mictotasks\n",
    "        self.microtasks = microtasks[['task', 'label', 'worker']]\n",
    "\n",
    "    # get the data necessary for aggregation\n",
    "    @staticmethod\n",
    "    def as_frame(events: List[AssignmentEvent]) -> pd.DataFrame:\n",
    "        microtasks = [\n",
    "            (task.input_values['assignment_id'], solution.output_values['result'], event.assignment.user_id)\n",
    "            for event in events\n",
    "            for task, solution in zip(event.assignment.tasks, event.assignment.solutions)\n",
    "        ]\n",
    "        return pd.DataFrame(microtasks, columns=['task', 'label', 'worker'])"
   ]
  },
  {
   "cell_type": "markdown",
   "metadata": {},
   "source": [
    "We'll create a pipeline with an observer for each pool.\n",
    "\n",
    "Depending on the number of images in the detection pool and the time of day, the whole process can take from a few minutes to almost an hour."
   ]
  },
  {
   "cell_type": "code",
   "execution_count": null,
   "metadata": {},
   "outputs": [],
   "source": [
    "detection_observer = AssignmentsObserver(toloka_client, detection_pool.id)\n",
    "detection_observer.on_submitted(DetectionSubmittedHandler(toloka_client, verification_pool.id))\n",
    "verification_observer = AssignmentsObserver(toloka_client, verification_pool.id)\n",
    "verification_observer.on_accepted(VerificationDoneHandler(toloka_client, verification_skill.id))\n",
    "\n",
    "pipeline = Pipeline()\n",
    "pipeline.register(detection_observer)\n",
    "pipeline.register(verification_observer)\n",
    "\n",
    "# Google Colab is using a global event pool,\n",
    "# so in order to run our pipeline we have to apply nest_asyncio to create an inner pool\n",
    "if 'google.colab' in str(get_ipython()):\n",
    "    import nest_asyncio, asyncio\n",
    "    nest_asyncio.apply()\n",
    "    asyncio.get_event_loop().run_until_complete(pipeline.run())\n",
    "else:\n",
    "    await pipeline.run()"
   ]
  },
  {
   "cell_type": "markdown",
   "metadata": {},
   "source": [
    "---\n",
    "---\n",
    "## Get the results\n",
    "Now we can download all the accepted tasks from the detection pool and work with them. In this notebook, we'll only show the detection results.\n",
    "You can also [download](https://toloka.ai/en/docs/guide/concepts/result-of-eval?utm_source=github&utm_medium=site&utm_campaign=tolokakit) results as a TSV file from web interface."
   ]
  },
  {
   "cell_type": "code",
   "execution_count": null,
   "metadata": {},
   "outputs": [],
   "source": [
    "!pip install pillow # To deal with images\n",
    "!pip install requests # To make HTTP requests\n",
    "from PIL import Image, ImageDraw\n",
    "import requests\n",
    "\n",
    "def get_image(url, selection):\n",
    "    raw_image = requests.get(url, stream=True).raw\n",
    "    image = Image.open(raw_image).convert(\"RGBA\")\n",
    "    regions = Image.new('RGBA', image.size, (255,255,255,0))\n",
    "    pencil = ImageDraw.Draw(regions)\n",
    "    for region in selection:\n",
    "        if region['shape'] != 'rectangle':\n",
    "            continue\n",
    "        p1_x = region['left'] * image.size[0]\n",
    "        p1_y = region['top'] * image.size[1]\n",
    "        p2_x = (region['left'] + region['width']) * image.size[0]\n",
    "        p2_y = (region['top'] + region['height']) * image.size[1]\n",
    "        pencil.rectangle((p1_x, p1_y, p2_x, p2_y), fill =(255, 30, 30, int(255*0.5)))\n",
    "    image = Image.alpha_composite(image, regions)\n",
    "    return image\n",
    "\n",
    "detection_result = {}  # We'll store our result here"
   ]
  },
  {
   "cell_type": "code",
   "execution_count": null,
   "metadata": {},
   "outputs": [],
   "source": [
    "max_images = 2\n",
    "images = []\n",
    "\n",
    "if not detection_result:\n",
    "\n",
    "    for assignment in toloka_client.get_assignments(\n",
    "        status='ACCEPTED',\n",
    "        pool_id=detection_pool.id\n",
    "    ):\n",
    "        detection_result[assignment.tasks[0].input_values['image']] = assignment.solutions[0].output_values['result']\n",
    "\n",
    "for i in range(max_images):\n",
    "    url, selection = detection_result.popitem()\n",
    "    image = get_image(url, selection)\n",
    "    images.append(image)\n",
    "\n",
    "ipyplot.plot_images(\n",
    "    images,\n",
    "    max_images=max_images,\n",
    "    img_width=1000\n",
    ")"
   ]
  },
  {
   "cell_type": "markdown",
   "metadata": {},
   "source": [
    "---\n",
    "---\n",
    "## Summary\n",
    "\n",
    "This project consists of the minimum number of settings that will allow you to collect annotated images for your dataset right from Jupyter Notebook.\n",
    "\n",
    "For your future experiments use Toloka Kit [documentation](https://toloka.ai/en/docs/toloka-kit/?utm_source=github&utm_medium=site&utm_campaign=tolokakit) and check out other [use cases](https://github.com/Toloka/toloka-kit/tree/main/examples).\n"
   ]
  }
 ],
 "metadata": {
  "kernelspec": {
   "display_name": "Python 3 (ipykernel)",
   "language": "python",
   "name": "python3"
  },
  "language_info": {
   "codemirror_mode": {
    "name": "ipython",
    "version": 3
   },
   "file_extension": ".py",
   "mimetype": "text/x-python",
   "name": "python",
   "nbconvert_exporter": "python",
   "pygments_lexer": "ipython3",
   "version": "3.9.12"
  }
 },
 "nbformat": 4,
 "nbformat_minor": 1
}
