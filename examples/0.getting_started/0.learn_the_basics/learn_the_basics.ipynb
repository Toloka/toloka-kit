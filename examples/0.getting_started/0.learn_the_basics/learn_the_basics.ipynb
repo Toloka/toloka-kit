{
 "cells": [
  {
   "source": [
    "# Introduction to Toloka and Toloka API\n",
    "\n",
    "Toloka is a crowdsourcing platform that helps to analyze large volumes of data in a short period of time.\n",
    "\n",
    "Examples of common tasks:\n",
    "* Group the wide variety of items in your online store into categories.\n",
    "* Find or verify information.\n",
    "* Translate texts.\n",
    "\n",
    "[Toloka-Kit](https://github.com/Toloka/toloka-kit) is an open-source library, integrated into Toloka API functionality.\n",
    "\n",
    "**Useful links:**\n",
    "\n",
    "- [Toloka Kit documentation](https://toloka.github.io/toloka-kit/)\n",
    "- [Toloka homepage](https://toloka.ai/)\n",
    "- [Toloka requester's guide](https://yandex.com/support/toloka-requester/index.html) \n",
    "- [Toloka API documentation](https://yandex.com/dev/toloka/doc/concepts/about.html)\n",
    "\n",
    "The best way to start is to test Toloka web interface by trying out [one of the tutorials](https://yandex.com/support/toloka-requester/concepts/usecases.html).\n",
    "\n",
    "## Registration\n",
    "\n",
    "1. [Register](https://yandex.com/support/toloka-requester/concepts/access.html) in Toloka as a requester.\n",
    "2. Choose the backend:\n",
    "  * The [production backend](https://toloka.yandex.com/for-requesters/) is used by default in this example.\n",
    "  * The [sandbox backend](https://sandbox.toloka.yandex.com/for-requesters/) is a testing environment for Toloka. [Learn more](https://yandex.com/support/toloka-requester/concepts/sandbox.html). \n",
    "3. [Add funds](https://yandex.com/support/toloka-requester/concepts/refill.html) to your Toloka account, if you're going to use the production version.\n",
    "4. [Get an OAuth token](https://yandex.ru/dev/toloka/doc/concepts/access.html#access__token) for your version. Go to **Profile** → **External Services Integration** → **Get Oauth Token**.\n",
    "\n",
    "<table  align=\"center\">\n",
    "  <tr><td>\n",
    "    <img src=\"./img/OAuth.png\"\n",
    "         alt=\"OAuth token\"  width=\"800\">\n",
    "  </td></tr>\n",
    "  <tr><td align=\"center\">\n",
    "    <b>Figure 1.</b> How to get an OAuth token.\n",
    "  </td></tr>\n",
    "</table>\n",
    "\n",
    "## Getting started with Toloka-Kit\n",
    "Install Toloka-Kit and import it."
   ],
   "cell_type": "markdown",
   "metadata": {}
  },
  {
   "cell_type": "code",
   "execution_count": null,
   "metadata": {},
   "outputs": [],
   "source": [
    "!pip install toloka-kit==0.1.5\n",
    "!pip install pandas\n",
    "!pip install ipyplot\n",
    "\n",
    "import datetime\n",
    "import time\n",
    "\n",
    "import pandas\n",
    "import ipyplot\n",
    "\n",
    "import toloka.client as toloka\n",
    "import toloka.client.project.template_builder as tb"
   ]
  },
  {
   "source": [
    "Сreate a Toloka client instance. All API calls will go through it."
   ],
   "cell_type": "markdown",
   "metadata": {}
  },
  {
   "cell_type": "code",
   "execution_count": null,
   "metadata": {},
   "outputs": [],
   "source": [
    "toloka_client = toloka.TolokaClient(input(\"Enter your token:\"), 'PRODUCTION')  # Or switch to 'SANDBOX'\n",
    "# Lines below check that the OAuth token is correct and print your account's name\n",
    "requester = toloka_client.get_requester()\n",
    "print(f'Your account: {requester}')"
   ]
  },
  {
   "source": [
    "Cells below can help you learn more about an object or a method you are interested in."
   ],
   "cell_type": "markdown",
   "metadata": {}
  },
  {
   "cell_type": "code",
   "execution_count": null,
   "metadata": {},
   "outputs": [],
   "source": [
    "toloka.TolokaClient?"
   ]
  },
  {
   "cell_type": "code",
   "execution_count": null,
   "metadata": {},
   "outputs": [],
   "source": [
    "toloka.TolokaClient.get_requester?"
   ]
  },
  {
   "cell_type": "code",
   "execution_count": null,
   "metadata": {},
   "outputs": [],
   "source": [
    "toloka.requester.Requester?"
   ]
  },
  {
   "source": [
    "## Toloka entities and how to manage them with Toloka-Kit\n",
    "\n",
    "### Project\n",
    "A [project](https://yandex.com/support/toloka-requester/concepts/overview.html#project) is a top-level object. It contains instructions, task interface settings, input and output data specification, and default quality control rules for this project's pools. Projects make it easier for you to post similar tasks in the future, because you don't have to re-configure the interface.\n",
    "\n",
    "The easier the task, the better the results. If your task contains more than one question, you should divide it into several projects.\n",
    "\n",
    "In this tutorial you will create a project with tasks that ask performers to specify the type of animal depicted in a photo."
   ],
   "cell_type": "markdown",
   "metadata": {}
  },
  {
   "cell_type": "code",
   "execution_count": null,
   "metadata": {},
   "outputs": [],
   "source": [
    "new_project = toloka.project.Project(\n",
    "    assignments_issuing_type='AUTOMATED',\n",
    "    public_name='Cat or Dog?',\n",
    "    public_description='Specify the type of animal depicted in a photo.',\n",
    ")"
   ]
  },
  {
   "source": [
    "The cell above created an object in your device's memory. This is not all, the project must also contain:\n",
    "* [Input and output data specification](https://yandex.com/support/toloka-requester/concepts/incoming.html)\n",
    "* [Task interface settings](https://yandex.com/support/toloka-requester/concepts/spec.html)\n",
    "* [An instruction](https://yandex.com/support/toloka-requester/concepts/instruction.html)\n",
    "\n",
    "**Important:** Several cells below will create changes that will be stored in your device's memory. The data will only be sent to the server after calling one of the `toloka_client` methods.\n",
    "\n",
    "#### Input and output data\n",
    "\n",
    "Input field `image` will contain URLs of images that need to be labeled.\n",
    "\n",
    "Output field `result` will receive `cat` or `dog` labels."
   ],
   "cell_type": "markdown",
   "metadata": {}
  },
  {
   "cell_type": "code",
   "execution_count": null,
   "metadata": {},
   "outputs": [],
   "source": [
    "input_specification = {'image': toloka.project.field_spec.UrlSpec()}\n",
    "output_specification = {'result': toloka.project.field_spec.StringSpec()}"
   ]
  },
  {
   "source": [
    "#### Task interface\n",
    "\n",
    "There are two editors available in Toloka:\n",
    "* [HTML/CSS/JS editor](https://yandex.com/support/toloka-requester/concepts/spec.html#interface-section)\n",
    "* [Template Builder](https://yandex.com/support/toloka-tb/index.html) \n",
    "\n",
    "Template Builder configures task interface at the entity level. We recommend it for your projects, especially at first.\n",
    "\n",
    "The cell below will create a task interface for our project."
   ],
   "cell_type": "markdown",
   "metadata": {}
  },
  {
   "cell_type": "code",
   "execution_count": null,
   "metadata": {},
   "outputs": [],
   "source": [
    "# This component shows images\n",
    "image_viewer = tb.view.ImageViewV1(url=tb.data.InputData(path='image'), ratio=[1, 1])\n",
    "\n",
    "# This component allows to select a label\n",
    "radio_group_field = tb.fields.RadioGroupFieldV1(\n",
    "    data=tb.data.OutputData(path='result'),\n",
    "    validation=tb.conditions.RequiredConditionV1(),\n",
    "    options=[\n",
    "        tb.fields.GroupFieldOption(label='Cat', value='cat'),\n",
    "        tb.fields.GroupFieldOption(label='Dog', value='dog'),\n",
    "    ]\n",
    ")\n",
    "\n",
    "# Allows to set a width limit when displaying a task\n",
    "task_width_plugin = tb.plugins.TolokaPluginV1(\n",
    "    layout=tb.plugins.TolokaPluginV1.TolokaPluginLayout(\n",
    "        kind='scroll', \n",
    "        task_width=400,\n",
    "    )\n",
    ")\n",
    "\n",
    "# How performers will see the task\n",
    "project_interface = toloka.project.view_spec.TemplateBuilderViewSpec(\n",
    "    config=tb.TemplateBuilder(\n",
    "        view=tb.view.ListViewV1(items=[image_viewer, radio_group_field]),\n",
    "        plugins=[task_width_plugin],\n",
    "    )\n",
    ")\n",
    "\n",
    "# This block assigns task interface and input/output data specification to the project\n",
    "# Note that this is done via the task specification class\n",
    "new_project.task_spec = toloka.project.task_spec.TaskSpec(\n",
    "    input_spec=input_specification,\n",
    "    output_spec=output_specification,\n",
    "    view_spec=project_interface,\n",
    ")"
   ]
  },
  {
   "source": [
    "#### Task instruction\n",
    "\n",
    "When selecting a task, the performer is first shown the [instructions](https://yandex.com/support/toloka-requester/concepts/instruction.html) that you wrote. Describe what needs to be done and give examples.\n",
    "\n",
    "Good instructions help the performer complete the task correctly. The clarity and completeness of the instructions affect the response quality and the project rating. Unclear or overly complex instructions, on the contrary, will scare off performers."
   ],
   "cell_type": "markdown",
   "metadata": {}
  },
  {
   "source": [
    "new_project.public_instructions = 'Look at the picture. Determine what is on it: a <b>cat</b> or a <b>dog</b>. Choose the correct option.'"
   ],
   "cell_type": "code",
   "metadata": {},
   "execution_count": null,
   "outputs": []
  },
  {
   "source": [
    "#### Create a project\n",
    "\n",
    "Use `toloka_client` defined at the beginning.\n",
    "\n",
    "The data is only sent to the server after calling one of the `toloka_client` methods."
   ],
   "cell_type": "markdown",
   "metadata": {}
  },
  {
   "cell_type": "code",
   "execution_count": null,
   "metadata": {},
   "outputs": [],
   "source": [
    "new_project = toloka_client.create_project(new_project)\n",
    "print(f'Created project with id {new_project.id}')\n",
    "print(f'To view the project, go to https://toloka.yandex.com/requester/project/{new_project.id}')\n",
    "# print(f'To view this pool, go to https://sandbox.toloka.yandex.com/requester/project/{new_project.id}') # Print a sandbox version link"
   ]
  },
  {
   "source": [
    "### Project preview\n",
    "\n",
    "1. Go to the project page to make sure the task interface works correctly. To do this, click the link in the output of the cell above.\n",
    "\n",
    "<table  align=\"center\">\n",
    "  <tr><td>\n",
    "    <img src=\"./img/project_look.png\"\n",
    "         alt=\"Project interface\"  width=\"1000\">\n",
    "  </td></tr>\n",
    "  <tr><td align=\"center\">\n",
    "    <b>Figure 2.</b> What the project interface might look like.\n",
    "  </td></tr>\n",
    "</table>\n",
    "\n",
    "2. In the top right corner of the project page click **Project actions** → **Preview**.\n",
    "\n",
    "3. In the top left corner of the preview page click **Change input data**, and insert an image URL into the `image` field, then click **Apply** button.\n",
    "\n",
    "<table  align=\"center\">\n",
    "  <tr><td>\n",
    "    <img src=\"./img/task_look.png\"\n",
    "         alt=\"Task interface\"  width=\"1000\">\n",
    "  </td></tr>\n",
    "  <tr><td align=\"center\">\n",
    "    <b>Figure 3.</b> What the task interface might look like and how to insert images in the preview.\n",
    "  </td></tr>\n",
    "</table>\n",
    "\n",
    "4. In the top right corner of the preview page click **Instructions** button. Make sure the instruction are shown and that they say what you want them to.\n",
    "\n",
    "5. Select an option in your task. In the bottom right corner of the preview page click **Submit** and then **View responses**. Check in the appeared result window that your results are written in expected format and that the entered data is correct. \n",
    "\n",
    "<table  align=\"center\">\n",
    "  <tr><td>\n",
    "    <img src=\"./img/results_preview.png\"\n",
    "         alt=\"Result priview\"  width=\"1000\">\n",
    "  </td></tr>\n",
    "  <tr><td align=\"center\">\n",
    "    <b>Figure 4.</b> What the results might look like.\n",
    "  </td></tr>\n",
    "</table>\n",
    "\n",
    "Tips:\n",
    "* We strongly recommend **checking the task interface and instructions** every time you create a project. This will help you to ensure that the performers will complete the task and that your results will be useful. \n",
    "* Do a **trial run** with a small amount of data. Make sure that after running the entire pipeline you get the data in the expected format and quality."
   ],
   "cell_type": "markdown",
   "metadata": {}
  },
  {
   "source": [
    "### Pool\n",
    "A [pool](https://yandex.com/support/toloka-requester/concepts/overview.html#pool) is a set of tasks that share common pricing, start date, selection of performers, overlap, and quality control configurations. All task in a pool are processed in parallel. One project can have several pools. You can add new tasks to a pool at any time, as well as open or stop it.\n",
    "\n",
    "The cell below will create a pool as an object in your device's memory. You will send it to Toloka with `toloka_client` method a bit later."
   ],
   "cell_type": "markdown",
   "metadata": {}
  },
  {
   "cell_type": "code",
   "execution_count": null,
   "metadata": {},
   "outputs": [],
   "source": [
    "new_pool = toloka.pool.Pool(\n",
    "    project_id=new_project.id,\n",
    "    private_name='Pool 1',  # Only you can see this information\n",
    "    may_contain_adult_content=False,\n",
    "    reward_per_assignment=0.01,  # Sets the minimum payment amount for one task suite in USD\n",
    "    assignment_max_duration_seconds=60*5,  # Gives performers 5 minutes to complete one task suite\n",
    "    will_expire=datetime.datetime.utcnow() + datetime.timedelta(days=365),  # Sets that the pool will close after one year\n",
    ")"
   ]
  },
  {
   "source": [
    "### Performers\n",
    "\n",
    "Performers in Toloka may not be experts in your type of task. People make mistakes. Crowdsourcing studies ways to get the desired result with the help of a variety of performers. To learn more about Toloka performers, go to [our blog](https://toloka.ai/blog#).\n",
    "\n",
    "Tip: Our [online course](https://www.coursera.org/learn/practical-crowdsourcing) on practical crowdsourcing for data labeling is now available on Coursera.\n",
    "\n",
    "### Overlap\n",
    "\n",
    "To minimize the risk of getting wrong answers you can ask several performers to complete the same task.\n",
    "\n",
    "In this example overlap is 3. This means that every task will be completed by three different performers."
   ],
   "cell_type": "markdown",
   "metadata": {}
  },
  {
   "cell_type": "code",
   "execution_count": null,
   "metadata": {},
   "outputs": [],
   "source": [
    "new_pool.defaults = toloka.pool.Pool.Defaults(\n",
    "    default_overlap_for_new_tasks=3,\n",
    "    default_overlap_for_new_task_suites=0,\n",
    ")"
   ]
  },
  {
   "source": [
    "### Task suite\n",
    "\n",
    "A [task suite](https://yandex.com/support/toloka-requester/concepts/overview.html#tasks-page) is a set of tasks that are shown on one page.\n",
    "\n",
    "An important part of configuring pools is to decide how many tasks will be issued to a performer at once. E.g. if you set 3 tasks for a task suite, then a performer will see three images at once on one page.\n",
    "\n",
    "Note that `reward_per_assignment` and `assignment_max_duration_seconds` fields in pool settings set a price and time for one **task suite**, not task.\n",
    "\n",
    "Why you should combine tasks in a task suite:\n",
    "* To set a more precise price for a single task.\n",
    "* To calculate a performer's skill and use it to determine the correct answer more accurately. Learn more below, in [Aggregation](#aggregation).\n",
    "* To better apply quality control settings that improve the final quality of the response. Learn more below, in [Quality control rules](#quality_control_rules)."
   ],
   "cell_type": "markdown",
   "metadata": {}
  },
  {
   "cell_type": "code",
   "execution_count": null,
   "metadata": {},
   "outputs": [],
   "source": [
    "new_pool.set_mixer_config(\n",
    "    real_tasks_count=10,  # The number of tasks per page.\n",
    "    golden_tasks_count=0,  # The number of test tasks per page. We do not use in this tutorial.\n",
    "    training_tasks_count=0,  # The number of training tasks per page. We do not use in this tutorial.\n",
    ")"
   ]
  },
  {
   "source": [
    "### Filters\n",
    "\n",
    "[Filters](https://yandex.com/support/toloka-requester/concepts/filters.html) help you select performers for your project.\n",
    "\n",
    "There may be different reasons to use filters, e.g.:\n",
    "* You require performers with certain traits for your pool.\n",
    "* You want to exclude a certain group of performers.\n",
    "\n",
    "Tasks will only be shown to matching performers, rather than to all of them.\n",
    "\n",
    "This example requires English-speaking performers, because the project's instruction is in English."
   ],
   "cell_type": "markdown",
   "metadata": {}
  },
  {
   "cell_type": "code",
   "execution_count": null,
   "metadata": {},
   "outputs": [],
   "source": [
    "new_pool.filter = toloka.filter.Languages.in_('EN')"
   ]
  },
  {
   "source": [
    "### Quality control rules<a id='quality_control_rules'></a>\n",
    "\n",
    "[Quality control rules](https://yandex.com/support/toloka-requester/concepts/check-performers.html) regulate task completion and performer access.\n",
    "\n",
    "Quality control lets you get more accurate responses and restrict access to tasks for cheating performers. All rules work independently. Learn more about how to [set up quality control](https://yandex.com/support/toloka-requester/concepts/qa-pool-settings.html).\n",
    "\n",
    "This example uses the Captcha rule. It is the simplest way to exclude fake users (robots) and cheaters."
   ],
   "cell_type": "markdown",
   "metadata": {}
  },
  {
   "cell_type": "code",
   "execution_count": null,
   "metadata": {},
   "outputs": [],
   "source": [
    "# Turns on captchas\n",
    "new_pool.set_captcha_frequency('MEDIUM')\n",
    "# Bans performers by captcha criteria\n",
    "new_pool.quality_control.add_action(\n",
    "    # Type of quality control rule\n",
    "    collector=toloka.collectors.Captcha(history_size=5),\n",
    "    # This condition triggers the action below\n",
    "    # Here overridden comparison operator actually returns a Condition object\n",
    "    conditions=[toloka.conditions.FailRate > 20],\n",
    "    # What exactly should the rule do when the condition is met\n",
    "    # It bans the performer for 1 day\n",
    "    action=toloka.actions.RestrictionV2(\n",
    "        scope='PROJECT',\n",
    "        duration=1,\n",
    "        duration_unit='DAYS',\n",
    "        private_comment='Captcha',\n",
    "    )\n",
    ")"
   ]
  },
  {
   "source": [
    "### Create a pool\n",
    "\n",
    "The cell below creates a pool from all the information above that was stored in your device's memory. "
   ],
   "cell_type": "markdown",
   "metadata": {}
  },
  {
   "cell_type": "code",
   "execution_count": null,
   "metadata": {},
   "outputs": [],
   "source": [
    "new_pool = toloka_client.create_pool(new_pool)\n",
    "print(f'To view this pool, go to https://toloka.yandex.com/requester/project/{new_project.id}/pool/{new_pool.id}')\n",
    "# print(f'To view this pool, go to https://sandbox.toloka.yandex.com/requester/project/{new_project.id}/pool/{new_pool.id}') # Print a sandbox version link"
   ]
  },
  {
   "source": [
    "Open your project's page. You will see your new pool.\n",
    "\n",
    "<table  align=\"center\">\n",
    "  <tr><td>\n",
    "    <img src=\"./img/project_with_pool.png\"\n",
    "         alt=\"Project interface with a pool\"  width=\"1000\">\n",
    "  </td></tr>\n",
    "  <tr><td align=\"center\">\n",
    "    <b>Figure 5.</b> Project interface with a pool.\n",
    "  </td></tr>\n",
    "</table>\n",
    "\n",
    "Pool interface looks like that.\n",
    "\n",
    "<table  align=\"center\">\n",
    "  <tr><td>\n",
    "    <img src=\"./img/pool_preview.png\"\n",
    "         alt=\"Pool interface\"  width=\"1000\">\n",
    "  </td></tr>\n",
    "  <tr><td align=\"center\">\n",
    "    <b>Figure 6.</b> Pool interface.\n",
    "  </td></tr>\n",
    "</table>\n",
    "\n",
    "Right now the pool is empty and closed. It has no tasks or task suites."
   ],
   "cell_type": "markdown",
   "metadata": {}
  },
  {
   "source": [
    "## Setting up a simple project\n",
    "\n",
    "### Task\n",
    "\n",
    "A [task](https://yandex.com/support/toloka-requester/concepts/overview.html#task) is the data you need to mark up.\n",
    "\n",
    "This example uses a small data set with images.\n",
    "\n",
    "The dataset used is collected by Toloka team and distributed under a Creative Commons Attribution 4.0 International license\n",
    "[![License: CC BY 4.0](https://img.shields.io/badge/License-CC%20BY%204.0-lightgrey.svg)](https://creativecommons.org/licenses/by/4.0/)"
   ],
   "cell_type": "markdown",
   "metadata": {}
  },
  {
   "cell_type": "code",
   "execution_count": null,
   "metadata": {},
   "outputs": [],
   "source": [
    "# Download the data set\n",
    "!curl https://tlk.s3.yandex.net/dataset/cats_vs_dogs/toy_dataset.tsv --output dataset.tsv\n",
    "\n",
    "dataset = pandas.read_csv('dataset.tsv', sep='\\t')\n",
    "\n",
    "print(f'\\nDataset contains {len(dataset)} rows\\n')\n",
    "\n",
    "dataset = dataset.sample(frac=1).reset_index(drop=True)\n",
    "\n",
    "ipyplot.plot_images(\n",
    "    images=[row['url'] for _, row in dataset.iterrows()],\n",
    "    labels=[row['label'] for _, row in dataset.iterrows()],\n",
    "    max_images=12,\n",
    "    img_width=300,\n",
    ")"
   ]
  },
  {
   "source": [
    "Create tasks. One task will be created from one image.\n",
    "\n",
    "Toloka will automatically create task suites and show the tasks depending on a project overlap:\n",
    "\n",
    "1. One task suite will consist of 10 tasks.\n",
    "2. Toloka will let 3 different performers to complete the tasks.\n",
    "\n",
    "These setting were configured during creating the pool."
   ],
   "cell_type": "markdown",
   "metadata": {}
  },
  {
   "cell_type": "code",
   "execution_count": null,
   "metadata": {},
   "outputs": [],
   "source": [
    "tasks = [\n",
    "    toloka.task.Task(input_values={'image': url}, pool_id=new_pool.id)\n",
    "    for url in dataset['url']\n",
    "]\n",
    "# Add tasks to a pool\n",
    "toloka_client.create_tasks(tasks, toloka.task.CreateTasksParameters(allow_defaults=True))\n",
    "print(f'Populated pool with {len(tasks)} tasks')\n",
    "print(f'To view this pool, go to https://toloka.yandex.com/requester/project/{new_project.id}/pool/{new_pool.id}')\n",
    "# print(f'To view this pool, go to https://sandbox.toloka.yandex.com/requester/project/{new_project.id}/pool/{new_pool.id}') # Print a sandbox version link\n",
    "\n",
    "# Opens the pool\n",
    "new_pool = toloka_client.open_pool(new_pool.id)"
   ]
  },
  {
   "source": [
    "When you open a pool, performs see your tasks and start working on them. \n",
    "\n",
    "In small pools like this it usually takes up to 10 minutes for all the tasks to be performed.\n",
    "\n",
    "With big pools it's better to set up automatic waiting. See example in the cell below.\n"
   ],
   "cell_type": "markdown",
   "metadata": {}
  },
  {
   "cell_type": "code",
   "execution_count": null,
   "metadata": {},
   "outputs": [],
   "source": [
    "pool_id = new_pool.id\n",
    "\n",
    "def wait_pool_for_close(pool_id, minutes_to_wait=1):\n",
    "    sleep_time = 60 * minutes_to_wait\n",
    "    pool = toloka_client.get_pool(pool_id)\n",
    "    while not pool.is_closed():\n",
    "        op = toloka_client.get_analytics([toloka.analytics_request.CompletionPercentagePoolAnalytics(subject_id=pool.id)])\n",
    "        op = toloka_client.wait_operation(op)\n",
    "        percentage = op.details['value'][0]['result']['value']\n",
    "        print(\n",
    "            f'   {datetime.datetime.now().strftime(\"%H:%M:%S\")}\\t'\n",
    "            f'Pool {pool.id} - {percentage}%'\n",
    "        )\n",
    "        time.sleep(sleep_time)\n",
    "        pool = toloka_client.get_pool(pool.id)\n",
    "    print('Pool was closed.')\n",
    "\n",
    "wait_pool_for_close(pool_id)"
   ]
  },
  {
   "source": [
    "### Get responses\n",
    "\n",
    "When all the tasks are completed, look at the responses from performers."
   ],
   "cell_type": "markdown",
   "metadata": {}
  },
  {
   "cell_type": "code",
   "execution_count": null,
   "metadata": {},
   "outputs": [],
   "source": [
    "answers = []\n",
    "\n",
    "for assignment in toloka_client.get_assignments(pool_id=pool_id, status='ACCEPTED'):\n",
    "    for task, solution in zip(assignment.tasks, assignment.solutions):\n",
    "        answers.append([task.input_values['image'], solution.output_values['result'], assignment.user_id])\n",
    "\n",
    "print(f'answers count: {len(answers)}')"
   ]
  },
  {
   "source": [
    "An `assignment` value is one performer's responses to all the tasks on a task suite. \n",
    "\n",
    "If a performer completed several task suites, then `toloka_client.get_assignments` will contain several `assignment` values."
   ],
   "cell_type": "markdown",
   "metadata": {}
  },
  {
   "source": [
    "### Aggregation <a id='aggregation'></a>\n",
    "\n",
    "[Aggregation of results](https://yandex.com/support/toloka-requester/concepts/result-aggregation.html) should be run if tasks were issued with an overlap of 2 or higher.\n",
    "\n",
    "[Majority vote](https://yandex.com/support/toloka-requester/concepts/mvote.html) is a quality control method based on matching responses from the majority of performers who complete the same task. E.g. if 2 out of 3 performers selected `cat` label, then the final label for this task will be `cat`.\n",
    "\n",
    "Majority vote is easily implemented, but you can also use our [crowdsourcing library](https://github.com/Toloka/crowd-kit). It contains a lot of new aggregation methods."
   ],
   "cell_type": "markdown",
   "metadata": {}
  },
  {
   "cell_type": "code",
   "execution_count": null,
   "metadata": {},
   "outputs": [],
   "source": [
    "!pip install crowd-kit==0.0.3\n",
    "from crowdkit.aggregation import MajorityVote"
   ]
  },
  {
   "cell_type": "code",
   "execution_count": null,
   "metadata": {},
   "outputs": [],
   "source": [
    "MajorityVote?"
   ]
  },
  {
   "cell_type": "code",
   "execution_count": null,
   "metadata": {},
   "outputs": [],
   "source": [
    "# Prepare dataframe\n",
    "answers_df = pandas.DataFrame(answers, columns=['task', 'label', 'performer'])\n",
    "# Run majority vote aggregation\n",
    "predicted_answers = MajorityVote().fit_predict(answers_df)\n",
    "\n",
    "print(predicted_answers)\n",
    "\n",
    "# Some preparations for displaying the results\n",
    "predicted_answers = predicted_answers.sample(frac=1)\n",
    "images = predicted_answers.index.values\n",
    "labels = predicted_answers.values\n",
    "start_with = 0"
   ]
  },
  {
   "source": [
    "Look at the results.\n",
    "\n",
    "Note: The cell below can be run several times."
   ],
   "cell_type": "markdown",
   "metadata": {}
  },
  {
   "cell_type": "code",
   "execution_count": null,
   "metadata": {},
   "outputs": [],
   "source": [
    "if start_with >= len(predicted_answers):\n",
    "    print('no more images')\n",
    "else:\n",
    "    ipyplot.plot_images(\n",
    "        images=images[start_with:],\n",
    "        labels=labels[start_with:],\n",
    "        max_images=12,\n",
    "        img_width=300,\n",
    "    )\n",
    "\n",
    "    start_with += 12"
   ]
  },
  {
   "source": [
    "You can see the labeled images. Some possible results are shown in figure 7 below.\n",
    "\n",
    "<table  align=\"center\">\n",
    "  <tr><td>\n",
    "    <img src=\"./img/possible_results.png\"\n",
    "         alt=\"Possible results\"  width=\"1000\">\n",
    "  </td></tr>\n",
    "  <tr><td align=\"center\">\n",
    "    <b>Figure 7.</b> Possible results.\n",
    "  </td></tr>\n",
    "</table>"
   ],
   "cell_type": "markdown",
   "metadata": {}
  },
  {
   "source": [
    "## Summary\n",
    "\n",
    "This example explained basic Toloka entities and how Toloka-Kit can work with them.\n",
    "\n",
    "The described project (classification) is very useful for:\n",
    "* Accurate evaluation.\n",
    "* Checking the results of a complex project, as in [image segmentation example](https://github.com/Toloka/toloka-kit/blob/main/examples/image_segmentation/image_segmentation.ipynb)."
   ],
   "cell_type": "markdown",
   "metadata": {}
  }
 ],
 "metadata": {
  "kernelspec": {
   "display_name": "Python 3",
   "language": "python",
   "name": "python3"
  }
 },
 "nbformat": 4,
 "nbformat_minor": 4
}